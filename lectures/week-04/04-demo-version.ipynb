{
 "cells": [
  {
   "cell_type": "markdown",
   "id": "7bd88feb-ec7b-46f4-9d97-595144644360",
   "metadata": {
    "id": "7bd88feb-ec7b-46f4-9d97-595144644360",
    "tags": []
   },
   "source": [
    "# Lecture 4 - Demo Notebook "
   ]
  },
  {
   "cell_type": "markdown",
   "id": "d1ecb068-bbe6-4e8f-8440-2c7da2001e44",
   "metadata": {
    "tags": []
   },
   "source": [
    "## Prelimilaries: Imports and stuff"
   ]
  },
  {
   "cell_type": "code",
   "execution_count": 2,
   "id": "aaea0334-8272-4fef-8551-9ac42697a4d2",
   "metadata": {
    "id": "aaea0334-8272-4fef-8551-9ac42697a4d2",
    "tags": []
   },
   "outputs": [],
   "source": [
    "import numpy as np \n",
    "import pandas as pd\n",
    "import matplotlib.pyplot as plt\n",
    "\n",
    "from sklearn.model_selection import train_test_split\n",
    "from sklearn import tree\n",
    "from sklearn.ensemble import RandomForestClassifier\n",
    "from sklearn.neighbors import KNeighborsClassifier\n",
    "from sklearn.metrics import roc_auc_score, balanced_accuracy_score\n",
    "from sklearn.preprocessing import MinMaxScaler, normalize\n",
    "from sklearn.linear_model import LogisticRegression\n",
    "\n",
    "import statsmodels.api as sm\n",
    "import statsmodels.formula.api as smf\n",
    "\n",
    "from scipy.spatial.distance import pdist, cdist, squareform\n",
    "\n",
    "# Data directory\n",
    "DATA_DIR = \"./../../data\""
   ]
  },
  {
   "cell_type": "markdown",
   "id": "a2601419-738e-4cb8-8583-25efedb7afe2",
   "metadata": {
    "tags": []
   },
   "source": [
    "# Section 1: Pre-processing"
   ]
  },
  {
   "cell_type": "markdown",
   "id": "ac46ccf0-940e-4091-ad03-7bd68c36d7ff",
   "metadata": {
    "tags": []
   },
   "source": [
    "## Read the data"
   ]
  },
  {
   "cell_type": "code",
   "execution_count": 3,
   "id": "820dc934-c038-4045-866b-41f4660e84fc",
   "metadata": {
    "id": "820dc934-c038-4045-866b-41f4660e84fc",
    "outputId": "0fa62836-dbbc-4d1e-d0d5-d43a60e60cd5"
   },
   "outputs": [],
   "source": [
    "# Parse the aggregated data frame\n",
    "df_lq = pd.read_csv('{}/aggregated_extended_fc.csv'.format(DATA_DIR))\n",
    "ts = pd.read_csv('{}/time_series_extended_fc.csv'.format(DATA_DIR))"
   ]
  },
  {
   "cell_type": "markdown",
   "id": "715b81c8-69c2-4df6-b798-148feebba5e0",
   "metadata": {
    "tags": []
   },
   "source": [
    "## Clean the data"
   ]
  },
  {
   "cell_type": "markdown",
   "id": "b5352d09-8132-429a-b516-2e673b15c086",
   "metadata": {
    "tags": []
   },
   "source": [
    "### We remove inactive students that did not click during weekdays and weekend for the fist 5 weeks of the semester."
   ]
  },
  {
   "cell_type": "code",
   "execution_count": 4,
   "id": "75bb4997",
   "metadata": {},
   "outputs": [],
   "source": [
    "def remove_inactive_students(df, ts):\n",
    "    df = df.fillna('NaN')\n",
    "    \n",
    "    #find all users weeks with 0 clicks on weekends and 0 clicks on weekdays during the first weeks of the semester\n",
    "    df_first = ts[ts.week < 5]\n",
    "    rows = np.where(np.logical_and(df_first.ch_total_clicks_weekend==0, df_first.ch_total_clicks_weekday == 0).to_numpy())[0]\n",
    "    df_zero = df_first.iloc[rows,:]\n",
    "    dropusers = np.unique(df_zero.user)\n",
    "\n",
    "    ts = ts[ts.user.isin(dropusers)==False]\n",
    "    df = df[df.user.isin(dropusers)==False]\n",
    "    return df, ts\n",
    "\n",
    "df_lq, ts = remove_inactive_students(df_lq, ts)\n",
    "# print(df_lq.columns)\n"
   ]
  },
  {
   "cell_type": "code",
   "execution_count": 5,
   "id": "e0dfbfe7-df4a-4f2b-a3fb-90193c962105",
   "metadata": {},
   "outputs": [
    {
     "data": {
      "text/html": [
       "<div>\n",
       "<style scoped>\n",
       "    .dataframe tbody tr th:only-of-type {\n",
       "        vertical-align: middle;\n",
       "    }\n",
       "\n",
       "    .dataframe tbody tr th {\n",
       "        vertical-align: top;\n",
       "    }\n",
       "\n",
       "    .dataframe thead th {\n",
       "        text-align: right;\n",
       "    }\n",
       "</style>\n",
       "<table border=\"1\" class=\"dataframe\">\n",
       "  <thead>\n",
       "    <tr style=\"text-align: right;\">\n",
       "      <th></th>\n",
       "      <th>user</th>\n",
       "      <th>ch_num_sessions</th>\n",
       "      <th>ch_time_in_prob_sum</th>\n",
       "      <th>ch_time_in_video_sum</th>\n",
       "      <th>ch_ratio_clicks_weekend_day</th>\n",
       "      <th>ch_total_clicks_weekend</th>\n",
       "      <th>ch_total_clicks_weekday</th>\n",
       "      <th>ch_time_sessions_mean</th>\n",
       "      <th>ch_time_sessions_std</th>\n",
       "      <th>bo_delay_lecture</th>\n",
       "      <th>...</th>\n",
       "      <th>la_weekly_prop_watched_mean</th>\n",
       "      <th>la_weekly_prop_interrupted_mean</th>\n",
       "      <th>la_weekly_prop_interrupted_std</th>\n",
       "      <th>la_weekly_prop_replayed_mean</th>\n",
       "      <th>la_weekly_prop_replayed_std</th>\n",
       "      <th>la_frequency_action_video_play</th>\n",
       "      <th>grade</th>\n",
       "      <th>gender</th>\n",
       "      <th>category</th>\n",
       "      <th>year</th>\n",
       "    </tr>\n",
       "  </thead>\n",
       "  <tbody>\n",
       "    <tr>\n",
       "      <th>1</th>\n",
       "      <td>1</td>\n",
       "      <td>3.4</td>\n",
       "      <td>1698.4</td>\n",
       "      <td>9227.8</td>\n",
       "      <td>0.567500</td>\n",
       "      <td>4.0</td>\n",
       "      <td>179.4</td>\n",
       "      <td>3068.720238</td>\n",
       "      <td>1257.504407</td>\n",
       "      <td>-2883.367738</td>\n",
       "      <td>...</td>\n",
       "      <td>0.748868</td>\n",
       "      <td>0.074683</td>\n",
       "      <td>0.0</td>\n",
       "      <td>0.066456</td>\n",
       "      <td>0.0</td>\n",
       "      <td>0.332424</td>\n",
       "      <td>4.50</td>\n",
       "      <td>M</td>\n",
       "      <td>Suisse.Autres</td>\n",
       "      <td>Y2-2018-19</td>\n",
       "    </tr>\n",
       "    <tr>\n",
       "      <th>2</th>\n",
       "      <td>2</td>\n",
       "      <td>5.3</td>\n",
       "      <td>2340.6</td>\n",
       "      <td>10801.3</td>\n",
       "      <td>26.562274</td>\n",
       "      <td>94.6</td>\n",
       "      <td>129.2</td>\n",
       "      <td>1750.289268</td>\n",
       "      <td>1024.134043</td>\n",
       "      <td>10027.216667</td>\n",
       "      <td>...</td>\n",
       "      <td>0.354487</td>\n",
       "      <td>0.026667</td>\n",
       "      <td>0.0</td>\n",
       "      <td>0.059915</td>\n",
       "      <td>0.0</td>\n",
       "      <td>0.284407</td>\n",
       "      <td>5.25</td>\n",
       "      <td>M</td>\n",
       "      <td>Suisse.PAM</td>\n",
       "      <td>Y2-2018-19</td>\n",
       "    </tr>\n",
       "    <tr>\n",
       "      <th>4</th>\n",
       "      <td>4</td>\n",
       "      <td>2.5</td>\n",
       "      <td>3787.3</td>\n",
       "      <td>7040.0</td>\n",
       "      <td>1.543889</td>\n",
       "      <td>58.4</td>\n",
       "      <td>64.9</td>\n",
       "      <td>3373.908333</td>\n",
       "      <td>1363.320365</td>\n",
       "      <td>-914.633333</td>\n",
       "      <td>...</td>\n",
       "      <td>0.030000</td>\n",
       "      <td>0.000000</td>\n",
       "      <td>0.0</td>\n",
       "      <td>0.020000</td>\n",
       "      <td>0.0</td>\n",
       "      <td>0.199775</td>\n",
       "      <td>4.75</td>\n",
       "      <td>F</td>\n",
       "      <td>France</td>\n",
       "      <td>Y2-2018-19</td>\n",
       "    </tr>\n",
       "    <tr>\n",
       "      <th>5</th>\n",
       "      <td>5</td>\n",
       "      <td>2.5</td>\n",
       "      <td>2568.9</td>\n",
       "      <td>3718.9</td>\n",
       "      <td>0.009677</td>\n",
       "      <td>31.2</td>\n",
       "      <td>50.8</td>\n",
       "      <td>1753.647500</td>\n",
       "      <td>1190.793589</td>\n",
       "      <td>12406.195238</td>\n",
       "      <td>...</td>\n",
       "      <td>0.330000</td>\n",
       "      <td>0.097619</td>\n",
       "      <td>0.0</td>\n",
       "      <td>0.047619</td>\n",
       "      <td>0.0</td>\n",
       "      <td>0.261962</td>\n",
       "      <td>4.00</td>\n",
       "      <td>M</td>\n",
       "      <td>Suisse.PAM</td>\n",
       "      <td>Y2-2018-19</td>\n",
       "    </tr>\n",
       "    <tr>\n",
       "      <th>6</th>\n",
       "      <td>6</td>\n",
       "      <td>4.2</td>\n",
       "      <td>5475.2</td>\n",
       "      <td>9711.6</td>\n",
       "      <td>0.476263</td>\n",
       "      <td>105.1</td>\n",
       "      <td>46.7</td>\n",
       "      <td>20410.677619</td>\n",
       "      <td>1561.548415</td>\n",
       "      <td>-13723.616667</td>\n",
       "      <td>...</td>\n",
       "      <td>0.080000</td>\n",
       "      <td>0.010000</td>\n",
       "      <td>0.0</td>\n",
       "      <td>0.000000</td>\n",
       "      <td>0.0</td>\n",
       "      <td>0.229185</td>\n",
       "      <td>4.25</td>\n",
       "      <td>F</td>\n",
       "      <td>France</td>\n",
       "      <td>Y2-2018-19</td>\n",
       "    </tr>\n",
       "    <tr>\n",
       "      <th>...</th>\n",
       "      <td>...</td>\n",
       "      <td>...</td>\n",
       "      <td>...</td>\n",
       "      <td>...</td>\n",
       "      <td>...</td>\n",
       "      <td>...</td>\n",
       "      <td>...</td>\n",
       "      <td>...</td>\n",
       "      <td>...</td>\n",
       "      <td>...</td>\n",
       "      <td>...</td>\n",
       "      <td>...</td>\n",
       "      <td>...</td>\n",
       "      <td>...</td>\n",
       "      <td>...</td>\n",
       "      <td>...</td>\n",
       "      <td>...</td>\n",
       "      <td>...</td>\n",
       "      <td>...</td>\n",
       "      <td>...</td>\n",
       "      <td>...</td>\n",
       "    </tr>\n",
       "    <tr>\n",
       "      <th>272</th>\n",
       "      <td>281</td>\n",
       "      <td>2.2</td>\n",
       "      <td>2600.3</td>\n",
       "      <td>3071.8</td>\n",
       "      <td>0.213467</td>\n",
       "      <td>20.6</td>\n",
       "      <td>122.6</td>\n",
       "      <td>2429.026667</td>\n",
       "      <td>336.303590</td>\n",
       "      <td>-69623.272700</td>\n",
       "      <td>...</td>\n",
       "      <td>0.616667</td>\n",
       "      <td>0.027894</td>\n",
       "      <td>0.0</td>\n",
       "      <td>0.015385</td>\n",
       "      <td>0.0</td>\n",
       "      <td>0.205969</td>\n",
       "      <td>5.75</td>\n",
       "      <td>M</td>\n",
       "      <td>Suisse.PAM</td>\n",
       "      <td>Y3-2019-20</td>\n",
       "    </tr>\n",
       "    <tr>\n",
       "      <th>276</th>\n",
       "      <td>285</td>\n",
       "      <td>1.8</td>\n",
       "      <td>2111.4</td>\n",
       "      <td>2130.4</td>\n",
       "      <td>0.236626</td>\n",
       "      <td>7.0</td>\n",
       "      <td>21.2</td>\n",
       "      <td>1378.954762</td>\n",
       "      <td>544.967013</td>\n",
       "      <td>23125.010000</td>\n",
       "      <td>...</td>\n",
       "      <td>0.352244</td>\n",
       "      <td>0.057692</td>\n",
       "      <td>0.0</td>\n",
       "      <td>0.047619</td>\n",
       "      <td>0.0</td>\n",
       "      <td>0.027091</td>\n",
       "      <td>4.00</td>\n",
       "      <td>F</td>\n",
       "      <td>France</td>\n",
       "      <td>Y3-2019-20</td>\n",
       "    </tr>\n",
       "    <tr>\n",
       "      <th>277</th>\n",
       "      <td>286</td>\n",
       "      <td>1.9</td>\n",
       "      <td>2224.8</td>\n",
       "      <td>2408.1</td>\n",
       "      <td>0.326239</td>\n",
       "      <td>20.5</td>\n",
       "      <td>46.7</td>\n",
       "      <td>1744.663333</td>\n",
       "      <td>664.335107</td>\n",
       "      <td>4812.464286</td>\n",
       "      <td>...</td>\n",
       "      <td>0.261205</td>\n",
       "      <td>0.014286</td>\n",
       "      <td>0.0</td>\n",
       "      <td>0.000000</td>\n",
       "      <td>0.0</td>\n",
       "      <td>0.137474</td>\n",
       "      <td>4.50</td>\n",
       "      <td>M</td>\n",
       "      <td>France</td>\n",
       "      <td>Y3-2019-20</td>\n",
       "    </tr>\n",
       "    <tr>\n",
       "      <th>281</th>\n",
       "      <td>291</td>\n",
       "      <td>4.0</td>\n",
       "      <td>6898.3</td>\n",
       "      <td>5657.2</td>\n",
       "      <td>0.080266</td>\n",
       "      <td>131.5</td>\n",
       "      <td>15.7</td>\n",
       "      <td>2323.840952</td>\n",
       "      <td>1623.425778</td>\n",
       "      <td>-5626.100000</td>\n",
       "      <td>...</td>\n",
       "      <td>0.033333</td>\n",
       "      <td>0.000000</td>\n",
       "      <td>0.0</td>\n",
       "      <td>0.000000</td>\n",
       "      <td>0.0</td>\n",
       "      <td>0.173431</td>\n",
       "      <td>5.50</td>\n",
       "      <td>M</td>\n",
       "      <td>France</td>\n",
       "      <td>Y3-2019-20</td>\n",
       "    </tr>\n",
       "    <tr>\n",
       "      <th>283</th>\n",
       "      <td>293</td>\n",
       "      <td>3.5</td>\n",
       "      <td>8127.5</td>\n",
       "      <td>113.4</td>\n",
       "      <td>0.632304</td>\n",
       "      <td>28.9</td>\n",
       "      <td>20.6</td>\n",
       "      <td>7963.627500</td>\n",
       "      <td>1001.514794</td>\n",
       "      <td>0.000000</td>\n",
       "      <td>...</td>\n",
       "      <td>0.000000</td>\n",
       "      <td>0.000000</td>\n",
       "      <td>0.0</td>\n",
       "      <td>0.000000</td>\n",
       "      <td>0.0</td>\n",
       "      <td>0.034080</td>\n",
       "      <td>5.25</td>\n",
       "      <td>M</td>\n",
       "      <td>France</td>\n",
       "      <td>Y3-2019-20</td>\n",
       "    </tr>\n",
       "  </tbody>\n",
       "</table>\n",
       "<p>234 rows × 38 columns</p>\n",
       "</div>"
      ],
      "text/plain": [
       "     user  ch_num_sessions  ch_time_in_prob_sum  ch_time_in_video_sum  \\\n",
       "1       1              3.4               1698.4                9227.8   \n",
       "2       2              5.3               2340.6               10801.3   \n",
       "4       4              2.5               3787.3                7040.0   \n",
       "5       5              2.5               2568.9                3718.9   \n",
       "6       6              4.2               5475.2                9711.6   \n",
       "..    ...              ...                  ...                   ...   \n",
       "272   281              2.2               2600.3                3071.8   \n",
       "276   285              1.8               2111.4                2130.4   \n",
       "277   286              1.9               2224.8                2408.1   \n",
       "281   291              4.0               6898.3                5657.2   \n",
       "283   293              3.5               8127.5                 113.4   \n",
       "\n",
       "     ch_ratio_clicks_weekend_day  ch_total_clicks_weekend  \\\n",
       "1                       0.567500                      4.0   \n",
       "2                      26.562274                     94.6   \n",
       "4                       1.543889                     58.4   \n",
       "5                       0.009677                     31.2   \n",
       "6                       0.476263                    105.1   \n",
       "..                           ...                      ...   \n",
       "272                     0.213467                     20.6   \n",
       "276                     0.236626                      7.0   \n",
       "277                     0.326239                     20.5   \n",
       "281                     0.080266                    131.5   \n",
       "283                     0.632304                     28.9   \n",
       "\n",
       "     ch_total_clicks_weekday  ch_time_sessions_mean  ch_time_sessions_std  \\\n",
       "1                      179.4            3068.720238           1257.504407   \n",
       "2                      129.2            1750.289268           1024.134043   \n",
       "4                       64.9            3373.908333           1363.320365   \n",
       "5                       50.8            1753.647500           1190.793589   \n",
       "6                       46.7           20410.677619           1561.548415   \n",
       "..                       ...                    ...                   ...   \n",
       "272                    122.6            2429.026667            336.303590   \n",
       "276                     21.2            1378.954762            544.967013   \n",
       "277                     46.7            1744.663333            664.335107   \n",
       "281                     15.7            2323.840952           1623.425778   \n",
       "283                     20.6            7963.627500           1001.514794   \n",
       "\n",
       "     bo_delay_lecture  ...  la_weekly_prop_watched_mean  \\\n",
       "1        -2883.367738  ...                     0.748868   \n",
       "2        10027.216667  ...                     0.354487   \n",
       "4         -914.633333  ...                     0.030000   \n",
       "5        12406.195238  ...                     0.330000   \n",
       "6       -13723.616667  ...                     0.080000   \n",
       "..                ...  ...                          ...   \n",
       "272     -69623.272700  ...                     0.616667   \n",
       "276      23125.010000  ...                     0.352244   \n",
       "277       4812.464286  ...                     0.261205   \n",
       "281      -5626.100000  ...                     0.033333   \n",
       "283          0.000000  ...                     0.000000   \n",
       "\n",
       "     la_weekly_prop_interrupted_mean  la_weekly_prop_interrupted_std  \\\n",
       "1                           0.074683                             0.0   \n",
       "2                           0.026667                             0.0   \n",
       "4                           0.000000                             0.0   \n",
       "5                           0.097619                             0.0   \n",
       "6                           0.010000                             0.0   \n",
       "..                               ...                             ...   \n",
       "272                         0.027894                             0.0   \n",
       "276                         0.057692                             0.0   \n",
       "277                         0.014286                             0.0   \n",
       "281                         0.000000                             0.0   \n",
       "283                         0.000000                             0.0   \n",
       "\n",
       "     la_weekly_prop_replayed_mean  la_weekly_prop_replayed_std  \\\n",
       "1                        0.066456                          0.0   \n",
       "2                        0.059915                          0.0   \n",
       "4                        0.020000                          0.0   \n",
       "5                        0.047619                          0.0   \n",
       "6                        0.000000                          0.0   \n",
       "..                            ...                          ...   \n",
       "272                      0.015385                          0.0   \n",
       "276                      0.047619                          0.0   \n",
       "277                      0.000000                          0.0   \n",
       "281                      0.000000                          0.0   \n",
       "283                      0.000000                          0.0   \n",
       "\n",
       "     la_frequency_action_video_play  grade  gender       category        year  \n",
       "1                          0.332424   4.50       M  Suisse.Autres  Y2-2018-19  \n",
       "2                          0.284407   5.25       M     Suisse.PAM  Y2-2018-19  \n",
       "4                          0.199775   4.75       F         France  Y2-2018-19  \n",
       "5                          0.261962   4.00       M     Suisse.PAM  Y2-2018-19  \n",
       "6                          0.229185   4.25       F         France  Y2-2018-19  \n",
       "..                              ...    ...     ...            ...         ...  \n",
       "272                        0.205969   5.75       M     Suisse.PAM  Y3-2019-20  \n",
       "276                        0.027091   4.00       F         France  Y3-2019-20  \n",
       "277                        0.137474   4.50       M         France  Y3-2019-20  \n",
       "281                        0.173431   5.50       M         France  Y3-2019-20  \n",
       "283                        0.034080   5.25       M         France  Y3-2019-20  \n",
       "\n",
       "[234 rows x 38 columns]"
      ]
     },
     "metadata": {},
     "output_type": "display_data"
    }
   ],
   "source": [
    "display(df_lq)"
   ]
  },
  {
   "cell_type": "code",
   "execution_count": 6,
   "id": "59c2908b-b4a0-4c94-906b-79eff4767bb1",
   "metadata": {},
   "outputs": [
    {
     "data": {
      "text/html": [
       "<div>\n",
       "<style scoped>\n",
       "    .dataframe tbody tr th:only-of-type {\n",
       "        vertical-align: middle;\n",
       "    }\n",
       "\n",
       "    .dataframe tbody tr th {\n",
       "        vertical-align: top;\n",
       "    }\n",
       "\n",
       "    .dataframe thead th {\n",
       "        text-align: right;\n",
       "    }\n",
       "</style>\n",
       "<table border=\"1\" class=\"dataframe\">\n",
       "  <thead>\n",
       "    <tr style=\"text-align: right;\">\n",
       "      <th></th>\n",
       "      <th>week</th>\n",
       "      <th>user</th>\n",
       "      <th>ch_num_sessions</th>\n",
       "      <th>ch_time_in_prob_sum</th>\n",
       "      <th>ch_time_in_video_sum</th>\n",
       "      <th>ch_ratio_clicks_weekend_day</th>\n",
       "      <th>ch_total_clicks_weekend</th>\n",
       "      <th>ch_total_clicks_weekday</th>\n",
       "      <th>ch_time_sessions_mean</th>\n",
       "      <th>ch_time_sessions_std</th>\n",
       "      <th>...</th>\n",
       "      <th>la_seek_len_std</th>\n",
       "      <th>la_pause_dur_std</th>\n",
       "      <th>la_time_speeding_up_mean</th>\n",
       "      <th>la_time_speeding_up_std</th>\n",
       "      <th>la_weekly_prop_watched_mean</th>\n",
       "      <th>la_weekly_prop_interrupted_mean</th>\n",
       "      <th>la_weekly_prop_interrupted_std</th>\n",
       "      <th>la_weekly_prop_replayed_mean</th>\n",
       "      <th>la_weekly_prop_replayed_std</th>\n",
       "      <th>la_frequency_action_video_play</th>\n",
       "    </tr>\n",
       "  </thead>\n",
       "  <tbody>\n",
       "    <tr>\n",
       "      <th>1</th>\n",
       "      <td>0</td>\n",
       "      <td>1</td>\n",
       "      <td>7.0</td>\n",
       "      <td>326.0</td>\n",
       "      <td>15525.0</td>\n",
       "      <td>5.675000</td>\n",
       "      <td>40.0</td>\n",
       "      <td>227.0</td>\n",
       "      <td>1931.285714</td>\n",
       "      <td>1648.472515</td>\n",
       "      <td>...</td>\n",
       "      <td>146.564097</td>\n",
       "      <td>188.175709</td>\n",
       "      <td>65.173554</td>\n",
       "      <td>150.807752</td>\n",
       "      <td>0.6</td>\n",
       "      <td>0.1</td>\n",
       "      <td>0.0</td>\n",
       "      <td>0.0</td>\n",
       "      <td>0.0</td>\n",
       "      <td>0.400749</td>\n",
       "    </tr>\n",
       "    <tr>\n",
       "      <th>2</th>\n",
       "      <td>0</td>\n",
       "      <td>2</td>\n",
       "      <td>4.0</td>\n",
       "      <td>1224.0</td>\n",
       "      <td>12209.0</td>\n",
       "      <td>258.000000</td>\n",
       "      <td>1.0</td>\n",
       "      <td>258.0</td>\n",
       "      <td>2780.250000</td>\n",
       "      <td>2297.110400</td>\n",
       "      <td>...</td>\n",
       "      <td>33.419147</td>\n",
       "      <td>39.702700</td>\n",
       "      <td>0.000000</td>\n",
       "      <td>0.000000</td>\n",
       "      <td>0.6</td>\n",
       "      <td>0.0</td>\n",
       "      <td>0.0</td>\n",
       "      <td>0.0</td>\n",
       "      <td>0.0</td>\n",
       "      <td>0.370656</td>\n",
       "    </tr>\n",
       "    <tr>\n",
       "      <th>4</th>\n",
       "      <td>0</td>\n",
       "      <td>4</td>\n",
       "      <td>4.0</td>\n",
       "      <td>1294.0</td>\n",
       "      <td>12037.0</td>\n",
       "      <td>0.328571</td>\n",
       "      <td>140.0</td>\n",
       "      <td>46.0</td>\n",
       "      <td>3043.750000</td>\n",
       "      <td>344.374342</td>\n",
       "      <td>...</td>\n",
       "      <td>159.612354</td>\n",
       "      <td>228.274335</td>\n",
       "      <td>67.941176</td>\n",
       "      <td>111.514074</td>\n",
       "      <td>0.3</td>\n",
       "      <td>0.0</td>\n",
       "      <td>0.0</td>\n",
       "      <td>0.2</td>\n",
       "      <td>0.0</td>\n",
       "      <td>0.252688</td>\n",
       "    </tr>\n",
       "    <tr>\n",
       "      <th>5</th>\n",
       "      <td>0</td>\n",
       "      <td>5</td>\n",
       "      <td>2.0</td>\n",
       "      <td>1324.0</td>\n",
       "      <td>4440.0</td>\n",
       "      <td>0.000000</td>\n",
       "      <td>119.0</td>\n",
       "      <td>0.0</td>\n",
       "      <td>2882.000000</td>\n",
       "      <td>2827.000000</td>\n",
       "      <td>...</td>\n",
       "      <td>99.684654</td>\n",
       "      <td>182.336877</td>\n",
       "      <td>51.760000</td>\n",
       "      <td>146.965446</td>\n",
       "      <td>0.0</td>\n",
       "      <td>0.0</td>\n",
       "      <td>0.0</td>\n",
       "      <td>0.0</td>\n",
       "      <td>0.0</td>\n",
       "      <td>0.411765</td>\n",
       "    </tr>\n",
       "    <tr>\n",
       "      <th>6</th>\n",
       "      <td>0</td>\n",
       "      <td>6</td>\n",
       "      <td>3.0</td>\n",
       "      <td>1773.0</td>\n",
       "      <td>14462.0</td>\n",
       "      <td>1.411765</td>\n",
       "      <td>102.0</td>\n",
       "      <td>144.0</td>\n",
       "      <td>5411.666667</td>\n",
       "      <td>2459.581039</td>\n",
       "      <td>...</td>\n",
       "      <td>116.878539</td>\n",
       "      <td>135.989183</td>\n",
       "      <td>0.000000</td>\n",
       "      <td>0.000000</td>\n",
       "      <td>0.6</td>\n",
       "      <td>0.1</td>\n",
       "      <td>0.0</td>\n",
       "      <td>0.0</td>\n",
       "      <td>0.0</td>\n",
       "      <td>0.353659</td>\n",
       "    </tr>\n",
       "    <tr>\n",
       "      <th>...</th>\n",
       "      <td>...</td>\n",
       "      <td>...</td>\n",
       "      <td>...</td>\n",
       "      <td>...</td>\n",
       "      <td>...</td>\n",
       "      <td>...</td>\n",
       "      <td>...</td>\n",
       "      <td>...</td>\n",
       "      <td>...</td>\n",
       "      <td>...</td>\n",
       "      <td>...</td>\n",
       "      <td>...</td>\n",
       "      <td>...</td>\n",
       "      <td>...</td>\n",
       "      <td>...</td>\n",
       "      <td>...</td>\n",
       "      <td>...</td>\n",
       "      <td>...</td>\n",
       "      <td>...</td>\n",
       "      <td>...</td>\n",
       "      <td>...</td>\n",
       "    </tr>\n",
       "    <tr>\n",
       "      <th>2864</th>\n",
       "      <td>9</td>\n",
       "      <td>281</td>\n",
       "      <td>0.0</td>\n",
       "      <td>0.0</td>\n",
       "      <td>0.0</td>\n",
       "      <td>0.000000</td>\n",
       "      <td>0.0</td>\n",
       "      <td>0.0</td>\n",
       "      <td>0.000000</td>\n",
       "      <td>0.000000</td>\n",
       "      <td>...</td>\n",
       "      <td>0.000000</td>\n",
       "      <td>0.000000</td>\n",
       "      <td>0.000000</td>\n",
       "      <td>0.000000</td>\n",
       "      <td>0.0</td>\n",
       "      <td>0.0</td>\n",
       "      <td>0.0</td>\n",
       "      <td>0.0</td>\n",
       "      <td>0.0</td>\n",
       "      <td>0.000000</td>\n",
       "    </tr>\n",
       "    <tr>\n",
       "      <th>2868</th>\n",
       "      <td>9</td>\n",
       "      <td>285</td>\n",
       "      <td>0.0</td>\n",
       "      <td>0.0</td>\n",
       "      <td>0.0</td>\n",
       "      <td>0.000000</td>\n",
       "      <td>0.0</td>\n",
       "      <td>0.0</td>\n",
       "      <td>0.000000</td>\n",
       "      <td>0.000000</td>\n",
       "      <td>...</td>\n",
       "      <td>0.000000</td>\n",
       "      <td>0.000000</td>\n",
       "      <td>0.000000</td>\n",
       "      <td>0.000000</td>\n",
       "      <td>0.0</td>\n",
       "      <td>0.0</td>\n",
       "      <td>0.0</td>\n",
       "      <td>0.0</td>\n",
       "      <td>0.0</td>\n",
       "      <td>0.000000</td>\n",
       "    </tr>\n",
       "    <tr>\n",
       "      <th>2869</th>\n",
       "      <td>9</td>\n",
       "      <td>286</td>\n",
       "      <td>0.0</td>\n",
       "      <td>0.0</td>\n",
       "      <td>0.0</td>\n",
       "      <td>0.000000</td>\n",
       "      <td>0.0</td>\n",
       "      <td>0.0</td>\n",
       "      <td>0.000000</td>\n",
       "      <td>0.000000</td>\n",
       "      <td>...</td>\n",
       "      <td>0.000000</td>\n",
       "      <td>0.000000</td>\n",
       "      <td>0.000000</td>\n",
       "      <td>0.000000</td>\n",
       "      <td>0.0</td>\n",
       "      <td>0.0</td>\n",
       "      <td>0.0</td>\n",
       "      <td>0.0</td>\n",
       "      <td>0.0</td>\n",
       "      <td>0.000000</td>\n",
       "    </tr>\n",
       "    <tr>\n",
       "      <th>2873</th>\n",
       "      <td>9</td>\n",
       "      <td>291</td>\n",
       "      <td>0.0</td>\n",
       "      <td>0.0</td>\n",
       "      <td>0.0</td>\n",
       "      <td>0.000000</td>\n",
       "      <td>0.0</td>\n",
       "      <td>0.0</td>\n",
       "      <td>0.000000</td>\n",
       "      <td>0.000000</td>\n",
       "      <td>...</td>\n",
       "      <td>0.000000</td>\n",
       "      <td>0.000000</td>\n",
       "      <td>0.000000</td>\n",
       "      <td>0.000000</td>\n",
       "      <td>0.0</td>\n",
       "      <td>0.0</td>\n",
       "      <td>0.0</td>\n",
       "      <td>0.0</td>\n",
       "      <td>0.0</td>\n",
       "      <td>0.000000</td>\n",
       "    </tr>\n",
       "    <tr>\n",
       "      <th>2875</th>\n",
       "      <td>9</td>\n",
       "      <td>293</td>\n",
       "      <td>1.0</td>\n",
       "      <td>0.0</td>\n",
       "      <td>0.0</td>\n",
       "      <td>0.000000</td>\n",
       "      <td>14.0</td>\n",
       "      <td>0.0</td>\n",
       "      <td>62893.000000</td>\n",
       "      <td>0.000000</td>\n",
       "      <td>...</td>\n",
       "      <td>0.000000</td>\n",
       "      <td>0.000000</td>\n",
       "      <td>0.000000</td>\n",
       "      <td>0.000000</td>\n",
       "      <td>0.0</td>\n",
       "      <td>0.0</td>\n",
       "      <td>0.0</td>\n",
       "      <td>0.0</td>\n",
       "      <td>0.0</td>\n",
       "      <td>0.000000</td>\n",
       "    </tr>\n",
       "  </tbody>\n",
       "</table>\n",
       "<p>2340 rows × 35 columns</p>\n",
       "</div>"
      ],
      "text/plain": [
       "      week  user  ch_num_sessions  ch_time_in_prob_sum  ch_time_in_video_sum  \\\n",
       "1        0     1              7.0                326.0               15525.0   \n",
       "2        0     2              4.0               1224.0               12209.0   \n",
       "4        0     4              4.0               1294.0               12037.0   \n",
       "5        0     5              2.0               1324.0                4440.0   \n",
       "6        0     6              3.0               1773.0               14462.0   \n",
       "...    ...   ...              ...                  ...                   ...   \n",
       "2864     9   281              0.0                  0.0                   0.0   \n",
       "2868     9   285              0.0                  0.0                   0.0   \n",
       "2869     9   286              0.0                  0.0                   0.0   \n",
       "2873     9   291              0.0                  0.0                   0.0   \n",
       "2875     9   293              1.0                  0.0                   0.0   \n",
       "\n",
       "      ch_ratio_clicks_weekend_day  ch_total_clicks_weekend  \\\n",
       "1                        5.675000                     40.0   \n",
       "2                      258.000000                      1.0   \n",
       "4                        0.328571                    140.0   \n",
       "5                        0.000000                    119.0   \n",
       "6                        1.411765                    102.0   \n",
       "...                           ...                      ...   \n",
       "2864                     0.000000                      0.0   \n",
       "2868                     0.000000                      0.0   \n",
       "2869                     0.000000                      0.0   \n",
       "2873                     0.000000                      0.0   \n",
       "2875                     0.000000                     14.0   \n",
       "\n",
       "      ch_total_clicks_weekday  ch_time_sessions_mean  ch_time_sessions_std  \\\n",
       "1                       227.0            1931.285714           1648.472515   \n",
       "2                       258.0            2780.250000           2297.110400   \n",
       "4                        46.0            3043.750000            344.374342   \n",
       "5                         0.0            2882.000000           2827.000000   \n",
       "6                       144.0            5411.666667           2459.581039   \n",
       "...                       ...                    ...                   ...   \n",
       "2864                      0.0               0.000000              0.000000   \n",
       "2868                      0.0               0.000000              0.000000   \n",
       "2869                      0.0               0.000000              0.000000   \n",
       "2873                      0.0               0.000000              0.000000   \n",
       "2875                      0.0           62893.000000              0.000000   \n",
       "\n",
       "      ...  la_seek_len_std  la_pause_dur_std  la_time_speeding_up_mean  \\\n",
       "1     ...       146.564097        188.175709                 65.173554   \n",
       "2     ...        33.419147         39.702700                  0.000000   \n",
       "4     ...       159.612354        228.274335                 67.941176   \n",
       "5     ...        99.684654        182.336877                 51.760000   \n",
       "6     ...       116.878539        135.989183                  0.000000   \n",
       "...   ...              ...               ...                       ...   \n",
       "2864  ...         0.000000          0.000000                  0.000000   \n",
       "2868  ...         0.000000          0.000000                  0.000000   \n",
       "2869  ...         0.000000          0.000000                  0.000000   \n",
       "2873  ...         0.000000          0.000000                  0.000000   \n",
       "2875  ...         0.000000          0.000000                  0.000000   \n",
       "\n",
       "      la_time_speeding_up_std  la_weekly_prop_watched_mean  \\\n",
       "1                  150.807752                          0.6   \n",
       "2                    0.000000                          0.6   \n",
       "4                  111.514074                          0.3   \n",
       "5                  146.965446                          0.0   \n",
       "6                    0.000000                          0.6   \n",
       "...                       ...                          ...   \n",
       "2864                 0.000000                          0.0   \n",
       "2868                 0.000000                          0.0   \n",
       "2869                 0.000000                          0.0   \n",
       "2873                 0.000000                          0.0   \n",
       "2875                 0.000000                          0.0   \n",
       "\n",
       "      la_weekly_prop_interrupted_mean  la_weekly_prop_interrupted_std  \\\n",
       "1                                 0.1                             0.0   \n",
       "2                                 0.0                             0.0   \n",
       "4                                 0.0                             0.0   \n",
       "5                                 0.0                             0.0   \n",
       "6                                 0.1                             0.0   \n",
       "...                               ...                             ...   \n",
       "2864                              0.0                             0.0   \n",
       "2868                              0.0                             0.0   \n",
       "2869                              0.0                             0.0   \n",
       "2873                              0.0                             0.0   \n",
       "2875                              0.0                             0.0   \n",
       "\n",
       "      la_weekly_prop_replayed_mean  la_weekly_prop_replayed_std  \\\n",
       "1                              0.0                          0.0   \n",
       "2                              0.0                          0.0   \n",
       "4                              0.2                          0.0   \n",
       "5                              0.0                          0.0   \n",
       "6                              0.0                          0.0   \n",
       "...                            ...                          ...   \n",
       "2864                           0.0                          0.0   \n",
       "2868                           0.0                          0.0   \n",
       "2869                           0.0                          0.0   \n",
       "2873                           0.0                          0.0   \n",
       "2875                           0.0                          0.0   \n",
       "\n",
       "      la_frequency_action_video_play  \n",
       "1                           0.400749  \n",
       "2                           0.370656  \n",
       "4                           0.252688  \n",
       "5                           0.411765  \n",
       "6                           0.353659  \n",
       "...                              ...  \n",
       "2864                        0.000000  \n",
       "2868                        0.000000  \n",
       "2869                        0.000000  \n",
       "2873                        0.000000  \n",
       "2875                        0.000000  \n",
       "\n",
       "[2340 rows x 35 columns]"
      ]
     },
     "metadata": {},
     "output_type": "display_data"
    }
   ],
   "source": [
    "display(ts)"
   ]
  },
  {
   "cell_type": "markdown",
   "id": "7064a4fa-f32c-4734-89e3-375b6f4cfc19",
   "metadata": {
    "tags": []
   },
   "source": [
    "## Prepare data for classification  "
   ]
  },
  {
   "cell_type": "markdown",
   "id": "6d51e8f1-0122-4cb4-93a9-f8fe343401fa",
   "metadata": {
    "tags": []
   },
   "source": [
    "### Add a pass/fail label "
   ]
  },
  {
   "cell_type": "code",
   "execution_count": 7,
   "id": "2d2c8ff0-317f-4380-9f35-e42f361f4b77",
   "metadata": {
    "id": "b64efa4d-9168-4a0b-85ee-22fd113c8b9d"
   },
   "outputs": [],
   "source": [
    "# We first add a column to the dataframe containing the outcome variable\n",
    "# compute pass/fail label\n",
    "df_lq['passed'] = df_lq.grade >= 4\n",
    "df_lq['passed'] = df_lq['passed'].astype(int)"
   ]
  },
  {
   "cell_type": "markdown",
   "id": "0b9b23c3-7225-49bc-9387-3dc62d13faa8",
   "metadata": {
    "tags": []
   },
   "source": [
    "### Remove \"bad\" features and Split Data"
   ]
  },
  {
   "cell_type": "code",
   "execution_count": 8,
   "id": "684887bc-4bd2-4f8a-959d-4499d586698e",
   "metadata": {},
   "outputs": [],
   "source": [
    "# We then split the data in a train-test split (stratified by the outcome variable)\n",
    "X = df_lq.drop(['user','grade', 'gender', 'category', 'year', 'passed'], axis=1)\n",
    "y = df_lq['passed']\n",
    "X_train, X_val, y_train, y_val = train_test_split(X, y, test_size=0.2, random_state=0, stratify=y) # split train and validation data set"
   ]
  },
  {
   "cell_type": "markdown",
   "id": "43a67d0b-7911-4e0a-b29f-f45fcc5f8814",
   "metadata": {
    "tags": []
   },
   "source": [
    "### Print pass/fail proportions"
   ]
  },
  {
   "cell_type": "code",
   "execution_count": 9,
   "id": "ac037d43-434d-461d-bc2e-c4a7d74213b7",
   "metadata": {},
   "outputs": [
    {
     "name": "stdout",
     "output_type": "stream",
     "text": [
      "1    0.604278\n",
      "0    0.395722\n",
      "Name: passed, dtype: float64\n",
      "1    0.595745\n",
      "0    0.404255\n",
      "Name: passed, dtype: float64\n"
     ]
    }
   ],
   "source": [
    "# The class proportions in train and validation sets are the same, thanks to the stratification on y\n",
    "print(y_train.value_counts(normalize=True))\n",
    "print(y_val.value_counts(normalize=True))"
   ]
  },
  {
   "cell_type": "markdown",
   "id": "8a7900ad-42db-440e-83e7-43e385c4924e",
   "metadata": {
    "tags": []
   },
   "source": [
    "## Define Evaluation Metrics (will see later in the slides)"
   ]
  },
  {
   "cell_type": "code",
   "execution_count": 10,
   "id": "3ebd48f8",
   "metadata": {},
   "outputs": [],
   "source": [
    "def compute_scores(clf, X_train, y_train, X_test, y_test, roundnum = 3):\n",
    "    clf.fit(X_train, y_train)\n",
    "    y_pred = clf.predict(X_test)\n",
    "    accuracy =  balanced_accuracy_score(y_test, y_pred)\n",
    "    \n",
    "    y_pred_proba = clf.predict_proba(X_test)[:,1]\n",
    "    auc = roc_auc_score(y_test, y_pred_proba)\n",
    "    \n",
    "    return round(accuracy,roundnum), round(auc,roundnum)"
   ]
  },
  {
   "cell_type": "markdown",
   "id": "cd9d1de7-823c-4f22-b989-379aa447d38a",
   "metadata": {
    "id": "cd9d1de7-823c-4f22-b989-379aa447d38a",
    "tags": []
   },
   "source": [
    "# Section 2: Decision Trees"
   ]
  },
  {
   "cell_type": "markdown",
   "id": "54a5f0d7-f032-4b51-b640-79127de96bd9",
   "metadata": {
    "id": "54a5f0d7-f032-4b51-b640-79127de96bd9",
    "tags": []
   },
   "source": [
    "### Compute a decision tree of max depth 2  over all the features"
   ]
  },
  {
   "cell_type": "code",
   "execution_count": 11,
   "id": "b0afd964-6041-4e43-a146-4a404f6f38cf",
   "metadata": {
    "id": "b0afd964-6041-4e43-a146-4a404f6f38cf",
    "outputId": "a884b797-9903-4529-bda6-c19141e9eac7"
   },
   "outputs": [
    {
     "name": "stdout",
     "output_type": "stream",
     "text": [
      "Decision tree. Balanced Accuracy = 0.577, AUC = 0.602\n"
     ]
    }
   ],
   "source": [
    "clf = tree.DecisionTreeClassifier(max_depth=2, random_state=0, criterion='entropy')\n",
    "accuracy, auc = compute_scores(clf, X_train, y_train, X_val, y_val)\n",
    "print(\"Decision tree. Balanced Accuracy = {}, AUC = {}\".format(accuracy, auc))"
   ]
  },
  {
   "cell_type": "markdown",
   "id": "d9c3ba35-b635-45b1-920e-6e597301652a",
   "metadata": {
    "tags": []
   },
   "source": [
    "### Visualize the decision tree"
   ]
  },
  {
   "cell_type": "code",
   "execution_count": 12,
   "id": "b30c10e2-f8e9-4ec9-8923-67f023f47e8c",
   "metadata": {
    "id": "b30c10e2-f8e9-4ec9-8923-67f023f47e8c",
    "outputId": "a0ecb3bd-b465-4ffc-c7d9-c3aa584171fc"
   },
   "outputs": [
    {
     "data": {
      "image/png": "[encoded data removed]",
      "text/plain": [
       "<Figure size 2000x1000 with 1 Axes>"
      ]
     },
     "metadata": {},
     "output_type": "display_data"
    }
   ],
   "source": [
    "plt.figure(figsize=(20, 10))\n",
    "tree.plot_tree(clf, feature_names=X_train.columns);"
   ]
  },
  {
   "cell_type": "markdown",
   "id": "b8177e5e-5be7-4bb5-a091-66fe5ab51b72",
   "metadata": {
    "id": "b8177e5e-5be7-4bb5-a091-66fe5ab51b72",
    "tags": []
   },
   "source": [
    "### Does depth improves perfromance ?"
   ]
  },
  {
   "cell_type": "code",
   "execution_count": 13,
   "id": "4ce41360-e3a9-4f60-b56d-e79e47d330be",
   "metadata": {},
   "outputs": [
    {
     "data": {
      "image/png": "[encoded data removed]",
      "text/plain": [
       "<Figure size 640x480 with 1 Axes>"
      ]
     },
     "metadata": {},
     "output_type": "display_data"
    }
   ],
   "source": [
    "# We can change the max depth\n",
    "accuracy_list = []\n",
    "auc_list = []\n",
    "for depth in range(1,len(X_train.columns)):\n",
    "    clf = tree.DecisionTreeClassifier(max_depth=depth, random_state=0, criterion='entropy')\n",
    "    accuracy, auc = compute_scores(clf, X_train, y_train, X_val, y_val)\n",
    "    accuracy_list.append(accuracy)\n",
    "    auc_list.append(auc)\n",
    "    # print(\"Decision tree. Depth = {}, Balanced Accuracy = {}, AUC = {}\".format(depth, accuracy, auc))\n",
    "x = list(range(1,len(X_train.columns)))\n",
    "plt.plot(x, accuracy_list, 'r', label = 'accuray')\n",
    "plt.plot(x, auc_list, 'b', label = 'auc')\n",
    "plt.xlabel(\"Decision tree Depth\")\n",
    "plt.ylabel(\"EvaluationMetrics\")\n",
    "plt.ylim([0,1])\n",
    "plt.legend()\n",
    "plt.show()"
   ]
  },
  {
   "cell_type": "markdown",
   "id": "2473100f-6ae4-40d4-9849-9614c94c252e",
   "metadata": {
    "tags": []
   },
   "source": [
    "# Section 3: Random Forests"
   ]
  },
  {
   "cell_type": "markdown",
   "id": "b75cf7a0-0401-49c4-a9f3-341122fd35c8",
   "metadata": {
    "id": "b75cf7a0-0401-49c4-a9f3-341122fd35c8"
   },
   "source": [
    "Next, we will use a random forest classifier instead of a decision tree."
   ]
  },
  {
   "cell_type": "code",
   "execution_count": 14,
   "id": "79d11e43-26cd-45e7-bab3-9a297328ca6e",
   "metadata": {
    "id": "79d11e43-26cd-45e7-bab3-9a297328ca6e",
    "outputId": "144cea19-fe5f-4931-8614-ad23b0cdc956"
   },
   "outputs": [
    {
     "name": "stdout",
     "output_type": "stream",
     "text": [
      "Random Forest. Balanced Accuracy = 0.507, AUC = 0.603\n"
     ]
    }
   ],
   "source": [
    "rf = RandomForestClassifier(n_estimators=100, random_state=0, criterion='entropy') # create a Random Forest\n",
    "accuracy, auc = compute_scores(rf, X_train, y_train, X_val, y_val)\n",
    "print(\"Random Forest. Balanced Accuracy = {}, AUC = {}\".format(accuracy, auc))"
   ]
  },
  {
   "cell_type": "markdown",
   "id": "69a82e9c-1c1c-4803-84b4-f15a2b159d6e",
   "metadata": {
    "id": "69a82e9c-1c1c-4803-84b4-f15a2b159d6e"
   },
   "source": [
    "For a single tree, in fact, keeping a low depth is necessary to avoid overfitting and to reduce the variance. Random forests, instead, can have a higher depth, and consequently a lower bias, since the variance is reduced in the aggregation step."
   ]
  },
  {
   "cell_type": "markdown",
   "id": "66b573c2-5039-46fe-a23c-11630c2dcba7",
   "metadata": {},
   "source": [
    "In this case, decision trees seem to perform better than random forests. A reason for this behavior could be that the single tree is already very \"stable\", i.e. it will change a little in response to little changes in the data. If this was the case, the submodels in the ensemble forest would be all very similar to the single tree, if they were allowed to choose among all the features at every split. Since, though, only a random subset of features is considered at each split, some subtrees would choose bad splits and have overall bad performances."
   ]
  },
  {
   "cell_type": "markdown",
   "id": "ab55d1b1-e75d-4299-801f-9c59c60c9ea2",
   "metadata": {
    "id": "742c3c3f-4c79-412a-8db4-e4e56134ff20",
    "tags": []
   },
   "source": [
    "# Section 4: K-Nearest Neighbors"
   ]
  },
  {
   "cell_type": "markdown",
   "id": "4d6b4c9e-be3a-4d40-bc69-3f927298dc1a",
   "metadata": {
    "tags": []
   },
   "source": [
    "We only use the euclidean distance since all our features are numerical"
   ]
  },
  {
   "cell_type": "code",
   "execution_count": 15,
   "id": "b0bc64a8-c652-4732-af20-9d8123497106",
   "metadata": {},
   "outputs": [
    {
     "data": {
      "text/plain": [
       "array([[   0. ,  181.9,  932.5, ..., 1821.3, 1884.6, 2220.8],\n",
       "       [ 181.9,    0. ,  750.6, ..., 1639.4, 2066.5, 2402.7],\n",
       "       [ 932.5,  750.6,    0. , ...,  888.8, 2817.1, 3153.3],\n",
       "       ...,\n",
       "       [1821.3, 1639.4,  888.8, ...,    0. , 3705.9, 4042.1],\n",
       "       [1884.6, 2066.5, 2817.1, ..., 3705.9,    0. ,  336.2],\n",
       "       [2220.8, 2402.7, 3153.3, ..., 4042.1,  336.2,    0. ]])"
      ]
     },
     "execution_count": 15,
     "metadata": {},
     "output_type": "execute_result"
    }
   ],
   "source": [
    "feature = 'ch_time_in_prob_sum'\n",
    "\n",
    "# Compute the pairwise distance matrix for all the elements of the training set\n",
    "X_train_dist = squareform(pdist(X_train[feature].to_numpy().reshape(-1,1), metric='euclidean'))\n",
    "\n",
    "# Compute the distance between all elements of the training set and of the validation set\n",
    "X_val_dist = cdist(X_val[feature].to_numpy().reshape(-1,1), X_train[feature].to_numpy().reshape(-1,1), metric='euclidean')\n",
    "\n",
    "X_train_dist"
   ]
  },
  {
   "cell_type": "code",
   "execution_count": 16,
   "id": "8adbc4a0-5bf6-4306-9c05-59f85fd5aae1",
   "metadata": {},
   "outputs": [
    {
     "name": "stdout",
     "output_type": "stream",
     "text": [
      "Training set size: (187, 33)\n",
      "Validation set size: (47, 33)\n",
      "Training pairwise distances size: (187, 187)\n",
      "Validation distances size: (47, 187)\n"
     ]
    }
   ],
   "source": [
    "print('Training set size:', X_train.shape)\n",
    "print('Validation set size:', X_val.shape)\n",
    "print('Training pairwise distances size:', X_train_dist.shape)\n",
    "print('Validation distances size:', X_val_dist.shape)"
   ]
  },
  {
   "cell_type": "code",
   "execution_count": 17,
   "id": "cf00c348-18a8-4968-9b35-61e2168c168f",
   "metadata": {},
   "outputs": [
    {
     "name": "stdout",
     "output_type": "stream",
     "text": [
      "k-nearest neighbors. Balanced Accuracy = 0.533, AUC = 0.548\n"
     ]
    },
    {
     "name": "stderr",
     "output_type": "stream",
     "text": [
      "/usr/local/lib/python3.8/dist-packages/sklearn/neighbors/_classification.py:228: FutureWarning: Unlike other reduction functions (e.g. `skew`, `kurtosis`), the default behavior of `mode` typically preserves the axis it acts along. In SciPy 1.11.0, this behavior will change: the default value of `keepdims` will become False, the `axis` over which the statistic is taken will be eliminated, and the value None will no longer be accepted. Set `keepdims` to True or False to avoid this warning.\n",
      "  mode, _ = stats.mode(_y[neigh_ind, k], axis=1)\n"
     ]
    }
   ],
   "source": [
    "knn = KNeighborsClassifier(n_neighbors=5, metric='precomputed')\n",
    "\n",
    "accuracy, auc = compute_scores(knn, X_train_dist, y_train, X_val_dist, y_val)\n",
    "print(\"k-nearest neighbors. Balanced Accuracy = {}, AUC = {}\".format(accuracy, auc))"
   ]
  },
  {
   "cell_type": "markdown",
   "id": "4d9c8076-f4d2-4b39-bd4c-6146a05387f2",
   "metadata": {
    "tags": []
   },
   "source": [
    "# Section 5: Logistic regression"
   ]
  },
  {
   "cell_type": "markdown",
   "id": "e19a754c-dd4a-40a8-a57b-2871de1885b3",
   "metadata": {
    "id": "e19a754c-dd4a-40a8-a57b-2871de1885b3",
    "tags": []
   },
   "source": [
    "We normalize the data data using the MinMaxScaler such that all the features are on the same scale."
   ]
  },
  {
   "cell_type": "code",
   "execution_count": 18,
   "id": "4a07ec97-4863-4719-afec-bb70752e81a5",
   "metadata": {},
   "outputs": [
    {
     "name": "stdout",
     "output_type": "stream",
     "text": [
      "Logistic Regression. Balanced Accuracy = 0.577, AUC = 0.626\n"
     ]
    }
   ],
   "source": [
    "scaler = MinMaxScaler()\n",
    "scaler.fit(X_train)\n",
    "\n",
    "X_train_scaled = scaler.transform(X_train)\n",
    "X_val_scaled  = scaler.transform(X_val)\n",
    "\n",
    "clf = LogisticRegression(random_state=0)\n",
    "accuracy, auc = compute_scores(clf, X_train_scaled, y_train, X_val_scaled, y_val)\n",
    "print(\"Logistic Regression. Balanced Accuracy = {}, AUC = {}\".format(accuracy, auc))"
   ]
  },
  {
   "cell_type": "markdown",
   "id": "30402283-c3a5-4a5b-9b2a-1ead4d045d5a",
   "metadata": {
    "id": "30402283-c3a5-4a5b-9b2a-1ead4d045d5a",
    "tags": []
   },
   "source": [
    "# Section 6: Time Series - Your Turn"
   ]
  },
  {
   "cell_type": "markdown",
   "id": "c2e35fc4-20c8-44f6-b64b-5ca9aad8340a",
   "metadata": {
    "id": "c2e35fc4-20c8-44f6-b64b-5ca9aad8340a"
   },
   "source": [
    "Build a classifier that can predict whether students pass the course after half of the course (5 weeks). You will need to use the data frame **ts** for this task. You can use kNN, RF, or decision tree. Train your model on the training data and predict on the test data."
   ]
  },
  {
   "cell_type": "markdown",
   "id": "def862b2-afb5-42c7-8db5-0fc8d5b1103a",
   "metadata": {
    "id": "def862b2-afb5-42c7-8db5-0fc8d5b1103a"
   },
   "source": [
    "We first drop all the weeks before week 5 and then perform the train/test split."
   ]
  },
  {
   "cell_type": "code",
   "execution_count": 19,
   "id": "a3edb144-3635-4b2d-ab77-94cdf8b4c2f8",
   "metadata": {},
   "outputs": [],
   "source": [
    "# Consider only data up to the 5th week\n",
    "ts = ts[ts.week <= 5]"
   ]
  },
  {
   "cell_type": "code",
   "execution_count": 20,
   "id": "b86c3c07-c2b5-4b35-b8d9-e44aecb3ef73",
   "metadata": {},
   "outputs": [],
   "source": [
    "# Train-test split done on the users, so that all the rows corresponding to one user go into the same set.\n",
    "users = ts.user.unique()\n",
    "y = df_lq.passed\n",
    "users_train, users_val, y_train, y_val = train_test_split(users, y, test_size=0.2, random_state=0, stratify=y)\n",
    "\n",
    "X_train = ts[ts.user.isin(users_train)]\n",
    "X_val = ts[ts.user.isin(users_val)]"
   ]
  },
  {
   "cell_type": "code",
   "execution_count": 21,
   "id": "b4951177-aa43-4e4b-9b39-b8efa2042c4a",
   "metadata": {},
   "outputs": [],
   "source": [
    "# Sort indexes to make label arrays consistent with the data\n",
    "y_train = y_train.sort_index()\n",
    "y_val = y_val.sort_index()"
   ]
  },
  {
   "cell_type": "markdown",
   "id": "842e0147-75fe-45e2-bae6-1c79e85fe0ed",
   "metadata": {
    "tags": []
   },
   "source": [
    "### Decision tree/Random forest\n",
    "For decision tree and RF, we need to aggregate the features to be able to feed them directly in the mode. We use the mean as an aggregation function."
   ]
  },
  {
   "cell_type": "code",
   "execution_count": 22,
   "id": "3f49943b-fb15-4cce-b354-f538808329ca",
   "metadata": {},
   "outputs": [
    {
     "data": {
      "text/html": [
       "<div>\n",
       "<style scoped>\n",
       "    .dataframe tbody tr th:only-of-type {\n",
       "        vertical-align: middle;\n",
       "    }\n",
       "\n",
       "    .dataframe tbody tr th {\n",
       "        vertical-align: top;\n",
       "    }\n",
       "\n",
       "    .dataframe thead th {\n",
       "        text-align: right;\n",
       "    }\n",
       "</style>\n",
       "<table border=\"1\" class=\"dataframe\">\n",
       "  <thead>\n",
       "    <tr style=\"text-align: right;\">\n",
       "      <th></th>\n",
       "      <th>user</th>\n",
       "      <th>ch_num_sessions</th>\n",
       "      <th>ch_time_in_prob_sum</th>\n",
       "      <th>ch_time_in_video_sum</th>\n",
       "      <th>ch_ratio_clicks_weekend_day</th>\n",
       "      <th>ch_total_clicks_weekend</th>\n",
       "      <th>ch_total_clicks_weekday</th>\n",
       "      <th>ch_time_sessions_mean</th>\n",
       "      <th>ch_time_sessions_std</th>\n",
       "      <th>bo_delay_lecture</th>\n",
       "      <th>...</th>\n",
       "      <th>la_seek_len_std</th>\n",
       "      <th>la_pause_dur_std</th>\n",
       "      <th>la_time_speeding_up_mean</th>\n",
       "      <th>la_time_speeding_up_std</th>\n",
       "      <th>la_weekly_prop_watched_mean</th>\n",
       "      <th>la_weekly_prop_interrupted_mean</th>\n",
       "      <th>la_weekly_prop_interrupted_std</th>\n",
       "      <th>la_weekly_prop_replayed_mean</th>\n",
       "      <th>la_weekly_prop_replayed_std</th>\n",
       "      <th>la_frequency_action_video_play</th>\n",
       "    </tr>\n",
       "  </thead>\n",
       "  <tbody>\n",
       "    <tr>\n",
       "      <th>0</th>\n",
       "      <td>2</td>\n",
       "      <td>3.391165</td>\n",
       "      <td>2109.754962</td>\n",
       "      <td>6234.491952</td>\n",
       "      <td>104.883843</td>\n",
       "      <td>82.771976</td>\n",
       "      <td>103.319730</td>\n",
       "      <td>656.590004</td>\n",
       "      <td>763.194436</td>\n",
       "      <td>100718.818602</td>\n",
       "      <td>...</td>\n",
       "      <td>48.407218</td>\n",
       "      <td>53.451086</td>\n",
       "      <td>0.000000</td>\n",
       "      <td>0.000000</td>\n",
       "      <td>0.535256</td>\n",
       "      <td>0.044444</td>\n",
       "      <td>0.0</td>\n",
       "      <td>0.062821</td>\n",
       "      <td>0.0</td>\n",
       "      <td>0.362171</td>\n",
       "    </tr>\n",
       "    <tr>\n",
       "      <th>1</th>\n",
       "      <td>5</td>\n",
       "      <td>1.095445</td>\n",
       "      <td>2254.745433</td>\n",
       "      <td>2119.963773</td>\n",
       "      <td>0.039508</td>\n",
       "      <td>57.595139</td>\n",
       "      <td>38.301001</td>\n",
       "      <td>1562.122278</td>\n",
       "      <td>1395.886413</td>\n",
       "      <td>42682.471658</td>\n",
       "      <td>...</td>\n",
       "      <td>67.829390</td>\n",
       "      <td>127.319742</td>\n",
       "      <td>41.157554</td>\n",
       "      <td>92.320811</td>\n",
       "      <td>0.216667</td>\n",
       "      <td>0.027778</td>\n",
       "      <td>0.0</td>\n",
       "      <td>0.000000</td>\n",
       "      <td>0.0</td>\n",
       "      <td>0.313901</td>\n",
       "    </tr>\n",
       "    <tr>\n",
       "      <th>2</th>\n",
       "      <td>6</td>\n",
       "      <td>1.505545</td>\n",
       "      <td>2872.580959</td>\n",
       "      <td>4712.799423</td>\n",
       "      <td>0.827940</td>\n",
       "      <td>70.164806</td>\n",
       "      <td>57.094366</td>\n",
       "      <td>1230.317804</td>\n",
       "      <td>748.645929</td>\n",
       "      <td>38052.014201</td>\n",
       "      <td>...</td>\n",
       "      <td>34.276359</td>\n",
       "      <td>80.200974</td>\n",
       "      <td>0.000000</td>\n",
       "      <td>0.000000</td>\n",
       "      <td>0.133333</td>\n",
       "      <td>0.016667</td>\n",
       "      <td>0.0</td>\n",
       "      <td>0.000000</td>\n",
       "      <td>0.0</td>\n",
       "      <td>0.290923</td>\n",
       "    </tr>\n",
       "    <tr>\n",
       "      <th>3</th>\n",
       "      <td>7</td>\n",
       "      <td>1.760682</td>\n",
       "      <td>2224.075868</td>\n",
       "      <td>3908.428094</td>\n",
       "      <td>0.267992</td>\n",
       "      <td>73.841497</td>\n",
       "      <td>78.863807</td>\n",
       "      <td>325.721484</td>\n",
       "      <td>1004.619798</td>\n",
       "      <td>70834.903484</td>\n",
       "      <td>...</td>\n",
       "      <td>116.938662</td>\n",
       "      <td>214.271981</td>\n",
       "      <td>0.000000</td>\n",
       "      <td>0.000000</td>\n",
       "      <td>0.242628</td>\n",
       "      <td>0.016667</td>\n",
       "      <td>0.0</td>\n",
       "      <td>0.050000</td>\n",
       "      <td>0.0</td>\n",
       "      <td>0.334971</td>\n",
       "    </tr>\n",
       "    <tr>\n",
       "      <th>4</th>\n",
       "      <td>8</td>\n",
       "      <td>1.366260</td>\n",
       "      <td>3821.751924</td>\n",
       "      <td>2660.061704</td>\n",
       "      <td>7.804323</td>\n",
       "      <td>110.199214</td>\n",
       "      <td>182.871540</td>\n",
       "      <td>1463.288505</td>\n",
       "      <td>1819.357850</td>\n",
       "      <td>33286.469085</td>\n",
       "      <td>...</td>\n",
       "      <td>107.620927</td>\n",
       "      <td>92.403015</td>\n",
       "      <td>5.651399</td>\n",
       "      <td>7.440532</td>\n",
       "      <td>0.202564</td>\n",
       "      <td>0.000000</td>\n",
       "      <td>0.0</td>\n",
       "      <td>0.000000</td>\n",
       "      <td>0.0</td>\n",
       "      <td>0.382115</td>\n",
       "    </tr>\n",
       "  </tbody>\n",
       "</table>\n",
       "<p>5 rows × 68 columns</p>\n",
       "</div>"
      ],
      "text/plain": [
       "   user  ch_num_sessions  ch_time_in_prob_sum  ch_time_in_video_sum  \\\n",
       "0     2         3.391165          2109.754962           6234.491952   \n",
       "1     5         1.095445          2254.745433           2119.963773   \n",
       "2     6         1.505545          2872.580959           4712.799423   \n",
       "3     7         1.760682          2224.075868           3908.428094   \n",
       "4     8         1.366260          3821.751924           2660.061704   \n",
       "\n",
       "   ch_ratio_clicks_weekend_day  ch_total_clicks_weekend  \\\n",
       "0                   104.883843                82.771976   \n",
       "1                     0.039508                57.595139   \n",
       "2                     0.827940                70.164806   \n",
       "3                     0.267992                73.841497   \n",
       "4                     7.804323               110.199214   \n",
       "\n",
       "   ch_total_clicks_weekday  ch_time_sessions_mean  ch_time_sessions_std  \\\n",
       "0               103.319730             656.590004            763.194436   \n",
       "1                38.301001            1562.122278           1395.886413   \n",
       "2                57.094366            1230.317804            748.645929   \n",
       "3                78.863807             325.721484           1004.619798   \n",
       "4               182.871540            1463.288505           1819.357850   \n",
       "\n",
       "   bo_delay_lecture  ...  la_seek_len_std  la_pause_dur_std  \\\n",
       "0     100718.818602  ...        48.407218         53.451086   \n",
       "1      42682.471658  ...        67.829390        127.319742   \n",
       "2      38052.014201  ...        34.276359         80.200974   \n",
       "3      70834.903484  ...       116.938662        214.271981   \n",
       "4      33286.469085  ...       107.620927         92.403015   \n",
       "\n",
       "   la_time_speeding_up_mean  la_time_speeding_up_std  \\\n",
       "0                  0.000000                 0.000000   \n",
       "1                 41.157554                92.320811   \n",
       "2                  0.000000                 0.000000   \n",
       "3                  0.000000                 0.000000   \n",
       "4                  5.651399                 7.440532   \n",
       "\n",
       "   la_weekly_prop_watched_mean  la_weekly_prop_interrupted_mean  \\\n",
       "0                     0.535256                         0.044444   \n",
       "1                     0.216667                         0.027778   \n",
       "2                     0.133333                         0.016667   \n",
       "3                     0.242628                         0.016667   \n",
       "4                     0.202564                         0.000000   \n",
       "\n",
       "   la_weekly_prop_interrupted_std  la_weekly_prop_replayed_mean  \\\n",
       "0                             0.0                      0.062821   \n",
       "1                             0.0                      0.000000   \n",
       "2                             0.0                      0.000000   \n",
       "3                             0.0                      0.050000   \n",
       "4                             0.0                      0.000000   \n",
       "\n",
       "   la_weekly_prop_replayed_std  la_frequency_action_video_play  \n",
       "0                          0.0                        0.362171  \n",
       "1                          0.0                        0.313901  \n",
       "2                          0.0                        0.290923  \n",
       "3                          0.0                        0.334971  \n",
       "4                          0.0                        0.382115  \n",
       "\n",
       "[5 rows x 68 columns]"
      ]
     },
     "execution_count": 22,
     "metadata": {},
     "output_type": "execute_result"
    }
   ],
   "source": [
    "# Aggregate features\n",
    "\n",
    "groups_train = X_train.drop('week', axis = 1).groupby('user', as_index = False)\n",
    "groups_val = X_val.drop('week', axis = 1).groupby('user', as_index = False)\n",
    "\n",
    "standard_train = groups_train.std()\n",
    "averages_train = groups_train.mean()\n",
    "standard_val = groups_val.std()\n",
    "averages_val = groups_val.mean()\n",
    "\n",
    "X_train_aggregate = pd.concat([standard_train, averages_train], axis=1)\n",
    "X_val_aggregate = pd.concat([standard_val, averages_val], axis=1)\n",
    "X_train_aggregate.head()"
   ]
  },
  {
   "cell_type": "code",
   "execution_count": 23,
   "id": "eaadafbc-1976-43e6-b0a9-d0126c28e09c",
   "metadata": {},
   "outputs": [
    {
     "name": "stdout",
     "output_type": "stream",
     "text": [
      "Decision tree. Balanced Accuracy = 0.49, AUC = 0.585\n"
     ]
    }
   ],
   "source": [
    "clf = tree.DecisionTreeClassifier(max_depth=3, min_samples_leaf=5, min_samples_split=2, \n",
    "                                  random_state=0, criterion='entropy')\n",
    "\n",
    "accuracy, auc = compute_scores(clf, X_train_aggregate, y_train, X_val_aggregate, y_val)\n",
    "print(\"Decision tree. Balanced Accuracy = {}, AUC = {}\".format(accuracy, auc))"
   ]
  },
  {
   "cell_type": "code",
   "execution_count": 24,
   "id": "2e07a283-d2d2-467c-a6f6-6b88f55344e8",
   "metadata": {},
   "outputs": [
    {
     "name": "stdout",
     "output_type": "stream",
     "text": [
      "Random Forest. Balanced Accuracy = 0.603, AUC = 0.586\n"
     ]
    }
   ],
   "source": [
    "rf = RandomForestClassifier(n_estimators=100, max_depth=5, random_state=0, criterion='entropy') # create a Random Forest\n",
    "\n",
    "accuracy, auc = compute_scores(rf,X_train_aggregate, y_train, X_val_aggregate, y_val)\n",
    "print(\"Random Forest. Balanced Accuracy = {}, AUC = {}\".format(accuracy, auc))"
   ]
  },
  {
   "cell_type": "markdown",
   "id": "e6cd6cdc-8bc5-4a55-a0a9-01158cd0b17d",
   "metadata": {
    "tags": []
   },
   "source": [
    "### K-Nearest Neighbors\n",
    "For kNN, we don't need to aggregate the features. We directly compute the pairwise Euclidean distance between users, separately for each feature. We then normalize the pairwise distance matrices such that we can sum them up and feed them directly into the model."
   ]
  },
  {
   "cell_type": "code",
   "execution_count": 25,
   "id": "18bb7e2f-cf23-4038-a474-38131163584d",
   "metadata": {},
   "outputs": [
    {
     "data": {
      "text/html": [
       "<div>\n",
       "<style scoped>\n",
       "    .dataframe tbody tr th:only-of-type {\n",
       "        vertical-align: middle;\n",
       "    }\n",
       "\n",
       "    .dataframe tbody tr th {\n",
       "        vertical-align: top;\n",
       "    }\n",
       "\n",
       "    .dataframe thead th {\n",
       "        text-align: right;\n",
       "    }\n",
       "</style>\n",
       "<table border=\"1\" class=\"dataframe\">\n",
       "  <thead>\n",
       "    <tr style=\"text-align: right;\">\n",
       "      <th></th>\n",
       "      <th>ch_time_in_prob_sum</th>\n",
       "      <th>ma_competency_anti</th>\n",
       "      <th>bo_delay_lecture</th>\n",
       "    </tr>\n",
       "    <tr>\n",
       "      <th>user</th>\n",
       "      <th></th>\n",
       "      <th></th>\n",
       "      <th></th>\n",
       "    </tr>\n",
       "  </thead>\n",
       "  <tbody>\n",
       "    <tr>\n",
       "      <th>2</th>\n",
       "      <td>[1224.0, 1310.0, 6185.0, 3195.0, 5545.0, 2515.0]</td>\n",
       "      <td>[0.0256410256410256, 0.08, 0.057471264367816, ...</td>\n",
       "      <td>[-8998.0, -22764.666666666668, 228700.0, -3375...</td>\n",
       "    </tr>\n",
       "    <tr>\n",
       "      <th>5</th>\n",
       "      <td>[1324.0, 266.0, 4700.0, 4014.0, 4881.0, 0.0]</td>\n",
       "      <td>[0.0341880341880341, 0.0, 0.0, 0.1095890410958...</td>\n",
       "      <td>[0.0, -67829.0, 67143.66666666667, 0.0, 0.0, 0.0]</td>\n",
       "    </tr>\n",
       "    <tr>\n",
       "      <th>6</th>\n",
       "      <td>[1773.0, 5152.0, 6475.0, 8562.0, 6753.0, 10076.0]</td>\n",
       "      <td>[0.094017094017094, 0.13, 0.1379310344827586, ...</td>\n",
       "      <td>[-90548.16666666669, -46688.0, 0.0, 0.0, 0.0, ...</td>\n",
       "    </tr>\n",
       "    <tr>\n",
       "      <th>7</th>\n",
       "      <td>[6410.0, 902.0, 5776.0, 4517.0, 1540.0, 3827.0]</td>\n",
       "      <td>[0.094017094017094, 0.13, 0.1034482758620689, ...</td>\n",
       "      <td>[-96044.5, -100976.5, 0.0, -187836.66666666663...</td>\n",
       "    </tr>\n",
       "    <tr>\n",
       "      <th>8</th>\n",
       "      <td>[1527.0, 4861.0, 5211.0, 8722.0, 4512.0, 12462.0]</td>\n",
       "      <td>[0.094017094017094, 0.13, 0.057471264367816, 0...</td>\n",
       "      <td>[-26506.33333333333, 67210.33333333333, 0.0, -...</td>\n",
       "    </tr>\n",
       "  </tbody>\n",
       "</table>\n",
       "</div>"
      ],
      "text/plain": [
       "                                    ch_time_in_prob_sum  \\\n",
       "user                                                      \n",
       "2      [1224.0, 1310.0, 6185.0, 3195.0, 5545.0, 2515.0]   \n",
       "5          [1324.0, 266.0, 4700.0, 4014.0, 4881.0, 0.0]   \n",
       "6     [1773.0, 5152.0, 6475.0, 8562.0, 6753.0, 10076.0]   \n",
       "7       [6410.0, 902.0, 5776.0, 4517.0, 1540.0, 3827.0]   \n",
       "8     [1527.0, 4861.0, 5211.0, 8722.0, 4512.0, 12462.0]   \n",
       "\n",
       "                                     ma_competency_anti  \\\n",
       "user                                                      \n",
       "2     [0.0256410256410256, 0.08, 0.057471264367816, ...   \n",
       "5     [0.0341880341880341, 0.0, 0.0, 0.1095890410958...   \n",
       "6     [0.094017094017094, 0.13, 0.1379310344827586, ...   \n",
       "7     [0.094017094017094, 0.13, 0.1034482758620689, ...   \n",
       "8     [0.094017094017094, 0.13, 0.057471264367816, 0...   \n",
       "\n",
       "                                       bo_delay_lecture  \n",
       "user                                                     \n",
       "2     [-8998.0, -22764.666666666668, 228700.0, -3375...  \n",
       "5     [0.0, -67829.0, 67143.66666666667, 0.0, 0.0, 0.0]  \n",
       "6     [-90548.16666666669, -46688.0, 0.0, 0.0, 0.0, ...  \n",
       "7     [-96044.5, -100976.5, 0.0, -187836.66666666663...  \n",
       "8     [-26506.33333333333, 67210.33333333333, 0.0, -...  "
      ]
     },
     "execution_count": 25,
     "metadata": {},
     "output_type": "execute_result"
    }
   ],
   "source": [
    "feature = ['ch_time_in_prob_sum', 'ma_competency_anti','bo_delay_lecture']\n",
    "\n",
    "X_train_vectors = X_train.groupby('user')[feature].agg(list)\n",
    "X_val_vectors = X_val.groupby('user')[feature].agg(list)\n",
    "\n",
    "X_train_vectors.head()"
   ]
  },
  {
   "cell_type": "code",
   "execution_count": 26,
   "id": "cd2ae43d-efab-45a3-9755-a533611eed26",
   "metadata": {},
   "outputs": [
    {
     "data": {
      "text/plain": [
       "array([[0.        , 0.67793804, 0.75784452, ..., 0.93718996, 0.81832837,\n",
       "        0.90029793],\n",
       "       [0.67793804, 0.        , 0.79042918, ..., 0.62833068, 0.54315213,\n",
       "        0.64883377],\n",
       "       [0.75784452, 0.79042918, 0.        , ..., 0.97117781, 0.88951047,\n",
       "        0.53489505],\n",
       "       ...,\n",
       "       [0.93718996, 0.62833068, 0.97117781, ..., 0.        , 0.32428509,\n",
       "        0.72269912],\n",
       "       [0.81832837, 0.54315213, 0.88951047, ..., 0.32428509, 0.        ,\n",
       "        0.62794624],\n",
       "       [0.90029793, 0.64883377, 0.53489505, ..., 0.72269912, 0.62794624,\n",
       "        0.        ]])"
      ]
     },
     "execution_count": 26,
     "metadata": {},
     "output_type": "execute_result"
    }
   ],
   "source": [
    "def normalize(distance_matrix):\n",
    "    range_matrix = np.max(distance_matrix) - np.min(distance_matrix)\n",
    "    normalized = (distance_matrix - np.min(distance_matrix)) / range_matrix\n",
    "    return normalized\n",
    "\n",
    "# Compute the pairwise distance matrix for all the elements of the training set, by computing\n",
    "# the distances between the vectors, for each of the features selected, and summing up\n",
    "# the resulting matrices\n",
    "X_train_dist = sum(map(lambda x: normalize(squareform(pdist(x[1].tolist(), metric='euclidean'))),\n",
    "                       X_train_vectors.iteritems()))\n",
    "\n",
    "\n",
    "# Same thing but between all elements of the training set and of the validation set\n",
    "X_val_dist = sum(map(lambda x: normalize(cdist(x[0][1].tolist(), x[1][1].tolist(), metric='euclidean')), \n",
    "                     zip(X_val_vectors.iteritems(), X_train_vectors.iteritems())))\n",
    "\n",
    "X_train_dist"
   ]
  },
  {
   "cell_type": "code",
   "execution_count": 27,
   "id": "1ef8d13c",
   "metadata": {},
   "outputs": [
    {
     "name": "stdout",
     "output_type": "stream",
     "text": [
      "k-nearest neighbors. Balanced Accuracy = 0.647, AUC = 0.629\n"
     ]
    },
    {
     "name": "stderr",
     "output_type": "stream",
     "text": [
      "/usr/local/lib/python3.8/dist-packages/sklearn/neighbors/_classification.py:228: FutureWarning: Unlike other reduction functions (e.g. `skew`, `kurtosis`), the default behavior of `mode` typically preserves the axis it acts along. In SciPy 1.11.0, this behavior will change: the default value of `keepdims` will become False, the `axis` over which the statistic is taken will be eliminated, and the value None will no longer be accepted. Set `keepdims` to True or False to avoid this warning.\n",
      "  mode, _ = stats.mode(_y[neigh_ind, k], axis=1)\n"
     ]
    }
   ],
   "source": [
    "knn = KNeighborsClassifier(n_neighbors=5, metric='precomputed')\n",
    "\n",
    "accuracy, auc = compute_scores(knn, X_train_dist, y_train, X_val_dist, y_val)\n",
    "print(\"k-nearest neighbors. Balanced Accuracy = {}, AUC = {}\".format(accuracy, auc))"
   ]
  },
  {
   "cell_type": "code",
   "execution_count": null,
   "id": "f44012e7-95c4-44cc-98af-4a070164e638",
   "metadata": {},
   "outputs": [],
   "source": []
  }
 ],
 "metadata": {
  "colab": {
   "name": "mlbd_lecture4.ipynb",
   "provenance": []
  },
  "kernelspec": {
   "display_name": "Python",
   "language": "python",
   "name": "python3"
  },
  "language_info": {
   "codemirror_mode": {
    "name": "ipython",
    "version": 3
   },
   "file_extension": ".py",
   "mimetype": "text/x-python",
   "name": "python",
   "nbconvert_exporter": "python",
   "pygments_lexer": "ipython3",
   "version": "3.8.10"
  }
 },
 "nbformat": 4,
 "nbformat_minor": 5
}
