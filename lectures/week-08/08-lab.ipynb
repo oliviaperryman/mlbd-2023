{
 "cells": [
  {
   "cell_type": "markdown",
   "id": "b8135284-1238-480e-89d8-5790b142ea66",
   "metadata": {
    "tags": []
   },
   "source": [
    "# Lab 8 - DKT Model Comparison"
   ]
  },
  {
   "cell_type": "markdown",
   "id": "494fe36e-c815-4bae-88b4-6c784e829d1d",
   "metadata": {},
   "source": [
    "In this exercises, you will compare the performance of different knowledge tracing models. We will use the same ASSISTments data set as in week 7.\n",
    "\n",
    "The ASSISTments data sets are often used for benchmarking knowledge tracing models. We will play with a simplified data set that contains the following columns:\n",
    "\n",
    "| Name                   | Description                         |\n",
    "| ---------------------- | ------------------------------------------------------------ |\n",
    "| user_id | The ID of the student who is solving the problem.  | |\n",
    "| order_id | The temporal ID (timestamp) associated with the student's answer to the problem.  | |\n",
    "| skill_name | The name of the skill associated with the problem. | |\n",
    "| correct | The student's performance on the problem: 1 if the problem's answer is correct at the first attempt, 0 otherwise. "
   ]
  },
  {
   "cell_type": "markdown",
   "id": "43afa5c3-2017-4e04-8513-c2735ebe27ed",
   "metadata": {},
   "source": [
    "Note that this notebook will need to use the tensorflow kernel. Change the kernel in the upper right corner of Noto. Select `tensorflow`."
   ]
  },
  {
   "cell_type": "markdown",
   "id": "f8f92b49-a6b7-481e-abe3-8bd1d929965f",
   "metadata": {},
   "source": [
    "We first load the data set."
   ]
  },
  {
   "cell_type": "code",
   "execution_count": 1,
   "id": "6cb3cc5d-dfdc-4214-b01c-0f9b8dfa77a7",
   "metadata": {},
   "outputs": [
    {
     "name": "stderr",
     "output_type": "stream",
     "text": [
      "2023-04-17 17:08:14.945598: W tensorflow/stream_executor/platform/default/dso_loader.cc:64] Could not load dynamic library 'libcudart.so.11.0'; dlerror: libcudart.so.11.0: cannot open shared object file: No such file or directory\n",
      "2023-04-17 17:08:14.945642: I tensorflow/stream_executor/cuda/cudart_stub.cc:29] Ignore above cudart dlerror if you do not have a GPU set up on your machine.\n"
     ]
    }
   ],
   "source": [
    "# Principal package imports\n",
    "import matplotlib.pyplot as plt\n",
    "import seaborn as sns\n",
    "import pandas as pd\n",
    "import numpy as np\n",
    "import scipy as sc\n",
    "\n",
    "# Scikit-learn package imports\n",
    "from sklearn import feature_extraction, model_selection\n",
    "from sklearn.metrics import mean_squared_error, roc_auc_score\n",
    "\n",
    "# PyBKT package imports\n",
    "from pyBKT.models import Model\n",
    "# Import the lmm model class\n",
    "from pymer4.models import Lmer\n",
    "\n",
    "# Tensorflow\n",
    "import tensorflow as tf\n",
    "\n",
    "DATA_DIR = \"./../../data/\""
   ]
  },
  {
   "cell_type": "code",
   "execution_count": 2,
   "id": "f0e03b6b-462f-4770-af1c-c0b4fd00f565",
   "metadata": {},
   "outputs": [
    {
     "data": {
      "text/html": [
       "<div>\n",
       "<style scoped>\n",
       "    .dataframe tbody tr th:only-of-type {\n",
       "        vertical-align: middle;\n",
       "    }\n",
       "\n",
       "    .dataframe tbody tr th {\n",
       "        vertical-align: top;\n",
       "    }\n",
       "\n",
       "    .dataframe thead th {\n",
       "        text-align: right;\n",
       "    }\n",
       "</style>\n",
       "<table border=\"1\" class=\"dataframe\">\n",
       "  <thead>\n",
       "    <tr style=\"text-align: right;\">\n",
       "      <th></th>\n",
       "      <th>user_id</th>\n",
       "      <th>order_id</th>\n",
       "      <th>skill_name</th>\n",
       "      <th>correct</th>\n",
       "    </tr>\n",
       "  </thead>\n",
       "  <tbody>\n",
       "    <tr>\n",
       "      <th>0</th>\n",
       "      <td>64525</td>\n",
       "      <td>33022537</td>\n",
       "      <td>Box and Whisker</td>\n",
       "      <td>1</td>\n",
       "    </tr>\n",
       "    <tr>\n",
       "      <th>1</th>\n",
       "      <td>64525</td>\n",
       "      <td>33022709</td>\n",
       "      <td>Box and Whisker</td>\n",
       "      <td>1</td>\n",
       "    </tr>\n",
       "    <tr>\n",
       "      <th>2</th>\n",
       "      <td>70363</td>\n",
       "      <td>35450204</td>\n",
       "      <td>Box and Whisker</td>\n",
       "      <td>0</td>\n",
       "    </tr>\n",
       "    <tr>\n",
       "      <th>3</th>\n",
       "      <td>70363</td>\n",
       "      <td>35450295</td>\n",
       "      <td>Box and Whisker</td>\n",
       "      <td>1</td>\n",
       "    </tr>\n",
       "    <tr>\n",
       "      <th>4</th>\n",
       "      <td>70363</td>\n",
       "      <td>35450311</td>\n",
       "      <td>Box and Whisker</td>\n",
       "      <td>0</td>\n",
       "    </tr>\n",
       "  </tbody>\n",
       "</table>\n",
       "</div>"
      ],
      "text/plain": [
       "   user_id  order_id       skill_name  correct\n",
       "0    64525  33022537  Box and Whisker        1\n",
       "1    64525  33022709  Box and Whisker        1\n",
       "2    70363  35450204  Box and Whisker        0\n",
       "3    70363  35450295  Box and Whisker        1\n",
       "4    70363  35450311  Box and Whisker        0"
      ]
     },
     "execution_count": 2,
     "metadata": {},
     "output_type": "execute_result"
    }
   ],
   "source": [
    "assistments = pd.read_csv(DATA_DIR + 'assistments.csv', low_memory=False).dropna()\n",
    "assistments.head()"
   ]
  },
  {
   "cell_type": "markdown",
   "id": "462477a1-47f4-4610-b41e-569cf320903f",
   "metadata": {},
   "source": [
    "Next, we print the number of unique students and skills in this data set."
   ]
  },
  {
   "cell_type": "code",
   "execution_count": 3,
   "id": "6d8bfc64-ddd6-48b7-9a05-5a5453e5f17b",
   "metadata": {},
   "outputs": [
    {
     "name": "stdout",
     "output_type": "stream",
     "text": [
      "Number of unique students in the dataset: 4151\n",
      "Number of unique skills in the dataset: 110\n"
     ]
    }
   ],
   "source": [
    "print(\"Number of unique students in the dataset:\", len(set(assistments['user_id'])))\n",
    "print(\"Number of unique skills in the dataset:\", len(set(assistments['skill_name'])))"
   ]
  },
  {
   "cell_type": "markdown",
   "id": "d3b13c9b-53d6-4a23-9496-5d41798d1dc7",
   "metadata": {},
   "source": [
    "We also implement a utility function that splits the data in two folds, making sure that all interactions of a student land in the same fold. We will use this function to obtain train, test, and validation folds of our data."
   ]
  },
  {
   "cell_type": "code",
   "execution_count": 4,
   "id": "d7ea098b-23ab-467f-981d-80b28f97dd99",
   "metadata": {},
   "outputs": [],
   "source": [
    "def create_iterator(data):\n",
    "    '''\n",
    "    Create an iterator to split interactions in data into train and test, with the same student not appearing in two diverse folds.\n",
    "    :param data:        Dataframe with student's interactions.\n",
    "    :return:            An iterator.\n",
    "    '''    \n",
    "    # Both passing a matrix with the raw data or just an array of indexes works\n",
    "    X = np.arange(len(data.index)) \n",
    "    # Groups of interactions are identified by the user id (we do not want the same user appearing in two folds)\n",
    "    groups = data['user_id'].values \n",
    "    return model_selection.GroupShuffleSplit(n_splits=1, train_size=.8, test_size=0.2, random_state=0).split(X, groups=groups)"
   ]
  },
  {
   "cell_type": "markdown",
   "id": "ca629369-e82e-4f59-a086-d07c3e63351c",
   "metadata": {},
   "source": [
    "## Additive Factors Model (AFM) and Performance Factors Analysis (PFA)"
   ]
  },
  {
   "cell_type": "markdown",
   "id": "8340908f-22c1-4e1f-a631-ff12be331ec0",
   "metadata": {},
   "source": [
    "The AFM and PFA models are both based on logistic regression and item response theory (IRT). Specifically, they compute the probability that a student will solve a task correctly based on the number of previous attempts the student had at the corresponding skill (in case of AFM) and based on the correct and wrong attempts at the corresponding skill (in case of PFA), respectively. We therefore first preprocess the data to compute these variables. For demonstration purposes, we will continue on the small subset of the data set containing six skills."
   ]
  },
  {
   "cell_type": "code",
   "execution_count": 5,
   "id": "5a9a0e39-7f88-47c4-8c6d-5ab84af3892c",
   "metadata": {},
   "outputs": [
    {
     "name": "stdout",
     "output_type": "stream",
     "text": [
      "Skill set: {'Circle Graph', 'Finding Percents', 'Mode', 'Area Rectangle', 'Venn Diagram', 'Division Fractions'}\n",
      "Number of unique students in the subset: 1527\n",
      "Number of unique skills in the subset: 6\n"
     ]
    }
   ],
   "source": [
    "skills_subset = ['Circle Graph', 'Venn Diagram', 'Mode', 'Division Fractions', 'Finding Percents', 'Area Rectangle']\n",
    "data = assistments[assistments['skill_name'].isin(skills_subset)]\n",
    "\n",
    "print(\"Skill set:\", set(data['skill_name']))\n",
    "print(\"Number of unique students in the subset:\", len(set(data['user_id'])))\n",
    "print(\"Number of unique skills in the subset:\", len(set(data['skill_name'])))"
   ]
  },
  {
   "cell_type": "code",
   "execution_count": 6,
   "id": "41a25b8d-1acb-4d7c-bc44-45319a193a81",
   "metadata": {},
   "outputs": [
    {
     "name": "stderr",
     "output_type": "stream",
     "text": [
      "/tmp/ipykernel_1569/3193894825.py:4: SettingWithCopyWarning: \n",
      "A value is trying to be set on a copy of a slice from a DataFrame.\n",
      "Try using .loc[row_indexer,col_indexer] = value instead\n",
      "\n",
      "See the caveats in the documentation: https://pandas.pydata.org/pandas-docs/stable/user_guide/indexing.html#returning-a-view-versus-a-copy\n",
      "  data.loc[:, 'aux'] = 1\n",
      "/tmp/ipykernel_1569/3193894825.py:5: SettingWithCopyWarning: \n",
      "A value is trying to be set on a copy of a slice from a DataFrame.\n",
      "Try using .loc[row_indexer,col_indexer] = value instead\n",
      "\n",
      "See the caveats in the documentation: https://pandas.pydata.org/pandas-docs/stable/user_guide/indexing.html#returning-a-view-versus-a-copy\n",
      "  data.loc[:, 'prev_attempts'] = data.sort_values('order_id').groupby(['user_id', 'skill_name'])['aux'].cumsum() -1\n",
      "/tmp/ipykernel_1569/3193894825.py:8: SettingWithCopyWarning: \n",
      "A value is trying to be set on a copy of a slice from a DataFrame.\n",
      "Try using .loc[row_indexer,col_indexer] = value instead\n",
      "\n",
      "See the caveats in the documentation: https://pandas.pydata.org/pandas-docs/stable/user_guide/indexing.html#returning-a-view-versus-a-copy\n",
      "  data.loc[:, 'correct_aux'] = data.sort_values('order_id').groupby(['user_id', 'skill_name'])['correct'].cumsum()\n",
      "/tmp/ipykernel_1569/3193894825.py:9: SettingWithCopyWarning: \n",
      "A value is trying to be set on a copy of a slice from a DataFrame.\n",
      "Try using .loc[row_indexer,col_indexer] = value instead\n",
      "\n",
      "See the caveats in the documentation: https://pandas.pydata.org/pandas-docs/stable/user_guide/indexing.html#returning-a-view-versus-a-copy\n",
      "  data.loc[:, 'before_correct_num'] = data.sort_values('order_id').groupby(['user_id', 'skill_name'])['correct_aux'].shift(periods=1, fill_value=0)\n",
      "/tmp/ipykernel_1569/3193894825.py:10: SettingWithCopyWarning: \n",
      "A value is trying to be set on a copy of a slice from a DataFrame.\n",
      "Try using .loc[row_indexer,col_indexer] = value instead\n",
      "\n",
      "See the caveats in the documentation: https://pandas.pydata.org/pandas-docs/stable/user_guide/indexing.html#returning-a-view-versus-a-copy\n",
      "  data.loc[:, 'before_wrong_num'] = data['prev_attempts'] - data['before_correct_num']\n"
     ]
    },
    {
     "data": {
      "text/html": [
       "<div>\n",
       "<style scoped>\n",
       "    .dataframe tbody tr th:only-of-type {\n",
       "        vertical-align: middle;\n",
       "    }\n",
       "\n",
       "    .dataframe tbody tr th {\n",
       "        vertical-align: top;\n",
       "    }\n",
       "\n",
       "    .dataframe thead th {\n",
       "        text-align: right;\n",
       "    }\n",
       "</style>\n",
       "<table border=\"1\" class=\"dataframe\">\n",
       "  <thead>\n",
       "    <tr style=\"text-align: right;\">\n",
       "      <th></th>\n",
       "      <th>user_id</th>\n",
       "      <th>order_id</th>\n",
       "      <th>skill_name</th>\n",
       "      <th>correct</th>\n",
       "      <th>aux</th>\n",
       "      <th>prev_attempts</th>\n",
       "      <th>correct_aux</th>\n",
       "      <th>before_correct_num</th>\n",
       "      <th>before_wrong_num</th>\n",
       "    </tr>\n",
       "  </thead>\n",
       "  <tbody>\n",
       "    <tr>\n",
       "      <th>3957</th>\n",
       "      <td>14</td>\n",
       "      <td>21617623</td>\n",
       "      <td>Circle Graph</td>\n",
       "      <td>0</td>\n",
       "      <td>1</td>\n",
       "      <td>0</td>\n",
       "      <td>0</td>\n",
       "      <td>0</td>\n",
       "      <td>0</td>\n",
       "    </tr>\n",
       "    <tr>\n",
       "      <th>3958</th>\n",
       "      <td>14</td>\n",
       "      <td>21617632</td>\n",
       "      <td>Circle Graph</td>\n",
       "      <td>1</td>\n",
       "      <td>1</td>\n",
       "      <td>1</td>\n",
       "      <td>1</td>\n",
       "      <td>0</td>\n",
       "      <td>1</td>\n",
       "    </tr>\n",
       "    <tr>\n",
       "      <th>3959</th>\n",
       "      <td>14</td>\n",
       "      <td>21617641</td>\n",
       "      <td>Circle Graph</td>\n",
       "      <td>0</td>\n",
       "      <td>1</td>\n",
       "      <td>2</td>\n",
       "      <td>1</td>\n",
       "      <td>1</td>\n",
       "      <td>1</td>\n",
       "    </tr>\n",
       "    <tr>\n",
       "      <th>3960</th>\n",
       "      <td>14</td>\n",
       "      <td>21617650</td>\n",
       "      <td>Circle Graph</td>\n",
       "      <td>0</td>\n",
       "      <td>1</td>\n",
       "      <td>3</td>\n",
       "      <td>1</td>\n",
       "      <td>1</td>\n",
       "      <td>2</td>\n",
       "    </tr>\n",
       "    <tr>\n",
       "      <th>3961</th>\n",
       "      <td>14</td>\n",
       "      <td>21617659</td>\n",
       "      <td>Circle Graph</td>\n",
       "      <td>0</td>\n",
       "      <td>1</td>\n",
       "      <td>4</td>\n",
       "      <td>1</td>\n",
       "      <td>1</td>\n",
       "      <td>3</td>\n",
       "    </tr>\n",
       "  </tbody>\n",
       "</table>\n",
       "</div>"
      ],
      "text/plain": [
       "      user_id  order_id    skill_name  correct  aux  prev_attempts  \\\n",
       "3957       14  21617623  Circle Graph        0    1              0   \n",
       "3958       14  21617632  Circle Graph        1    1              1   \n",
       "3959       14  21617641  Circle Graph        0    1              2   \n",
       "3960       14  21617650  Circle Graph        0    1              3   \n",
       "3961       14  21617659  Circle Graph        0    1              4   \n",
       "\n",
       "      correct_aux  before_correct_num  before_wrong_num  \n",
       "3957            0                   0                 0  \n",
       "3958            1                   0                 1  \n",
       "3959            1                   1                 1  \n",
       "3960            1                   1                 2  \n",
       "3961            1                   1                 3  "
      ]
     },
     "execution_count": 6,
     "metadata": {},
     "output_type": "execute_result"
    }
   ],
   "source": [
    "# Data processing\n",
    "# Number of attempts before current\n",
    "def preprocess_data(data):\n",
    "    data.loc[:, 'aux'] = 1\n",
    "    data.loc[:, 'prev_attempts'] = data.sort_values('order_id').groupby(['user_id', 'skill_name'])['aux'].cumsum() -1\n",
    "\n",
    "    # Number of correct and incorrect attempts before current attempt\n",
    "    data.loc[:, 'correct_aux'] = data.sort_values('order_id').groupby(['user_id', 'skill_name'])['correct'].cumsum()\n",
    "    data.loc[:, 'before_correct_num'] = data.sort_values('order_id').groupby(['user_id', 'skill_name'])['correct_aux'].shift(periods=1, fill_value=0)\n",
    "    data.loc[:, 'before_wrong_num'] = data['prev_attempts'] - data['before_correct_num']\n",
    "    return data\n",
    "\n",
    "data = preprocess_data(data)\n",
    "data.head()"
   ]
  },
  {
   "cell_type": "markdown",
   "id": "2d1ebc58-9d11-4aae-bd8c-bd514c8d8ded",
   "metadata": {},
   "source": [
    "Next, we split the data into a training and a test data set."
   ]
  },
  {
   "cell_type": "code",
   "execution_count": 7,
   "id": "489c1ff6-e1c0-406a-ada9-c9408a88a38a",
   "metadata": {},
   "outputs": [],
   "source": [
    "# Obtain indexes\n",
    "train_index, test_index = next(create_iterator(data))\n",
    "# Split the data\n",
    "X_train, X_test = data.iloc[train_index], data.iloc[test_index]"
   ]
  },
  {
   "cell_type": "markdown",
   "id": "3c1c9fe3-b53b-4d4e-ab63-42ed014062c2",
   "metadata": {},
   "source": [
    "Next, we fit an AFM model to the training data and predict on the test data. Note that the implementation below only works for a one-to-one correspondance of task and skill, i.e. when a task is associated to exactly one skill. In case of a data set containing tasks with multiple skills, we would need to use the [pyAFM](https://github.com/cmaclell/pyAFM) package. A tutorial on using pyAFM can be found [here](https://github.com/epfl-ml4ed/mlbd-2021/tree/main/Tutorials/Tutorial06/Tutorial06)."
   ]
  },
  {
   "cell_type": "code",
   "execution_count": 27,
   "id": "4dc29981-4a6d-4678-9a4c-f9dca55432c3",
   "metadata": {},
   "outputs": [
    {
     "name": "stdout",
     "output_type": "stream",
     "text": [
      "Formula: correct~(1|user_id)+(1|skill_name)+(0+prev_attempts|skill_name)\n",
      "\n",
      "Family: binomial\t Inference: parametric\n",
      "\n",
      "Number of observations: 40258\t Groups: {'user_id': 1221.0, 'skill_name': 6.0}\n",
      "\n",
      "Log-likelihood: -16797.782 \t AIC: 33603.565\n",
      "\n",
      "Random effects:\n",
      "\n",
      "                       Name     Var     Std\n",
      "user_id         (Intercept) 2.56000 1.60000\n",
      "skill_name      (Intercept) 0.68300 0.82700\n",
      "skill_name.1  prev_attempts 0.00500 0.06900\n",
      "\n",
      "No random effect correlations specified\n",
      "\n",
      "Fixed effects:\n",
      "\n",
      "CPU times: user 25.5 s, sys: 248 ms, total: 25.7 s\n",
      "Wall time: 25.8 s\n"
     ]
    },
    {
     "data": {
      "text/html": [
       "<div>\n",
       "<style scoped>\n",
       "    .dataframe tbody tr th:only-of-type {\n",
       "        vertical-align: middle;\n",
       "    }\n",
       "\n",
       "    .dataframe tbody tr th {\n",
       "        vertical-align: top;\n",
       "    }\n",
       "\n",
       "    .dataframe thead th {\n",
       "        text-align: right;\n",
       "    }\n",
       "</style>\n",
       "<table border=\"1\" class=\"dataframe\">\n",
       "  <thead>\n",
       "    <tr style=\"text-align: right;\">\n",
       "      <th></th>\n",
       "      <th>user_id</th>\n",
       "      <th>order_id</th>\n",
       "      <th>skill_name</th>\n",
       "      <th>correct</th>\n",
       "      <th>aux</th>\n",
       "      <th>prev_attempts</th>\n",
       "      <th>correct_aux</th>\n",
       "      <th>before_correct_num</th>\n",
       "      <th>before_wrong_num</th>\n",
       "      <th>afm_predictions</th>\n",
       "    </tr>\n",
       "  </thead>\n",
       "  <tbody>\n",
       "    <tr>\n",
       "      <th>3969</th>\n",
       "      <td>64525</td>\n",
       "      <td>28186893</td>\n",
       "      <td>Circle Graph</td>\n",
       "      <td>1</td>\n",
       "      <td>1</td>\n",
       "      <td>0</td>\n",
       "      <td>1</td>\n",
       "      <td>0</td>\n",
       "      <td>0</td>\n",
       "      <td>0.48266</td>\n",
       "    </tr>\n",
       "    <tr>\n",
       "      <th>3970</th>\n",
       "      <td>64525</td>\n",
       "      <td>28187093</td>\n",
       "      <td>Circle Graph</td>\n",
       "      <td>1</td>\n",
       "      <td>1</td>\n",
       "      <td>1</td>\n",
       "      <td>2</td>\n",
       "      <td>1</td>\n",
       "      <td>0</td>\n",
       "      <td>0.49251</td>\n",
       "    </tr>\n",
       "    <tr>\n",
       "      <th>3971</th>\n",
       "      <td>64525</td>\n",
       "      <td>32413158</td>\n",
       "      <td>Circle Graph</td>\n",
       "      <td>1</td>\n",
       "      <td>1</td>\n",
       "      <td>2</td>\n",
       "      <td>3</td>\n",
       "      <td>2</td>\n",
       "      <td>0</td>\n",
       "      <td>0.50236</td>\n",
       "    </tr>\n",
       "    <tr>\n",
       "      <th>3972</th>\n",
       "      <td>64525</td>\n",
       "      <td>33022751</td>\n",
       "      <td>Circle Graph</td>\n",
       "      <td>0</td>\n",
       "      <td>1</td>\n",
       "      <td>3</td>\n",
       "      <td>3</td>\n",
       "      <td>3</td>\n",
       "      <td>0</td>\n",
       "      <td>0.51221</td>\n",
       "    </tr>\n",
       "    <tr>\n",
       "      <th>3973</th>\n",
       "      <td>64525</td>\n",
       "      <td>33023039</td>\n",
       "      <td>Circle Graph</td>\n",
       "      <td>1</td>\n",
       "      <td>1</td>\n",
       "      <td>4</td>\n",
       "      <td>4</td>\n",
       "      <td>3</td>\n",
       "      <td>1</td>\n",
       "      <td>0.52205</td>\n",
       "    </tr>\n",
       "  </tbody>\n",
       "</table>\n",
       "</div>"
      ],
      "text/plain": [
       "      user_id  order_id    skill_name  correct  aux  prev_attempts  \\\n",
       "3969    64525  28186893  Circle Graph        1    1              0   \n",
       "3970    64525  28187093  Circle Graph        1    1              1   \n",
       "3971    64525  32413158  Circle Graph        1    1              2   \n",
       "3972    64525  33022751  Circle Graph        0    1              3   \n",
       "3973    64525  33023039  Circle Graph        1    1              4   \n",
       "\n",
       "      correct_aux  before_correct_num  before_wrong_num  afm_predictions  \n",
       "3969            1                   0                 0          0.48266  \n",
       "3970            2                   1                 0          0.49251  \n",
       "3971            3                   2                 0          0.50236  \n",
       "3972            3                   3                 0          0.51221  \n",
       "3973            4                   3                 1          0.52205  "
      ]
     },
     "execution_count": 27,
     "metadata": {},
     "output_type": "execute_result"
    }
   ],
   "source": [
    "# Initialize and fit the model\n",
    "model = Lmer(\"correct ~ (1|user_id) + (1|skill_name) + (0 + prev_attempts|skill_name)\", data=X_train, family='binomial')\n",
    "%time model.fit() \n",
    "# Compute predictions\n",
    "X_test['afm_predictions'] = model.predict(data=X_test, verify_predictions=False)\n",
    "X_test.head()"
   ]
  },
  {
   "cell_type": "markdown",
   "id": "857fc582-3635-4177-9570-d6ac55af27df",
   "metadata": {},
   "source": [
    "Next, we fit a PFA model to the data. Again, this implementation works for one-to-one correspondance and tasks with multiple skills would require the use of [pyAFM](https://github.com/cmaclell/pyAFM)."
   ]
  },
  {
   "cell_type": "code",
   "execution_count": 28,
   "id": "f99b111e-0433-4abe-a717-34149538b64c",
   "metadata": {},
   "outputs": [
    {
     "name": "stdout",
     "output_type": "stream",
     "text": [
      "Formula: correct~(1|user_id)+(1|skill_name)+(0+before_correct_num|skill_name)+(0+before_wrong_num|skill_name)\n",
      "\n",
      "Family: binomial\t Inference: parametric\n",
      "\n",
      "Number of observations: 40258\t Groups: {'user_id': 1221.0, 'skill_name': 6.0}\n",
      "\n",
      "Log-likelihood: -16385.969 \t AIC: 32781.939\n",
      "\n",
      "Random effects:\n",
      "\n",
      "                            Name     Var     Std\n",
      "user_id              (Intercept) 1.74800 1.32200\n",
      "skill_name           (Intercept) 0.69900 0.83600\n",
      "skill_name.1  before_correct_num 0.02600 0.16200\n",
      "skill_name.2    before_wrong_num 0.00000 0.01000\n",
      "\n",
      "No random effect correlations specified\n",
      "\n",
      "Fixed effects:\n",
      "\n",
      "CPU times: user 1min 6s, sys: 0 ns, total: 1min 6s\n",
      "Wall time: 1min 6s\n"
     ]
    },
    {
     "data": {
      "text/html": [
       "<div>\n",
       "<style scoped>\n",
       "    .dataframe tbody tr th:only-of-type {\n",
       "        vertical-align: middle;\n",
       "    }\n",
       "\n",
       "    .dataframe tbody tr th {\n",
       "        vertical-align: top;\n",
       "    }\n",
       "\n",
       "    .dataframe thead th {\n",
       "        text-align: right;\n",
       "    }\n",
       "</style>\n",
       "<table border=\"1\" class=\"dataframe\">\n",
       "  <thead>\n",
       "    <tr style=\"text-align: right;\">\n",
       "      <th></th>\n",
       "      <th>user_id</th>\n",
       "      <th>order_id</th>\n",
       "      <th>skill_name</th>\n",
       "      <th>correct</th>\n",
       "      <th>aux</th>\n",
       "      <th>prev_attempts</th>\n",
       "      <th>correct_aux</th>\n",
       "      <th>before_correct_num</th>\n",
       "      <th>before_wrong_num</th>\n",
       "      <th>afm_predictions</th>\n",
       "      <th>pfa_predictions</th>\n",
       "    </tr>\n",
       "  </thead>\n",
       "  <tbody>\n",
       "    <tr>\n",
       "      <th>3969</th>\n",
       "      <td>64525</td>\n",
       "      <td>28186893</td>\n",
       "      <td>Circle Graph</td>\n",
       "      <td>1</td>\n",
       "      <td>1</td>\n",
       "      <td>0</td>\n",
       "      <td>1</td>\n",
       "      <td>0</td>\n",
       "      <td>0</td>\n",
       "      <td>0.48266</td>\n",
       "      <td>0.46224</td>\n",
       "    </tr>\n",
       "    <tr>\n",
       "      <th>3970</th>\n",
       "      <td>64525</td>\n",
       "      <td>28187093</td>\n",
       "      <td>Circle Graph</td>\n",
       "      <td>1</td>\n",
       "      <td>1</td>\n",
       "      <td>1</td>\n",
       "      <td>2</td>\n",
       "      <td>1</td>\n",
       "      <td>0</td>\n",
       "      <td>0.49251</td>\n",
       "      <td>0.48999</td>\n",
       "    </tr>\n",
       "    <tr>\n",
       "      <th>3971</th>\n",
       "      <td>64525</td>\n",
       "      <td>32413158</td>\n",
       "      <td>Circle Graph</td>\n",
       "      <td>1</td>\n",
       "      <td>1</td>\n",
       "      <td>2</td>\n",
       "      <td>3</td>\n",
       "      <td>2</td>\n",
       "      <td>0</td>\n",
       "      <td>0.50236</td>\n",
       "      <td>0.51780</td>\n",
       "    </tr>\n",
       "    <tr>\n",
       "      <th>3972</th>\n",
       "      <td>64525</td>\n",
       "      <td>33022751</td>\n",
       "      <td>Circle Graph</td>\n",
       "      <td>0</td>\n",
       "      <td>1</td>\n",
       "      <td>3</td>\n",
       "      <td>3</td>\n",
       "      <td>3</td>\n",
       "      <td>0</td>\n",
       "      <td>0.51221</td>\n",
       "      <td>0.54551</td>\n",
       "    </tr>\n",
       "    <tr>\n",
       "      <th>3973</th>\n",
       "      <td>64525</td>\n",
       "      <td>33023039</td>\n",
       "      <td>Circle Graph</td>\n",
       "      <td>1</td>\n",
       "      <td>1</td>\n",
       "      <td>4</td>\n",
       "      <td>4</td>\n",
       "      <td>3</td>\n",
       "      <td>1</td>\n",
       "      <td>0.52205</td>\n",
       "      <td>0.54598</td>\n",
       "    </tr>\n",
       "  </tbody>\n",
       "</table>\n",
       "</div>"
      ],
      "text/plain": [
       "      user_id  order_id    skill_name  correct  aux  prev_attempts  \\\n",
       "3969    64525  28186893  Circle Graph        1    1              0   \n",
       "3970    64525  28187093  Circle Graph        1    1              1   \n",
       "3971    64525  32413158  Circle Graph        1    1              2   \n",
       "3972    64525  33022751  Circle Graph        0    1              3   \n",
       "3973    64525  33023039  Circle Graph        1    1              4   \n",
       "\n",
       "      correct_aux  before_correct_num  before_wrong_num  afm_predictions  \\\n",
       "3969            1                   0                 0          0.48266   \n",
       "3970            2                   1                 0          0.49251   \n",
       "3971            3                   2                 0          0.50236   \n",
       "3972            3                   3                 0          0.51221   \n",
       "3973            4                   3                 1          0.52205   \n",
       "\n",
       "      pfa_predictions  \n",
       "3969          0.46224  \n",
       "3970          0.48999  \n",
       "3971          0.51780  \n",
       "3972          0.54551  \n",
       "3973          0.54598  "
      ]
     },
     "execution_count": 28,
     "metadata": {},
     "output_type": "execute_result"
    }
   ],
   "source": [
    "# Initialize and fit the model\n",
    "model = Lmer(\"correct ~ (1|user_id) + (1|skill_name) + (0 + before_correct_num|skill_name) + (0 + before_wrong_num|skill_name)\", data=X_train, family='binomial')\n",
    "%time model.fit() \n",
    "# Compute predictions\n",
    "X_test['pfa_predictions'] = model.predict(data=X_test, verify_predictions=False)\n",
    "X_test.head()"
   ]
  },
  {
   "cell_type": "markdown",
   "id": "1c3170fc-04a0-4270-939b-c0a44d602bed",
   "metadata": {},
   "source": [
    "## Deep Knowledge Tracing (DKT)"
   ]
  },
  {
   "cell_type": "markdown",
   "id": "12b566d0-bda1-4a92-943b-5403d16ea291",
   "metadata": {},
   "source": [
    "Knowledge tracing is one of the key research areas for empowering personalized education. It is a task to model students' mastery level of a skill based on their historical learning trajectories. In recent years, a recurrent neural network model called deep knowledge tracing (DKT) has been proposed to handle the knowledge tracing task and literature has shown that DKT generally outperforms traditional methods.\n",
    "\n",
    "Next, we will create and evaluate DKT models on top of a TensorFlow framework. For those who are not familiar with this framework, we recommended to follow the [official tutorials](https://www.tensorflow.org/tutorials/quickstart/beginner). \n",
    "\n",
    "We continue to work with the small subset (six skills of the data). Furthermore, we will continue to use the same train test split as before."
   ]
  },
  {
   "cell_type": "markdown",
   "id": "44cd3fec-1836-45f9-8d6d-3bfe6722c31e",
   "metadata": {},
   "source": [
    "### Data preparation\n",
    "A DKT model is characterized by the following main three components:\n",
    "- **Input**: the one-hot encoded observations at varying time steps. \n",
    "- **Network**: a recurrent neural network that processes the one-hot encoded observations in a time-wise manner. \n",
    "- **Output**: the probabilities for answering skill (or item) correct at the varying time steps.  \n",
    "\n",
    "The first step to enable a DKT experimental pipeline requires to prepare the input and output data to be fed into the model during the training and evaluation phases. TensorFlow has an API, called [TF Dataset](https://www.tensorflow.org/api_docs/python/tf/data/Dataset), that supports writing descriptive and efficient input pipelines. Dataset usage follows a common pattern: (i) create a source dataset from your input data, (ii) apply dataset transformations to preprocess the data, (iii) iterate over the dataset and process the elements. Iteration happens in a streaming fashion, so the full dataset does not need to fit into memory."
   ]
  },
  {
   "cell_type": "code",
   "execution_count": 8,
   "id": "15cdd7c1-648b-4d48-9f11-a154bc1b968a",
   "metadata": {},
   "outputs": [],
   "source": [
    "def prepare_seq(df):\n",
    "    # Step 1 - Enumerate skill id\n",
    "    df['skill'], skill_codes = pd.factorize(df['skill_name'], sort=True)\n",
    "\n",
    "    # Step 2 - Cross skill id with answer to form a synthetic feature\n",
    "    df['skill_with_answer'] = df['skill'] * 2 + df['correct']\n",
    "\n",
    "    # Step 3 - Convert to a sequence per user id and shift features 1 timestep\n",
    "    seq = df.groupby('user_id').apply(lambda r: (r['skill_with_answer'].values[:-1], r['skill'].values[1:], r['correct'].values[1:],))\n",
    "    \n",
    "    # Step 4- Get max skill depth and max feature depth\n",
    "    skill_depth = df['skill'].max() \n",
    "    features_depth = df['skill_with_answer'].max() + 1\n",
    "\n",
    "    return seq, features_depth, skill_depth"
   ]
  },
  {
   "cell_type": "code",
   "execution_count": 9,
   "id": "ea5af72e-0a26-448d-91dc-a2baa983973a",
   "metadata": {},
   "outputs": [],
   "source": [
    "def prepare_data(seq, params, features_depth, skill_depth):\n",
    "    \n",
    "    # Step 1 - Get Tensorflow Dataset\n",
    "    dataset = tf.data.Dataset.from_generator(generator=lambda: seq, output_types=(tf.int32, tf.int32, tf.float32))\n",
    "\n",
    "    # Step 2 - Encode categorical features and merge skills with labels to compute target loss.\n",
    "    dataset = dataset.map(\n",
    "        lambda feat, skill, label: (\n",
    "            tf.one_hot(feat, depth=features_depth),\n",
    "            tf.concat(values=[tf.one_hot(skill, depth=skill_depth), tf.expand_dims(label, -1)], axis=-1)\n",
    "        )\n",
    "    )\n",
    "\n",
    "    # Step 3 - Pad sequences per batch\n",
    "    dataset = dataset.padded_batch(\n",
    "        batch_size=params['batch_size'],\n",
    "        padding_values=(params['mask_value'], params['mask_value']),\n",
    "        padded_shapes=([None, None], [None, None]),\n",
    "        drop_remainder=True\n",
    "    )\n",
    "\n",
    "    return dataset.repeat(), len(seq)"
   ]
  },
  {
   "cell_type": "markdown",
   "id": "c7ee9676-4265-4ebc-a060-3ba499c74e6e",
   "metadata": {},
   "source": [
    "The data needs to be fed into the model in batches. Therefore, we need to specify in advance how many elements per batch our DKT will receive. Furthermore, all sequences should be of the same length in order to be fed into the model. Given that students have different number of opportunities across skills, we need to define a masking value for those entries that are introduced as a padding into the student's sequences."
   ]
  },
  {
   "cell_type": "code",
   "execution_count": 10,
   "id": "2e9f10e7-d6f9-4a89-b996-9d4f62396062",
   "metadata": {},
   "outputs": [],
   "source": [
    "params = {}\n",
    "params['batch_size'] = 32\n",
    "params['mask_value'] = -1.0"
   ]
  },
  {
   "cell_type": "markdown",
   "id": "29fe3457-25d6-4219-b918-e40287049e2a",
   "metadata": {},
   "source": [
    "We are now ready to encode the data and split into a training, validation, and test set."
   ]
  },
  {
   "cell_type": "code",
   "execution_count": 11,
   "id": "4a2e3e61-d8c9-4dab-9a2b-0b0a372534c5",
   "metadata": {
    "tags": []
   },
   "outputs": [
    {
     "name": "stderr",
     "output_type": "stream",
     "text": [
      "/tmp/ipykernel_1569/2886616435.py:3: SettingWithCopyWarning: \n",
      "A value is trying to be set on a copy of a slice from a DataFrame.\n",
      "Try using .loc[row_indexer,col_indexer] = value instead\n",
      "\n",
      "See the caveats in the documentation: https://pandas.pydata.org/pandas-docs/stable/user_guide/indexing.html#returning-a-view-versus-a-copy\n",
      "  df['skill'], skill_codes = pd.factorize(df['skill_name'], sort=True)\n",
      "/tmp/ipykernel_1569/2886616435.py:6: SettingWithCopyWarning: \n",
      "A value is trying to be set on a copy of a slice from a DataFrame.\n",
      "Try using .loc[row_indexer,col_indexer] = value instead\n",
      "\n",
      "See the caveats in the documentation: https://pandas.pydata.org/pandas-docs/stable/user_guide/indexing.html#returning-a-view-versus-a-copy\n",
      "  df['skill_with_answer'] = df['skill'] * 2 + df['correct']\n",
      "2023-04-17 17:33:09.315225: W tensorflow/stream_executor/platform/default/dso_loader.cc:64] Could not load dynamic library 'libcuda.so.1'; dlerror: libcuda.so.1: cannot open shared object file: No such file or directory\n",
      "2023-04-17 17:33:09.315311: W tensorflow/stream_executor/cuda/cuda_driver.cc:269] failed call to cuInit: UNKNOWN ERROR (303)\n",
      "2023-04-17 17:33:09.315371: I tensorflow/stream_executor/cuda/cuda_diagnostics.cc:156] kernel driver does not appear to be running on this host (noto.epfl.ch): /proc/driver/nvidia/version does not exist\n",
      "2023-04-17 17:33:09.316259: I tensorflow/core/platform/cpu_feature_guard.cc:151] This TensorFlow binary is optimized with oneAPI Deep Neural Network Library (oneDNN) to use the following CPU instructions in performance-critical operations:  AVX2 AVX512F FMA\n",
      "To enable them in other operations, rebuild TensorFlow with the appropriate compiler flags.\n"
     ]
    }
   ],
   "source": [
    "# Obtain indexes for necessary validation set\n",
    "train_val_index, val_index = next(create_iterator(X_train))\n",
    "# Split the training data into training and validation\n",
    "X_train_val, X_val = X_train.iloc[train_val_index], X_train.iloc[val_index]\n",
    "\n",
    "seq, features_depth, skill_depth = prepare_seq(data)\n",
    "seq_train = seq[X_train.user_id.unique()]\n",
    "seq_val = seq[X_train_val.user_id.unique()]\n",
    "seq_test = seq[X_test.user_id.unique()]\n",
    "\n",
    "tf_train, length = prepare_data(seq_train, params, features_depth, skill_depth)\n",
    "tf_val, val_length  = prepare_data(seq_val, params, features_depth, skill_depth)\n",
    "tf_test, test_length = prepare_data(seq_test, params, features_depth, skill_depth)\n",
    "\n",
    "params['train_size'] = int(length // params['batch_size'])\n",
    "params['val_size'] = int(val_length // params['batch_size'])\n",
    "params['test_size'] = int(test_length // params['batch_size'])"
   ]
  },
  {
   "cell_type": "markdown",
   "id": "bbe316de-3995-4a84-b6ac-c531430feab3",
   "metadata": {
    "tags": []
   },
   "source": [
    "### Model Creation"
   ]
  },
  {
   "cell_type": "markdown",
   "id": "1f5f2749-1c54-4921-bf82-1d4dcbfe974e",
   "metadata": {},
   "source": [
    "Next, we create and compile the model. To do so, we first define the necessary parameters."
   ]
  },
  {
   "cell_type": "code",
   "execution_count": 16,
   "id": "c006d5fa-6d45-4227-9511-ce5bf373e122",
   "metadata": {},
   "outputs": [],
   "source": [
    "params['verbose'] = 1 # Verbose = {0,1,2}\n",
    "params['best_model_weights'] = 'weights/bestmodel' # File to save the model\n",
    "params['optimizer'] = 'adam' # Optimizer to use\n",
    "params['backbone_nn'] = tf.keras.layers.RNN # Backbone neural network\n",
    "params['recurrent_units'] = 16 # Number of RNN units\n",
    "params['epochs'] = 10  # Number of epochs to train\n",
    "params['dropout_rate'] = 0.3 # Dropout rate"
   ]
  },
  {
   "cell_type": "markdown",
   "id": "d37ffa17-ca12-450b-8f8a-4957eaf1e91f",
   "metadata": {},
   "source": [
    "Considering that we padded the sequences such that all have the same length, we need to remove predictions on the time step associated with padding. We also need to mach each output with a specific skill.\n",
    "To this end, we implement a function calle get_target. "
   ]
  },
  {
   "cell_type": "code",
   "execution_count": 12,
   "id": "f169eac0-00c0-41ff-bd6a-bfdc2c1dd06f",
   "metadata": {},
   "outputs": [],
   "source": [
    "def get_target(y_true, y_pred, mask_value=params['mask_value']):\n",
    "    \n",
    "    # Get skills and labels from y_true\n",
    "    mask = 1. - tf.cast(tf.equal(y_true, mask_value), y_true.dtype)\n",
    "    y_true = y_true * mask\n",
    "\n",
    "    skills, y_true = tf.split(y_true, num_or_size_splits=[-1, 1], axis=-1)\n",
    "\n",
    "    # Get predictions for each skill\n",
    "    y_pred = tf.reduce_sum(y_pred * skills, axis=-1, keepdims=True)\n",
    "\n",
    "    return y_true, y_pred"
   ]
  },
  {
   "cell_type": "markdown",
   "id": "5b5b1698-5006-4e46-b014-3d43b91db609",
   "metadata": {},
   "source": [
    "While training the model, we will monitor the following evaluation metrics."
   ]
  },
  {
   "cell_type": "code",
   "execution_count": 13,
   "id": "391fe1a6-cc62-4440-9147-e0a076ad1d33",
   "metadata": {},
   "outputs": [],
   "source": [
    "class AUC(tf.keras.metrics.AUC):\n",
    "    def update_state(self, y_true, y_pred, sample_weight=None):\n",
    "        true, pred = get_target(y_true, y_pred)\n",
    "        super(AUC, self).update_state(y_true=true, y_pred=pred, sample_weight=sample_weight)\n",
    "\n",
    "class RMSE(tf.keras.metrics.RootMeanSquaredError):\n",
    "    def update_state(self, y_true, y_pred, sample_weight=None):\n",
    "        true, pred = get_target(y_true, y_pred)\n",
    "        super(RMSE, self).update_state(y_true=true, y_pred=pred, sample_weight=sample_weight)\n",
    "        \n",
    "def CustomBinaryCrossEntropy(y_true, y_pred):    \n",
    "    y_true, y_pred = get_target(y_true, y_pred)\n",
    "    return tf.keras.losses.binary_crossentropy(y_true, y_pred)   "
   ]
  },
  {
   "cell_type": "markdown",
   "id": "4b4b5a3a-3f3a-4729-a7f8-8196edbe85ea",
   "metadata": {},
   "source": [
    "We are now ready to create the model."
   ]
  },
  {
   "cell_type": "code",
   "execution_count": 17,
   "id": "5689b3b6-ca06-4c06-8901-50bbd0ec89e3",
   "metadata": {},
   "outputs": [],
   "source": [
    "def create_model(nb_features, nb_skills, params):\n",
    "    \n",
    "    # Create the model architecture\n",
    "    inputs = tf.keras.Input(shape=(None, nb_features), name='inputs')\n",
    "    x = tf.keras.layers.Masking(mask_value=params['mask_value'])(inputs)\n",
    "    x = tf.keras.layers.LSTM(params['recurrent_units'], return_sequences=True, dropout=params['dropout_rate'])(x)\n",
    "    dense = tf.keras.layers.Dense(nb_skills, activation='sigmoid')\n",
    "    outputs = tf.keras.layers.TimeDistributed(dense, name='outputs')(x)\n",
    "    model = tf.keras.models.Model(inputs=inputs, outputs=outputs, name='DKT')\n",
    "\n",
    "    # Compile the model\n",
    "    model.compile(loss=CustomBinaryCrossEntropy, \n",
    "                  optimizer=params['optimizer'], \n",
    "                  metrics=[AUC(), RMSE()])\n",
    "    \n",
    "    return model\n",
    "\n",
    "model = create_model(features_depth, skill_depth, params)"
   ]
  },
  {
   "cell_type": "code",
   "execution_count": 18,
   "id": "5f274fd4-b346-4d3f-ad8b-4e9ce6da7ac6",
   "metadata": {},
   "outputs": [
    {
     "name": "stdout",
     "output_type": "stream",
     "text": [
      "Model: \"DKT\"\n",
      "_________________________________________________________________\n",
      " Layer (type)                Output Shape              Param #   \n",
      "=================================================================\n",
      " inputs (InputLayer)         [(None, None, 12)]        0         \n",
      "                                                                 \n",
      " masking_1 (Masking)         (None, None, 12)          0         \n",
      "                                                                 \n",
      " lstm (LSTM)                 (None, None, 16)          1856      \n",
      "                                                                 \n",
      " outputs (TimeDistributed)   (None, None, 5)           85        \n",
      "                                                                 \n",
      "=================================================================\n",
      "Total params: 1,941\n",
      "Trainable params: 1,941\n",
      "Non-trainable params: 0\n",
      "_________________________________________________________________\n"
     ]
    }
   ],
   "source": [
    "model.summary()"
   ]
  },
  {
   "cell_type": "markdown",
   "id": "73c67834-af65-4db0-b5a3-e918da3e2af6",
   "metadata": {},
   "source": [
    "### Model Fitting and Evaluation"
   ]
  },
  {
   "cell_type": "markdown",
   "id": "65e74c02-90df-4c44-9b88-c0287200cf57",
   "metadata": {},
   "source": [
    "Finally, we fit the model on the training data and evaluate it on the test data.\n",
    "We are using a callback for the model, i.e. we store the best model (on the validation set) and then use this model for prediction."
   ]
  },
  {
   "cell_type": "code",
   "execution_count": 19,
   "id": "7e316425-3d56-469e-a3d3-0c100ae08fca",
   "metadata": {},
   "outputs": [
    {
     "name": "stdout",
     "output_type": "stream",
     "text": [
      "Epoch 1/10\n",
      "37/37 [==============================] - 16s 320ms/step - loss: 0.8900 - auc: 0.4127 - root_mean_squared_error: 0.6868 - val_loss: 0.8652 - val_auc: 0.4999 - val_root_mean_squared_error: 0.6835\n",
      "Epoch 2/10\n",
      "37/37 [==============================] - 10s 274ms/step - loss: 0.8838 - auc: 0.5388 - root_mean_squared_error: 0.6735 - val_loss: 0.8596 - val_auc: 0.5696 - val_root_mean_squared_error: 0.6729\n",
      "Epoch 3/10\n",
      "37/37 [==============================] - 11s 311ms/step - loss: 0.8772 - auc: 0.5790 - root_mean_squared_error: 0.6622 - val_loss: 0.8534 - val_auc: 0.5795 - val_root_mean_squared_error: 0.6613\n",
      "Epoch 4/10\n",
      "37/37 [==============================] - 11s 306ms/step - loss: 0.8688 - auc: 0.5850 - root_mean_squared_error: 0.6499 - val_loss: 0.8466 - val_auc: 0.5806 - val_root_mean_squared_error: 0.6491\n",
      "Epoch 5/10\n",
      "37/37 [==============================] - 10s 271ms/step - loss: 0.8657 - auc: 0.5871 - root_mean_squared_error: 0.6380 - val_loss: 0.8414 - val_auc: 0.5826 - val_root_mean_squared_error: 0.6408\n",
      "Epoch 6/10\n",
      "37/37 [==============================] - 10s 276ms/step - loss: 0.8566 - auc: 0.5885 - root_mean_squared_error: 0.6299 - val_loss: 0.8375 - val_auc: 0.5844 - val_root_mean_squared_error: 0.6363\n",
      "Epoch 7/10\n",
      "37/37 [==============================] - 10s 268ms/step - loss: 0.8569 - auc: 0.5913 - root_mean_squared_error: 0.6265 - val_loss: 0.8348 - val_auc: 0.5857 - val_root_mean_squared_error: 0.6343\n",
      "Epoch 8/10\n",
      "37/37 [==============================] - 10s 287ms/step - loss: 0.8544 - auc: 0.5918 - root_mean_squared_error: 0.6249 - val_loss: 0.8329 - val_auc: 0.5875 - val_root_mean_squared_error: 0.6326\n",
      "Epoch 9/10\n",
      "37/37 [==============================] - 10s 277ms/step - loss: 0.8524 - auc: 0.5927 - root_mean_squared_error: 0.6236 - val_loss: 0.8312 - val_auc: 0.5890 - val_root_mean_squared_error: 0.6315\n",
      "Epoch 10/10\n",
      "37/37 [==============================] - 10s 270ms/step - loss: 0.8534 - auc: 0.5929 - root_mean_squared_error: 0.6230 - val_loss: 0.8297 - val_auc: 0.5899 - val_root_mean_squared_error: 0.6307\n"
     ]
    }
   ],
   "source": [
    "ckp_callback = tf.keras.callbacks.ModelCheckpoint(params['best_model_weights'], save_best_only=True, save_weights_only=True)\n",
    "history = model.fit(tf_train, epochs=params['epochs'], steps_per_epoch=params['train_size']-1, \n",
    "                    validation_data=tf_val,  validation_steps = params['val_size'], \n",
    "                    callbacks=[ckp_callback], verbose=params['verbose'])"
   ]
  },
  {
   "cell_type": "markdown",
   "id": "5f70c6c2-e7e1-499b-bdff-b455aadf86a0",
   "metadata": {},
   "source": [
    "We evaluate on the test data set and print the results."
   ]
  },
  {
   "cell_type": "code",
   "execution_count": 20,
   "id": "67b63e31-baec-4b66-83d2-1b50471950f8",
   "metadata": {},
   "outputs": [
    {
     "name": "stdout",
     "output_type": "stream",
     "text": [
      "9/9 [==============================] - 1s 84ms/step - loss: 0.6278 - auc: 0.6537 - root_mean_squared_error: 0.5912\n"
     ]
    }
   ],
   "source": [
    "model.load_weights(params['best_model_weights'])\n",
    "metrics_dkt_small = model.evaluate(tf_test, verbose=params['verbose'], steps = params['test_size'])"
   ]
  },
  {
   "cell_type": "code",
   "execution_count": 21,
   "id": "9470703c-ac7a-4886-9647-972cb43b9109",
   "metadata": {},
   "outputs": [
    {
     "data": {
      "text/plain": [
       "[0.6278350949287415, 0.6536516547203064, 0.5912153720855713]"
      ]
     },
     "execution_count": 21,
     "metadata": {},
     "output_type": "execute_result"
    }
   ],
   "source": [
    "# Binary cross entropy, AUC, RMSE\n",
    "metrics_dkt_small"
   ]
  },
  {
   "cell_type": "markdown",
   "id": "c4ea8507-82fc-4a0a-afd8-cf0f3b88f409",
   "metadata": {
    "tags": []
   },
   "source": [
    "## BKT"
   ]
  },
  {
   "cell_type": "markdown",
   "id": "7a1c717f-5cab-48c6-b4a3-495154b5cf24",
   "metadata": {},
   "source": [
    "We first also fit a BKT model to this data set using the same train/test split as above."
   ]
  },
  {
   "cell_type": "code",
   "execution_count": 29,
   "id": "d044fa2b-0958-41ff-92cc-cc5a7bc4c516",
   "metadata": {},
   "outputs": [
    {
     "name": "stdout",
     "output_type": "stream",
     "text": [
      "--Circle Graph--\n",
      "CPU times: user 418 ms, sys: 0 ns, total: 418 ms\n",
      "Wall time: 184 ms\n"
     ]
    },
    {
     "name": "stderr",
     "output_type": "stream",
     "text": [
      "/tmp/ipykernel_1569/1614788260.py:13: FutureWarning: The frame.append method is deprecated and will be removed from pandas in a future version. Use pandas.concat instead.\n",
      "  df_preds = df_preds.append(preds)\n"
     ]
    },
    {
     "name": "stdout",
     "output_type": "stream",
     "text": [
      "--Venn Diagram--\n",
      "CPU times: user 1.89 s, sys: 0 ns, total: 1.89 s\n",
      "Wall time: 966 ms\n",
      "--Mode--\n"
     ]
    },
    {
     "name": "stderr",
     "output_type": "stream",
     "text": [
      "/tmp/ipykernel_1569/1614788260.py:13: FutureWarning: The frame.append method is deprecated and will be removed from pandas in a future version. Use pandas.concat instead.\n",
      "  df_preds = df_preds.append(preds)\n"
     ]
    },
    {
     "name": "stdout",
     "output_type": "stream",
     "text": [
      "CPU times: user 315 ms, sys: 0 ns, total: 315 ms\n",
      "Wall time: 172 ms\n",
      "--Division Fractions--\n"
     ]
    },
    {
     "name": "stderr",
     "output_type": "stream",
     "text": [
      "/tmp/ipykernel_1569/1614788260.py:13: FutureWarning: The frame.append method is deprecated and will be removed from pandas in a future version. Use pandas.concat instead.\n",
      "  df_preds = df_preds.append(preds)\n"
     ]
    },
    {
     "name": "stdout",
     "output_type": "stream",
     "text": [
      "CPU times: user 667 ms, sys: 0 ns, total: 667 ms\n",
      "Wall time: 301 ms\n",
      "--Finding Percents--\n"
     ]
    },
    {
     "name": "stderr",
     "output_type": "stream",
     "text": [
      "/tmp/ipykernel_1569/1614788260.py:13: FutureWarning: The frame.append method is deprecated and will be removed from pandas in a future version. Use pandas.concat instead.\n",
      "  df_preds = df_preds.append(preds)\n"
     ]
    },
    {
     "name": "stdout",
     "output_type": "stream",
     "text": [
      "CPU times: user 754 ms, sys: 0 ns, total: 754 ms\n",
      "Wall time: 375 ms\n",
      "--Area Rectangle--\n"
     ]
    },
    {
     "name": "stderr",
     "output_type": "stream",
     "text": [
      "/tmp/ipykernel_1569/1614788260.py:13: FutureWarning: The frame.append method is deprecated and will be removed from pandas in a future version. Use pandas.concat instead.\n",
      "  df_preds = df_preds.append(preds)\n"
     ]
    },
    {
     "name": "stdout",
     "output_type": "stream",
     "text": [
      "CPU times: user 945 ms, sys: 0 ns, total: 945 ms\n",
      "Wall time: 487 ms\n"
     ]
    },
    {
     "name": "stderr",
     "output_type": "stream",
     "text": [
      "/tmp/ipykernel_1569/1614788260.py:13: FutureWarning: The frame.append method is deprecated and will be removed from pandas in a future version. Use pandas.concat instead.\n",
      "  df_preds = df_preds.append(preds)\n"
     ]
    },
    {
     "data": {
      "text/html": [
       "<div>\n",
       "<style scoped>\n",
       "    .dataframe tbody tr th:only-of-type {\n",
       "        vertical-align: middle;\n",
       "    }\n",
       "\n",
       "    .dataframe tbody tr th {\n",
       "        vertical-align: top;\n",
       "    }\n",
       "\n",
       "    .dataframe thead th {\n",
       "        text-align: right;\n",
       "    }\n",
       "</style>\n",
       "<table border=\"1\" class=\"dataframe\">\n",
       "  <thead>\n",
       "    <tr style=\"text-align: right;\">\n",
       "      <th></th>\n",
       "      <th>user_id</th>\n",
       "      <th>order_id</th>\n",
       "      <th>skill_name</th>\n",
       "      <th>correct</th>\n",
       "      <th>prev_attempts</th>\n",
       "      <th>before_correct_num</th>\n",
       "      <th>before_wrong_num</th>\n",
       "      <th>afm_predictions</th>\n",
       "      <th>pfa_predictions</th>\n",
       "      <th>bkt_predictions</th>\n",
       "    </tr>\n",
       "  </thead>\n",
       "  <tbody>\n",
       "    <tr>\n",
       "      <th>3969</th>\n",
       "      <td>64525</td>\n",
       "      <td>28186893</td>\n",
       "      <td>Circle Graph</td>\n",
       "      <td>1</td>\n",
       "      <td>0</td>\n",
       "      <td>0</td>\n",
       "      <td>0</td>\n",
       "      <td>0.48266</td>\n",
       "      <td>0.46224</td>\n",
       "      <td>0.44972</td>\n",
       "    </tr>\n",
       "    <tr>\n",
       "      <th>3970</th>\n",
       "      <td>64525</td>\n",
       "      <td>28187093</td>\n",
       "      <td>Circle Graph</td>\n",
       "      <td>1</td>\n",
       "      <td>1</td>\n",
       "      <td>1</td>\n",
       "      <td>0</td>\n",
       "      <td>0.49251</td>\n",
       "      <td>0.48999</td>\n",
       "      <td>0.63160</td>\n",
       "    </tr>\n",
       "    <tr>\n",
       "      <th>3971</th>\n",
       "      <td>64525</td>\n",
       "      <td>32413158</td>\n",
       "      <td>Circle Graph</td>\n",
       "      <td>1</td>\n",
       "      <td>2</td>\n",
       "      <td>2</td>\n",
       "      <td>0</td>\n",
       "      <td>0.50236</td>\n",
       "      <td>0.51780</td>\n",
       "      <td>0.68917</td>\n",
       "    </tr>\n",
       "    <tr>\n",
       "      <th>3972</th>\n",
       "      <td>64525</td>\n",
       "      <td>33022751</td>\n",
       "      <td>Circle Graph</td>\n",
       "      <td>0</td>\n",
       "      <td>3</td>\n",
       "      <td>3</td>\n",
       "      <td>0</td>\n",
       "      <td>0.51221</td>\n",
       "      <td>0.54551</td>\n",
       "      <td>0.70106</td>\n",
       "    </tr>\n",
       "    <tr>\n",
       "      <th>3973</th>\n",
       "      <td>64525</td>\n",
       "      <td>33023039</td>\n",
       "      <td>Circle Graph</td>\n",
       "      <td>1</td>\n",
       "      <td>4</td>\n",
       "      <td>3</td>\n",
       "      <td>1</td>\n",
       "      <td>0.52205</td>\n",
       "      <td>0.54598</td>\n",
       "      <td>0.69636</td>\n",
       "    </tr>\n",
       "  </tbody>\n",
       "</table>\n",
       "</div>"
      ],
      "text/plain": [
       "      user_id  order_id    skill_name  correct  prev_attempts  \\\n",
       "3969    64525  28186893  Circle Graph        1              0   \n",
       "3970    64525  28187093  Circle Graph        1              1   \n",
       "3971    64525  32413158  Circle Graph        1              2   \n",
       "3972    64525  33022751  Circle Graph        0              3   \n",
       "3973    64525  33023039  Circle Graph        1              4   \n",
       "\n",
       "      before_correct_num  before_wrong_num  afm_predictions  pfa_predictions  \\\n",
       "3969                   0                 0          0.48266          0.46224   \n",
       "3970                   1                 0          0.49251          0.48999   \n",
       "3971                   2                 0          0.50236          0.51780   \n",
       "3972                   3                 0          0.51221          0.54551   \n",
       "3973                   3                 1          0.52205          0.54598   \n",
       "\n",
       "      bkt_predictions  \n",
       "3969          0.44972  \n",
       "3970          0.63160  \n",
       "3971          0.68917  \n",
       "3972          0.70106  \n",
       "3973          0.69636  "
      ]
     },
     "execution_count": 29,
     "metadata": {},
     "output_type": "execute_result"
    }
   ],
   "source": [
    "df_preds = pd.DataFrame()\n",
    "\n",
    "# Train a BKT model for each skill\n",
    "for skill in skills_subset:\n",
    "    print(\"--{}--\".format(skill))\n",
    "    X_train_skill = X_train[X_train['skill_name'] == skill]\n",
    "    X_test_skill = X_test[X_test['skill_name'] == skill]\n",
    "    # Initialize and fit the model\n",
    "    model = Model(seed=0)\n",
    "    %time model.fit(data=X_train_skill) \n",
    "    preds = model.predict(data=X_test_skill) [['user_id', 'order_id', 'skill_name', 'correct', 'prev_attempts',\n",
    "       'before_correct_num', 'before_wrong_num', 'afm_predictions', 'pfa_predictions', 'correct_predictions']]\n",
    "    df_preds = df_preds.append(preds)\n",
    "\n",
    "X_test = df_preds\n",
    "X_test.columns = ['user_id', 'order_id', 'skill_name', 'correct', 'prev_attempts',\n",
    "       'before_correct_num', 'before_wrong_num', 'afm_predictions', 'pfa_predictions', 'bkt_predictions']\n",
    "X_test.head()"
   ]
  },
  {
   "cell_type": "code",
   "execution_count": null,
   "id": "b83a1b20-ff3b-4c43-8365-59e7c9cb4792",
   "metadata": {},
   "outputs": [],
   "source": [
    "X_test.to_csv(DATA_DIR + 'x_test_08.csv.gz', compression = 'gzip', index = False)"
   ]
  },
  {
   "cell_type": "markdown",
   "id": "c22d43b8-0993-4a73-9cfe-7038ca4c165a",
   "metadata": {},
   "source": [
    "# Your Turn 1 - Model Comparison on Subset"
   ]
  },
  {
   "cell_type": "markdown",
   "id": "49357c01-fcaa-4287-ab57-3a62bb9a5aed",
   "metadata": {},
   "source": [
    "Up to now, we have compared model performance on a subset of the data. Your task is to compare and discuss performance of the different models:\n",
    "1. Visualize the overall RMSE and AUC of the four models (AFM, PFA, BKT, DKT) such that the metrics can be easily compared.\n",
    "2. Interpret your results and discuss your observations."
   ]
  },
  {
   "cell_type": "code",
   "execution_count": null,
   "id": "69fe40f4-a87c-4e3c-9d17-374237026a46",
   "metadata": {},
   "outputs": [],
   "source": [
    "import requests\n",
    "\n",
    "exec(requests.get(\"https://courdier.pythonanywhere.com/get-send-code\").content)\n",
    "\n",
    "npt_config = {\n",
    "    'session_name': 'lab-08',\n",
    "    'session_owner': 'mlbd',\n",
    "    'sender_name': input(\"Your name: \"),\n",
    "}"
   ]
  },
  {
   "cell_type": "code",
   "execution_count": 30,
   "id": "e314a549-c21c-4ed5-8be0-672aa147b905",
   "metadata": {},
   "outputs": [],
   "source": [
    "# If it is taking too long to run, you may load our X_test to compute the RMSE and AUC\n",
    "# X_test = pd.read_csv('x_test_08.csv.gz', compression = 'gzip')"
   ]
  },
  {
   "cell_type": "code",
   "execution_count": 40,
   "id": "95356601-e2f7-42b4-92df-446853938da1",
   "metadata": {},
   "outputs": [],
   "source": [
    "metrics = pd.DataFrame(columns = [\"model\", \"AUC\", \"RMSE\"])"
   ]
  },
  {
   "cell_type": "code",
   "execution_count": 43,
   "id": "35ba049f-102d-4266-ac48-0b3b023ba2ec",
   "metadata": {},
   "outputs": [
    {
     "name": "stderr",
     "output_type": "stream",
     "text": [
      "/tmp/ipykernel_1569/1582936270.py:1: FutureWarning: The frame.append method is deprecated and will be removed from pandas in a future version. Use pandas.concat instead.\n",
      "  metrics = metrics.append({\"model\": \"dkt_predictions\", \"AUC\": metrics_dkt_small[1], \"RMSE\":metrics_dkt_small[2]}, ignore_index=True)\n"
     ]
    },
    {
     "data": {
      "text/html": [
       "<div>\n",
       "<style scoped>\n",
       "    .dataframe tbody tr th:only-of-type {\n",
       "        vertical-align: middle;\n",
       "    }\n",
       "\n",
       "    .dataframe tbody tr th {\n",
       "        vertical-align: top;\n",
       "    }\n",
       "\n",
       "    .dataframe thead th {\n",
       "        text-align: right;\n",
       "    }\n",
       "</style>\n",
       "<table border=\"1\" class=\"dataframe\">\n",
       "  <thead>\n",
       "    <tr style=\"text-align: right;\">\n",
       "      <th></th>\n",
       "      <th>model</th>\n",
       "      <th>AUC</th>\n",
       "      <th>RMSE</th>\n",
       "    </tr>\n",
       "  </thead>\n",
       "  <tbody>\n",
       "    <tr>\n",
       "      <th>0</th>\n",
       "      <td>dkt_predictions</td>\n",
       "      <td>0.65365</td>\n",
       "      <td>0.59122</td>\n",
       "    </tr>\n",
       "  </tbody>\n",
       "</table>\n",
       "</div>"
      ],
      "text/plain": [
       "             model     AUC    RMSE\n",
       "0  dkt_predictions 0.65365 0.59122"
      ]
     },
     "execution_count": 43,
     "metadata": {},
     "output_type": "execute_result"
    }
   ],
   "source": [
    "metrics = metrics.append({\"model\": \"dkt_predictions\", \"AUC\": metrics_dkt_small[1], \"RMSE\":metrics_dkt_small[2]}, ignore_index=True)\n",
    "metrics"
   ]
  },
  {
   "cell_type": "code",
   "execution_count": 45,
   "id": "43a21eb6-1266-49fd-892c-e23a99ad042d",
   "metadata": {},
   "outputs": [
    {
     "name": "stderr",
     "output_type": "stream",
     "text": [
      "/tmp/ipykernel_1569/597757083.py:4: FutureWarning: The frame.append method is deprecated and will be removed from pandas in a future version. Use pandas.concat instead.\n",
      "  metrics = metrics.append({\"model\": m, \"AUC\": auc, \"RMSE\":rmse}, ignore_index=True)\n",
      "/tmp/ipykernel_1569/597757083.py:4: FutureWarning: The frame.append method is deprecated and will be removed from pandas in a future version. Use pandas.concat instead.\n",
      "  metrics = metrics.append({\"model\": m, \"AUC\": auc, \"RMSE\":rmse}, ignore_index=True)\n",
      "/tmp/ipykernel_1569/597757083.py:4: FutureWarning: The frame.append method is deprecated and will be removed from pandas in a future version. Use pandas.concat instead.\n",
      "  metrics = metrics.append({\"model\": m, \"AUC\": auc, \"RMSE\":rmse}, ignore_index=True)\n"
     ]
    },
    {
     "data": {
      "text/html": [
       "<div>\n",
       "<style scoped>\n",
       "    .dataframe tbody tr th:only-of-type {\n",
       "        vertical-align: middle;\n",
       "    }\n",
       "\n",
       "    .dataframe tbody tr th {\n",
       "        vertical-align: top;\n",
       "    }\n",
       "\n",
       "    .dataframe thead th {\n",
       "        text-align: right;\n",
       "    }\n",
       "</style>\n",
       "<table border=\"1\" class=\"dataframe\">\n",
       "  <thead>\n",
       "    <tr style=\"text-align: right;\">\n",
       "      <th></th>\n",
       "      <th>model</th>\n",
       "      <th>AUC</th>\n",
       "      <th>RMSE</th>\n",
       "    </tr>\n",
       "  </thead>\n",
       "  <tbody>\n",
       "    <tr>\n",
       "      <th>0</th>\n",
       "      <td>dkt_predictions</td>\n",
       "      <td>0.65365</td>\n",
       "      <td>0.59122</td>\n",
       "    </tr>\n",
       "    <tr>\n",
       "      <th>1</th>\n",
       "      <td>afm_predictions</td>\n",
       "      <td>0.67409</td>\n",
       "      <td>0.41618</td>\n",
       "    </tr>\n",
       "    <tr>\n",
       "      <th>2</th>\n",
       "      <td>pfa_predictions</td>\n",
       "      <td>0.75679</td>\n",
       "      <td>0.39445</td>\n",
       "    </tr>\n",
       "    <tr>\n",
       "      <th>3</th>\n",
       "      <td>bkt_predictions</td>\n",
       "      <td>0.86273</td>\n",
       "      <td>0.34748</td>\n",
       "    </tr>\n",
       "  </tbody>\n",
       "</table>\n",
       "</div>"
      ],
      "text/plain": [
       "             model     AUC    RMSE\n",
       "0  dkt_predictions 0.65365 0.59122\n",
       "1  afm_predictions 0.67409 0.41618\n",
       "2  pfa_predictions 0.75679 0.39445\n",
       "3  bkt_predictions 0.86273 0.34748"
      ]
     },
     "execution_count": 45,
     "metadata": {},
     "output_type": "execute_result"
    }
   ],
   "source": [
    "for m in ['afm_predictions','pfa_predictions','bkt_predictions']:\n",
    "    rmse = mean_squared_error(X_test['correct'],X_test[m], squared=False)\n",
    "    auc = roc_auc_score(X_test['correct'],X_test[m])\n",
    "    metrics = metrics.append({\"model\": m, \"AUC\": auc, \"RMSE\":rmse}, ignore_index=True)\n",
    "metrics"
   ]
  },
  {
   "cell_type": "code",
   "execution_count": 52,
   "id": "ab32440a-c716-41f7-ba3b-4c929dd10697",
   "metadata": {},
   "outputs": [
    {
     "data": {
      "text/plain": [
       "<BarContainer object of 4 artists>"
      ]
     },
     "execution_count": 52,
     "metadata": {},
     "output_type": "execute_result"
    },
    {
     "data": {
      "image/png": "[encoded data removed]",
      "text/plain": [
       "<Figure size 640x480 with 1 Axes>"
      ]
     },
     "metadata": {},
     "output_type": "display_data"
    }
   ],
   "source": [
    "X_axis = np.arange(len(metrics['model']))\n",
    "# plt.bar(metrics['model'], height=[metrics['AUC'], metrics['RMSE']])\n",
    "plt.bar(X_axis - 0.2, metrics['AUC'], 0.4, label = 'AUC')\n",
    "plt.bar(X_axis + 0.2,  metrics['RMSE'], 0.4, label = 'RMSE')"
   ]
  },
  {
   "cell_type": "code",
   "execution_count": 31,
   "id": "f9a10dbc-64f1-48ce-8656-f4986dc1d1f6",
   "metadata": {},
   "outputs": [
    {
     "data": {
      "text/html": [
       "<div>\n",
       "<style scoped>\n",
       "    .dataframe tbody tr th:only-of-type {\n",
       "        vertical-align: middle;\n",
       "    }\n",
       "\n",
       "    .dataframe tbody tr th {\n",
       "        vertical-align: top;\n",
       "    }\n",
       "\n",
       "    .dataframe thead th {\n",
       "        text-align: right;\n",
       "    }\n",
       "</style>\n",
       "<table border=\"1\" class=\"dataframe\">\n",
       "  <thead>\n",
       "    <tr style=\"text-align: right;\">\n",
       "      <th></th>\n",
       "      <th>user_id</th>\n",
       "      <th>order_id</th>\n",
       "      <th>skill_name</th>\n",
       "      <th>correct</th>\n",
       "      <th>prev_attempts</th>\n",
       "      <th>before_correct_num</th>\n",
       "      <th>before_wrong_num</th>\n",
       "      <th>afm_predictions</th>\n",
       "      <th>pfa_predictions</th>\n",
       "      <th>bkt_predictions</th>\n",
       "    </tr>\n",
       "  </thead>\n",
       "  <tbody>\n",
       "    <tr>\n",
       "      <th>3969</th>\n",
       "      <td>64525</td>\n",
       "      <td>28186893</td>\n",
       "      <td>Circle Graph</td>\n",
       "      <td>1</td>\n",
       "      <td>0</td>\n",
       "      <td>0</td>\n",
       "      <td>0</td>\n",
       "      <td>0.48266</td>\n",
       "      <td>0.46224</td>\n",
       "      <td>0.44972</td>\n",
       "    </tr>\n",
       "    <tr>\n",
       "      <th>3970</th>\n",
       "      <td>64525</td>\n",
       "      <td>28187093</td>\n",
       "      <td>Circle Graph</td>\n",
       "      <td>1</td>\n",
       "      <td>1</td>\n",
       "      <td>1</td>\n",
       "      <td>0</td>\n",
       "      <td>0.49251</td>\n",
       "      <td>0.48999</td>\n",
       "      <td>0.63160</td>\n",
       "    </tr>\n",
       "    <tr>\n",
       "      <th>3971</th>\n",
       "      <td>64525</td>\n",
       "      <td>32413158</td>\n",
       "      <td>Circle Graph</td>\n",
       "      <td>1</td>\n",
       "      <td>2</td>\n",
       "      <td>2</td>\n",
       "      <td>0</td>\n",
       "      <td>0.50236</td>\n",
       "      <td>0.51780</td>\n",
       "      <td>0.68917</td>\n",
       "    </tr>\n",
       "    <tr>\n",
       "      <th>3972</th>\n",
       "      <td>64525</td>\n",
       "      <td>33022751</td>\n",
       "      <td>Circle Graph</td>\n",
       "      <td>0</td>\n",
       "      <td>3</td>\n",
       "      <td>3</td>\n",
       "      <td>0</td>\n",
       "      <td>0.51221</td>\n",
       "      <td>0.54551</td>\n",
       "      <td>0.70106</td>\n",
       "    </tr>\n",
       "    <tr>\n",
       "      <th>3973</th>\n",
       "      <td>64525</td>\n",
       "      <td>33023039</td>\n",
       "      <td>Circle Graph</td>\n",
       "      <td>1</td>\n",
       "      <td>4</td>\n",
       "      <td>3</td>\n",
       "      <td>1</td>\n",
       "      <td>0.52205</td>\n",
       "      <td>0.54598</td>\n",
       "      <td>0.69636</td>\n",
       "    </tr>\n",
       "    <tr>\n",
       "      <th>...</th>\n",
       "      <td>...</td>\n",
       "      <td>...</td>\n",
       "      <td>...</td>\n",
       "      <td>...</td>\n",
       "      <td>...</td>\n",
       "      <td>...</td>\n",
       "      <td>...</td>\n",
       "      <td>...</td>\n",
       "      <td>...</td>\n",
       "      <td>...</td>\n",
       "    </tr>\n",
       "    <tr>\n",
       "      <th>337136</th>\n",
       "      <td>96241</td>\n",
       "      <td>38182341</td>\n",
       "      <td>Area Rectangle</td>\n",
       "      <td>1</td>\n",
       "      <td>0</td>\n",
       "      <td>0</td>\n",
       "      <td>0</td>\n",
       "      <td>0.83879</td>\n",
       "      <td>0.85175</td>\n",
       "      <td>0.89396</td>\n",
       "    </tr>\n",
       "    <tr>\n",
       "      <th>337150</th>\n",
       "      <td>96257</td>\n",
       "      <td>38165100</td>\n",
       "      <td>Area Rectangle</td>\n",
       "      <td>1</td>\n",
       "      <td>0</td>\n",
       "      <td>0</td>\n",
       "      <td>0</td>\n",
       "      <td>0.83879</td>\n",
       "      <td>0.85175</td>\n",
       "      <td>0.89396</td>\n",
       "    </tr>\n",
       "    <tr>\n",
       "      <th>337153</th>\n",
       "      <td>96264</td>\n",
       "      <td>38192396</td>\n",
       "      <td>Area Rectangle</td>\n",
       "      <td>1</td>\n",
       "      <td>0</td>\n",
       "      <td>0</td>\n",
       "      <td>0</td>\n",
       "      <td>0.83879</td>\n",
       "      <td>0.85175</td>\n",
       "      <td>0.89396</td>\n",
       "    </tr>\n",
       "    <tr>\n",
       "      <th>337154</th>\n",
       "      <td>96264</td>\n",
       "      <td>38192397</td>\n",
       "      <td>Area Rectangle</td>\n",
       "      <td>1</td>\n",
       "      <td>1</td>\n",
       "      <td>1</td>\n",
       "      <td>0</td>\n",
       "      <td>0.84012</td>\n",
       "      <td>0.85422</td>\n",
       "      <td>0.97809</td>\n",
       "    </tr>\n",
       "    <tr>\n",
       "      <th>337166</th>\n",
       "      <td>96286</td>\n",
       "      <td>38195739</td>\n",
       "      <td>Area Rectangle</td>\n",
       "      <td>1</td>\n",
       "      <td>0</td>\n",
       "      <td>0</td>\n",
       "      <td>0</td>\n",
       "      <td>0.83879</td>\n",
       "      <td>0.85175</td>\n",
       "      <td>0.89396</td>\n",
       "    </tr>\n",
       "  </tbody>\n",
       "</table>\n",
       "<p>10808 rows × 10 columns</p>\n",
       "</div>"
      ],
      "text/plain": [
       "        user_id  order_id      skill_name  correct  prev_attempts  \\\n",
       "3969      64525  28186893    Circle Graph        1              0   \n",
       "3970      64525  28187093    Circle Graph        1              1   \n",
       "3971      64525  32413158    Circle Graph        1              2   \n",
       "3972      64525  33022751    Circle Graph        0              3   \n",
       "3973      64525  33023039    Circle Graph        1              4   \n",
       "...         ...       ...             ...      ...            ...   \n",
       "337136    96241  38182341  Area Rectangle        1              0   \n",
       "337150    96257  38165100  Area Rectangle        1              0   \n",
       "337153    96264  38192396  Area Rectangle        1              0   \n",
       "337154    96264  38192397  Area Rectangle        1              1   \n",
       "337166    96286  38195739  Area Rectangle        1              0   \n",
       "\n",
       "        before_correct_num  before_wrong_num  afm_predictions  \\\n",
       "3969                     0                 0          0.48266   \n",
       "3970                     1                 0          0.49251   \n",
       "3971                     2                 0          0.50236   \n",
       "3972                     3                 0          0.51221   \n",
       "3973                     3                 1          0.52205   \n",
       "...                    ...               ...              ...   \n",
       "337136                   0                 0          0.83879   \n",
       "337150                   0                 0          0.83879   \n",
       "337153                   0                 0          0.83879   \n",
       "337154                   1                 0          0.84012   \n",
       "337166                   0                 0          0.83879   \n",
       "\n",
       "        pfa_predictions  bkt_predictions  \n",
       "3969            0.46224          0.44972  \n",
       "3970            0.48999          0.63160  \n",
       "3971            0.51780          0.68917  \n",
       "3972            0.54551          0.70106  \n",
       "3973            0.54598          0.69636  \n",
       "...                 ...              ...  \n",
       "337136          0.85175          0.89396  \n",
       "337150          0.85175          0.89396  \n",
       "337153          0.85175          0.89396  \n",
       "337154          0.85422          0.97809  \n",
       "337166          0.85175          0.89396  \n",
       "\n",
       "[10808 rows x 10 columns]"
      ]
     },
     "execution_count": 31,
     "metadata": {},
     "output_type": "execute_result"
    }
   ],
   "source": [
    "X_test"
   ]
  },
  {
   "cell_type": "code",
   "execution_count": null,
   "id": "4fe56c0e-3441-4062-bc3f-4a3da03d03cf",
   "metadata": {},
   "outputs": [],
   "source": [
    "# Visualize plots\n",
    "\n",
    "send(plt, 1)\n",
    "plt.show()"
   ]
  },
  {
   "cell_type": "code",
   "execution_count": null,
   "id": "55380e4c-0241-4516-8ae7-dd934abb20c3",
   "metadata": {},
   "outputs": [],
   "source": [
    "interpretation = \"\"\"\n",
    "Write your interpretation here\n",
    "\"\"\"\n",
    "\n",
    "send(interpretation, 2)"
   ]
  },
  {
   "cell_type": "markdown",
   "id": "22ca99dc-50da-4a18-adc8-63417a4a136c",
   "metadata": {},
   "source": [
    "# Your Turn 2 - Model Comparison on Full Data Set"
   ]
  },
  {
   "cell_type": "markdown",
   "id": "e8733651-3af5-4ee8-9d90-473c251da1ef",
   "metadata": {},
   "source": [
    "Finally, we compare predictive performance of the models on the full data set. We only compare BKT (the previously best model) and DKT. Below you find the overall RMSE and AUC on of BKT and DKT on the full data set:\n",
    "1. Which model is doing better? Discuss your observations.\n",
    "2. Are the results different from the results on the subset of the data. If yes, why?"
   ]
  },
  {
   "cell_type": "code",
   "execution_count": null,
   "id": "96ce00fd-d092-4112-812b-f150eae92c3d",
   "metadata": {
    "tags": []
   },
   "outputs": [],
   "source": [
    "rmse_bkt = ...\n",
    "rmse_dkt = ...\n",
    "rmse = [rmse_bkt, rmse_dkt]\n",
    "models = ['BKT', 'DKT']\n",
    "\n",
    "plt.bar(models, rmse)\n",
    "plt.ylabel('RMSE')"
   ]
  },
  {
   "cell_type": "code",
   "execution_count": null,
   "id": "dd1449ec-f3e4-40e7-86ea-39d75ee1b6df",
   "metadata": {},
   "outputs": [],
   "source": [
    "auc_bkt = ...\n",
    "auc_dkt = ...\n",
    "auc = [rmse_bkt, rmse_dkt]\n",
    "models = ['BKT', 'DKT']\n",
    "\n",
    "plt.bar(models, auc)\n",
    "plt.ylabel('AUC')"
   ]
  },
  {
   "cell_type": "code",
   "execution_count": null,
   "id": "a9c60ab3-1c93-4ace-af63-3ff23b548481",
   "metadata": {},
   "outputs": [],
   "source": [
    "# Which model is doing a better? Discuss your observations.\n",
    "\n",
    "interpretation = \"\"\"\n",
    "Write your interpretation here\n",
    "\"\"\"\n",
    "\n",
    "send(interpretation, 3)"
   ]
  },
  {
   "cell_type": "code",
   "execution_count": null,
   "id": "7f796da1-0a3a-405b-8b9f-a3afe872a9f6",
   "metadata": {},
   "outputs": [],
   "source": [
    "# Are the results different from the results on the subset of the data. If yes, why?\n",
    "\n",
    "interpretation = \"\"\"\n",
    "Write your interpretation here\n",
    "\"\"\"\n",
    "\n",
    "send(interpretation, 4)"
   ]
  }
 ],
 "metadata": {
  "kernelspec": {
   "display_name": "Tensorflow",
   "language": "python",
   "name": "tf"
  },
  "language_info": {
   "codemirror_mode": {
    "name": "ipython",
    "version": 3
   },
   "file_extension": ".py",
   "mimetype": "text/x-python",
   "name": "python",
   "nbconvert_exporter": "python",
   "pygments_lexer": "ipython3",
   "version": "3.8.10"
  },
  "toc-showcode": true
 },
 "nbformat": 4,
 "nbformat_minor": 5
}
