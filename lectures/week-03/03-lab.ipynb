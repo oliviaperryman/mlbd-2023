{
 "cells": [
  {
   "cell_type": "markdown",
   "id": "bbbe04b0-b989-4b3e-95cd-a9d35bc4a5d9",
   "metadata": {},
   "source": [
    "# Lab 03 - Extended Exercises on Mixed Models"
   ]
  },
  {
   "cell_type": "markdown",
   "id": "f914e7f2",
   "metadata": {},
   "source": [
    "We recommend using Noto for this lecture tutorial, where we've already installed the dependencies of the pymer4 package and statsmodels."
   ]
  },
  {
   "cell_type": "code",
   "execution_count": 1,
   "id": "9ab80eb4",
   "metadata": {},
   "outputs": [],
   "source": [
    "import pandas as pd\n",
    "import matplotlib.pyplot as plt\n",
    "import numpy as np\n",
    "import seaborn as sns\n",
    "\n",
    "# Import the linear regression model class\n",
    "from pymer4.models import Lm\n",
    "\n",
    "# Import the lmm model class\n",
    "from pymer4.models import Lmer\n",
    "\n",
    "# Import Gaussian modeling\n",
    "import statsmodels.formula.api as smf\n",
    "\n",
    "import scipy as sp\n",
    "from scipy import stats\n",
    "\n",
    "# Data directory\n",
    "DATA_DIR = \"./../../data/\""
   ]
  },
  {
   "cell_type": "code",
   "execution_count": 2,
   "id": "f7257661-07c7-4541-b3f2-e370dd89bbba",
   "metadata": {},
   "outputs": [
    {
     "name": "stdin",
     "output_type": "stream",
     "text": [
      "Your name:  Olivia\n"
     ]
    }
   ],
   "source": [
    "import requests\n",
    "\n",
    "exec(requests.get(\"https://courdier.pythonanywhere.com/get-send-code\").content)\n",
    "\n",
    "npt_config = {\n",
    "    'session_name': 'lab-03',\n",
    "    'session_owner': 'mlbd',\n",
    "    'sender_name': input(\"Your name: \"),\n",
    "}"
   ]
  },
  {
   "cell_type": "markdown",
   "id": "6bf244ff-3f20-4cd7-a7dd-345a29b6ce1f",
   "metadata": {},
   "source": [
    "## Introduction\n",
    "The data has already been cleaned and it comes from 810 students in 3 different groups in a course of 13 weeks.\n",
    "\n",
    "In this lab you will explore different models to explain the quiz grade. "
   ]
  },
  {
   "cell_type": "code",
   "execution_count": 3,
   "id": "05546575-7285-44ad-86fd-e258d36caea2",
   "metadata": {},
   "outputs": [
    {
     "data": {
      "text/html": [
       "<div>\n",
       "<style scoped>\n",
       "    .dataframe tbody tr th:only-of-type {\n",
       "        vertical-align: middle;\n",
       "    }\n",
       "\n",
       "    .dataframe tbody tr th {\n",
       "        vertical-align: top;\n",
       "    }\n",
       "\n",
       "    .dataframe thead th {\n",
       "        text-align: right;\n",
       "    }\n",
       "</style>\n",
       "<table border=\"1\" class=\"dataframe\">\n",
       "  <thead>\n",
       "    <tr style=\"text-align: right;\">\n",
       "      <th></th>\n",
       "      <th>student</th>\n",
       "      <th>week</th>\n",
       "      <th>studying_hours</th>\n",
       "      <th>group</th>\n",
       "      <th>quiz_grade</th>\n",
       "    </tr>\n",
       "  </thead>\n",
       "  <tbody>\n",
       "    <tr>\n",
       "      <th>0</th>\n",
       "      <td>0</td>\n",
       "      <td>0</td>\n",
       "      <td>39.9</td>\n",
       "      <td>3</td>\n",
       "      <td>6.1</td>\n",
       "    </tr>\n",
       "    <tr>\n",
       "      <th>1</th>\n",
       "      <td>0</td>\n",
       "      <td>1</td>\n",
       "      <td>32.4</td>\n",
       "      <td>3</td>\n",
       "      <td>7.0</td>\n",
       "    </tr>\n",
       "    <tr>\n",
       "      <th>2</th>\n",
       "      <td>0</td>\n",
       "      <td>2</td>\n",
       "      <td>17.5</td>\n",
       "      <td>3</td>\n",
       "      <td>6.9</td>\n",
       "    </tr>\n",
       "    <tr>\n",
       "      <th>3</th>\n",
       "      <td>0</td>\n",
       "      <td>3</td>\n",
       "      <td>16.0</td>\n",
       "      <td>3</td>\n",
       "      <td>7.0</td>\n",
       "    </tr>\n",
       "    <tr>\n",
       "      <th>4</th>\n",
       "      <td>0</td>\n",
       "      <td>4</td>\n",
       "      <td>15.9</td>\n",
       "      <td>3</td>\n",
       "      <td>7.2</td>\n",
       "    </tr>\n",
       "  </tbody>\n",
       "</table>\n",
       "</div>"
      ],
      "text/plain": [
       "   student  week  studying_hours  group  quiz_grade\n",
       "0        0     0            39.9      3         6.1\n",
       "1        0     1            32.4      3         7.0\n",
       "2        0     2            17.5      3         6.9\n",
       "3        0     3            16.0      3         7.0\n",
       "4        0     4            15.9      3         7.2"
      ]
     },
     "execution_count": 3,
     "metadata": {},
     "output_type": "execute_result"
    }
   ],
   "source": [
    "# Load data\n",
    "df= pd.read_csv(f'{DATA_DIR}grades_in_time.csv.gz')\n",
    "send(len(df),0)\n",
    "df.head()"
   ]
  },
  {
   "cell_type": "code",
   "execution_count": 4,
   "id": "1a0380fd-5578-46a7-bf68-e1aeac69b4e4",
   "metadata": {},
   "outputs": [
    {
     "data": {
      "text/html": [
       "<div>\n",
       "<style scoped>\n",
       "    .dataframe tbody tr th:only-of-type {\n",
       "        vertical-align: middle;\n",
       "    }\n",
       "\n",
       "    .dataframe tbody tr th {\n",
       "        vertical-align: top;\n",
       "    }\n",
       "\n",
       "    .dataframe thead th {\n",
       "        text-align: right;\n",
       "    }\n",
       "</style>\n",
       "<table border=\"1\" class=\"dataframe\">\n",
       "  <thead>\n",
       "    <tr style=\"text-align: right;\">\n",
       "      <th></th>\n",
       "      <th>student</th>\n",
       "      <th>week</th>\n",
       "      <th>studying_hours</th>\n",
       "      <th>group</th>\n",
       "      <th>quiz_grade</th>\n",
       "    </tr>\n",
       "  </thead>\n",
       "  <tbody>\n",
       "    <tr>\n",
       "      <th>count</th>\n",
       "      <td>810.000000</td>\n",
       "      <td>810.000000</td>\n",
       "      <td>810.000000</td>\n",
       "      <td>810.000000</td>\n",
       "      <td>810.000000</td>\n",
       "    </tr>\n",
       "    <tr>\n",
       "      <th>mean</th>\n",
       "      <td>14.500000</td>\n",
       "      <td>13.000000</td>\n",
       "      <td>10.050617</td>\n",
       "      <td>1.933333</td>\n",
       "      <td>6.931975</td>\n",
       "    </tr>\n",
       "    <tr>\n",
       "      <th>std</th>\n",
       "      <td>8.660789</td>\n",
       "      <td>7.793693</td>\n",
       "      <td>8.270041</td>\n",
       "      <td>0.772199</td>\n",
       "      <td>1.336888</td>\n",
       "    </tr>\n",
       "    <tr>\n",
       "      <th>min</th>\n",
       "      <td>0.000000</td>\n",
       "      <td>0.000000</td>\n",
       "      <td>1.000000</td>\n",
       "      <td>1.000000</td>\n",
       "      <td>1.200000</td>\n",
       "    </tr>\n",
       "    <tr>\n",
       "      <th>25%</th>\n",
       "      <td>7.000000</td>\n",
       "      <td>6.000000</td>\n",
       "      <td>5.700000</td>\n",
       "      <td>1.000000</td>\n",
       "      <td>6.400000</td>\n",
       "    </tr>\n",
       "    <tr>\n",
       "      <th>50%</th>\n",
       "      <td>14.500000</td>\n",
       "      <td>13.000000</td>\n",
       "      <td>7.800000</td>\n",
       "      <td>2.000000</td>\n",
       "      <td>7.200000</td>\n",
       "    </tr>\n",
       "    <tr>\n",
       "      <th>75%</th>\n",
       "      <td>22.000000</td>\n",
       "      <td>20.000000</td>\n",
       "      <td>11.100000</td>\n",
       "      <td>3.000000</td>\n",
       "      <td>7.800000</td>\n",
       "    </tr>\n",
       "    <tr>\n",
       "      <th>max</th>\n",
       "      <td>29.000000</td>\n",
       "      <td>26.000000</td>\n",
       "      <td>64.000000</td>\n",
       "      <td>3.000000</td>\n",
       "      <td>10.100000</td>\n",
       "    </tr>\n",
       "  </tbody>\n",
       "</table>\n",
       "</div>"
      ],
      "text/plain": [
       "          student        week  studying_hours       group  quiz_grade\n",
       "count  810.000000  810.000000      810.000000  810.000000  810.000000\n",
       "mean    14.500000   13.000000       10.050617    1.933333    6.931975\n",
       "std      8.660789    7.793693        8.270041    0.772199    1.336888\n",
       "min      0.000000    0.000000        1.000000    1.000000    1.200000\n",
       "25%      7.000000    6.000000        5.700000    1.000000    6.400000\n",
       "50%     14.500000   13.000000        7.800000    2.000000    7.200000\n",
       "75%     22.000000   20.000000       11.100000    3.000000    7.800000\n",
       "max     29.000000   26.000000       64.000000    3.000000   10.100000"
      ]
     },
     "execution_count": 4,
     "metadata": {},
     "output_type": "execute_result"
    }
   ],
   "source": [
    "df.describe(include='all')"
   ]
  },
  {
   "cell_type": "markdown",
   "id": "480bc2c2-fbb0-4424-b1fd-ee1d6566f670",
   "metadata": {},
   "source": [
    "# Task 1: Linear Model\n",
    "----------\n",
    "### 1.1 Preprocess the data to run a regression model to explain the effect of studying hours on quiz grade.  "
   ]
  },
  {
   "cell_type": "code",
   "execution_count": 7,
   "id": "6dbff52f-d168-4907-b6b1-d812d95c5ef0",
   "metadata": {},
   "outputs": [
    {
     "data": {
      "text/plain": [
       "student           0\n",
       "week              0\n",
       "studying_hours    0\n",
       "group             0\n",
       "quiz_grade        0\n",
       "dtype: int64"
      ]
     },
     "execution_count": 7,
     "metadata": {},
     "output_type": "execute_result"
    }
   ],
   "source": [
    "df.isna().sum()"
   ]
  },
  {
   "cell_type": "code",
   "execution_count": 12,
   "id": "eb1aa66b-4e78-4b78-bf02-332fef9c08f9",
   "metadata": {},
   "outputs": [
    {
     "data": {
      "text/html": [
       "<div>\n",
       "<style scoped>\n",
       "    .dataframe tbody tr th:only-of-type {\n",
       "        vertical-align: middle;\n",
       "    }\n",
       "\n",
       "    .dataframe tbody tr th {\n",
       "        vertical-align: top;\n",
       "    }\n",
       "\n",
       "    .dataframe thead th {\n",
       "        text-align: right;\n",
       "    }\n",
       "</style>\n",
       "<table border=\"1\" class=\"dataframe\">\n",
       "  <thead>\n",
       "    <tr style=\"text-align: right;\">\n",
       "      <th></th>\n",
       "      <th>student</th>\n",
       "      <th>week</th>\n",
       "      <th>studying_hours</th>\n",
       "      <th>group</th>\n",
       "      <th>quiz_grade</th>\n",
       "      <th>normalized_studying_hours</th>\n",
       "      <th>normalized_quiz_grade</th>\n",
       "    </tr>\n",
       "  </thead>\n",
       "  <tbody>\n",
       "    <tr>\n",
       "      <th>0</th>\n",
       "      <td>0</td>\n",
       "      <td>0</td>\n",
       "      <td>39.9</td>\n",
       "      <td>3</td>\n",
       "      <td>6.1</td>\n",
       "      <td>3.609339</td>\n",
       "      <td>-0.622322</td>\n",
       "    </tr>\n",
       "    <tr>\n",
       "      <th>1</th>\n",
       "      <td>0</td>\n",
       "      <td>1</td>\n",
       "      <td>32.4</td>\n",
       "      <td>3</td>\n",
       "      <td>7.0</td>\n",
       "      <td>2.702451</td>\n",
       "      <td>0.050883</td>\n",
       "    </tr>\n",
       "    <tr>\n",
       "      <th>2</th>\n",
       "      <td>0</td>\n",
       "      <td>2</td>\n",
       "      <td>17.5</td>\n",
       "      <td>3</td>\n",
       "      <td>6.9</td>\n",
       "      <td>0.900767</td>\n",
       "      <td>-0.023918</td>\n",
       "    </tr>\n",
       "    <tr>\n",
       "      <th>3</th>\n",
       "      <td>0</td>\n",
       "      <td>3</td>\n",
       "      <td>16.0</td>\n",
       "      <td>3</td>\n",
       "      <td>7.0</td>\n",
       "      <td>0.719390</td>\n",
       "      <td>0.050883</td>\n",
       "    </tr>\n",
       "    <tr>\n",
       "      <th>4</th>\n",
       "      <td>0</td>\n",
       "      <td>4</td>\n",
       "      <td>15.9</td>\n",
       "      <td>3</td>\n",
       "      <td>7.2</td>\n",
       "      <td>0.707298</td>\n",
       "      <td>0.200484</td>\n",
       "    </tr>\n",
       "    <tr>\n",
       "      <th>...</th>\n",
       "      <td>...</td>\n",
       "      <td>...</td>\n",
       "      <td>...</td>\n",
       "      <td>...</td>\n",
       "      <td>...</td>\n",
       "      <td>...</td>\n",
       "      <td>...</td>\n",
       "    </tr>\n",
       "    <tr>\n",
       "      <th>805</th>\n",
       "      <td>29</td>\n",
       "      <td>22</td>\n",
       "      <td>10.4</td>\n",
       "      <td>2</td>\n",
       "      <td>8.3</td>\n",
       "      <td>0.042247</td>\n",
       "      <td>1.023290</td>\n",
       "    </tr>\n",
       "    <tr>\n",
       "      <th>806</th>\n",
       "      <td>29</td>\n",
       "      <td>23</td>\n",
       "      <td>8.9</td>\n",
       "      <td>2</td>\n",
       "      <td>8.2</td>\n",
       "      <td>-0.139131</td>\n",
       "      <td>0.948490</td>\n",
       "    </tr>\n",
       "    <tr>\n",
       "      <th>807</th>\n",
       "      <td>29</td>\n",
       "      <td>24</td>\n",
       "      <td>9.3</td>\n",
       "      <td>2</td>\n",
       "      <td>8.1</td>\n",
       "      <td>-0.090763</td>\n",
       "      <td>0.873689</td>\n",
       "    </tr>\n",
       "    <tr>\n",
       "      <th>808</th>\n",
       "      <td>29</td>\n",
       "      <td>25</td>\n",
       "      <td>10.4</td>\n",
       "      <td>2</td>\n",
       "      <td>8.1</td>\n",
       "      <td>0.042247</td>\n",
       "      <td>0.873689</td>\n",
       "    </tr>\n",
       "    <tr>\n",
       "      <th>809</th>\n",
       "      <td>29</td>\n",
       "      <td>26</td>\n",
       "      <td>9.5</td>\n",
       "      <td>2</td>\n",
       "      <td>8.0</td>\n",
       "      <td>-0.066580</td>\n",
       "      <td>0.798888</td>\n",
       "    </tr>\n",
       "  </tbody>\n",
       "</table>\n",
       "<p>810 rows × 7 columns</p>\n",
       "</div>"
      ],
      "text/plain": [
       "     student  week  studying_hours  group  quiz_grade  \\\n",
       "0          0     0            39.9      3         6.1   \n",
       "1          0     1            32.4      3         7.0   \n",
       "2          0     2            17.5      3         6.9   \n",
       "3          0     3            16.0      3         7.0   \n",
       "4          0     4            15.9      3         7.2   \n",
       "..       ...   ...             ...    ...         ...   \n",
       "805       29    22            10.4      2         8.3   \n",
       "806       29    23             8.9      2         8.2   \n",
       "807       29    24             9.3      2         8.1   \n",
       "808       29    25            10.4      2         8.1   \n",
       "809       29    26             9.5      2         8.0   \n",
       "\n",
       "     normalized_studying_hours  normalized_quiz_grade  \n",
       "0                     3.609339              -0.622322  \n",
       "1                     2.702451               0.050883  \n",
       "2                     0.900767              -0.023918  \n",
       "3                     0.719390               0.050883  \n",
       "4                     0.707298               0.200484  \n",
       "..                         ...                    ...  \n",
       "805                   0.042247               1.023290  \n",
       "806                  -0.139131               0.948490  \n",
       "807                  -0.090763               0.873689  \n",
       "808                   0.042247               0.873689  \n",
       "809                  -0.066580               0.798888  \n",
       "\n",
       "[810 rows x 7 columns]"
      ]
     },
     "execution_count": 12,
     "metadata": {},
     "output_type": "execute_result"
    }
   ],
   "source": [
    "df['normalized_studying_hours'] = (df['studying_hours'] - df['studying_hours'].mean()) / df['studying_hours'].std()\n",
    "df['normalized_quiz_grade'] = (df['quiz_grade'] - df['quiz_grade'].mean()) / df['quiz_grade'].std()\n",
    "df"
   ]
  },
  {
   "cell_type": "markdown",
   "id": "8a8f3668-66ea-4983-82df-2f4fb60d0f0a",
   "metadata": {},
   "source": [
    "### 1.2 Explain your preprocessing steps"
   ]
  },
  {
   "cell_type": "code",
   "execution_count": 13,
   "id": "4034cdcf-139d-45ed-a3aa-32bc97abe211",
   "metadata": {},
   "outputs": [
    {
     "data": {
      "text/plain": [
       "<Response [200]>"
      ]
     },
     "execution_count": 13,
     "metadata": {},
     "output_type": "execute_result"
    }
   ],
   "source": [
    "answer = \"\"\"\n",
    "Normalize columns\"\"\"\n",
    "\n",
    "send(answer, 12) "
   ]
  },
  {
   "cell_type": "markdown",
   "id": "9e39ab3e-cd5f-4664-9914-6909ecf10ec7",
   "metadata": {},
   "source": [
    "### 1.3 Run a regression model to explain the effect of studying hours on quiz grade.  "
   ]
  },
  {
   "cell_type": "code",
   "execution_count": 43,
   "id": "aab51534-bc63-4ab8-92ca-e7cbc94fa540",
   "metadata": {},
   "outputs": [
    {
     "name": "stdout",
     "output_type": "stream",
     "text": [
      "Formula: normalized_quiz_grade~1+normalized_studying_hours\n",
      "\n",
      "Family: gaussian\t Estimator: OLS\n",
      "\n",
      "Std-errors: non-robust\tCIs: standard 95%\tInference: parametric \n",
      "\n",
      "Number of observations: 810\t R^2: 0.204\t R^2_adj: 0.203\n",
      "\n",
      "Log-likelihood: -1056.509 \t AIC: 2117.017\t BIC: 2126.411\n",
      "\n",
      "Fixed effects:\n",
      "\n",
      "                           Estimate  2.5_ci  97.5_ci     SE   DF  T-stat  \\\n",
      "Intercept                     0.000  -0.062    0.062  0.031  808   0.000   \n",
      "normalized_studying_hours     0.452   0.390    0.513  0.031  808  14.384   \n",
      "\n",
      "                           P-val  Sig  \n",
      "Intercept                    1.0       \n",
      "normalized_studying_hours    0.0  ***  \n"
     ]
    }
   ],
   "source": [
    "model_str = \"normalized_quiz_grade ~ 1 + normalized_studying_hours\"\n",
    "send(model_str, 13)\n",
    "# Add the data and family\n",
    "model = Lm(model_str, data=df, family='gaussian')\n",
    "\n",
    "# Fit the models\n",
    "print(model.fit())"
   ]
  },
  {
   "cell_type": "markdown",
   "id": "53acd2fb-c247-4a7c-8e6d-70d65c5c9ee7",
   "metadata": {},
   "source": [
    "### 1.4 What model family (poisson, logistic, etc) did you use and why? "
   ]
  },
  {
   "cell_type": "code",
   "execution_count": 15,
   "id": "1156961d-f607-4ab0-802c-994bfdb75d50",
   "metadata": {},
   "outputs": [
    {
     "data": {
      "text/plain": [
       "<Response [502]>"
      ]
     },
     "execution_count": 15,
     "metadata": {},
     "output_type": "execute_result"
    }
   ],
   "source": [
    "answer = \"\"\"\n",
    "gaussian (linear) since quiz grade is continuous\"\"\"\n",
    "\n",
    "send(answer, 14) "
   ]
  },
  {
   "cell_type": "markdown",
   "id": "86482662-863d-4b76-890d-232f8d1f5b4f",
   "metadata": {},
   "source": [
    "### 1.5 Interpret the regression results. \n",
    "Do the variables have a positive or negative effect? Is it significant?"
   ]
  },
  {
   "cell_type": "code",
   "execution_count": 18,
   "id": "ccf627ff-7b3b-4960-934b-ea116ebb3fa9",
   "metadata": {},
   "outputs": [
    {
     "data": {
      "text/plain": [
       "<Response [200]>"
      ]
     },
     "execution_count": 18,
     "metadata": {},
     "output_type": "execute_result"
    }
   ],
   "source": [
    "answer = \"\"\"\n",
    "positive, yes normalized studying hours has p val of 0\"\"\"\n",
    "\n",
    "send(answer, 15) "
   ]
  },
  {
   "cell_type": "markdown",
   "id": "16dd936e-1f0e-446e-955f-4a3d01f93426",
   "metadata": {},
   "source": [
    "### 1.6 Is this an appropriate method? Explain why or why not."
   ]
  },
  {
   "cell_type": "code",
   "execution_count": 20,
   "id": "ef580634-10ae-42cb-a2bb-d40864d8f197",
   "metadata": {},
   "outputs": [
    {
     "data": {
      "text/plain": [
       "<Response [200]>"
      ]
     },
     "execution_count": 20,
     "metadata": {},
     "output_type": "execute_result"
    }
   ],
   "source": [
    "answer = \"\"\"\n",
    "Your answer here.\n",
    "\"\"\"\n",
    "\n",
    "send(answer, 16) "
   ]
  },
  {
   "cell_type": "markdown",
   "id": "17a0f101-c91c-42db-9a56-2852d9e52f0d",
   "metadata": {},
   "source": [
    "# Task 2: Linear Model with Fixed Effects\n",
    "----------\n",
    "### 2.1  Run a regression model to explain the effect of studying hours on quiz grade. Add fixed effects for group. "
   ]
  },
  {
   "cell_type": "code",
   "execution_count": 42,
   "id": "4d58cec3-b70c-43ae-867d-797962a49e5a",
   "metadata": {},
   "outputs": [
    {
     "name": "stdout",
     "output_type": "stream",
     "text": [
      "Formula: normalized_quiz_grade~1+group+normalized_studying_hours\n",
      "\n",
      "Family: gaussian\t Estimator: OLS\n",
      "\n",
      "Std-errors: non-robust\tCIs: standard 95%\tInference: parametric \n",
      "\n",
      "Number of observations: 810\t R^2: 0.224\t R^2_adj: 0.222\n",
      "\n",
      "Log-likelihood: -1046.040 \t AIC: 2098.080\t BIC: 2112.171\n",
      "\n",
      "Fixed effects:\n",
      "\n",
      "                           Estimate  2.5_ci  97.5_ci     SE   DF  T-stat  \\\n",
      "Intercept                    -0.357  -0.521   -0.193  0.084  807  -4.270   \n",
      "group                         0.185   0.106    0.264  0.040  807   4.597   \n",
      "normalized_studying_hours     0.457   0.396    0.518  0.031  807  14.738   \n",
      "\n",
      "                           P-val  Sig  \n",
      "Intercept                    0.0  ***  \n",
      "group                        0.0  ***  \n",
      "normalized_studying_hours    0.0  ***  \n"
     ]
    }
   ],
   "source": [
    "model_str = \"normalized_quiz_grade ~ 1 + group + normalized_studying_hours\"\n",
    "send(model_str, 21)\n",
    "# Add the data and family\n",
    "model = Lm(model_str, data=df, family='gaussian' )\n",
    "# Fit the models\n",
    "print(model.fit())"
   ]
  },
  {
   "cell_type": "markdown",
   "id": "694b3801-e7e4-43f2-b2ad-6a408769dae3",
   "metadata": {},
   "source": [
    "### 2.2 Interpret the regression results. \n",
    "What changed? What does it mean to have group fixed effects? "
   ]
  },
  {
   "cell_type": "code",
   "execution_count": 22,
   "id": "20c2cc5d-7d52-4234-80b6-e83e68c20d5d",
   "metadata": {},
   "outputs": [
    {
     "data": {
      "text/plain": [
       "<Response [200]>"
      ]
     },
     "execution_count": 22,
     "metadata": {},
     "output_type": "execute_result"
    }
   ],
   "source": [
    "answer = \"\"\"\n",
    "Negative intercept, prediciton changes depending on which group the students are in\n",
    "\"\"\"\n",
    "\n",
    "send(answer, 22) "
   ]
  },
  {
   "cell_type": "markdown",
   "id": "abfcaffc-7c69-4a5e-84d4-137c1835aa99",
   "metadata": {},
   "source": [
    "# Task 3: Linear Model with Random Effects\n",
    "----------\n",
    "### 3.1  Run a regression model to explain the effect of studying hours on quiz grade. Add random intercept for group. "
   ]
  },
  {
   "cell_type": "code",
   "execution_count": 34,
   "id": "76ac434b-6e18-4d29-80a1-c18f91f42fd8",
   "metadata": {},
   "outputs": [
    {
     "name": "stdout",
     "output_type": "stream",
     "text": [
      "Formula: normalized_quiz_grade~(1|group)+normalized_studying_hours\n",
      "\n",
      "Family: gaussian\t Inference: parametric\n",
      "\n",
      "Number of observations: 810\t Groups: {'group': 3.0}\n",
      "\n",
      "Log-likelihood: -1048.309 \t AIC: 2096.619\n",
      "\n",
      "Random effects:\n",
      "\n",
      "                 Name    Var    Std\n",
      "group     (Intercept)  0.047  0.216\n",
      "Residual               0.766  0.875\n",
      "\n",
      "No random effect correlations specified\n",
      "\n",
      "Fixed effects:\n",
      "\n",
      "                           Estimate  2.5_ci  97.5_ci     SE       DF  T-stat  \\\n",
      "(Intercept)                  -0.004  -0.256    0.248  0.129    2.004  -0.031   \n",
      "normalized_studying_hours     0.483   0.421    0.545  0.032  807.849  15.263   \n",
      "\n",
      "                           P-val  Sig  \n",
      "(Intercept)                0.978       \n",
      "normalized_studying_hours  0.000  ***  \n"
     ]
    }
   ],
   "source": [
    "# intercept per group\n",
    "model_str = \"normalized_quiz_grade ~ 1 + (1|group) + normalized_studying_hours\"\n",
    "send(model_str, 31)\n",
    "# Add the data and family\n",
    "model = Lmer(model_str, data=df, family='gaussian')\n",
    "\n",
    "# Fit the models\n",
    "print(model.fit())"
   ]
  },
  {
   "cell_type": "markdown",
   "id": "7f465dbe-bd68-477e-8a15-8df2a20b287a",
   "metadata": {},
   "source": [
    "### 3.2 Plot the regression lines\n",
    "Hint: You may use model.plot"
   ]
  },
  {
   "cell_type": "code",
   "execution_count": 35,
   "id": "ead9960c-e591-47f0-916b-1d13dc73f5ff",
   "metadata": {},
   "outputs": [
    {
     "data": {
      "text/plain": [
       "<AxesSubplot:xlabel='normalized_studying_hours', ylabel='normalized_quiz_grade'>"
      ]
     },
     "execution_count": 35,
     "metadata": {},
     "output_type": "execute_result"
    },
    {
     "data": {
      "image/png": "[encoded data removed]",
      "text/plain": [
       "<Figure size 800x600 with 1 Axes>"
      ]
     },
     "metadata": {},
     "output_type": "display_data"
    }
   ],
   "source": [
    "model.plot(\"normalized_studying_hours\")"
   ]
  },
  {
   "cell_type": "markdown",
   "id": "6ace3d7c-b733-4427-8213-f21de6907290",
   "metadata": {},
   "source": [
    "### 3.3  Run a regression model to explain the effect of studying hours on quiz grade. Add slope for group. "
   ]
  },
  {
   "cell_type": "code",
   "execution_count": 45,
   "id": "241ca33e-b570-4129-8480-2822ab968327",
   "metadata": {},
   "outputs": [
    {
     "name": "stdout",
     "output_type": "stream",
     "text": [
      "Formula: normalized_quiz_grade~(0+normalized_studying_hours|group)\n",
      "\n",
      "Family: gaussian\t Inference: parametric\n",
      "\n",
      "Number of observations: 810\t Groups: {'group': 3.0}\n",
      "\n",
      "Log-likelihood: -995.353 \t AIC: 1990.706\n",
      "\n",
      "Random effects:\n",
      "\n",
      "                               Name    Var    Std\n",
      "group     normalized_studying_hours  0.203  0.451\n",
      "Residual                             0.670  0.819\n",
      "\n",
      "No random effect correlations specified\n",
      "\n",
      "Fixed effects:\n",
      "\n",
      "             Estimate  2.5_ci  97.5_ci     SE       DF  T-stat  P-val Sig\n",
      "(Intercept)    -0.059  -0.124    0.006  0.033  739.487   -1.78  0.075   .\n"
     ]
    }
   ],
   "source": [
    "model_str = \"normalized_quiz_grade ~ (0 + normalized_studying_hours|group)\"\n",
    "send(model_str, 33)\n",
    "# Add the data and family\n",
    "model = Lmer(model_str, data=df, family='gaussian' )\n",
    "\n",
    "# Fit the models\n",
    "print(model.fit())"
   ]
  },
  {
   "cell_type": "markdown",
   "id": "e5a90d6a-27d2-477f-aee2-2496962523b6",
   "metadata": {},
   "source": [
    "### 3.4 Plot the regression lines\n",
    "Hint: You may use model.ranef"
   ]
  },
  {
   "cell_type": "code",
   "execution_count": 46,
   "id": "edda77a8-1961-4306-a0ef-26b734c6a22f",
   "metadata": {},
   "outputs": [
    {
     "data": {
      "text/html": [
       "<div>\n",
       "<style scoped>\n",
       "    .dataframe tbody tr th:only-of-type {\n",
       "        vertical-align: middle;\n",
       "    }\n",
       "\n",
       "    .dataframe tbody tr th {\n",
       "        vertical-align: top;\n",
       "    }\n",
       "\n",
       "    .dataframe thead th {\n",
       "        text-align: right;\n",
       "    }\n",
       "</style>\n",
       "<table border=\"1\" class=\"dataframe\">\n",
       "  <thead>\n",
       "    <tr style=\"text-align: right;\">\n",
       "      <th></th>\n",
       "      <th>normalized_studying_hours</th>\n",
       "    </tr>\n",
       "  </thead>\n",
       "  <tbody>\n",
       "    <tr>\n",
       "      <th>1</th>\n",
       "      <td>0.764508</td>\n",
       "    </tr>\n",
       "    <tr>\n",
       "      <th>2</th>\n",
       "      <td>-0.007528</td>\n",
       "    </tr>\n",
       "    <tr>\n",
       "      <th>3</th>\n",
       "      <td>0.044192</td>\n",
       "    </tr>\n",
       "  </tbody>\n",
       "</table>\n",
       "</div>"
      ],
      "text/plain": [
       "   normalized_studying_hours\n",
       "1                   0.764508\n",
       "2                  -0.007528\n",
       "3                   0.044192"
      ]
     },
     "execution_count": 46,
     "metadata": {},
     "output_type": "execute_result"
    }
   ],
   "source": [
    "model.ranef.head()"
   ]
  },
  {
   "cell_type": "code",
   "execution_count": null,
   "id": "6756cf41-7ae6-4cdb-9e05-8922e01aef46",
   "metadata": {},
   "outputs": [],
   "source": []
  },
  {
   "cell_type": "markdown",
   "id": "d7975173-1541-4646-a195-193b12d47d7a",
   "metadata": {},
   "source": [
    "### 3.5  Run a regression model to explain the effect of studying hours on quiz grade. Add random intercept and slope for group. "
   ]
  },
  {
   "cell_type": "code",
   "execution_count": 48,
   "id": "a579cdb0-6515-41ba-aa06-fae28faf5990",
   "metadata": {},
   "outputs": [
    {
     "name": "stdout",
     "output_type": "stream",
     "text": [
      "boundary (singular) fit: see help('isSingular') \n",
      "\n",
      "Formula: normalized_quiz_grade~(1+normalized_studying_hours|group)\n",
      "\n",
      "Family: gaussian\t Inference: parametric\n",
      "\n",
      "Number of observations: 810\t Groups: {'group': 3.0}\n",
      "\n",
      "Log-likelihood: -970.659 \t AIC: 1941.318\n",
      "\n",
      "Random effects:\n",
      "\n",
      "                               Name    Var    Std\n",
      "group                   (Intercept)  0.092  0.303\n",
      "group     normalized_studying_hours  0.230  0.479\n",
      "Residual                             0.629  0.793\n",
      "\n",
      "               IV1                        IV2  Corr\n",
      "group  (Intercept)  normalized_studying_hours  -1.0\n",
      "\n",
      "Fixed effects:\n",
      "\n",
      "             Estimate  2.5_ci  97.5_ci     SE       DF  T-stat  P-val  Sig\n",
      "(Intercept)     0.185   0.112    0.258  0.037  359.051    4.97    0.0  ***\n"
     ]
    }
   ],
   "source": [
    "model_str = \"normalized_quiz_grade ~ (1+ normalized_studying_hours | group)\" \n",
    "send(model_str, 35)\n",
    "# Add the data and family\n",
    "model = Lmer(model_str, data=df, family='gaussian' )\n",
    "\n",
    "# Fit the models\n",
    "print(model.fit())"
   ]
  },
  {
   "cell_type": "markdown",
   "id": "bec50086-6099-4511-a55c-c7eb24e803ca",
   "metadata": {},
   "source": [
    "### 3.6 Plot the regression lines"
   ]
  },
  {
   "cell_type": "code",
   "execution_count": 57,
   "id": "275a3948-1f83-4508-9e39-a10063184d3c",
   "metadata": {},
   "outputs": [
    {
     "data": {
      "text/html": [
       "<div>\n",
       "<style scoped>\n",
       "    .dataframe tbody tr th:only-of-type {\n",
       "        vertical-align: middle;\n",
       "    }\n",
       "\n",
       "    .dataframe tbody tr th {\n",
       "        vertical-align: top;\n",
       "    }\n",
       "\n",
       "    .dataframe thead th {\n",
       "        text-align: right;\n",
       "    }\n",
       "</style>\n",
       "<table border=\"1\" class=\"dataframe\">\n",
       "  <thead>\n",
       "    <tr style=\"text-align: right;\">\n",
       "      <th></th>\n",
       "      <th>X.Intercept.</th>\n",
       "      <th>normalized_studying_hours</th>\n",
       "    </tr>\n",
       "  </thead>\n",
       "  <tbody>\n",
       "    <tr>\n",
       "      <th>1</th>\n",
       "      <td>-0.507915</td>\n",
       "      <td>0.801923</td>\n",
       "    </tr>\n",
       "    <tr>\n",
       "      <th>2</th>\n",
       "      <td>-0.124181</td>\n",
       "      <td>0.196064</td>\n",
       "    </tr>\n",
       "    <tr>\n",
       "      <th>3</th>\n",
       "      <td>-0.013755</td>\n",
       "      <td>0.021716</td>\n",
       "    </tr>\n",
       "  </tbody>\n",
       "</table>\n",
       "</div>"
      ],
      "text/plain": [
       "   X.Intercept.  normalized_studying_hours\n",
       "1     -0.507915                   0.801923\n",
       "2     -0.124181                   0.196064\n",
       "3     -0.013755                   0.021716"
      ]
     },
     "execution_count": 57,
     "metadata": {},
     "output_type": "execute_result"
    }
   ],
   "source": [
    "model.ranef"
   ]
  },
  {
   "cell_type": "code",
   "execution_count": 61,
   "id": "b25458c9-15c8-4ce9-b9b4-35097b2ff3b0",
   "metadata": {},
   "outputs": [
    {
     "data": {
      "image/png": "[encoded data removed]",
      "text/plain": [
       "<Figure size 640x480 with 1 Axes>"
      ]
     },
     "metadata": {},
     "output_type": "display_data"
    }
   ],
   "source": [
    "\n",
    "x = np.linspace(0,3,4)\n",
    "for i,row in model.ranef.iterrows():\n",
    "    sns.lineplot(x=x,y=(row['X.Intercept.']+row['normalized_studying_hours']*x))"
   ]
  },
  {
   "cell_type": "markdown",
   "id": "5f3714d0-feb1-44f5-b401-d2b19b131174",
   "metadata": {},
   "source": [
    "### 3.7 Interpret the regression results. \n",
    "What changed? What does it mean to have group random effects? "
   ]
  },
  {
   "cell_type": "code",
   "execution_count": 230,
   "id": "14f080cf-c214-42ba-8373-5ad0cdb19d23",
   "metadata": {},
   "outputs": [
    {
     "data": {
      "text/plain": [
       "<Response [200]>"
      ]
     },
     "execution_count": 230,
     "metadata": {},
     "output_type": "execute_result"
    }
   ],
   "source": [
    "answer = \"\"\"\n",
    "Your answer here. \n",
    "\"\"\"\n",
    "\n",
    "send(answer, 37) "
   ]
  },
  {
   "cell_type": "markdown",
   "id": "514ca48e-654a-4b2e-983b-d1a836e506dc",
   "metadata": {},
   "source": [
    "# Task 4: Mixed Model with Time Interaction \n",
    "----------\n",
    "### 4.1  Lastly, run a regression model to explain the effect of studying hours on quiz grade. Add random intercept and slope for groups AND interaction between the number of stuyding hours and time (weeks). \n"
   ]
  },
  {
   "cell_type": "code",
   "execution_count": 64,
   "id": "5dd977e7-a57e-4a28-8c1b-4c4807318288",
   "metadata": {},
   "outputs": [
    {
     "name": "stdout",
     "output_type": "stream",
     "text": [
      "boundary (singular) fit: see help('isSingular') \n",
      "\n",
      "Formula: normalized_quiz_grade~(1+(normalized_studying_hours*week)|group)\n",
      "\n",
      "Family: gaussian\t Inference: parametric\n",
      "\n",
      "Number of observations: 810\t Groups: {'group': 3.0}\n",
      "\n",
      "Log-likelihood: -610.459 \t AIC: 1220.917\n",
      "\n",
      "Random effects:\n",
      "\n",
      "                                    Name    Var    Std\n",
      "group                        (Intercept)  0.718  0.847\n",
      "group          normalized_studying_hours  0.783  0.885\n",
      "group                               week  0.006  0.078\n",
      "group     normalized_studying_hours:week  0.003  0.052\n",
      "Residual                                  0.250  0.500\n",
      "\n",
      "                             IV1                             IV2   Corr\n",
      "group                (Intercept)       normalized_studying_hours -0.722\n",
      "group                (Intercept)                            week -0.974\n",
      "group                (Intercept)  normalized_studying_hours:week -0.061\n",
      "group  normalized_studying_hours                            week  0.590\n",
      "group  normalized_studying_hours  normalized_studying_hours:week -0.572\n",
      "group                       week  normalized_studying_hours:week  0.275\n",
      "\n",
      "Fixed effects:\n",
      "\n",
      "             Estimate  2.5_ci  97.5_ci     SE      DF  T-stat  P-val Sig\n",
      "(Intercept)     0.074   0.023    0.126  0.026  13.584   2.832  0.014   *\n"
     ]
    }
   ],
   "source": [
    "# model_str = \"normalized_quiz_grade ~ (1+ (normalized_studying_hours * week) | group)\" \n",
    "model_str = \"normalized_quiz_grade ~ (0 + (normalized_studying_hours * week) | group)\" \n",
    "send(model_str, 41)\n",
    "# Add the data and family\n",
    "model = Lmer(model_str, data=df, family='gaussian')\n",
    "\n",
    "# Fit the models\n",
    "print(model.fit())"
   ]
  },
  {
   "cell_type": "markdown",
   "id": "87f08a84-5621-40a3-a70e-c69b062d6b58",
   "metadata": {},
   "source": [
    "### 4.2 Interpret the regression results.  "
   ]
  },
  {
   "cell_type": "code",
   "execution_count": 38,
   "id": "3e561b73-e292-4bb2-ad11-c3e01190a54f",
   "metadata": {},
   "outputs": [
    {
     "data": {
      "text/plain": [
       "<Response [200]>"
      ]
     },
     "execution_count": 38,
     "metadata": {},
     "output_type": "execute_result"
    }
   ],
   "source": [
    "answer = \"\"\"\n",
    "Your answer here.\n",
    "\"\"\"\n",
    "\n",
    "send(answer, 42) "
   ]
  }
 ],
 "metadata": {
  "kernelspec": {
   "display_name": "Python",
   "language": "python",
   "name": "python3"
  },
  "language_info": {
   "codemirror_mode": {
    "name": "ipython",
    "version": 3
   },
   "file_extension": ".py",
   "mimetype": "text/x-python",
   "name": "python",
   "nbconvert_exporter": "python",
   "pygments_lexer": "ipython3",
   "version": "3.8.10"
  },
  "vscode": {
   "interpreter": {
    "hash": "40d3a090f54c6569ab1632332b64b2c03c39dcf918b08424e98f38b5ae0af88f"
   }
  }
 },
 "nbformat": 4,
 "nbformat_minor": 5
}
