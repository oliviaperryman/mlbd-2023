{
 "cells": [
  {
   "cell_type": "markdown",
   "metadata": {},
   "source": [
    "# Lab 6 - Bayesian Knowledge Tracing (BKT) and Variants \n",
    "\n",
    "This tutorial is partially based on the pyBKT model tutorial and the Jupyter notebooks available on GitHub at [https://github.com/CAHLR/pyBKT](https://github.com/CAHLR/pyBKT). "
   ]
  },
  {
   "cell_type": "markdown",
   "metadata": {},
   "source": [
    "One notable application of machine learning in education is represented **knowledge inference models**, which aim to understand how well a student is learning concepts or skills. Being able to monitor this knowledge makes it possible to improve and personalize online learning platforms or intelligent tutoring systems, by focusing on areas the student is weak in and accelerating learning of certain concepts.\n",
    "\n",
    "In this tutorial, we study a range of popular models for modelling students' knowledge based on **Bayesian Knowledge Tracing (BKT)**. BKT was introduced in 1995 as a means to model students' knowledge as a **latent variable** in online learning environments. Specifically, the environment can maintain an estimate of the **probability that the student has learned a set of skills**, which is statistically equivalent to a 2-node dynamic Bayesian network. \n",
    "\n",
    "For this tutorial, we will rely on a Python implementation of the Bayesian Knowledge Tracing algorithm and more recent variants, estimating student cognitive mastery from problem solving sequences, known under the name of **pyBKT**. This package can be used to define and fit many BKT variants. \n",
    "\n",
    "These variants are derived from a range of papers published in the educational data mining literature and, in this tutorial, we will provide you with the main notions and implementation details needed to investigate BKT models in practice.  \n",
    "\n",
    "**Expected Tasks**\n",
    "\n",
    "- Follow the pyBKT getting started showcase.\n",
    "- Solve a range of exercises on BKT models. \n",
    "\n",
    "**Learning Objectives**\n",
    "\n",
    "- Instantiate and run a pipeline on BKT models. \n",
    "- Conduct fine-grained analyses on specific learning skills. \n",
    "- Understand and experiment with different variants of BKT.\n",
    "- Compare the performance of BKT setups under different evaluation methods. \n",
    "- Inspect the influence of a BKT variant on the internal BKT parameters.\n",
    "\n",
    "More information on the PyBKT is provided in the corresponding [Github repository](https://github.com/CAHLR/pyBKT). "
   ]
  },
  {
   "cell_type": "code",
   "execution_count": 1,
   "metadata": {},
   "outputs": [],
   "source": [
    "# Traditional packages\n",
    "import matplotlib.pyplot as plt\n",
    "import seaborn as sns\n",
    "import pandas as pd\n",
    "import numpy as np\n",
    "import math\n",
    "\n",
    "%matplotlib inline"
   ]
  },
  {
   "cell_type": "markdown",
   "metadata": {},
   "source": [
    "## Introduction\n",
    "---\n",
    "\n",
    "BKT models operationalize the learning of a student as a **Markov process**, building upon the idea that, while students interact with an educational environment, their skill in a given concept improves. To move the theory behind BKT into practice, variables related to forgetting, learning, guessing, slipping, and so on need to be modelled, controlling for instance how fast and how well learning is happening for the student. \n",
    "\n",
    "The BKT model assumes that the student’s knowledge can be estimated by means of standardized questions, which can be answered correctly or incorrectly, on a concept or combination of concepts. BKT also assumes that initially a student may not know about a concept, but their knowledge gets better with learning and practice related to that concept. The following concepts will be \n",
    "\n",
    "- $P_0$ is the initial probability of mastering that concept (skill). \n",
    "- $P_{\\text{F}}$ is the probability that the student forgot something previously learned on the concept (skill). \n",
    "- $P_{\\text{L}}$ is the probability that the student has learned something that was previous not known on the concept (skill). \n",
    "- $P_{\\text{S}}$ is the probability that the student gave a wrong answer even though they had learned the concept (skill).\n",
    "- $P_{\\text{G}}$ is the probability that the student guessed the right answer while not knowing the concept (skill). \n",
    "\n",
    "In this tutorial, we will use a dataset of the student’s responses to questions in a test, along with whether they answered correctly or incorrectly, and we will use a BKT model to find the values of the above probabilities."
   ]
  },
  {
   "cell_type": "markdown",
   "metadata": {},
   "source": [
    "## The ASSISTments data set\n",
    "---\n",
    "\n",
    "ASSISTments is a free tool for assigning and assessing math problems and homework. Teachers can select and assign problem sets. Once they get an assignment, students can complete it at their own pace and with the help of hints, multiple chances, and immediate feedback. Teachers get instant results broken down by individual student or for the whole class. Please, find more information on the platform [here](https://www.commonsense.org/education/website/assistments). \n",
    "\n",
    "In this tutorial, we will play with a simplified version of a dataset collected from the ASSISTments tool, saved on a CSV files with the following columns:  \n",
    "\n",
    "- user_id: The ID of the student doing the problem.\n",
    "- template_id: The ID of the template in ASSISTment (assistments with the same template ID have similar questions).\n",
    "- assistment_id: The ID of the ASSISTment (an assistment consists of one or more problems).\n",
    "- order_id: These IDs are chronological and refer to the id of the original problem log.\n",
    "- problem_id: The ID of the problem.\n",
    "- skill_name: Skill name associated with the problem.\n",
    "- correct: 1 if correct on the first attempt, 0 if incorrect on the first attempt or asked for help.\n",
    "- ms_first_response: The time in milliseconds for the student's first response.\n",
    "- attempt_count: Number of student attempts on this problem.\n",
    "- hint_count: Number of student hints asked by the student on this problem.\n",
    "- hint_total: Number of possible hints to be asked on this problem."
   ]
  },
  {
   "cell_type": "code",
   "execution_count": 2,
   "metadata": {},
   "outputs": [],
   "source": [
    "DATA_DIR = \"./../../data/\"\n",
    "as_data = pd.read_csv(DATA_DIR + 'as_supersmall.csv', encoding='latin', low_memory=False)"
   ]
  },
  {
   "cell_type": "code",
   "execution_count": 3,
   "metadata": {},
   "outputs": [
    {
     "data": {
      "text/html": [
       "<div>\n",
       "<style scoped>\n",
       "    .dataframe tbody tr th:only-of-type {\n",
       "        vertical-align: middle;\n",
       "    }\n",
       "\n",
       "    .dataframe tbody tr th {\n",
       "        vertical-align: top;\n",
       "    }\n",
       "\n",
       "    .dataframe thead th {\n",
       "        text-align: right;\n",
       "    }\n",
       "</style>\n",
       "<table border=\"1\" class=\"dataframe\">\n",
       "  <thead>\n",
       "    <tr style=\"text-align: right;\">\n",
       "      <th></th>\n",
       "      <th>user_id</th>\n",
       "      <th>template_id</th>\n",
       "      <th>assistment_id</th>\n",
       "      <th>order_id</th>\n",
       "      <th>problem_id</th>\n",
       "      <th>skill_name</th>\n",
       "      <th>correct</th>\n",
       "      <th>ms_first_response</th>\n",
       "      <th>attempt_count</th>\n",
       "      <th>hint_count</th>\n",
       "      <th>hint_total</th>\n",
       "    </tr>\n",
       "  </thead>\n",
       "  <tbody>\n",
       "    <tr>\n",
       "      <th>0</th>\n",
       "      <td>70733</td>\n",
       "      <td>30060</td>\n",
       "      <td>33175</td>\n",
       "      <td>35278766</td>\n",
       "      <td>51460</td>\n",
       "      <td>Box and Whisker</td>\n",
       "      <td>0</td>\n",
       "      <td>9575</td>\n",
       "      <td>2</td>\n",
       "      <td>0</td>\n",
       "      <td>4</td>\n",
       "    </tr>\n",
       "    <tr>\n",
       "      <th>1</th>\n",
       "      <td>70733</td>\n",
       "      <td>30060</td>\n",
       "      <td>33182</td>\n",
       "      <td>35278780</td>\n",
       "      <td>51467</td>\n",
       "      <td>Box and Whisker</td>\n",
       "      <td>1</td>\n",
       "      <td>6422</td>\n",
       "      <td>1</td>\n",
       "      <td>0</td>\n",
       "      <td>4</td>\n",
       "    </tr>\n",
       "    <tr>\n",
       "      <th>2</th>\n",
       "      <td>70733</td>\n",
       "      <td>30059</td>\n",
       "      <td>33107</td>\n",
       "      <td>35278789</td>\n",
       "      <td>51392</td>\n",
       "      <td>Box and Whisker</td>\n",
       "      <td>0</td>\n",
       "      <td>11365</td>\n",
       "      <td>3</td>\n",
       "      <td>0</td>\n",
       "      <td>3</td>\n",
       "    </tr>\n",
       "    <tr>\n",
       "      <th>3</th>\n",
       "      <td>70733</td>\n",
       "      <td>30060</td>\n",
       "      <td>33187</td>\n",
       "      <td>35278802</td>\n",
       "      <td>51472</td>\n",
       "      <td>Box and Whisker</td>\n",
       "      <td>1</td>\n",
       "      <td>4412</td>\n",
       "      <td>1</td>\n",
       "      <td>0</td>\n",
       "      <td>4</td>\n",
       "    </tr>\n",
       "    <tr>\n",
       "      <th>4</th>\n",
       "      <td>70733</td>\n",
       "      <td>30059</td>\n",
       "      <td>33111</td>\n",
       "      <td>35278810</td>\n",
       "      <td>51396</td>\n",
       "      <td>Box and Whisker</td>\n",
       "      <td>1</td>\n",
       "      <td>6902</td>\n",
       "      <td>1</td>\n",
       "      <td>0</td>\n",
       "      <td>3</td>\n",
       "    </tr>\n",
       "    <tr>\n",
       "      <th>5</th>\n",
       "      <td>70872</td>\n",
       "      <td>30059</td>\n",
       "      <td>33136</td>\n",
       "      <td>32268742</td>\n",
       "      <td>51421</td>\n",
       "      <td>Box and Whisker</td>\n",
       "      <td>1</td>\n",
       "      <td>7281</td>\n",
       "      <td>1</td>\n",
       "      <td>0</td>\n",
       "      <td>3</td>\n",
       "    </tr>\n",
       "    <tr>\n",
       "      <th>6</th>\n",
       "      <td>70872</td>\n",
       "      <td>30799</td>\n",
       "      <td>33144</td>\n",
       "      <td>32268764</td>\n",
       "      <td>51429</td>\n",
       "      <td>Box and Whisker</td>\n",
       "      <td>1</td>\n",
       "      <td>7234</td>\n",
       "      <td>1</td>\n",
       "      <td>0</td>\n",
       "      <td>3</td>\n",
       "    </tr>\n",
       "    <tr>\n",
       "      <th>7</th>\n",
       "      <td>72059</td>\n",
       "      <td>30799</td>\n",
       "      <td>33155</td>\n",
       "      <td>33409110</td>\n",
       "      <td>51440</td>\n",
       "      <td>Box and Whisker</td>\n",
       "      <td>0</td>\n",
       "      <td>38290</td>\n",
       "      <td>2</td>\n",
       "      <td>0</td>\n",
       "      <td>3</td>\n",
       "    </tr>\n",
       "    <tr>\n",
       "      <th>8</th>\n",
       "      <td>72059</td>\n",
       "      <td>30060</td>\n",
       "      <td>33181</td>\n",
       "      <td>33409165</td>\n",
       "      <td>51466</td>\n",
       "      <td>Box and Whisker</td>\n",
       "      <td>0</td>\n",
       "      <td>8366</td>\n",
       "      <td>4</td>\n",
       "      <td>0</td>\n",
       "      <td>4</td>\n",
       "    </tr>\n",
       "    <tr>\n",
       "      <th>9</th>\n",
       "      <td>72059</td>\n",
       "      <td>30060</td>\n",
       "      <td>33168</td>\n",
       "      <td>33409366</td>\n",
       "      <td>51453</td>\n",
       "      <td>Box and Whisker</td>\n",
       "      <td>1</td>\n",
       "      <td>9661</td>\n",
       "      <td>1</td>\n",
       "      <td>0</td>\n",
       "      <td>4</td>\n",
       "    </tr>\n",
       "  </tbody>\n",
       "</table>\n",
       "</div>"
      ],
      "text/plain": [
       "   user_id  template_id  assistment_id  order_id  problem_id       skill_name  \\\n",
       "0    70733        30060          33175  35278766       51460  Box and Whisker   \n",
       "1    70733        30060          33182  35278780       51467  Box and Whisker   \n",
       "2    70733        30059          33107  35278789       51392  Box and Whisker   \n",
       "3    70733        30060          33187  35278802       51472  Box and Whisker   \n",
       "4    70733        30059          33111  35278810       51396  Box and Whisker   \n",
       "5    70872        30059          33136  32268742       51421  Box and Whisker   \n",
       "6    70872        30799          33144  32268764       51429  Box and Whisker   \n",
       "7    72059        30799          33155  33409110       51440  Box and Whisker   \n",
       "8    72059        30060          33181  33409165       51466  Box and Whisker   \n",
       "9    72059        30060          33168  33409366       51453  Box and Whisker   \n",
       "\n",
       "   correct  ms_first_response  attempt_count  hint_count  hint_total  \n",
       "0        0               9575              2           0           4  \n",
       "1        1               6422              1           0           4  \n",
       "2        0              11365              3           0           3  \n",
       "3        1               4412              1           0           4  \n",
       "4        1               6902              1           0           3  \n",
       "5        1               7281              1           0           3  \n",
       "6        1               7234              1           0           3  \n",
       "7        0              38290              2           0           3  \n",
       "8        0               8366              4           0           4  \n",
       "9        1               9661              1           0           4  "
      ]
     },
     "execution_count": 3,
     "metadata": {},
     "output_type": "execute_result"
    }
   ],
   "source": [
    "as_data.head(10)"
   ]
  },
  {
   "cell_type": "markdown",
   "metadata": {},
   "source": [
    "Before delving into the pyBKT description and showcase, we invite you to spend some time to explore the toy dataset presented in this tutorial, e.g., how many students/problems/skills are included, examine the skills in more detail etc. Here, you could therefore add one or more cells to perform your exploration.    "
   ]
  },
  {
   "cell_type": "markdown",
   "metadata": {},
   "source": [
    "## The pyBKT Package\n",
    "---\n",
    "\n",
    "In this tutorial, we use the pyBKT package, a Python implementation of the Bayesian Knowledge Tracing algorithm and variants, estimating student cognitive mastery from problem solving sequences. We can import the core class provided by the package, that is Model."
   ]
  },
  {
   "cell_type": "code",
   "execution_count": 4,
   "metadata": {},
   "outputs": [],
   "source": [
    "from pyBKT.models import Model"
   ]
  },
  {
   "cell_type": "markdown",
   "metadata": {},
   "source": [
    "The first step is to construct a BKT model. To be instantiated, a BKT model requires a series of parameters, whose default value and meaning is provided below (e.g., num_fits, seed, defaults, and any model variant(s) that may be used). Each parameter can be modified during fit/crossvalidation time too.\n",
    "\n",
    "- **Defaults generic parameters**: \n",
    "    - num_fits (5) is the number of initialization fits used for the BKT model.\n",
    "    - defaults (None) is a dictionary that can be used to pass values different than the default ones during initialization.\n",
    "    - parallel (True) indicates whether the computation will use multi-threading.\n",
    "    - skills ('.\\*') is a regular expression used to indicate the skills the BKT model will be run on.  \n",
    "    - seed (random.randint(0, 1e8)) is a seed that can be setup to enable reproducible experiments. \n",
    "    - folds (5) is the number of folds used in case of cross-validation.\n",
    "    - forgets (False) indicates whether the model will consider that the student may give a wrong answer even though they had learned the concept. \n",
    "    \n",
    "- **Defaults additional parameters**:\n",
    "    - order_id ('order_id') is the name of the CSV column for the chronological IDs that refer to the original problem log. \n",
    "    - skill_name ('skill_name') is the name of the CSV column for the skill name associated with the problem.\n",
    "    - correct ('correct') is the name of the CSV column for the correct / incorrect label on the first attempt.\n",
    "    - user_id ('user_id') is the name of the CSV column for the ID of the student doing the problem. \n",
    "    - multilearn ('template_id') is the name of the column for checking whether there is a multi-skill object. \n",
    "    - multiprior ('correct') is the name of the CSV column for mapping multi-prior knowledge.  \n",
    "    - multigs ('template_id') is the name of the CSV column corresponding to the desired guess/slip classes. \n",
    "\n",
    "- **Initializers for learnable parameters**: \n",
    "    - 'prior' (None, no inizialization) is the initial probability of answering the question correct.\n",
    "    - 'learns' (None, no inizialization) is the probability that the student has learned something that was previous not known.\n",
    "    - 'guesses' (None, no inizialization) is the probability that the student guessed the right answer while not knowing the concept. \n",
    "    - 'slips' (None, no inizialization) is the probability that the student gave a wrong answer even though they had learned the concept.\n",
    "    - 'forgets' (None, no inizialization) is the probability that the student forgot something previously learned.\n",
    "    \n",
    "If you have doubts on the meaning of certain parameters, please ask to TAs or move on the next examples (they will help you understand). "
   ]
  },
  {
   "cell_type": "code",
   "execution_count": 5,
   "metadata": {},
   "outputs": [
    {
     "data": {
      "text/plain": [
       "Model(parallel=True, num_fits=5, seed=0, defaults=None)"
      ]
     },
     "execution_count": 5,
     "metadata": {},
     "output_type": "execute_result"
    }
   ],
   "source": [
    "model = Model(seed=0)\n",
    "model"
   ]
  },
  {
   "cell_type": "markdown",
   "metadata": {},
   "source": [
    "The Model class is inspired by scikit-learn and, therefore, provides a range of methods a model can be called with:\n",
    "- The **fit** method fits a BKT model given model and data information. Takes arguments skills, number of initialization fits, default column names (i.e. correct, skill_name), parallelization, and model types.\n",
    "- The **predict** method predicts using the trained BKT model and test data information. Takes test data path or DataFrame as arguments. Returns a dictionary mapping skills to predicted values for those skills. Note that the predicted values are a tuple of (correct_predictions, state_predictions).\n",
    "- The **evaluate** method evaluates a BKT model given model and data information. Takes a metric and data path or DataFrame as arguments. Returns the value of the metric for the given trained model tested on the given data.\n",
    "- The **crossvalidate** method crossvalidates (trains and evaluates) the BKT model. Takes the data, metric, and any arguments that would be passed to the fit function (skills, number of initialization fits, default column names, parallelization, and model types) as arguments. \n",
    "\n",
    "We will show a range of examples for each of the above methods. "
   ]
  },
  {
   "cell_type": "markdown",
   "metadata": {},
   "source": [
    "### Fitting and evaluating a model"
   ]
  },
  {
   "cell_type": "code",
   "execution_count": 6,
   "metadata": {},
   "outputs": [
    {
     "name": "stdout",
     "output_type": "stream",
     "text": [
      "CPU times: user 323 ms, sys: 0 ns, total: 323 ms\n",
      "Wall time: 117 ms\n",
      "CPU times: user 135 ms, sys: 3.58 ms, total: 139 ms\n",
      "Wall time: 123 ms\n"
     ]
    },
    {
     "data": {
      "text/plain": [
       "0.5733795566761215"
      ]
     },
     "execution_count": 6,
     "metadata": {},
     "output_type": "execute_result"
    }
   ],
   "source": [
    "model = Model(seed=0)\n",
    "%time model.fit(data=as_data, skills='Box and Whisker') \n",
    "%time model.evaluate(data=as_data, metric='auc') "
   ]
  },
  {
   "cell_type": "markdown",
   "metadata": {},
   "source": [
    "First, we have fitted a BKT model on the 'Box and Whisker' skill and, then, evaluate the corresponding **training AUC** (0.64). Note that we have run the BKT fitting process on the full dataset, to understand how well the BKT model can fit the data. Evaluation methods like cross-validation will be presented later in this notebook. Furthermore, the default metric displayed is RMSE, but pyBKT supports AUC ('auc'), RMSE ('rmse'), and accuracy ('accuracy') as metrics. We will also see how to add other metrics. "
   ]
  },
  {
   "cell_type": "markdown",
   "metadata": {},
   "source": [
    "For each skill, you can get the learned parameters for 'prior', 'learns', 'guesses', 'slips', and 'forgets'. Specifically:\n",
    "- **prior** ($P_0)$ the prior probability of \"knowing\".\n",
    "- **forgets** ($P_{\\text{F}})$: the probability of transitioning to the \"not knowing\" state given \"known\".\n",
    "- **learns** ($P_{\\text{L}}$): the probability of transitioning to the \"knowing\" state given \"not known\".\n",
    "- **slips** ($P_{\\text{S}}$): the probability of picking incorrect answer, given \"knowing\" state.\n",
    "- **guesses** ($P_{\\text{G}}$): the probability of guessing correctly, given \"not knowing\" state."
   ]
  },
  {
   "cell_type": "code",
   "execution_count": 7,
   "metadata": {},
   "outputs": [
    {
     "data": {
      "text/plain": [
       "{'Box and Whisker': {'prior': 0.9603753772130649,\n",
       "  'learns': array([0.02006887]),\n",
       "  'guesses': array([0.01070708]),\n",
       "  'slips': array([0.23349393]),\n",
       "  'forgets': array([0.])}}"
      ]
     },
     "execution_count": 7,
     "metadata": {},
     "output_type": "execute_result"
    }
   ],
   "source": [
    "model.coef_"
   ]
  },
  {
   "cell_type": "code",
   "execution_count": 8,
   "metadata": {},
   "outputs": [
    {
     "data": {
      "text/html": [
       "<div>\n",
       "<style scoped>\n",
       "    .dataframe tbody tr th:only-of-type {\n",
       "        vertical-align: middle;\n",
       "    }\n",
       "\n",
       "    .dataframe tbody tr th {\n",
       "        vertical-align: top;\n",
       "    }\n",
       "\n",
       "    .dataframe thead th {\n",
       "        text-align: right;\n",
       "    }\n",
       "</style>\n",
       "<table border=\"1\" class=\"dataframe\">\n",
       "  <thead>\n",
       "    <tr style=\"text-align: right;\">\n",
       "      <th></th>\n",
       "      <th></th>\n",
       "      <th></th>\n",
       "      <th>value</th>\n",
       "    </tr>\n",
       "    <tr>\n",
       "      <th>skill</th>\n",
       "      <th>param</th>\n",
       "      <th>class</th>\n",
       "      <th></th>\n",
       "    </tr>\n",
       "  </thead>\n",
       "  <tbody>\n",
       "    <tr>\n",
       "      <th rowspan=\"5\" valign=\"top\">Box and Whisker</th>\n",
       "      <th>prior</th>\n",
       "      <th>default</th>\n",
       "      <td>0.96038</td>\n",
       "    </tr>\n",
       "    <tr>\n",
       "      <th>learns</th>\n",
       "      <th>default</th>\n",
       "      <td>0.02007</td>\n",
       "    </tr>\n",
       "    <tr>\n",
       "      <th>guesses</th>\n",
       "      <th>default</th>\n",
       "      <td>0.01071</td>\n",
       "    </tr>\n",
       "    <tr>\n",
       "      <th>slips</th>\n",
       "      <th>default</th>\n",
       "      <td>0.23349</td>\n",
       "    </tr>\n",
       "    <tr>\n",
       "      <th>forgets</th>\n",
       "      <th>default</th>\n",
       "      <td>0.00000</td>\n",
       "    </tr>\n",
       "  </tbody>\n",
       "</table>\n",
       "</div>"
      ],
      "text/plain": [
       "                                  value\n",
       "skill           param   class          \n",
       "Box and Whisker prior   default 0.96038\n",
       "                learns  default 0.02007\n",
       "                guesses default 0.01071\n",
       "                slips   default 0.23349\n",
       "                forgets default 0.00000"
      ]
     },
     "execution_count": 8,
     "metadata": {},
     "output_type": "execute_result"
    }
   ],
   "source": [
    "model.params()"
   ]
  },
  {
   "cell_type": "markdown",
   "metadata": {},
   "source": [
    "We could initialize the prior knowledge to $1e-40$ for Box and Whisker, before fitting the model. "
   ]
  },
  {
   "cell_type": "code",
   "execution_count": 9,
   "metadata": {},
   "outputs": [
    {
     "data": {
      "text/plain": [
       "{'Box and Whisker': {'prior': 1e-40}}"
      ]
     },
     "execution_count": 9,
     "metadata": {},
     "output_type": "execute_result"
    }
   ],
   "source": [
    "model = Model(seed=0)\n",
    "\n",
    "model.coef_ = {'Box and Whisker': {'prior': 1e-40}}\n",
    "model.coef_"
   ]
  },
  {
   "cell_type": "markdown",
   "metadata": {},
   "source": [
    "Then, we can fit the model and observe the resulting AUC score. How does it compares to the AUC score of the previous model. "
   ]
  },
  {
   "cell_type": "code",
   "execution_count": 10,
   "metadata": {},
   "outputs": [
    {
     "name": "stdout",
     "output_type": "stream",
     "text": [
      "CPU times: user 349 ms, sys: 0 ns, total: 349 ms\n",
      "Wall time: 125 ms\n",
      "CPU times: user 107 ms, sys: 0 ns, total: 107 ms\n",
      "Wall time: 129 ms\n"
     ]
    },
    {
     "data": {
      "text/plain": [
       "0.5551003256644605"
      ]
     },
     "execution_count": 10,
     "metadata": {},
     "output_type": "execute_result"
    }
   ],
   "source": [
    "%time model.fit(data=as_data, skills='Box and Whisker') \n",
    "%time model.evaluate(data=as_data, metric='auc') "
   ]
  },
  {
   "cell_type": "code",
   "execution_count": 11,
   "metadata": {},
   "outputs": [
    {
     "data": {
      "text/html": [
       "<div>\n",
       "<style scoped>\n",
       "    .dataframe tbody tr th:only-of-type {\n",
       "        vertical-align: middle;\n",
       "    }\n",
       "\n",
       "    .dataframe tbody tr th {\n",
       "        vertical-align: top;\n",
       "    }\n",
       "\n",
       "    .dataframe thead th {\n",
       "        text-align: right;\n",
       "    }\n",
       "</style>\n",
       "<table border=\"1\" class=\"dataframe\">\n",
       "  <thead>\n",
       "    <tr style=\"text-align: right;\">\n",
       "      <th></th>\n",
       "      <th></th>\n",
       "      <th></th>\n",
       "      <th>value</th>\n",
       "    </tr>\n",
       "    <tr>\n",
       "      <th>skill</th>\n",
       "      <th>param</th>\n",
       "      <th>class</th>\n",
       "      <th></th>\n",
       "    </tr>\n",
       "  </thead>\n",
       "  <tbody>\n",
       "    <tr>\n",
       "      <th rowspan=\"5\" valign=\"top\">Box and Whisker</th>\n",
       "      <th>prior</th>\n",
       "      <th>default</th>\n",
       "      <td>0.00000</td>\n",
       "    </tr>\n",
       "    <tr>\n",
       "      <th>learns</th>\n",
       "      <th>default</th>\n",
       "      <td>0.45840</td>\n",
       "    </tr>\n",
       "    <tr>\n",
       "      <th>guesses</th>\n",
       "      <th>default</th>\n",
       "      <td>0.62856</td>\n",
       "    </tr>\n",
       "    <tr>\n",
       "      <th>slips</th>\n",
       "      <th>default</th>\n",
       "      <td>0.21499</td>\n",
       "    </tr>\n",
       "    <tr>\n",
       "      <th>forgets</th>\n",
       "      <th>default</th>\n",
       "      <td>0.00000</td>\n",
       "    </tr>\n",
       "  </tbody>\n",
       "</table>\n",
       "</div>"
      ],
      "text/plain": [
       "                                  value\n",
       "skill           param   class          \n",
       "Box and Whisker prior   default 0.00000\n",
       "                learns  default 0.45840\n",
       "                guesses default 0.62856\n",
       "                slips   default 0.21499\n",
       "                forgets default 0.00000"
      ]
     },
     "execution_count": 11,
     "metadata": {},
     "output_type": "execute_result"
    }
   ],
   "source": [
    "model.params()"
   ]
  },
  {
   "cell_type": "markdown",
   "metadata": {},
   "source": [
    "You can also train simple BKT models on different skills in the data set."
   ]
  },
  {
   "cell_type": "code",
   "execution_count": 12,
   "metadata": {},
   "outputs": [
    {
     "name": "stdout",
     "output_type": "stream",
     "text": [
      "CPU times: user 591 ms, sys: 4.29 ms, total: 595 ms\n",
      "Wall time: 265 ms\n",
      "CPU times: user 146 ms, sys: 0 ns, total: 146 ms\n",
      "Wall time: 51.9 ms\n"
     ]
    },
    {
     "data": {
      "text/plain": [
       "0.6586555207244861"
      ]
     },
     "execution_count": 12,
     "metadata": {},
     "output_type": "execute_result"
    }
   ],
   "source": [
    "model = Model(seed=0)\n",
    "%time model.fit(data=as_data, skills=['Box and Whisker', 'Scatter Plot']) \n",
    "%time model.evaluate(data=as_data, metric='auc') "
   ]
  },
  {
   "cell_type": "markdown",
   "metadata": {},
   "source": [
    "And, then, observed the learned parameters for each skill. Note that, when multiple skills are passed to fit, the method will run a fitting procedure for each skill, separately (in this case, we will have two BKT models). "
   ]
  },
  {
   "cell_type": "code",
   "execution_count": 13,
   "metadata": {},
   "outputs": [
    {
     "data": {
      "text/html": [
       "<div>\n",
       "<style scoped>\n",
       "    .dataframe tbody tr th:only-of-type {\n",
       "        vertical-align: middle;\n",
       "    }\n",
       "\n",
       "    .dataframe tbody tr th {\n",
       "        vertical-align: top;\n",
       "    }\n",
       "\n",
       "    .dataframe thead th {\n",
       "        text-align: right;\n",
       "    }\n",
       "</style>\n",
       "<table border=\"1\" class=\"dataframe\">\n",
       "  <thead>\n",
       "    <tr style=\"text-align: right;\">\n",
       "      <th></th>\n",
       "      <th></th>\n",
       "      <th></th>\n",
       "      <th>value</th>\n",
       "    </tr>\n",
       "    <tr>\n",
       "      <th>skill</th>\n",
       "      <th>param</th>\n",
       "      <th>class</th>\n",
       "      <th></th>\n",
       "    </tr>\n",
       "  </thead>\n",
       "  <tbody>\n",
       "    <tr>\n",
       "      <th rowspan=\"5\" valign=\"top\">Box and Whisker</th>\n",
       "      <th>prior</th>\n",
       "      <th>default</th>\n",
       "      <td>0.77642</td>\n",
       "    </tr>\n",
       "    <tr>\n",
       "      <th>learns</th>\n",
       "      <th>default</th>\n",
       "      <td>0.28466</td>\n",
       "    </tr>\n",
       "    <tr>\n",
       "      <th>guesses</th>\n",
       "      <th>default</th>\n",
       "      <td>0.26233</td>\n",
       "    </tr>\n",
       "    <tr>\n",
       "      <th>slips</th>\n",
       "      <th>default</th>\n",
       "      <td>0.21131</td>\n",
       "    </tr>\n",
       "    <tr>\n",
       "      <th>forgets</th>\n",
       "      <th>default</th>\n",
       "      <td>0.00000</td>\n",
       "    </tr>\n",
       "    <tr>\n",
       "      <th rowspan=\"5\" valign=\"top\">Scatter Plot</th>\n",
       "      <th>prior</th>\n",
       "      <th>default</th>\n",
       "      <td>0.73081</td>\n",
       "    </tr>\n",
       "    <tr>\n",
       "      <th>learns</th>\n",
       "      <th>default</th>\n",
       "      <td>0.45402</td>\n",
       "    </tr>\n",
       "    <tr>\n",
       "      <th>guesses</th>\n",
       "      <th>default</th>\n",
       "      <td>0.59865</td>\n",
       "    </tr>\n",
       "    <tr>\n",
       "      <th>slips</th>\n",
       "      <th>default</th>\n",
       "      <td>0.04247</td>\n",
       "    </tr>\n",
       "    <tr>\n",
       "      <th>forgets</th>\n",
       "      <th>default</th>\n",
       "      <td>0.00000</td>\n",
       "    </tr>\n",
       "  </tbody>\n",
       "</table>\n",
       "</div>"
      ],
      "text/plain": [
       "                                  value\n",
       "skill           param   class          \n",
       "Box and Whisker prior   default 0.77642\n",
       "                learns  default 0.28466\n",
       "                guesses default 0.26233\n",
       "                slips   default 0.21131\n",
       "                forgets default 0.00000\n",
       "Scatter Plot    prior   default 0.73081\n",
       "                learns  default 0.45402\n",
       "                guesses default 0.59865\n",
       "                slips   default 0.04247\n",
       "                forgets default 0.00000"
      ]
     },
     "execution_count": 13,
     "metadata": {},
     "output_type": "execute_result"
    }
   ],
   "source": [
    "model.params()"
   ]
  },
  {
   "cell_type": "markdown",
   "metadata": {},
   "source": [
    "You can also enable forgetting, by setting the corresponding parameter in the fit method. "
   ]
  },
  {
   "cell_type": "code",
   "execution_count": 14,
   "metadata": {},
   "outputs": [
    {
     "name": "stdout",
     "output_type": "stream",
     "text": [
      "CPU times: user 143 ms, sys: 0 ns, total: 143 ms\n",
      "Wall time: 50.3 ms\n",
      "CPU times: user 102 ms, sys: 0 ns, total: 102 ms\n",
      "Wall time: 93 ms\n"
     ]
    },
    {
     "data": {
      "text/plain": [
       "0.4834541443428932"
      ]
     },
     "execution_count": 14,
     "metadata": {},
     "output_type": "execute_result"
    }
   ],
   "source": [
    "model = Model(seed=0)\n",
    "%time model.fit(data=as_data, skills='Box and Whisker', forgets=True) \n",
    "%time model.evaluate(data=as_data, metric='auc') "
   ]
  },
  {
   "cell_type": "code",
   "execution_count": 15,
   "metadata": {},
   "outputs": [
    {
     "data": {
      "text/html": [
       "<div>\n",
       "<style scoped>\n",
       "    .dataframe tbody tr th:only-of-type {\n",
       "        vertical-align: middle;\n",
       "    }\n",
       "\n",
       "    .dataframe tbody tr th {\n",
       "        vertical-align: top;\n",
       "    }\n",
       "\n",
       "    .dataframe thead th {\n",
       "        text-align: right;\n",
       "    }\n",
       "</style>\n",
       "<table border=\"1\" class=\"dataframe\">\n",
       "  <thead>\n",
       "    <tr style=\"text-align: right;\">\n",
       "      <th></th>\n",
       "      <th></th>\n",
       "      <th></th>\n",
       "      <th>value</th>\n",
       "    </tr>\n",
       "    <tr>\n",
       "      <th>skill</th>\n",
       "      <th>param</th>\n",
       "      <th>class</th>\n",
       "      <th></th>\n",
       "    </tr>\n",
       "  </thead>\n",
       "  <tbody>\n",
       "    <tr>\n",
       "      <th rowspan=\"5\" valign=\"top\">Box and Whisker</th>\n",
       "      <th>prior</th>\n",
       "      <th>default</th>\n",
       "      <td>0.19845</td>\n",
       "    </tr>\n",
       "    <tr>\n",
       "      <th>learns</th>\n",
       "      <th>default</th>\n",
       "      <td>0.43341</td>\n",
       "    </tr>\n",
       "    <tr>\n",
       "      <th>guesses</th>\n",
       "      <th>default</th>\n",
       "      <td>0.66018</td>\n",
       "    </tr>\n",
       "    <tr>\n",
       "      <th>slips</th>\n",
       "      <th>default</th>\n",
       "      <td>0.05477</td>\n",
       "    </tr>\n",
       "    <tr>\n",
       "      <th>forgets</th>\n",
       "      <th>default</th>\n",
       "      <td>0.97586</td>\n",
       "    </tr>\n",
       "  </tbody>\n",
       "</table>\n",
       "</div>"
      ],
      "text/plain": [
       "                                  value\n",
       "skill           param   class          \n",
       "Box and Whisker prior   default 0.19845\n",
       "                learns  default 0.43341\n",
       "                guesses default 0.66018\n",
       "                slips   default 0.05477\n",
       "                forgets default 0.97586"
      ]
     },
     "execution_count": 15,
     "metadata": {},
     "output_type": "execute_result"
    }
   ],
   "source": [
    "model.params()"
   ]
  },
  {
   "cell_type": "markdown",
   "metadata": {},
   "source": [
    "Or train a multiguess and slip BKT model on the same skills in the data set. The **multigs** model fits a different guess/slip rate for each class. Note that, with *multigs=True*, the guess and slip classes will be specified by the *template_id*. You can specify a custom column mapping by doing *multigs='column_name'*."
   ]
  },
  {
   "cell_type": "code",
   "execution_count": 16,
   "metadata": {},
   "outputs": [
    {
     "name": "stdout",
     "output_type": "stream",
     "text": [
      "CPU times: user 112 ms, sys: 3.73 ms, total: 116 ms\n",
      "Wall time: 56.7 ms\n",
      "CPU times: user 107 ms, sys: 3.91 ms, total: 111 ms\n",
      "Wall time: 40.5 ms\n"
     ]
    },
    {
     "data": {
      "text/plain": [
       "0.7369471583149491"
      ]
     },
     "execution_count": 16,
     "metadata": {},
     "output_type": "execute_result"
    }
   ],
   "source": [
    "model = Model(seed=0)\n",
    "%time model.fit(data=as_data, skills=['Box and Whisker'], multigs=True) \n",
    "%time model.evaluate(data=as_data, metric='auc') "
   ]
  },
  {
   "cell_type": "markdown",
   "metadata": {},
   "source": [
    "And finally, we show the BKT paramaters. By enabling *multigs*, the guess and slip classes will be specified by the template_id and, by setting *multigs=True*, the guess and slip classes will be specified by default by the template_id classes. Note that assistments with the same template ID have similar questions. What could you observe by looking at the different learned guesses and slips values below?"
   ]
  },
  {
   "cell_type": "code",
   "execution_count": 17,
   "metadata": {},
   "outputs": [
    {
     "data": {
      "text/html": [
       "<div>\n",
       "<style scoped>\n",
       "    .dataframe tbody tr th:only-of-type {\n",
       "        vertical-align: middle;\n",
       "    }\n",
       "\n",
       "    .dataframe tbody tr th {\n",
       "        vertical-align: top;\n",
       "    }\n",
       "\n",
       "    .dataframe thead th {\n",
       "        text-align: right;\n",
       "    }\n",
       "</style>\n",
       "<table border=\"1\" class=\"dataframe\">\n",
       "  <thead>\n",
       "    <tr style=\"text-align: right;\">\n",
       "      <th></th>\n",
       "      <th></th>\n",
       "      <th></th>\n",
       "      <th>value</th>\n",
       "    </tr>\n",
       "    <tr>\n",
       "      <th>skill</th>\n",
       "      <th>param</th>\n",
       "      <th>class</th>\n",
       "      <th></th>\n",
       "    </tr>\n",
       "  </thead>\n",
       "  <tbody>\n",
       "    <tr>\n",
       "      <th rowspan=\"15\" valign=\"top\">Box and Whisker</th>\n",
       "      <th>prior</th>\n",
       "      <th>default</th>\n",
       "      <td>0.38756</td>\n",
       "    </tr>\n",
       "    <tr>\n",
       "      <th>learns</th>\n",
       "      <th>default</th>\n",
       "      <td>0.34621</td>\n",
       "    </tr>\n",
       "    <tr>\n",
       "      <th rowspan=\"6\" valign=\"top\">guesses</th>\n",
       "      <th>30059</th>\n",
       "      <td>0.43443</td>\n",
       "    </tr>\n",
       "    <tr>\n",
       "      <th>30060</th>\n",
       "      <td>0.45661</td>\n",
       "    </tr>\n",
       "    <tr>\n",
       "      <th>30799</th>\n",
       "      <td>0.41586</td>\n",
       "    </tr>\n",
       "    <tr>\n",
       "      <th>63446</th>\n",
       "      <td>0.00000</td>\n",
       "    </tr>\n",
       "    <tr>\n",
       "      <th>63447</th>\n",
       "      <td>0.01527</td>\n",
       "    </tr>\n",
       "    <tr>\n",
       "      <th>63448</th>\n",
       "      <td>1.00000</td>\n",
       "    </tr>\n",
       "    <tr>\n",
       "      <th rowspan=\"6\" valign=\"top\">slips</th>\n",
       "      <th>30059</th>\n",
       "      <td>0.08182</td>\n",
       "    </tr>\n",
       "    <tr>\n",
       "      <th>30060</th>\n",
       "      <td>0.29641</td>\n",
       "    </tr>\n",
       "    <tr>\n",
       "      <th>30799</th>\n",
       "      <td>0.10474</td>\n",
       "    </tr>\n",
       "    <tr>\n",
       "      <th>63446</th>\n",
       "      <td>1.00000</td>\n",
       "    </tr>\n",
       "    <tr>\n",
       "      <th>63447</th>\n",
       "      <td>0.78238</td>\n",
       "    </tr>\n",
       "    <tr>\n",
       "      <th>63448</th>\n",
       "      <td>0.00000</td>\n",
       "    </tr>\n",
       "    <tr>\n",
       "      <th>forgets</th>\n",
       "      <th>default</th>\n",
       "      <td>0.00000</td>\n",
       "    </tr>\n",
       "  </tbody>\n",
       "</table>\n",
       "</div>"
      ],
      "text/plain": [
       "                                  value\n",
       "skill           param   class          \n",
       "Box and Whisker prior   default 0.38756\n",
       "                learns  default 0.34621\n",
       "                guesses 30059   0.43443\n",
       "                        30060   0.45661\n",
       "                        30799   0.41586\n",
       "                        63446   0.00000\n",
       "                        63447   0.01527\n",
       "                        63448   1.00000\n",
       "                slips   30059   0.08182\n",
       "                        30060   0.29641\n",
       "                        30799   0.10474\n",
       "                        63446   1.00000\n",
       "                        63447   0.78238\n",
       "                        63448   0.00000\n",
       "                forgets default 0.00000"
      ]
     },
     "execution_count": 17,
     "metadata": {},
     "output_type": "execute_result"
    }
   ],
   "source": [
    "model.params()"
   ]
  },
  {
   "cell_type": "markdown",
   "metadata": {},
   "source": [
    "The **multilearn** model fits a different learn rate (and forget rate if enabled) rate for each class specified. Note that, with multilearn=True, the learn classes are specified by the *template_id*. You can specify a custom column mapping by doing *multilearn='column_name'*."
   ]
  },
  {
   "cell_type": "code",
   "execution_count": 18,
   "metadata": {},
   "outputs": [
    {
     "name": "stdout",
     "output_type": "stream",
     "text": [
      "CPU times: user 104 ms, sys: 6.28 ms, total: 111 ms\n",
      "Wall time: 53.8 ms\n",
      "CPU times: user 78.5 ms, sys: 5.82 ms, total: 84.4 ms\n",
      "Wall time: 67.4 ms\n"
     ]
    },
    {
     "data": {
      "text/plain": [
       "0.5689148019749974"
      ]
     },
     "execution_count": 18,
     "metadata": {},
     "output_type": "execute_result"
    }
   ],
   "source": [
    "model = Model(seed=0)\n",
    "%time model.fit(data=as_data, skills=['Box and Whisker'], multilearn=True) \n",
    "%time model.evaluate(data=as_data, metric='auc') "
   ]
  },
  {
   "cell_type": "markdown",
   "metadata": {},
   "source": [
    "Looking at the parameters, we will observe a 'leanrs' score for each template_id (the class column in the paras dataframe). In this case, what could you observe by looking at the different leanrs values below?    "
   ]
  },
  {
   "cell_type": "code",
   "execution_count": 19,
   "metadata": {},
   "outputs": [
    {
     "data": {
      "text/html": [
       "<div>\n",
       "<style scoped>\n",
       "    .dataframe tbody tr th:only-of-type {\n",
       "        vertical-align: middle;\n",
       "    }\n",
       "\n",
       "    .dataframe tbody tr th {\n",
       "        vertical-align: top;\n",
       "    }\n",
       "\n",
       "    .dataframe thead th {\n",
       "        text-align: right;\n",
       "    }\n",
       "</style>\n",
       "<table border=\"1\" class=\"dataframe\">\n",
       "  <thead>\n",
       "    <tr style=\"text-align: right;\">\n",
       "      <th></th>\n",
       "      <th></th>\n",
       "      <th></th>\n",
       "      <th>value</th>\n",
       "    </tr>\n",
       "    <tr>\n",
       "      <th>skill</th>\n",
       "      <th>param</th>\n",
       "      <th>class</th>\n",
       "      <th></th>\n",
       "    </tr>\n",
       "  </thead>\n",
       "  <tbody>\n",
       "    <tr>\n",
       "      <th rowspan=\"15\" valign=\"top\">Box and Whisker</th>\n",
       "      <th>prior</th>\n",
       "      <th>default</th>\n",
       "      <td>0.95268</td>\n",
       "    </tr>\n",
       "    <tr>\n",
       "      <th rowspan=\"6\" valign=\"top\">learns</th>\n",
       "      <th>30059</th>\n",
       "      <td>0.01051</td>\n",
       "    </tr>\n",
       "    <tr>\n",
       "      <th>30060</th>\n",
       "      <td>0.30249</td>\n",
       "    </tr>\n",
       "    <tr>\n",
       "      <th>30799</th>\n",
       "      <td>0.19983</td>\n",
       "    </tr>\n",
       "    <tr>\n",
       "      <th>63446</th>\n",
       "      <td>0.78892</td>\n",
       "    </tr>\n",
       "    <tr>\n",
       "      <th>63447</th>\n",
       "      <td>0.62617</td>\n",
       "    </tr>\n",
       "    <tr>\n",
       "      <th>63448</th>\n",
       "      <td>0.26201</td>\n",
       "    </tr>\n",
       "    <tr>\n",
       "      <th>guesses</th>\n",
       "      <th>default</th>\n",
       "      <td>0.04810</td>\n",
       "    </tr>\n",
       "    <tr>\n",
       "      <th>slips</th>\n",
       "      <th>default</th>\n",
       "      <td>0.23229</td>\n",
       "    </tr>\n",
       "    <tr>\n",
       "      <th rowspan=\"6\" valign=\"top\">forgets</th>\n",
       "      <th>30059</th>\n",
       "      <td>0.00000</td>\n",
       "    </tr>\n",
       "    <tr>\n",
       "      <th>30060</th>\n",
       "      <td>0.00000</td>\n",
       "    </tr>\n",
       "    <tr>\n",
       "      <th>30799</th>\n",
       "      <td>0.00000</td>\n",
       "    </tr>\n",
       "    <tr>\n",
       "      <th>63446</th>\n",
       "      <td>0.00000</td>\n",
       "    </tr>\n",
       "    <tr>\n",
       "      <th>63447</th>\n",
       "      <td>0.00000</td>\n",
       "    </tr>\n",
       "    <tr>\n",
       "      <th>63448</th>\n",
       "      <td>0.00000</td>\n",
       "    </tr>\n",
       "  </tbody>\n",
       "</table>\n",
       "</div>"
      ],
      "text/plain": [
       "                                  value\n",
       "skill           param   class          \n",
       "Box and Whisker prior   default 0.95268\n",
       "                learns  30059   0.01051\n",
       "                        30060   0.30249\n",
       "                        30799   0.19983\n",
       "                        63446   0.78892\n",
       "                        63447   0.62617\n",
       "                        63448   0.26201\n",
       "                guesses default 0.04810\n",
       "                slips   default 0.23229\n",
       "                forgets 30059   0.00000\n",
       "                        30060   0.00000\n",
       "                        30799   0.00000\n",
       "                        63446   0.00000\n",
       "                        63447   0.00000\n",
       "                        63448   0.00000"
      ]
     },
     "execution_count": 19,
     "metadata": {},
     "output_type": "execute_result"
    }
   ],
   "source": [
    "model.params()"
   ]
  },
  {
   "cell_type": "markdown",
   "metadata": {},
   "source": [
    "You can also combine multiple variants, and use a different column to specify the different learn and forget classes. In this case, we use user_id, assuming that we are interested in learning the parameters for each student, and we also enable forgetting. "
   ]
  },
  {
   "cell_type": "code",
   "execution_count": 20,
   "metadata": {},
   "outputs": [
    {
     "name": "stdout",
     "output_type": "stream",
     "text": [
      "CPU times: user 564 ms, sys: 0 ns, total: 564 ms\n",
      "Wall time: 239 ms\n",
      "CPU times: user 118 ms, sys: 0 ns, total: 118 ms\n",
      "Wall time: 128 ms\n"
     ]
    },
    {
     "data": {
      "text/plain": [
       "0.6519067128900095"
      ]
     },
     "execution_count": 20,
     "metadata": {},
     "output_type": "execute_result"
    }
   ],
   "source": [
    "model = Model(seed=0)\n",
    "%time model.fit(data=as_data, skills=['Box and Whisker'], forgets=True, multilearn='user_id') \n",
    "%time model.evaluate(data=as_data, metric='auc') "
   ]
  },
  {
   "cell_type": "markdown",
   "metadata": {},
   "source": [
    "Once we run a BKT model with *forgets=True* and *multilearn='user_id'*, we will observe individual scores for each student, as shown below. "
   ]
  },
  {
   "cell_type": "code",
   "execution_count": 21,
   "metadata": {},
   "outputs": [
    {
     "data": {
      "text/html": [
       "<div>\n",
       "<style scoped>\n",
       "    .dataframe tbody tr th:only-of-type {\n",
       "        vertical-align: middle;\n",
       "    }\n",
       "\n",
       "    .dataframe tbody tr th {\n",
       "        vertical-align: top;\n",
       "    }\n",
       "\n",
       "    .dataframe thead th {\n",
       "        text-align: right;\n",
       "    }\n",
       "</style>\n",
       "<table border=\"1\" class=\"dataframe\">\n",
       "  <thead>\n",
       "    <tr style=\"text-align: right;\">\n",
       "      <th></th>\n",
       "      <th></th>\n",
       "      <th></th>\n",
       "      <th>value</th>\n",
       "    </tr>\n",
       "    <tr>\n",
       "      <th>skill</th>\n",
       "      <th>param</th>\n",
       "      <th>class</th>\n",
       "      <th></th>\n",
       "    </tr>\n",
       "  </thead>\n",
       "  <tbody>\n",
       "    <tr>\n",
       "      <th rowspan=\"59\" valign=\"top\">Box and Whisker</th>\n",
       "      <th>prior</th>\n",
       "      <th>default</th>\n",
       "      <td>0.61881</td>\n",
       "    </tr>\n",
       "    <tr>\n",
       "      <th rowspan=\"28\" valign=\"top\">learns</th>\n",
       "      <th>70733</th>\n",
       "      <td>0.70303</td>\n",
       "    </tr>\n",
       "    <tr>\n",
       "      <th>70872</th>\n",
       "      <td>0.81995</td>\n",
       "    </tr>\n",
       "    <tr>\n",
       "      <th>72059</th>\n",
       "      <td>0.58669</td>\n",
       "    </tr>\n",
       "    <tr>\n",
       "      <th>79748</th>\n",
       "      <td>0.81995</td>\n",
       "    </tr>\n",
       "    <tr>\n",
       "      <th>79750</th>\n",
       "      <td>0.85534</td>\n",
       "    </tr>\n",
       "    <tr>\n",
       "      <th>79769</th>\n",
       "      <td>0.70574</td>\n",
       "    </tr>\n",
       "    <tr>\n",
       "      <th>81641</th>\n",
       "      <td>0.39522</td>\n",
       "    </tr>\n",
       "    <tr>\n",
       "      <th>82482</th>\n",
       "      <td>0.83914</td>\n",
       "    </tr>\n",
       "    <tr>\n",
       "      <th>82533</th>\n",
       "      <td>0.85658</td>\n",
       "    </tr>\n",
       "    <tr>\n",
       "      <th>83169</th>\n",
       "      <td>0.81995</td>\n",
       "    </tr>\n",
       "    <tr>\n",
       "      <th>84316</th>\n",
       "      <td>0.61323</td>\n",
       "    </tr>\n",
       "    <tr>\n",
       "      <th>85725</th>\n",
       "      <td>0.84793</td>\n",
       "    </tr>\n",
       "    <tr>\n",
       "      <th>86489</th>\n",
       "      <td>0.74909</td>\n",
       "    </tr>\n",
       "    <tr>\n",
       "      <th>91260</th>\n",
       "      <td>0.81995</td>\n",
       "    </tr>\n",
       "    <tr>\n",
       "      <th>91301</th>\n",
       "      <td>0.81995</td>\n",
       "    </tr>\n",
       "    <tr>\n",
       "      <th>91406</th>\n",
       "      <td>0.85658</td>\n",
       "    </tr>\n",
       "    <tr>\n",
       "      <th>91409</th>\n",
       "      <td>0.81059</td>\n",
       "    </tr>\n",
       "    <tr>\n",
       "      <th>91436</th>\n",
       "      <td>0.17745</td>\n",
       "    </tr>\n",
       "    <tr>\n",
       "      <th>91459</th>\n",
       "      <td>0.83204</td>\n",
       "    </tr>\n",
       "    <tr>\n",
       "      <th>96217</th>\n",
       "      <td>0.78010</td>\n",
       "    </tr>\n",
       "    <tr>\n",
       "      <th>96242</th>\n",
       "      <td>0.58669</td>\n",
       "    </tr>\n",
       "    <tr>\n",
       "      <th>96248</th>\n",
       "      <td>0.45810</td>\n",
       "    </tr>\n",
       "    <tr>\n",
       "      <th>96249</th>\n",
       "      <td>0.61078</td>\n",
       "    </tr>\n",
       "    <tr>\n",
       "      <th>96266</th>\n",
       "      <td>0.81995</td>\n",
       "    </tr>\n",
       "    <tr>\n",
       "      <th>96268</th>\n",
       "      <td>0.46552</td>\n",
       "    </tr>\n",
       "    <tr>\n",
       "      <th>96292</th>\n",
       "      <td>0.58205</td>\n",
       "    </tr>\n",
       "    <tr>\n",
       "      <th>96294</th>\n",
       "      <td>0.83803</td>\n",
       "    </tr>\n",
       "    <tr>\n",
       "      <th>96296</th>\n",
       "      <td>0.75199</td>\n",
       "    </tr>\n",
       "    <tr>\n",
       "      <th>guesses</th>\n",
       "      <th>default</th>\n",
       "      <td>0.31468</td>\n",
       "    </tr>\n",
       "    <tr>\n",
       "      <th>slips</th>\n",
       "      <th>default</th>\n",
       "      <td>0.20651</td>\n",
       "    </tr>\n",
       "    <tr>\n",
       "      <th rowspan=\"28\" valign=\"top\">forgets</th>\n",
       "      <th>70733</th>\n",
       "      <td>0.01338</td>\n",
       "    </tr>\n",
       "    <tr>\n",
       "      <th>70872</th>\n",
       "      <td>0.00534</td>\n",
       "    </tr>\n",
       "    <tr>\n",
       "      <th>72059</th>\n",
       "      <td>0.01321</td>\n",
       "    </tr>\n",
       "    <tr>\n",
       "      <th>79748</th>\n",
       "      <td>0.00534</td>\n",
       "    </tr>\n",
       "    <tr>\n",
       "      <th>79750</th>\n",
       "      <td>0.00469</td>\n",
       "    </tr>\n",
       "    <tr>\n",
       "      <th>79769</th>\n",
       "      <td>0.01103</td>\n",
       "    </tr>\n",
       "    <tr>\n",
       "      <th>81641</th>\n",
       "      <td>0.04082</td>\n",
       "    </tr>\n",
       "    <tr>\n",
       "      <th>82482</th>\n",
       "      <td>0.00778</td>\n",
       "    </tr>\n",
       "    <tr>\n",
       "      <th>82533</th>\n",
       "      <td>0.00427</td>\n",
       "    </tr>\n",
       "    <tr>\n",
       "      <th>83169</th>\n",
       "      <td>0.00534</td>\n",
       "    </tr>\n",
       "    <tr>\n",
       "      <th>84316</th>\n",
       "      <td>0.01565</td>\n",
       "    </tr>\n",
       "    <tr>\n",
       "      <th>85725</th>\n",
       "      <td>0.00503</td>\n",
       "    </tr>\n",
       "    <tr>\n",
       "      <th>86489</th>\n",
       "      <td>0.01418</td>\n",
       "    </tr>\n",
       "    <tr>\n",
       "      <th>91260</th>\n",
       "      <td>0.00534</td>\n",
       "    </tr>\n",
       "    <tr>\n",
       "      <th>91301</th>\n",
       "      <td>0.00534</td>\n",
       "    </tr>\n",
       "    <tr>\n",
       "      <th>91406</th>\n",
       "      <td>0.00427</td>\n",
       "    </tr>\n",
       "    <tr>\n",
       "      <th>91409</th>\n",
       "      <td>0.01253</td>\n",
       "    </tr>\n",
       "    <tr>\n",
       "      <th>91436</th>\n",
       "      <td>0.08658</td>\n",
       "    </tr>\n",
       "    <tr>\n",
       "      <th>91459</th>\n",
       "      <td>0.00965</td>\n",
       "    </tr>\n",
       "    <tr>\n",
       "      <th>96217</th>\n",
       "      <td>0.01110</td>\n",
       "    </tr>\n",
       "    <tr>\n",
       "      <th>96242</th>\n",
       "      <td>0.01321</td>\n",
       "    </tr>\n",
       "    <tr>\n",
       "      <th>96248</th>\n",
       "      <td>0.02098</td>\n",
       "    </tr>\n",
       "    <tr>\n",
       "      <th>96249</th>\n",
       "      <td>0.01725</td>\n",
       "    </tr>\n",
       "    <tr>\n",
       "      <th>96266</th>\n",
       "      <td>0.00534</td>\n",
       "    </tr>\n",
       "    <tr>\n",
       "      <th>96268</th>\n",
       "      <td>0.01904</td>\n",
       "    </tr>\n",
       "    <tr>\n",
       "      <th>96292</th>\n",
       "      <td>0.02652</td>\n",
       "    </tr>\n",
       "    <tr>\n",
       "      <th>96294</th>\n",
       "      <td>0.00821</td>\n",
       "    </tr>\n",
       "    <tr>\n",
       "      <th>96296</th>\n",
       "      <td>0.01186</td>\n",
       "    </tr>\n",
       "  </tbody>\n",
       "</table>\n",
       "</div>"
      ],
      "text/plain": [
       "                                  value\n",
       "skill           param   class          \n",
       "Box and Whisker prior   default 0.61881\n",
       "                learns  70733   0.70303\n",
       "                        70872   0.81995\n",
       "                        72059   0.58669\n",
       "                        79748   0.81995\n",
       "                        79750   0.85534\n",
       "                        79769   0.70574\n",
       "                        81641   0.39522\n",
       "                        82482   0.83914\n",
       "                        82533   0.85658\n",
       "                        83169   0.81995\n",
       "                        84316   0.61323\n",
       "                        85725   0.84793\n",
       "                        86489   0.74909\n",
       "                        91260   0.81995\n",
       "                        91301   0.81995\n",
       "                        91406   0.85658\n",
       "                        91409   0.81059\n",
       "                        91436   0.17745\n",
       "                        91459   0.83204\n",
       "                        96217   0.78010\n",
       "                        96242   0.58669\n",
       "                        96248   0.45810\n",
       "                        96249   0.61078\n",
       "                        96266   0.81995\n",
       "                        96268   0.46552\n",
       "                        96292   0.58205\n",
       "                        96294   0.83803\n",
       "                        96296   0.75199\n",
       "                guesses default 0.31468\n",
       "                slips   default 0.20651\n",
       "                forgets 70733   0.01338\n",
       "                        70872   0.00534\n",
       "                        72059   0.01321\n",
       "                        79748   0.00534\n",
       "                        79750   0.00469\n",
       "                        79769   0.01103\n",
       "                        81641   0.04082\n",
       "                        82482   0.00778\n",
       "                        82533   0.00427\n",
       "                        83169   0.00534\n",
       "                        84316   0.01565\n",
       "                        85725   0.00503\n",
       "                        86489   0.01418\n",
       "                        91260   0.00534\n",
       "                        91301   0.00534\n",
       "                        91406   0.00427\n",
       "                        91409   0.01253\n",
       "                        91436   0.08658\n",
       "                        91459   0.00965\n",
       "                        96217   0.01110\n",
       "                        96242   0.01321\n",
       "                        96248   0.02098\n",
       "                        96249   0.01725\n",
       "                        96266   0.00534\n",
       "                        96268   0.01904\n",
       "                        96292   0.02652\n",
       "                        96294   0.00821\n",
       "                        96296   0.01186"
      ]
     },
     "execution_count": 21,
     "metadata": {},
     "output_type": "execute_result"
    }
   ],
   "source": [
    "model.params()"
   ]
  },
  {
   "cell_type": "markdown",
   "metadata": {},
   "source": [
    "The best performing models are typically those that combine several useful variants, such as the multilearn and multiguess/slip class variants. After this lab session, you might be interested in testing with other skills and see whether this observations is true for other skills as well."
   ]
  },
  {
   "cell_type": "markdown",
   "metadata": {},
   "source": [
    "### Make predictions\n",
    "\n",
    "As we said, the predict method can be executed on the trained BKT model, obtaining a dictionary mapping skills to predicted\n",
    "values for those skills, namely correct_predictions (each score is between 0 and 1 that measures the extent to which the model thinks that the student will answer correctly to that question) and state_predictions (each score between 0 and 1 that measures the extent to which the student has mastered that skill, after that question).\n",
    "        \n",
    "        \n",
    "Note that, in the example below, we have run the BKT fitting process on the full dataset, to understand how well the BKT model can fit the data. Evaluation methods like cross-validation will be presented slightly after in this notebook."
   ]
  },
  {
   "cell_type": "code",
   "execution_count": 22,
   "metadata": {},
   "outputs": [
    {
     "name": "stdout",
     "output_type": "stream",
     "text": [
      "CPU times: user 103 ms, sys: 2.72 ms, total: 106 ms\n",
      "Wall time: 51.2 ms\n",
      "CPU times: user 129 ms, sys: 0 ns, total: 129 ms\n",
      "Wall time: 71.9 ms\n",
      "CPU times: user 50.8 ms, sys: 3.36 ms, total: 54.2 ms\n",
      "Wall time: 47.1 ms\n"
     ]
    }
   ],
   "source": [
    "model = Model(seed=0)\n",
    "%time model.fit(data=as_data, skills='Box and Whisker') \n",
    "%time model.evaluate(data=as_data, metric='auc') \n",
    "%time preds = model.predict(data=as_data)"
   ]
  },
  {
   "cell_type": "code",
   "execution_count": 23,
   "metadata": {},
   "outputs": [
    {
     "data": {
      "text/html": [
       "<div>\n",
       "<style scoped>\n",
       "    .dataframe tbody tr th:only-of-type {\n",
       "        vertical-align: middle;\n",
       "    }\n",
       "\n",
       "    .dataframe tbody tr th {\n",
       "        vertical-align: top;\n",
       "    }\n",
       "\n",
       "    .dataframe thead th {\n",
       "        text-align: right;\n",
       "    }\n",
       "</style>\n",
       "<table border=\"1\" class=\"dataframe\">\n",
       "  <thead>\n",
       "    <tr style=\"text-align: right;\">\n",
       "      <th></th>\n",
       "      <th>user_id</th>\n",
       "      <th>correct</th>\n",
       "      <th>correct_predictions</th>\n",
       "      <th>state_predictions</th>\n",
       "    </tr>\n",
       "  </thead>\n",
       "  <tbody>\n",
       "    <tr>\n",
       "      <th>0</th>\n",
       "      <td>70733</td>\n",
       "      <td>0</td>\n",
       "      <td>0.64311</td>\n",
       "      <td>0.74226</td>\n",
       "    </tr>\n",
       "    <tr>\n",
       "      <th>1</th>\n",
       "      <td>70733</td>\n",
       "      <td>1</td>\n",
       "      <td>0.59482</td>\n",
       "      <td>0.65663</td>\n",
       "    </tr>\n",
       "    <tr>\n",
       "      <th>2</th>\n",
       "      <td>70733</td>\n",
       "      <td>0</td>\n",
       "      <td>0.74369</td>\n",
       "      <td>0.92057</td>\n",
       "    </tr>\n",
       "    <tr>\n",
       "      <th>3</th>\n",
       "      <td>70733</td>\n",
       "      <td>1</td>\n",
       "      <td>0.70539</td>\n",
       "      <td>0.85266</td>\n",
       "    </tr>\n",
       "    <tr>\n",
       "      <th>4</th>\n",
       "      <td>70733</td>\n",
       "      <td>1</td>\n",
       "      <td>0.77228</td>\n",
       "      <td>0.97126</td>\n",
       "    </tr>\n",
       "    <tr>\n",
       "      <th>...</th>\n",
       "      <td>...</td>\n",
       "      <td>...</td>\n",
       "      <td>...</td>\n",
       "      <td>...</td>\n",
       "    </tr>\n",
       "    <tr>\n",
       "      <th>219</th>\n",
       "      <td>96296</td>\n",
       "      <td>1</td>\n",
       "      <td>0.78849</td>\n",
       "      <td>1.00000</td>\n",
       "    </tr>\n",
       "    <tr>\n",
       "      <th>220</th>\n",
       "      <td>96296</td>\n",
       "      <td>1</td>\n",
       "      <td>0.78849</td>\n",
       "      <td>1.00000</td>\n",
       "    </tr>\n",
       "    <tr>\n",
       "      <th>221</th>\n",
       "      <td>96296</td>\n",
       "      <td>1</td>\n",
       "      <td>0.78849</td>\n",
       "      <td>1.00000</td>\n",
       "    </tr>\n",
       "    <tr>\n",
       "      <th>222</th>\n",
       "      <td>96296</td>\n",
       "      <td>1</td>\n",
       "      <td>0.78849</td>\n",
       "      <td>1.00000</td>\n",
       "    </tr>\n",
       "    <tr>\n",
       "      <th>223</th>\n",
       "      <td>96296</td>\n",
       "      <td>1</td>\n",
       "      <td>0.78849</td>\n",
       "      <td>1.00000</td>\n",
       "    </tr>\n",
       "  </tbody>\n",
       "</table>\n",
       "<p>224 rows × 4 columns</p>\n",
       "</div>"
      ],
      "text/plain": [
       "     user_id  correct  correct_predictions  state_predictions\n",
       "0      70733        0              0.64311            0.74226\n",
       "1      70733        1              0.59482            0.65663\n",
       "2      70733        0              0.74369            0.92057\n",
       "3      70733        1              0.70539            0.85266\n",
       "4      70733        1              0.77228            0.97126\n",
       "..       ...      ...                  ...                ...\n",
       "219    96296        1              0.78849            1.00000\n",
       "220    96296        1              0.78849            1.00000\n",
       "221    96296        1              0.78849            1.00000\n",
       "222    96296        1              0.78849            1.00000\n",
       "223    96296        1              0.78849            1.00000\n",
       "\n",
       "[224 rows x 4 columns]"
      ]
     },
     "execution_count": 23,
     "metadata": {},
     "output_type": "execute_result"
    }
   ],
   "source": [
    "preds[preds['skill_name']=='Box and Whisker'][['user_id', 'correct', 'correct_predictions', 'state_predictions']]"
   ]
  },
  {
   "cell_type": "markdown",
   "metadata": {},
   "source": [
    "Note that, if the BKT model is asked to predict on skills not included in the training set, the output predictions for that skills will be a best effort guess of 0.5 for both the correct and state predictions."
   ]
  },
  {
   "cell_type": "markdown",
   "metadata": {},
   "source": [
    "### Extend the evaluation\n",
    "\n",
    "The pyBKT package makes also possible to extend the range of metrics you can compute while evaluating a BKT model. To this end, you need to define a custom function that, given true_vals (true values for the correct target) and pred_vals (the predicted values for the correct target), computes and returns the score corresponding to the desired metric.  "
   ]
  },
  {
   "cell_type": "code",
   "execution_count": 24,
   "metadata": {},
   "outputs": [
    {
     "name": "stdout",
     "output_type": "stream",
     "text": [
      "CPU times: user 44.4 ms, sys: 4.12 ms, total: 48.5 ms\n",
      "Wall time: 46.8 ms\n"
     ]
    },
    {
     "data": {
      "text/plain": [
       "0.3700577405516653"
      ]
     },
     "execution_count": 24,
     "metadata": {},
     "output_type": "execute_result"
    }
   ],
   "source": [
    "def mae(true_vals, pred_vals):\n",
    "    return np.mean(np.abs(true_vals - pred_vals))\n",
    "\n",
    "%time model.evaluate(data=as_data, metric=mae)"
   ]
  },
  {
   "cell_type": "markdown",
   "metadata": {},
   "source": [
    "### Perform cross validation\n",
    "\n",
    "Finally, the pyBKT package offers also a cross-validation method. You can specify the number of folds, a seed, and a metric (one of the three default ones, namely 'rmse', 'auc' or 'accuracy', or a custom Python function as we have see above). Furthermore, simialrly to the fit method, arguments for cross-validation a BKT variant and for defining the data path/data and skill names are accepted.  "
   ]
  },
  {
   "cell_type": "code",
   "execution_count": 25,
   "metadata": {},
   "outputs": [
    {
     "name": "stdout",
     "output_type": "stream",
     "text": [
      "CPU times: user 1.01 s, sys: 0 ns, total: 1.01 s\n",
      "Wall time: 458 ms\n"
     ]
    },
    {
     "data": {
      "text/html": [
       "<div>\n",
       "<style scoped>\n",
       "    .dataframe tbody tr th:only-of-type {\n",
       "        vertical-align: middle;\n",
       "    }\n",
       "\n",
       "    .dataframe tbody tr th {\n",
       "        vertical-align: top;\n",
       "    }\n",
       "\n",
       "    .dataframe thead th {\n",
       "        text-align: right;\n",
       "    }\n",
       "</style>\n",
       "<table border=\"1\" class=\"dataframe\">\n",
       "  <thead>\n",
       "    <tr style=\"text-align: right;\">\n",
       "      <th></th>\n",
       "      <th>auc</th>\n",
       "    </tr>\n",
       "    <tr>\n",
       "      <th>skill</th>\n",
       "      <th></th>\n",
       "    </tr>\n",
       "  </thead>\n",
       "  <tbody>\n",
       "    <tr>\n",
       "      <th>Box and Whisker</th>\n",
       "      <td>0.54825</td>\n",
       "    </tr>\n",
       "  </tbody>\n",
       "</table>\n",
       "</div>"
      ],
      "text/plain": [
       "                    auc\n",
       "skill                  \n",
       "Box and Whisker 0.54825"
      ]
     },
     "execution_count": 25,
     "metadata": {},
     "output_type": "execute_result"
    }
   ],
   "source": [
    "model = Model(seed=0)\n",
    "%time model.crossvalidate(data=as_data, skills='Box and Whisker', folds=5, metric='auc')"
   ]
  },
  {
   "cell_type": "markdown",
   "metadata": {},
   "source": [
    "In this showcase, we just opted to five folds due to the time constraints. In the other cases, you need to select an appropriate number of folds based on the data you are dealing with, as discussed in the lectures.  "
   ]
  },
  {
   "cell_type": "markdown",
   "metadata": {},
   "source": [
    "## Exercises\n",
    "---\n",
    "\n",
    "That's your turn! We ask you to complete the following exercises. In case you do not finish them during the lab session, please feel free to complete later, at your earliest convenience. TAs are happy to address any question or doubts you might have.\n",
    "\n",
    "Kindly note that the following exercises have the goal of supporting you in getting familiar with the library functions, and may not fully represent the sequences of steps and the design choices made in a real-world or homework scenario. Elements concerning the latter scenarios will be discussed during the session. Furthermore, due to running time constraints, the following exercises will be run in a train-test split or full data set mode, while we leave the opportunity to run them under a cross-validation setting after this lab session.     \n",
    "\n",
    "In all your models, we ask you to set the *seed* to 0, to let you reproduce the same results across different runs.\n",
    "\n",
    "Note that the expected running time may vary according to the device or environment. "
   ]
  },
  {
   "cell_type": "markdown",
   "metadata": {},
   "source": [
    "#### Question 1 [expected total time for BKT fitting: 2 mins]\n",
    "\n",
    "- Fit a BKT model with default parameters on the full data set, only for the skill 'Addition and Subtraction Integers'. \n",
    "- Compute the correct predictions from the BKT model, by using the predict method of the Model class. \n",
    "- Manually calculate the RMSE between the true correct value and the predicted correct value (refer to Slide 51 of Lecture 4 to get the RMSE formula). \n",
    "- Compare with the RMSE returned by the evaluate method of the BKT model. "
   ]
  },
  {
   "cell_type": "code",
   "execution_count": 1,
   "metadata": {},
   "outputs": [],
   "source": [
    "### EXERCISE CELL ###"
   ]
  },
  {
   "cell_type": "code",
   "execution_count": 50,
   "metadata": {},
   "outputs": [],
   "source": [
    "data_subset = as_data.query(\"skill_name == 'Addition and Subtraction Integers'\")"
   ]
  },
  {
   "cell_type": "code",
   "execution_count": 38,
   "metadata": {},
   "outputs": [],
   "source": [
    "def manual_rmse(true_vals, pred_vals):\n",
    "    mse = np.square(np.subtract(true_vals,pred_vals)).mean() \n",
    "    rmse = math.sqrt(mse)\n",
    "    return rmse\n"
   ]
  },
  {
   "cell_type": "code",
   "execution_count": 40,
   "metadata": {},
   "outputs": [
    {
     "name": "stdout",
     "output_type": "stream",
     "text": [
      "CPU times: user 193 ms, sys: 3.41 ms, total: 196 ms\n",
      "Wall time: 73 ms\n",
      "CPU times: user 119 ms, sys: 4.11 ms, total: 123 ms\n",
      "Wall time: 94.9 ms\n",
      "0.46373738355803534\n",
      "CPU times: user 62.8 ms, sys: 0 ns, total: 62.8 ms\n",
      "Wall time: 14.1 ms\n",
      "0.46373738355803484\n",
      "CPU times: user 164 ms, sys: 1.26 ms, total: 165 ms\n",
      "Wall time: 85.5 ms\n"
     ]
    }
   ],
   "source": [
    "model = Model(seed=0)\n",
    "\n",
    "%time model.fit(data=as_data, skills='Addition and Subtraction Integers') \n",
    "%time preds = model.predict(data=data_subset)\n",
    "%time print(model.evaluate(data=data_subset, metric=manual_rmse) )\n",
    "%time print(model.evaluate(data=data_subset, metric='rmse')) "
   ]
  },
  {
   "cell_type": "code",
   "execution_count": 35,
   "metadata": {},
   "outputs": [
    {
     "data": {
      "text/html": [
       "<div>\n",
       "<style scoped>\n",
       "    .dataframe tbody tr th:only-of-type {\n",
       "        vertical-align: middle;\n",
       "    }\n",
       "\n",
       "    .dataframe tbody tr th {\n",
       "        vertical-align: top;\n",
       "    }\n",
       "\n",
       "    .dataframe thead th {\n",
       "        text-align: right;\n",
       "    }\n",
       "</style>\n",
       "<table border=\"1\" class=\"dataframe\">\n",
       "  <thead>\n",
       "    <tr style=\"text-align: right;\">\n",
       "      <th></th>\n",
       "      <th>user_id</th>\n",
       "      <th>correct</th>\n",
       "      <th>correct_predictions</th>\n",
       "      <th>state_predictions</th>\n",
       "    </tr>\n",
       "  </thead>\n",
       "  <tbody>\n",
       "    <tr>\n",
       "      <th>14461</th>\n",
       "      <td>64634</td>\n",
       "      <td>1</td>\n",
       "      <td>0.50000</td>\n",
       "      <td>0.50000</td>\n",
       "    </tr>\n",
       "    <tr>\n",
       "      <th>14462</th>\n",
       "      <td>64634</td>\n",
       "      <td>0</td>\n",
       "      <td>0.50000</td>\n",
       "      <td>0.50000</td>\n",
       "    </tr>\n",
       "    <tr>\n",
       "      <th>14463</th>\n",
       "      <td>64634</td>\n",
       "      <td>1</td>\n",
       "      <td>0.50000</td>\n",
       "      <td>0.50000</td>\n",
       "    </tr>\n",
       "    <tr>\n",
       "      <th>14464</th>\n",
       "      <td>64634</td>\n",
       "      <td>1</td>\n",
       "      <td>0.50000</td>\n",
       "      <td>0.50000</td>\n",
       "    </tr>\n",
       "    <tr>\n",
       "      <th>14465</th>\n",
       "      <td>64634</td>\n",
       "      <td>0</td>\n",
       "      <td>0.50000</td>\n",
       "      <td>0.50000</td>\n",
       "    </tr>\n",
       "    <tr>\n",
       "      <th>...</th>\n",
       "      <td>...</td>\n",
       "      <td>...</td>\n",
       "      <td>...</td>\n",
       "      <td>...</td>\n",
       "    </tr>\n",
       "    <tr>\n",
       "      <th>15279</th>\n",
       "      <td>96292</td>\n",
       "      <td>1</td>\n",
       "      <td>0.50000</td>\n",
       "      <td>0.50000</td>\n",
       "    </tr>\n",
       "    <tr>\n",
       "      <th>15280</th>\n",
       "      <td>96294</td>\n",
       "      <td>1</td>\n",
       "      <td>0.50000</td>\n",
       "      <td>0.50000</td>\n",
       "    </tr>\n",
       "    <tr>\n",
       "      <th>15281</th>\n",
       "      <td>96294</td>\n",
       "      <td>1</td>\n",
       "      <td>0.50000</td>\n",
       "      <td>0.50000</td>\n",
       "    </tr>\n",
       "    <tr>\n",
       "      <th>15282</th>\n",
       "      <td>96296</td>\n",
       "      <td>1</td>\n",
       "      <td>0.50000</td>\n",
       "      <td>0.50000</td>\n",
       "    </tr>\n",
       "    <tr>\n",
       "      <th>15283</th>\n",
       "      <td>96296</td>\n",
       "      <td>1</td>\n",
       "      <td>0.50000</td>\n",
       "      <td>0.50000</td>\n",
       "    </tr>\n",
       "  </tbody>\n",
       "</table>\n",
       "<p>823 rows × 4 columns</p>\n",
       "</div>"
      ],
      "text/plain": [
       "       user_id  correct  correct_predictions  state_predictions\n",
       "14461    64634        1              0.50000            0.50000\n",
       "14462    64634        0              0.50000            0.50000\n",
       "14463    64634        1              0.50000            0.50000\n",
       "14464    64634        1              0.50000            0.50000\n",
       "14465    64634        0              0.50000            0.50000\n",
       "...        ...      ...                  ...                ...\n",
       "15279    96292        1              0.50000            0.50000\n",
       "15280    96294        1              0.50000            0.50000\n",
       "15281    96294        1              0.50000            0.50000\n",
       "15282    96296        1              0.50000            0.50000\n",
       "15283    96296        1              0.50000            0.50000\n",
       "\n",
       "[823 rows x 4 columns]"
      ]
     },
     "execution_count": 35,
     "metadata": {},
     "output_type": "execute_result"
    }
   ],
   "source": [
    "data_subset[['user_id', 'correct', 'correct_predictions', 'state_predictions']]"
   ]
  },
  {
   "cell_type": "code",
   "execution_count": 34,
   "metadata": {},
   "outputs": [
    {
     "data": {
      "text/html": [
       "<div>\n",
       "<style scoped>\n",
       "    .dataframe tbody tr th:only-of-type {\n",
       "        vertical-align: middle;\n",
       "    }\n",
       "\n",
       "    .dataframe tbody tr th {\n",
       "        vertical-align: top;\n",
       "    }\n",
       "\n",
       "    .dataframe thead th {\n",
       "        text-align: right;\n",
       "    }\n",
       "</style>\n",
       "<table border=\"1\" class=\"dataframe\">\n",
       "  <thead>\n",
       "    <tr style=\"text-align: right;\">\n",
       "      <th></th>\n",
       "      <th>user_id</th>\n",
       "      <th>correct</th>\n",
       "      <th>correct_predictions</th>\n",
       "      <th>state_predictions</th>\n",
       "    </tr>\n",
       "  </thead>\n",
       "  <tbody>\n",
       "    <tr>\n",
       "      <th>14461</th>\n",
       "      <td>64634</td>\n",
       "      <td>1</td>\n",
       "      <td>0.68728</td>\n",
       "      <td>0.65696</td>\n",
       "    </tr>\n",
       "    <tr>\n",
       "      <th>14462</th>\n",
       "      <td>64634</td>\n",
       "      <td>0</td>\n",
       "      <td>0.75036</td>\n",
       "      <td>0.80271</td>\n",
       "    </tr>\n",
       "    <tr>\n",
       "      <th>14463</th>\n",
       "      <td>64634</td>\n",
       "      <td>1</td>\n",
       "      <td>0.63543</td>\n",
       "      <td>0.53715</td>\n",
       "    </tr>\n",
       "    <tr>\n",
       "      <th>14464</th>\n",
       "      <td>64634</td>\n",
       "      <td>1</td>\n",
       "      <td>0.71114</td>\n",
       "      <td>0.71208</td>\n",
       "    </tr>\n",
       "    <tr>\n",
       "      <th>14465</th>\n",
       "      <td>64634</td>\n",
       "      <td>0</td>\n",
       "      <td>0.76649</td>\n",
       "      <td>0.83997</td>\n",
       "    </tr>\n",
       "    <tr>\n",
       "      <th>...</th>\n",
       "      <td>...</td>\n",
       "      <td>...</td>\n",
       "      <td>...</td>\n",
       "      <td>...</td>\n",
       "    </tr>\n",
       "    <tr>\n",
       "      <th>15279</th>\n",
       "      <td>96292</td>\n",
       "      <td>1</td>\n",
       "      <td>0.75036</td>\n",
       "      <td>0.80271</td>\n",
       "    </tr>\n",
       "    <tr>\n",
       "      <th>15280</th>\n",
       "      <td>96294</td>\n",
       "      <td>1</td>\n",
       "      <td>0.68728</td>\n",
       "      <td>0.65696</td>\n",
       "    </tr>\n",
       "    <tr>\n",
       "      <th>15281</th>\n",
       "      <td>96294</td>\n",
       "      <td>1</td>\n",
       "      <td>0.75036</td>\n",
       "      <td>0.80271</td>\n",
       "    </tr>\n",
       "    <tr>\n",
       "      <th>15282</th>\n",
       "      <td>96296</td>\n",
       "      <td>1</td>\n",
       "      <td>0.68728</td>\n",
       "      <td>0.65696</td>\n",
       "    </tr>\n",
       "    <tr>\n",
       "      <th>15283</th>\n",
       "      <td>96296</td>\n",
       "      <td>1</td>\n",
       "      <td>0.75036</td>\n",
       "      <td>0.80271</td>\n",
       "    </tr>\n",
       "  </tbody>\n",
       "</table>\n",
       "<p>823 rows × 4 columns</p>\n",
       "</div>"
      ],
      "text/plain": [
       "       user_id  correct  correct_predictions  state_predictions\n",
       "14461    64634        1              0.68728            0.65696\n",
       "14462    64634        0              0.75036            0.80271\n",
       "14463    64634        1              0.63543            0.53715\n",
       "14464    64634        1              0.71114            0.71208\n",
       "14465    64634        0              0.76649            0.83997\n",
       "...        ...      ...                  ...                ...\n",
       "15279    96292        1              0.75036            0.80271\n",
       "15280    96294        1              0.68728            0.65696\n",
       "15281    96294        1              0.75036            0.80271\n",
       "15282    96296        1              0.68728            0.65696\n",
       "15283    96296        1              0.75036            0.80271\n",
       "\n",
       "[823 rows x 4 columns]"
      ]
     },
     "execution_count": 34,
     "metadata": {},
     "output_type": "execute_result"
    }
   ],
   "source": [
    "preds.query('skill_name == \"Addition and Subtraction Integers\"')[['user_id', 'correct', 'correct_predictions', 'state_predictions']]"
   ]
  },
  {
   "cell_type": "markdown",
   "metadata": {},
   "source": [
    "#### Question 2 [expected total time for BKT fitting: 7 mins]\n",
    "- Perform a user-based train-test split of the data, with 20% of the users in the test set.\n",
    "- Fit the two BKT model variants on the training set, only for the skill 'Addition and Subtraction Integers'. \n",
    "    - default;\n",
    "    - forgets=True;\n",
    "- Which model variant listed below has the highest test AUC for 'Addition and Subtraction Integers' in the test set?"
   ]
  },
  {
   "cell_type": "code",
   "execution_count": 2,
   "metadata": {},
   "outputs": [],
   "source": [
    "### EXERCISE CELL ###"
   ]
  },
  {
   "cell_type": "code",
   "execution_count": 43,
   "metadata": {},
   "outputs": [],
   "source": [
    "from sklearn import feature_extraction, model_selection\n"
   ]
  },
  {
   "cell_type": "code",
   "execution_count": 52,
   "metadata": {},
   "outputs": [],
   "source": [
    "def create_iterator(data):\n",
    "    '''\n",
    "    Create an iterator to split interactions in data into train and test, with the same student not appearing in two diverse folds.\n",
    "    :param data:        Dataframe with student's interactions.\n",
    "    :return:            An iterator.\n",
    "    '''    \n",
    "    # Both passing a matrix with the raw data or just an array of indexes works\n",
    "    X = np.arange(len(data.index)) \n",
    "    # Groups of interactions are identified by the user id (we do not want the same user appearing in two folds)\n",
    "    groups = data['user_id'].values \n",
    "    return model_selection.GroupShuffleSplit(n_splits=1, train_size=.8, test_size=0.2, random_state=0).split(X, groups=groups)"
   ]
  },
  {
   "cell_type": "code",
   "execution_count": 53,
   "metadata": {},
   "outputs": [],
   "source": [
    "train_index, test_index = next(create_iterator(data_subset))\n",
    "X_train, X_test = data_subset.iloc[train_index], data_subset.iloc[test_index]"
   ]
  },
  {
   "cell_type": "code",
   "execution_count": 54,
   "metadata": {},
   "outputs": [
    {
     "name": "stdout",
     "output_type": "stream",
     "text": [
      "CPU times: user 683 ms, sys: 9.2 ms, total: 692 ms\n",
      "Wall time: 259 ms\n",
      "CPU times: user 311 ms, sys: 7.5 ms, total: 318 ms\n",
      "Wall time: 194 ms\n"
     ]
    }
   ],
   "source": [
    "model = Model(seed=0)\n",
    "model_forgets = Model(seed=0)\n",
    "\n",
    "%time model.fit(data=X_train, skills='Addition and Subtraction Integers') \n",
    "%time model_forgets.fit(data=X_train, skills='Addition and Subtraction Integers',  forgets=True) "
   ]
  },
  {
   "cell_type": "code",
   "execution_count": 55,
   "metadata": {},
   "outputs": [
    {
     "name": "stdout",
     "output_type": "stream",
     "text": [
      "0.782051282051282\n",
      "0.7538461538461538\n"
     ]
    }
   ],
   "source": [
    "print(model.evaluate(data=X_test, metric='auc'))\n",
    "print(model_forgets.evaluate(data=X_test, metric='auc')) "
   ]
  },
  {
   "cell_type": "code",
   "execution_count": 56,
   "metadata": {},
   "outputs": [],
   "source": [
    "# model_forgets has lower AUC"
   ]
  },
  {
   "cell_type": "markdown",
   "metadata": {},
   "source": [
    "#### Question 3  [expected total time for BKT fitting: 3 mins]\n",
    "- Bin values in the ms_first_response column in *as_data* to categories ('less than 10s', 'less than 20s', 'less than 30s','less than 40s', 'less than 50s', 'other'). \n",
    "- Fit BKT models with different learn rates, according to the ms_first_response categories above, on the full data set, only for the skill 'Addition and Subtraction Integers'. You need to play with the multilearn parameter of the BKT fit method.\n",
    "- Create a bar plot to show the $P_{\\text{L}}$ (learns) value for each ms_first_response category above. You basically need to play with the dataframe returned by model.params(), to prepare the data to be shown in the plot.\n",
    "- Does binned response time influence the $P_{\\text{L}}$ parameter for the skill 'Addition and Subtraction Integers'? Which bin result in the highest $P_{\\text{L}}$ scores?"
   ]
  },
  {
   "cell_type": "code",
   "execution_count": 3,
   "metadata": {},
   "outputs": [],
   "source": [
    "### EXERCISE CELL ###"
   ]
  },
  {
   "cell_type": "code",
   "execution_count": 63,
   "metadata": {},
   "outputs": [],
   "source": [
    "labels = ['less than 10s', 'less than 20s', 'less than 30s','less than 40s', 'less than 50s']"
   ]
  },
  {
   "cell_type": "code",
   "execution_count": 75,
   "metadata": {},
   "outputs": [
    {
     "data": {
      "text/plain": [
       "Index(['less than 10s', 'less than 20s', 'less than 30s', 'less than 40s',\n",
       "       'less than 50s', 'other'],\n",
       "      dtype='object')"
      ]
     },
     "execution_count": 75,
     "metadata": {},
     "output_type": "execute_result"
    }
   ],
   "source": [
    "as_data['bin'] = pd.cut(as_data.ms_first_response, range(0,60000,10000),labels=labels).values.add_categories('other').fillna('other')\n",
    "as_data['bin'].values.categories"
   ]
  },
  {
   "cell_type": "code",
   "execution_count": null,
   "metadata": {},
   "outputs": [],
   "source": [
    "for cat in as_data['bin'].values.categories: \n",
    "    model = Model(seed=0)"
   ]
  },
  {
   "cell_type": "code",
   "execution_count": 77,
   "metadata": {},
   "outputs": [],
   "source": [
    "model = Model(seed=0)"
   ]
  },
  {
   "cell_type": "code",
   "execution_count": 79,
   "metadata": {},
   "outputs": [],
   "source": [
    "model.fit(data=as_data, skills = [\"Addition and Subtraction Integers\"],\n",
    "                                # multigs = True, forgets = True,\n",
    "                                multilearn = 'bin')"
   ]
  },
  {
   "cell_type": "code",
   "execution_count": 91,
   "metadata": {},
   "outputs": [
    {
     "data": {
      "text/plain": [
       "Text(0.5, 1.0, 'P_L learns')"
      ]
     },
     "execution_count": 91,
     "metadata": {},
     "output_type": "execute_result"
    },
    {
     "data": {
      "image/png": "[encoded data removed]",
      "text/plain": [
       "<Figure size 640x480 with 1 Axes>"
      ]
     },
     "metadata": {},
     "output_type": "display_data"
    }
   ],
   "source": [
    "params = model.params().reset_index().query('param == \"learns\"')\n",
    "plt.bar(params['class'],params['value'])\n",
    "plt.xticks(rotation=30)\n",
    "plt.title(\"P_L learns\")"
   ]
  },
  {
   "cell_type": "markdown",
   "metadata": {},
   "source": [
    "#### Question 4 [expected total time for BKT fitting: 8 mins]\n",
    "- Use the same bins ms_first_response to categories ('less than 10s', 'less than 20s', 'less than 30s','less than 40s', 'less than 50s', 'other').\n",
    "- Fit a BKT model with template-id multilearn (default), on the full data set, only for the skill 'Addition and Subtraction Integers'.\n",
    "- Fit a BKT model with binned-response-time-based multilearn, on the full data set, only for the skill 'Addition and Subtraction Integers'.\n",
    "- Does the binned-response-time-based multilearn improve the AUC of the model compared to the default template_id-based multilearn?"
   ]
  },
  {
   "cell_type": "code",
   "execution_count": 4,
   "metadata": {},
   "outputs": [],
   "source": [
    "### EXERCISE CELL ###"
   ]
  },
  {
   "cell_type": "markdown",
   "metadata": {},
   "source": [
    "## Summary\n",
    "---\n",
    "\n",
    "In this tutorial, we have seen several important aspects of Bayesian Knowledge Tracing (BKT). We have shown how a typical data set for knowledge tracing should look like. We have illustrated how BKT models can be trained on different skills. We have shown how different variants of BKT can help you improve the goodness of your model. Many of the ideas described in this tutorial can be adapted to other data sets and projects. Finally, we have shown some examples of predictions and evaluations, covering also cross-validation. If you are interested in the implementation details of the different variants, we invite you to explore the codebase stored in the pyBKT Github repository. "
   ]
  }
 ],
 "metadata": {
  "kernelspec": {
   "display_name": "Python",
   "language": "python",
   "name": "python3"
  },
  "language_info": {
   "codemirror_mode": {
    "name": "ipython",
    "version": 3
   },
   "file_extension": ".py",
   "mimetype": "text/x-python",
   "name": "python",
   "nbconvert_exporter": "python",
   "pygments_lexer": "ipython3",
   "version": "3.8.10"
  }
 },
 "nbformat": 4,
 "nbformat_minor": 4
}
