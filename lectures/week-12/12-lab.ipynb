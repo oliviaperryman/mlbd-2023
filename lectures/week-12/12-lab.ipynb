{
 "cells": [
  {
   "cell_type": "markdown",
   "id": "b86b95a4-df79-4f8c-b0fb-b21f89a8fe7e",
   "metadata": {},
   "source": [
    "# Lab Notebook - Lecture 12"
   ]
  },
  {
   "cell_type": "markdown",
   "id": "af26ed3d-73a1-41f0-a051-c6fb44e34418",
   "metadata": {},
   "source": [
    "This notebook provides an introduction to evaluating the fairness of your predictive model. This is especially relevant because in modeling human data, treating different socio-demographic groups equitably is especially important. It is also crucial to consider the context of your downstream task and where these predictions will be used.\n",
    "\n",
    "In this lab, we will investigate **5 different metrics** to measure model fairness:\n",
    "- equal opportunity\n",
    "- equalized odds\n",
    "- disparate impact\n",
    "- demographic parity\n",
    "- predictive rate parity\n",
    "\n",
    "The material for this notebook is inspired by a [Towards Data Science ML fairness tutorial](https://towardsdatascience.com/analysing-fairness-in-machine-learning-with-python-96a9ab0d0705) by Conor O'Sullivan.\n",
    "\n",
    "You have already seen three of these metrics in the lecture exploration on flipped classroom data collected at EPFL. In this lab, you will:\n",
    "- learn about 2 more fairness metrics **(equal opportunity** and **disparate impact)**\n",
    "- explore a full fairness analysis on a sensitive attribute **Country (Diploma)**\n",
    "- explore a combined fairness analysis on subgroups involving both **Gender** and **Country (Diploma)**\n",
    "\n",
    "**Gender** refers to the gender of the student (M for male, F for female, or non-specified), and **Country (Diploma)** represents the country the student completed their diploma from (France, Suisse, or non-specified)."
   ]
  },
  {
   "cell_type": "code",
   "execution_count": 1,
   "id": "aa9f9e6e-1ffa-46cb-b720-d4fbc32705d3",
   "metadata": {},
   "outputs": [],
   "source": [
    "# Load standard imports for the rest of the notebook.\n",
    "import seaborn as sns\n",
    "import pandas as pd\n",
    "import numpy as np\n",
    "import scipy as sc\n",
    "import matplotlib.pyplot as plt\n",
    "\n",
    "from sklearn.metrics import confusion_matrix\n",
    "\n",
    "DATA_DIR = \"./../../data/\""
   ]
  },
  {
   "cell_type": "markdown",
   "id": "52e12ab6",
   "metadata": {},
   "source": [
    "### Load the data"
   ]
  },
  {
   "cell_type": "code",
   "execution_count": 2,
   "id": "3562eb8c",
   "metadata": {},
   "outputs": [
    {
     "data": {
      "text/html": [
       "<div>\n",
       "<style scoped>\n",
       "    .dataframe tbody tr th:only-of-type {\n",
       "        vertical-align: middle;\n",
       "    }\n",
       "\n",
       "    .dataframe tbody tr th {\n",
       "        vertical-align: top;\n",
       "    }\n",
       "\n",
       "    .dataframe thead th {\n",
       "        text-align: right;\n",
       "    }\n",
       "</style>\n",
       "<table border=\"1\" class=\"dataframe\">\n",
       "  <thead>\n",
       "    <tr style=\"text-align: right;\">\n",
       "      <th></th>\n",
       "      <th>index</th>\n",
       "      <th>gender</th>\n",
       "      <th>country_diploma</th>\n",
       "      <th>continent_diploma</th>\n",
       "      <th>year_diploma</th>\n",
       "      <th>title_diploma</th>\n",
       "      <th>avg_french_bac</th>\n",
       "      <th>rating_french</th>\n",
       "      <th>scale_french</th>\n",
       "      <th>rating_maths</th>\n",
       "      <th>scale_maths</th>\n",
       "      <th>rating_physics</th>\n",
       "      <th>scale_physics</th>\n",
       "      <th>grade</th>\n",
       "    </tr>\n",
       "  </thead>\n",
       "  <tbody>\n",
       "    <tr>\n",
       "      <th>0</th>\n",
       "      <td>0</td>\n",
       "      <td>M</td>\n",
       "      <td>France</td>\n",
       "      <td>Europe</td>\n",
       "      <td>2018.0</td>\n",
       "      <td>Bacc. étranger</td>\n",
       "      <td>18.28</td>\n",
       "      <td>15.0</td>\n",
       "      <td>20.0</td>\n",
       "      <td>17.0</td>\n",
       "      <td>20.0</td>\n",
       "      <td>19.0</td>\n",
       "      <td>20</td>\n",
       "      <td>2.50</td>\n",
       "    </tr>\n",
       "    <tr>\n",
       "      <th>1</th>\n",
       "      <td>1</td>\n",
       "      <td>M</td>\n",
       "      <td>France</td>\n",
       "      <td>Europe</td>\n",
       "      <td>2018.0</td>\n",
       "      <td>Bacc. étranger</td>\n",
       "      <td>17.68</td>\n",
       "      <td>13.0</td>\n",
       "      <td>20.0</td>\n",
       "      <td>18.0</td>\n",
       "      <td>20.0</td>\n",
       "      <td>19.0</td>\n",
       "      <td>20</td>\n",
       "      <td>1.75</td>\n",
       "    </tr>\n",
       "    <tr>\n",
       "      <th>2</th>\n",
       "      <td>2</td>\n",
       "      <td>NaN</td>\n",
       "      <td>NaN</td>\n",
       "      <td>NaN</td>\n",
       "      <td>NaN</td>\n",
       "      <td>NaN</td>\n",
       "      <td>NaN</td>\n",
       "      <td>NaN</td>\n",
       "      <td>NaN</td>\n",
       "      <td>NaN</td>\n",
       "      <td>NaN</td>\n",
       "      <td>NaN</td>\n",
       "      <td>NaN</td>\n",
       "      <td>4.50</td>\n",
       "    </tr>\n",
       "    <tr>\n",
       "      <th>3</th>\n",
       "      <td>3</td>\n",
       "      <td>M</td>\n",
       "      <td>France</td>\n",
       "      <td>Europe</td>\n",
       "      <td>2018.0</td>\n",
       "      <td>Bacc. étranger</td>\n",
       "      <td>17.78</td>\n",
       "      <td>11.0</td>\n",
       "      <td>20.0</td>\n",
       "      <td>20.0</td>\n",
       "      <td>20.0</td>\n",
       "      <td>19.0</td>\n",
       "      <td>20</td>\n",
       "      <td>4.50</td>\n",
       "    </tr>\n",
       "    <tr>\n",
       "      <th>4</th>\n",
       "      <td>4</td>\n",
       "      <td>M</td>\n",
       "      <td>France</td>\n",
       "      <td>Europe</td>\n",
       "      <td>2018.0</td>\n",
       "      <td>Bacc. étranger</td>\n",
       "      <td>18.84</td>\n",
       "      <td>13.0</td>\n",
       "      <td>20.0</td>\n",
       "      <td>19.0</td>\n",
       "      <td>20.0</td>\n",
       "      <td>20.0</td>\n",
       "      <td>20</td>\n",
       "      <td>4.50</td>\n",
       "    </tr>\n",
       "    <tr>\n",
       "      <th>...</th>\n",
       "      <td>...</td>\n",
       "      <td>...</td>\n",
       "      <td>...</td>\n",
       "      <td>...</td>\n",
       "      <td>...</td>\n",
       "      <td>...</td>\n",
       "      <td>...</td>\n",
       "      <td>...</td>\n",
       "      <td>...</td>\n",
       "      <td>...</td>\n",
       "      <td>...</td>\n",
       "      <td>...</td>\n",
       "      <td>...</td>\n",
       "      <td>...</td>\n",
       "    </tr>\n",
       "    <tr>\n",
       "      <th>209</th>\n",
       "      <td>105</td>\n",
       "      <td>M</td>\n",
       "      <td>France</td>\n",
       "      <td>Europe</td>\n",
       "      <td>2018.0</td>\n",
       "      <td>Bacc. étranger</td>\n",
       "      <td>14.76</td>\n",
       "      <td>16.0</td>\n",
       "      <td>20.0</td>\n",
       "      <td>14.0</td>\n",
       "      <td>20.0</td>\n",
       "      <td>15.0</td>\n",
       "      <td>20.0</td>\n",
       "      <td>2.75</td>\n",
       "    </tr>\n",
       "    <tr>\n",
       "      <th>210</th>\n",
       "      <td>106</td>\n",
       "      <td>M</td>\n",
       "      <td>Suisse</td>\n",
       "      <td>Europe</td>\n",
       "      <td>2019.0</td>\n",
       "      <td>Mat. reconnue opt. physique et math</td>\n",
       "      <td>NaN</td>\n",
       "      <td>4.5</td>\n",
       "      <td>6.0</td>\n",
       "      <td>6.0</td>\n",
       "      <td>6.0</td>\n",
       "      <td>5.5</td>\n",
       "      <td>6.0</td>\n",
       "      <td>3.25</td>\n",
       "    </tr>\n",
       "    <tr>\n",
       "      <th>211</th>\n",
       "      <td>107</td>\n",
       "      <td>M</td>\n",
       "      <td>Suisse</td>\n",
       "      <td>Europe</td>\n",
       "      <td>2018.0</td>\n",
       "      <td>Mat. reconnue opt. physique et math</td>\n",
       "      <td>NaN</td>\n",
       "      <td>5.5</td>\n",
       "      <td>6.0</td>\n",
       "      <td>5.5</td>\n",
       "      <td>6.0</td>\n",
       "      <td>5.5</td>\n",
       "      <td>6.0</td>\n",
       "      <td>5.75</td>\n",
       "    </tr>\n",
       "    <tr>\n",
       "      <th>212</th>\n",
       "      <td>108</td>\n",
       "      <td>M</td>\n",
       "      <td>France</td>\n",
       "      <td>Europe</td>\n",
       "      <td>2018.0</td>\n",
       "      <td>Bacc. étranger</td>\n",
       "      <td>17.21</td>\n",
       "      <td>12.0</td>\n",
       "      <td>20.0</td>\n",
       "      <td>17.0</td>\n",
       "      <td>20.0</td>\n",
       "      <td>18.0</td>\n",
       "      <td>20.0</td>\n",
       "      <td>5.50</td>\n",
       "    </tr>\n",
       "    <tr>\n",
       "      <th>213</th>\n",
       "      <td>109</td>\n",
       "      <td>F</td>\n",
       "      <td>France</td>\n",
       "      <td>Europe</td>\n",
       "      <td>2019.0</td>\n",
       "      <td>Bacc. étranger</td>\n",
       "      <td>18.97</td>\n",
       "      <td>14.0</td>\n",
       "      <td>20.0</td>\n",
       "      <td>18.0</td>\n",
       "      <td>20.0</td>\n",
       "      <td>18.0</td>\n",
       "      <td>20.0</td>\n",
       "      <td>5.25</td>\n",
       "    </tr>\n",
       "  </tbody>\n",
       "</table>\n",
       "<p>214 rows × 14 columns</p>\n",
       "</div>"
      ],
      "text/plain": [
       "     index gender country_diploma continent_diploma  year_diploma  \\\n",
       "0        0      M          France            Europe        2018.0   \n",
       "1        1      M          France            Europe        2018.0   \n",
       "2        2    NaN             NaN               NaN           NaN   \n",
       "3        3      M          France            Europe        2018.0   \n",
       "4        4      M          France            Europe        2018.0   \n",
       "..     ...    ...             ...               ...           ...   \n",
       "209    105      M          France            Europe        2018.0   \n",
       "210    106      M          Suisse            Europe        2019.0   \n",
       "211    107      M          Suisse            Europe        2018.0   \n",
       "212    108      M          France            Europe        2018.0   \n",
       "213    109      F          France            Europe        2019.0   \n",
       "\n",
       "                           title_diploma  avg_french_bac  rating_french  \\\n",
       "0                         Bacc. étranger           18.28           15.0   \n",
       "1                         Bacc. étranger           17.68           13.0   \n",
       "2                                    NaN             NaN            NaN   \n",
       "3                         Bacc. étranger           17.78           11.0   \n",
       "4                         Bacc. étranger           18.84           13.0   \n",
       "..                                   ...             ...            ...   \n",
       "209                       Bacc. étranger           14.76           16.0   \n",
       "210  Mat. reconnue opt. physique et math             NaN            4.5   \n",
       "211  Mat. reconnue opt. physique et math             NaN            5.5   \n",
       "212                       Bacc. étranger           17.21           12.0   \n",
       "213                       Bacc. étranger           18.97           14.0   \n",
       "\n",
       "     scale_french  rating_maths  scale_maths  rating_physics scale_physics  \\\n",
       "0            20.0          17.0         20.0            19.0            20   \n",
       "1            20.0          18.0         20.0            19.0            20   \n",
       "2             NaN           NaN          NaN             NaN           NaN   \n",
       "3            20.0          20.0         20.0            19.0            20   \n",
       "4            20.0          19.0         20.0            20.0            20   \n",
       "..            ...           ...          ...             ...           ...   \n",
       "209          20.0          14.0         20.0            15.0          20.0   \n",
       "210           6.0           6.0          6.0             5.5           6.0   \n",
       "211           6.0           5.5          6.0             5.5           6.0   \n",
       "212          20.0          17.0         20.0            18.0          20.0   \n",
       "213          20.0          18.0         20.0            18.0          20.0   \n",
       "\n",
       "     grade  \n",
       "0     2.50  \n",
       "1     1.75  \n",
       "2     4.50  \n",
       "3     4.50  \n",
       "4     4.50  \n",
       "..     ...  \n",
       "209   2.75  \n",
       "210   3.25  \n",
       "211   5.75  \n",
       "212   5.50  \n",
       "213   5.25  \n",
       "\n",
       "[214 rows x 14 columns]"
      ]
     },
     "execution_count": 2,
     "metadata": {},
     "output_type": "execute_result"
    }
   ],
   "source": [
    "# Load demographic data. The two attributes that are relevant to our analysis are \"country_diploma\" and \"gender\",\n",
    "# although there are many other analyses that can be conducted.\n",
    "\n",
    "demographics = pd.read_csv(DATA_DIR + 'demographics.csv', index_col=0).reset_index()\n",
    "demographics"
   ]
  },
  {
   "cell_type": "code",
   "execution_count": 3,
   "id": "5f847468",
   "metadata": {},
   "outputs": [],
   "source": [
    "# We've run a BiLSTM model on the data using a 10-fold cross validation, generating predictions for all 214 students.\n",
    "predictions = pd.read_csv(DATA_DIR + 'model_predictions.csv')\n",
    "\n",
    "# Convert predictions between [0, 1] to binary variable for pass / fail {0, 1}\n",
    "y_pred = [1 if grade < 0.5 else 0 for grade in predictions['grade']]"
   ]
  },
  {
   "cell_type": "code",
   "execution_count": 4,
   "id": "31e3f4ad",
   "metadata": {},
   "outputs": [],
   "source": [
    "# Load and process ground truth grades, which are between 0 to 6\n",
    "# Recieving a score 4 or higher is passing, so we can convert these grades to a binary pass/fail variable {0, 1}\n",
    "y = [1 if grade >= 4 else 0 for grade in demographics['grade']]"
   ]
  },
  {
   "cell_type": "code",
   "execution_count": 5,
   "id": "ff1bd136",
   "metadata": {},
   "outputs": [],
   "source": [
    "demographics.insert(0, 'y', y)\n",
    "demographics.insert(1, 'y_pred', y_pred)"
   ]
  },
  {
   "cell_type": "markdown",
   "id": "51803027",
   "metadata": {},
   "source": [
    "#### Enumerate data in each category\n",
    "\n",
    "Let's examine how many data points are in each category. Often, lack of representation in data subgroups can lead to model bias."
   ]
  },
  {
   "cell_type": "code",
   "execution_count": 6,
   "id": "6031ea9f",
   "metadata": {},
   "outputs": [
    {
     "data": {
      "image/png": "[encoded data removed]",
      "text/plain": [
       "<Figure size 1200x500 with 3 Axes>"
      ]
     },
     "metadata": {},
     "output_type": "display_data"
    }
   ],
   "source": [
    "fig, axs = plt.subplots(1, 3, figsize=(12, 5), sharey=True)\n",
    "\n",
    "M_size = demographics[demographics['gender'] == 'M'].size\n",
    "F_size = demographics[demographics['gender'] == 'F'].size\n",
    "\n",
    "France_size = demographics[demographics['country_diploma'] == 'France'].size\n",
    "Suisse_size = demographics[demographics['country_diploma'] == 'Suisse'].size\n",
    "\n",
    "France_M_size = demographics[(demographics['country_diploma'] == 'France') & \n",
    "                                        (demographics['gender'] == 'M')].size\n",
    "Suisse_M_size = demographics[(demographics['country_diploma'] == 'Suisse') & \n",
    "                                        (demographics['gender'] == 'M')].size\n",
    "France_F_size = demographics[(demographics['country_diploma'] == 'France') & \n",
    "                                        (demographics['gender'] == 'F')].size\n",
    "Suisse_F_size = demographics[(demographics['country_diploma'] == 'Suisse') & \n",
    "                                        (demographics['gender'] == 'F')].size\n",
    "\n",
    "none_size = demographics[(demographics['country_diploma'].isna())].size\n",
    "\n",
    "gender_cat = ['Male', 'Female', 'Non-Specified']\n",
    "sns.barplot(x=gender_cat, y=[M_size, F_size, none_size], palette = 'Blues', edgecolor = 'w', ax=axs[0])\n",
    "axs[0].set_title(\"Gender attributes\")\n",
    "\n",
    "country_cat = ['France', 'Suisse', 'Non-Specified']\n",
    "sns.barplot(x=country_cat, y=[France_size, Suisse_size, none_size], palette = 'pink', edgecolor = 'w', ax=axs[1])\n",
    "axs[1].set_title(\"Country attributes\")\n",
    "\n",
    "gender_country_cat = ['Male_France', 'Female_France', 'Male_Suisse', 'Female_Suisse', 'Non-Specified']\n",
    "sns.barplot(x=gender_country_cat, y=[France_M_size, Suisse_M_size, France_F_size, Suisse_F_size, none_size], palette = 'Greens', edgecolor = 'w', ax=axs[2])\n",
    "axs[2].set_title(\"Combine attributes\")\n",
    "\n",
    "fig.suptitle(\"Comparison of category size for each attributes\")\n",
    "plt.xticks(rotation=45)\n",
    "plt.show()"
   ]
  },
  {
   "cell_type": "markdown",
   "id": "b92ba8d2",
   "metadata": {},
   "source": [
    "## Measuring Fairness\n",
    "\n",
    "Now, we will move into analyzing methods to measure fairness. Here are the three definitions of fairness we have already seen in lecture, and a function to compute accuracy (which is an imperfect measure of fairness)."
   ]
  },
  {
   "cell_type": "code",
   "execution_count": 7,
   "id": "d4e27161",
   "metadata": {},
   "outputs": [],
   "source": [
    "def accuracy(df):\n",
    "    \"\"\"Calculate accuracy through the confusion matrix.\"\"\"\n",
    "    \n",
    "    # Confusion Matrix\n",
    "    cm = confusion_matrix(df['y'],df['y_pred'])\n",
    "    TN, FP, FN, TP = cm.ravel()\n",
    "    \n",
    "    # Total population\n",
    "    N = TP + FP + FN + TN \n",
    "    \n",
    "    # Accuracy\n",
    "    ACC = (TP + TN) / N \n",
    "    \n",
    "    return ACC\n",
    "\n",
    "# Equalized odds requires that the true positive rates (TPR) as well as the false positive rates (FPR) are equal across values of the sensitive attribute. \n",
    "# That is a similar percentage of the groups should both rightfully and wrongfully benefit.\n",
    "def equalized_odds(df):\n",
    "    \"\"\"Calculate FPR and TPR for subgroup of population\"\"\"\n",
    "    \n",
    "    # Confusion Matrix\n",
    "    cm = confusion_matrix(df['y'],df['y_pred'])\n",
    "    TN, FP, FN, TP = cm.ravel() \n",
    "    \n",
    "    # True positive rate\n",
    "    TPR = TP / (TP + FN) \n",
    "    \n",
    "    # False positive rate\n",
    "    FPR = FP / (FP + TN)\n",
    "    \n",
    "    return [TPR, FPR]\n",
    "\n",
    "# For demographic parity, we compare the difference between the PPPs of the sensitive attributes.\n",
    "# We define our significance cutoff at 0.1, stating any difference below 10% can be attributed to random chance.\n",
    "def stats_dp(df, attr, cutoff=0.1):\n",
    "    PPP_0, PPP_1 = df['PPP'][0], df['PPP'][1]\n",
    "    ppp_diff = np.round(PPP_1 - PPP_0, 3)\n",
    "    \n",
    "    print('Sensitive Attr:', attr, '\\n')\n",
    "    \n",
    "    print('------------------------------------')\n",
    "    print('|Demographic Parity| > Cutoff?', np.abs(ppp_diff) > cutoff)\n",
    "    print('------------------------------------')\n",
    "    print('PPP0 (', df[attr][0], ') =', PPP_0)\n",
    "    print('PPP1 (', df[attr][1], ') =', PPP_1)\n",
    "    print('PPP_Diff:', ppp_diff)\n",
    "    print('Cutoff:', cutoff)\n",
    "\n",
    "# Predictive value-parity equalizes the probability of a positive outcome, given a positive prediction (PPV) \n",
    "# and the probability of a negative outcome given a negative prediction (NPV).\n",
    "\n",
    "def predictive_value_parity(df):\n",
    "    \"\"\"Calculate predictive value parity scores\"\"\"\n",
    "    \n",
    "    # Confusion Matrix\n",
    "    cm = confusion_matrix(df['y'],df['y_pred'])\n",
    "    TN, FP, FN, TP = cm.ravel()\n",
    "    \n",
    "    # Positive Predictive Value\n",
    "    PPV = TP / (FP + TP) \n",
    "    \n",
    "    # Negative Predictive Value\n",
    "    NPV = TN / (FN + TN) \n",
    "    \n",
    "    return [PPV, NPV]"
   ]
  },
  {
   "cell_type": "code",
   "execution_count": 8,
   "id": "3e61a14a",
   "metadata": {},
   "outputs": [],
   "source": [
    "gender_df = pd.DataFrame()\n",
    "gender_df['Gender'] = ['Male', 'Female', 'Non-Specified']\n",
    "gender_df['ACC'] = [np.round(accuracy(demographics[demographics['gender'] == 'M']), 3), \n",
    "                    np.round(accuracy(demographics[demographics['gender'] == 'F']), 3),\n",
    "                    np.round(accuracy(demographics[demographics['gender'].isna()]), 3)]\n",
    "\n",
    "gender_df['FPR'] = [np.round(equalized_odds(demographics[demographics['gender'] == 'M'])[1], 3), \n",
    "                    np.round(equalized_odds(demographics[demographics['gender'] == 'F'])[1], 3),\n",
    "                    np.round(equalized_odds(demographics[demographics['gender'].isna()])[1], 3)]\n",
    "\n",
    "gender_df['PPV'] = [np.round(predictive_value_parity(demographics[demographics['gender'] == 'M'])[0], 3), \n",
    "                    np.round(predictive_value_parity(demographics[demographics['gender'] == 'F'])[0], 3),\n",
    "                    np.round(predictive_value_parity(demographics[demographics['gender'].isna()])[0], 3)]\n",
    "\n",
    "gender_df['NPV'] = [np.round(predictive_value_parity(demographics[demographics['gender'] == 'M'])[1], 3), \n",
    "                    np.round(predictive_value_parity(demographics[demographics['gender'] == 'F'])[1], 3),\n",
    "                    np.round(predictive_value_parity(demographics[demographics['gender'].isna()])[1], 3)]"
   ]
  },
  {
   "attachments": {
    "image-2.png": {
     "image/png": "[encoded data removed]"
    },
    "image.png": {
     "image/png": "[encoded data removed]"
    }
   },
   "cell_type": "markdown",
   "id": "218ddd5e",
   "metadata": {},
   "source": [
    "### Fairness Definition 4: Equal opportunity\n",
    "\n",
    "To better capture the benefits of a model we can use the true positive rate (TPR). You can see how we calculate TPR below. The denominator is the number of actual positives. The numerator is the number of correctly predicted positives. In other words, TPR is the percentage of actual positives that were correctly predicted as positive.\n",
    "\n",
    "![image.png](attachment:image.png)\n",
    "\n",
    "Under **equal opportunity** we consider a model to be fair if the TPRs of the privileged and unprivileged groups are equal. In practice, we will give some leeway for statistic uncertainty. We can require the differences to be less than a certain cutoff (Equation 2). For our analysis, we have taken the ratio. In this case, we require the ratio to be larger than some cutoff (Equation 3). This ensures that the TPR for the unprivileged group is not significantly smaller than for the privileged group.\n",
    "\n",
    "![image-2.png](attachment:image-2.png)"
   ]
  },
  {
   "cell_type": "code",
   "execution_count": 9,
   "id": "6ef4cc8d",
   "metadata": {},
   "outputs": [],
   "source": [
    "def true_positive_rate(df):\n",
    "    \"\"\"Calculate equal opportunity (true positive rate).\"\"\"\n",
    "    \n",
    "    # Confusion Matrix\n",
    "    cm = confusion_matrix(df['y'],df['y_pred'])\n",
    "    TN, FP, FN, TP = cm.ravel()\n",
    "    \n",
    "    # Total population\n",
    "    N = TP + FP + FN + TN \n",
    "    \n",
    "    # True positive rate\n",
    "    TPR = TP / (TP + FN) \n",
    "    \n",
    "    return TPR "
   ]
  },
  {
   "cell_type": "code",
   "execution_count": 10,
   "id": "ae74692f",
   "metadata": {
    "scrolled": true
   },
   "outputs": [
    {
     "name": "stdout",
     "output_type": "stream",
     "text": [
      "Overall Equal Opportunity: 0.791\n"
     ]
    }
   ],
   "source": [
    "print(\"Overall Equal Opportunity:\", np.round(true_positive_rate(demographics), 3))"
   ]
  },
  {
   "cell_type": "markdown",
   "id": "4817532f",
   "metadata": {},
   "source": [
    "#### Sensitive Attribute: Gender"
   ]
  },
  {
   "cell_type": "code",
   "execution_count": 11,
   "id": "24d49cd1",
   "metadata": {},
   "outputs": [
    {
     "data": {
      "image/png": "[encoded data removed]",
      "text/plain": [
       "<Figure size 640x480 with 1 Axes>"
      ]
     },
     "metadata": {},
     "output_type": "display_data"
    }
   ],
   "source": [
    "gender_df['TPR'] = [np.round(true_positive_rate(demographics[demographics['gender'] == 'M']), 3), \n",
    "                    np.round(true_positive_rate(demographics[demographics['gender'] == 'F']), 3),\n",
    "                    np.round(true_positive_rate(demographics[demographics['gender'].isna()]), 3)]\n",
    "       \n",
    "sns.barplot(x='Gender', y='TPR', data=gender_df, palette = 'Blues', edgecolor = 'w')\n",
    "plt.show()"
   ]
  },
  {
   "cell_type": "code",
   "execution_count": 12,
   "id": "e916ef26",
   "metadata": {},
   "outputs": [
    {
     "name": "stdout",
     "output_type": "stream",
     "text": [
      "Sensitive Attr: Gender \n",
      "\n",
      "------------------------------------\n",
      "|Equal Opportunity| > Cutoff? False\n",
      "------------------------------------\n",
      "TPR0 ( Male ) = 0.789\n",
      "TPR1 ( Female ) = 0.804\n",
      "Equal Opportunity: 0.015\n",
      "Cutoff: 0.1\n",
      "\n",
      "------------------------------------\n",
      "Equal Opportunity Ratio? 0.981\n",
      "------------------------------------\n"
     ]
    }
   ],
   "source": [
    "# For equal opportunity, we directly compare the difference between TPRs of the sensitive attributes. \n",
    "# We define our significance cutoff at 0.1, stating any difference below 10% can be attributed to random chance.\n",
    "\n",
    "def stats_eq_opp(df, attr, cutoff=0.1):\n",
    "    TPR_0, TPR_1 = df['TPR'][0], df['TPR'][1]\n",
    "    equal_opp = np.round(TPR_1 - TPR_0, 3)\n",
    "    equal_opp_ratio = np.round(TPR_0/TPR_1, 3)\n",
    "    \n",
    "    print('Sensitive Attr:', attr, '\\n')\n",
    "    \n",
    "    print('------------------------------------')\n",
    "    print('|Equal Opportunity| > Cutoff?', np.abs(equal_opp) > cutoff)\n",
    "    print('------------------------------------')\n",
    "    print('TPR0 (', df[attr][0], ') =', TPR_0)\n",
    "    print('TPR1 (', df[attr][1], ') =', TPR_1)\n",
    "    print('Equal Opportunity:', equal_opp)\n",
    "    print('Cutoff:', cutoff)\n",
    "\n",
    "\n",
    "    print('\\n------------------------------------')\n",
    "    print('Equal Opportunity Ratio?', equal_opp_ratio)\n",
    "    print('------------------------------------')\n",
    "\n",
    "stats_eq_opp(gender_df, 'Gender')"
   ]
  },
  {
   "attachments": {
    "image.png": {
     "image/png": "[encoded data removed]"
    }
   },
   "cell_type": "markdown",
   "id": "b617fef4",
   "metadata": {},
   "source": [
    "### False negative rate (FNR)\n",
    "\n",
    "In some cases, you may want to capture the negative consequences of a model. In FNR, the denominator gives the number of actual positives. Except now we have the number of incorrectly predicted negatives as the numerator. In other words, the FNR is the percentage of actual positives incorrectly predicted as negative.\n",
    "\n",
    "The FNR can be interpreted as the percentage of people who have wrongfully not benefitted from the model.\n",
    "\n",
    "![image.png](attachment:image.png)"
   ]
  },
  {
   "cell_type": "code",
   "execution_count": 13,
   "id": "5ff645d8",
   "metadata": {},
   "outputs": [],
   "source": [
    "def false_negative_rate(df):\n",
    "    \"\"\"Calculate false negative rate\"\"\"\n",
    "    \n",
    "    # Confusion Matrix\n",
    "    cm = confusion_matrix(df['y'],df['y_pred'])\n",
    "    TN, FP, FN, TP = cm.ravel()\n",
    "\n",
    "    # False negative rate\n",
    "    FNR = FN / (TP + FN) \n",
    "  \n",
    "    return FNR"
   ]
  },
  {
   "cell_type": "code",
   "execution_count": 14,
   "id": "0b373be3",
   "metadata": {},
   "outputs": [
    {
     "name": "stdout",
     "output_type": "stream",
     "text": [
      "Overall FNR: 0.209\n"
     ]
    }
   ],
   "source": [
    "print(\"Overall FNR:\", np.round(false_negative_rate(demographics), 3))"
   ]
  },
  {
   "cell_type": "code",
   "execution_count": 15,
   "id": "1d4773df",
   "metadata": {},
   "outputs": [
    {
     "data": {
      "image/png": "[encoded data removed]",
      "text/plain": [
       "<Figure size 640x480 with 1 Axes>"
      ]
     },
     "metadata": {},
     "output_type": "display_data"
    }
   ],
   "source": [
    "gender_df['FNR'] = [np.round(false_negative_rate(demographics[demographics['gender'] == 'M']), 3), \n",
    "                    np.round(false_negative_rate(demographics[demographics['gender'] == 'F']), 3),\n",
    "                    np.round(false_negative_rate(demographics[demographics['gender'].isna()]), 3)]\n",
    "\n",
    "       \n",
    "sns.barplot(x='Gender', y='FNR', data=gender_df, palette = 'Blues', edgecolor = 'w')\n",
    "plt.show()"
   ]
  },
  {
   "attachments": {
    "image-2.png": {
     "image/png": "[encoded data removed]"
    },
    "image.png": {
     "image/png": "[encoded data removed]"
    }
   },
   "cell_type": "markdown",
   "id": "3e5e71e2",
   "metadata": {},
   "source": [
    "## Fairness Definition 5: Disparate Impact\n",
    "\n",
    "Our fifth definition of fairness is disparate impact (DI). We start by calculating the PPP rates seen below. This is the percentage of people who have either been correctly (TP) or incorrectly (FP) predicted as positive. We can interpret this as the percentage of people who will benefit from the model.\n",
    "\n",
    "![image.png](attachment:image.png)\n",
    "\n",
    "Under DI we consider a model to be fair if we have equal PPP rates. Again, in practice, we use a cutoff to give some leeway. This definition is supposed to represent the legal concept of disparate impact. In the US there is a legal precedent to set the cutoff to 0.8. That is the PPP for the unprivileged group must not be less than 80% of that of the privileged group.\n",
    "\n",
    "![image-2.png](attachment:image-2.png)"
   ]
  },
  {
   "cell_type": "code",
   "execution_count": 16,
   "id": "e4ccfea5",
   "metadata": {},
   "outputs": [],
   "source": [
    "def disparate_impact(df):\n",
    "    \"\"\"Calculate PPP for subgroup of population\"\"\"\n",
    "    \n",
    "    # Confusion Matrix\n",
    "    cm = confusion_matrix(df['y'],df['y_pred'])\n",
    "    TN, FP, FN, TP = cm.ravel()\n",
    "    \n",
    "    # Total population\n",
    "    N = TP + FP + FN + TN \n",
    "    \n",
    "    # predicted as positive\n",
    "    PPP = (TP + FP) / N \n",
    "    \n",
    "    return PPP"
   ]
  },
  {
   "cell_type": "code",
   "execution_count": 17,
   "id": "a1223643",
   "metadata": {},
   "outputs": [
    {
     "name": "stdout",
     "output_type": "stream",
     "text": [
      "Overall PPP: 0.64\n"
     ]
    }
   ],
   "source": [
    "print(\"Overall PPP:\", np.round(disparate_impact(demographics), 3))"
   ]
  },
  {
   "cell_type": "markdown",
   "id": "c4b15119",
   "metadata": {},
   "source": [
    "#### Sensitive Attribute: Gender"
   ]
  },
  {
   "cell_type": "code",
   "execution_count": 18,
   "id": "82814924",
   "metadata": {},
   "outputs": [
    {
     "data": {
      "image/png": "[encoded data removed]",
      "text/plain": [
       "<Figure size 640x480 with 1 Axes>"
      ]
     },
     "metadata": {},
     "output_type": "display_data"
    }
   ],
   "source": [
    "gender_df['PPP'] = [np.round(disparate_impact(demographics[demographics['gender'] == 'M']), 3), \n",
    "                    np.round(disparate_impact(demographics[demographics['gender'] == 'F']), 3),\n",
    "                    np.round(disparate_impact(demographics[demographics['gender'].isna()]), 3)]\n",
    "       \n",
    "sns.barplot(x='Gender', y='PPP', data=gender_df, palette = 'Blues', edgecolor = 'w')\n",
    "plt.show()"
   ]
  },
  {
   "cell_type": "code",
   "execution_count": 19,
   "id": "fdc3f3d0",
   "metadata": {},
   "outputs": [
    {
     "name": "stdout",
     "output_type": "stream",
     "text": [
      "Sensitive Attr: Gender \n",
      "\n",
      "------------------------------------\n",
      "Disparate Impact > Cutoff? True\n",
      "------------------------------------\n",
      "PPP0 ( Male ) = 0.6\n",
      "PPP1 ( Female ) = 0.671\n",
      "PPP_Ratio: 0.894\n",
      "Cutoff: 0.1\n"
     ]
    }
   ],
   "source": [
    "# For disparate impact, we compare the ratio between the PPPs of the sensitive attributes.\n",
    "# We define our significance cutoff at 0.1, stating any difference below 10% can be attributed to random chance.\n",
    "\n",
    "def stats_ppp(df, attr, cutoff=0.1):\n",
    "    PPP_0, PPP_1 = df['PPP'][0], df['PPP'][1]\n",
    "    ppp_ratio = np.round(PPP_0/PPP_1, 3)\n",
    "    \n",
    "    print('Sensitive Attr:', attr, '\\n')\n",
    "    \n",
    "    print('------------------------------------')\n",
    "    print('Disparate Impact > Cutoff?', np.abs(ppp_ratio) > cutoff)\n",
    "    print('------------------------------------')\n",
    "    print('PPP0 (', df[attr][0], ') =', PPP_0)\n",
    "    print('PPP1 (', df[attr][1], ') =', PPP_1)\n",
    "    print('PPP_Ratio:', ppp_ratio)\n",
    "    print('Cutoff:', cutoff)\n",
    "\n",
    "stats_ppp(gender_df, 'Gender')"
   ]
  },
  {
   "cell_type": "markdown",
   "id": "e7a4fc67",
   "metadata": {},
   "source": [
    "# Your Turn\n",
    "\n",
    "Compute fairness metrics on the **Country (Diploma)** attribute, which refers to which country a student did their high school diploma in. Fill in the code by referencing the gender analysis above, and write an interpretation of the fairness of your model based on your generated graphs."
   ]
  },
  {
   "cell_type": "code",
   "execution_count": 20,
   "id": "e43c784d",
   "metadata": {},
   "outputs": [
    {
     "name": "stdin",
     "output_type": "stream",
     "text": [
      "Your name:  Test - Vinitra\n"
     ]
    }
   ],
   "source": [
    "import requests\n",
    "\n",
    "exec(requests.get(\"https://courdier.pythonanywhere.com/get-send-code\").content)\n",
    "\n",
    "npt_config = {\n",
    "    'session_name': 'lab-12',\n",
    "    'session_owner': 'mlbd',\n",
    "    'sender_name': input(\"Your name: \"),\n",
    "}"
   ]
  },
  {
   "cell_type": "markdown",
   "id": "bd40753f",
   "metadata": {},
   "source": [
    "#### Accuracy"
   ]
  },
  {
   "cell_type": "code",
   "execution_count": null,
   "id": "e54448c0",
   "metadata": {
    "scrolled": true
   },
   "outputs": [],
   "source": [
    "country_df = pd.DataFrame()\n",
    "country_df['Country (Diploma)'] = ['France', 'Suisse', 'Non-Specified']\n",
    "\n",
    "# YOUR TURN: Fill in code here\n",
    "\n",
    "country_df['ACC'] = ...\n",
    "       \n",
    "sns.barplot(x='Country (Diploma)', y='ACC', data=country_df, palette = 'pink', edgecolor = 'w')\n",
    "\n",
    "send(plt, 1)\n",
    "plt.show()"
   ]
  },
  {
   "cell_type": "markdown",
   "id": "e2071146",
   "metadata": {},
   "source": [
    "#### Equal Opportunity"
   ]
  },
  {
   "cell_type": "code",
   "execution_count": null,
   "id": "ef70b147",
   "metadata": {},
   "outputs": [],
   "source": [
    "# YOUR TURN: Fill in code here\n",
    "\n",
    "country_df['TPR'] = ...\n",
    "      \n",
    "sns.barplot(x='Country (Diploma)', y='TPR', data=country_df, palette = 'pink', edgecolor = 'w')\n",
    "\n",
    "send(plt, 2)\n",
    "plt.show()"
   ]
  },
  {
   "cell_type": "code",
   "execution_count": null,
   "id": "87b06851",
   "metadata": {},
   "outputs": [],
   "source": [
    "stats_eq_opp(country_df, 'Country (Diploma)')"
   ]
  },
  {
   "cell_type": "markdown",
   "id": "d4933e7c",
   "metadata": {},
   "source": [
    "#### Equalized Odds"
   ]
  },
  {
   "cell_type": "code",
   "execution_count": null,
   "id": "576a16b5",
   "metadata": {},
   "outputs": [],
   "source": [
    "# YOUR TURN: Fill in code here\n",
    "\n",
    "country_df['TPR'] = ...\n",
    "country_df['FPR'] = ...\n",
    "       \n",
    "plt.figure(figsize=(5, 5))\n",
    "ax = sns.barplot(x='Country (Diploma)', y='FPR', data=country_df, palette = 'pink', edgecolor = 'w')\n",
    "width_scale = 0.45\n",
    "for bar in ax.containers[0]:\n",
    "    bar.set_width(bar.get_width() * width_scale)\n",
    "ax.set_ylim([0, 0.7])\n",
    "\n",
    "ax2 = ax.twinx()\n",
    "sns.barplot(x='Country (Diploma)', y='TPR', data=country_df, palette = 'pink', edgecolor = 'w', alpha=0.7, hatch='xx', ax=ax2)\n",
    "for bar in ax2.containers[0]:\n",
    "    x = bar.get_x()\n",
    "    w = bar.get_width()\n",
    "    bar.set_x(x + w * (1- width_scale))\n",
    "    bar.set_width(w * width_scale)\n",
    "ax2.set_ylim([0, 0.7])\n",
    "\n",
    "send(plt, 3)\n",
    "plt.show()"
   ]
  },
  {
   "cell_type": "markdown",
   "id": "aa36421c",
   "metadata": {},
   "source": [
    "#### Disparate Impact"
   ]
  },
  {
   "cell_type": "code",
   "execution_count": null,
   "id": "d4bbfba9",
   "metadata": {},
   "outputs": [],
   "source": [
    "# YOUR TURN: Fill in code here\n",
    "\n",
    "country_df['PPP'] = ...\n",
    "       \n",
    "sns.barplot(x='Country (Diploma)', y='PPP', data=country_df, palette = 'pink', edgecolor = 'w')\n",
    "\n",
    "send(plt, 4)\n",
    "plt.show()"
   ]
  },
  {
   "cell_type": "code",
   "execution_count": null,
   "id": "467f5a33",
   "metadata": {},
   "outputs": [],
   "source": [
    "stats_ppp(country_df, 'Country (Diploma)')"
   ]
  },
  {
   "cell_type": "markdown",
   "id": "8e0e4560",
   "metadata": {},
   "source": [
    "#### Demographic Parity"
   ]
  },
  {
   "cell_type": "code",
   "execution_count": null,
   "id": "9c839ab7",
   "metadata": {},
   "outputs": [],
   "source": [
    "stats_dp(country_df, 'Country (Diploma)')"
   ]
  },
  {
   "cell_type": "markdown",
   "id": "99963b5f",
   "metadata": {},
   "source": [
    "#### Predictive Rate Parity"
   ]
  },
  {
   "cell_type": "code",
   "execution_count": null,
   "id": "36464572",
   "metadata": {
    "scrolled": true
   },
   "outputs": [],
   "source": [
    "# YOUR TURN: Fill in code here\n",
    "\n",
    "country_df['PPV'] = ...\n",
    "country_df['NPV'] = ...\n",
    "       \n",
    "plt.figure(figsize=(5, 5))\n",
    "ax = sns.barplot(x='Country (Diploma)', y='PPV', data=country_df, palette = 'pink', edgecolor = 'w')\n",
    "width_scale = 0.45\n",
    "for bar in ax.containers[0]:\n",
    "    bar.set_width(bar.get_width() * width_scale)\n",
    "ax.set_ylim([0, 0.7])\n",
    "\n",
    "ax2 = ax.twinx()\n",
    "sns.barplot(x='Country (Diploma)', y='NPV', data=country_df, palette = 'pink', edgecolor = 'w', alpha=0.7, hatch='xx', ax=ax2)\n",
    "for bar in ax2.containers[0]:\n",
    "    x = bar.get_x()\n",
    "    w = bar.get_width()\n",
    "    bar.set_x(x + w * (1- width_scale))\n",
    "    bar.set_width(w * width_scale)\n",
    "ax2.set_ylim([0, 0.7])\n",
    "\n",
    "send(plt, 5)\n",
    "plt.show()"
   ]
  },
  {
   "cell_type": "code",
   "execution_count": null,
   "id": "c5080b33",
   "metadata": {},
   "outputs": [],
   "source": [
    "interpretation = \"\"\"\n",
    "Write your interpretation of the fairness analysis here.\n",
    "\"\"\"\n",
    "\n",
    "send(interpretation, 6)"
   ]
  },
  {
   "cell_type": "markdown",
   "id": "087647f9",
   "metadata": {},
   "source": [
    "## Combined Fairness Analysis\n",
    "\n",
    "It is often not enough to look at one sensitive attribute alone; it is important to identify what unfairness occurs with multiple sensitive attributes together.\n",
    "\n",
    "In this exploration, you will compute combined fairness metrics on the **gender_country** attribute, which combines sensitive attributes **Gender** and **Country (Diploma)** to have separate metrics for males and females with diplomas from each country. \n",
    "\n",
    "Fill in the code by referencing the single variable analysis above, and write an interpretation of the fairness of your model based on your generated plots."
   ]
  },
  {
   "cell_type": "markdown",
   "id": "efab0e6d",
   "metadata": {},
   "source": [
    "#### Accuracy"
   ]
  },
  {
   "cell_type": "code",
   "execution_count": null,
   "id": "696a64ca",
   "metadata": {},
   "outputs": [],
   "source": [
    "combined_df = pd.DataFrame()\n",
    "combined_df[\"gender_country\"] = ['Male_France', 'Female_France', 'Male_Suisse', 'Female_Suisse', 'Non-Specified']\n",
    "\n",
    "# YOUR TURN: Fill in code here\n",
    "\n",
    "combined_df['ACC'] = ...\n",
    "\n",
    "sns.barplot(x='gender_country', y='ACC', data=combined_df, palette = 'Greens', edgecolor = 'w')\n",
    "plt.xticks(rotation = 10)\n",
    "plt.show()"
   ]
  },
  {
   "cell_type": "markdown",
   "id": "5cef6246",
   "metadata": {},
   "source": [
    "#### Equal Opportunity"
   ]
  },
  {
   "cell_type": "code",
   "execution_count": null,
   "id": "0f3edfc3",
   "metadata": {},
   "outputs": [],
   "source": [
    "# YOUR TURN: Fill in code here\n",
    "combined_df['TPR'] = ...\n",
    "\n",
    "sns.barplot(x='gender_country', y='TPR', data=combined_df, palette = 'Greens', edgecolor = 'w')\n",
    "plt.xticks(rotation = 10)\n",
    "plt.show()"
   ]
  },
  {
   "cell_type": "code",
   "execution_count": null,
   "id": "cbf54856",
   "metadata": {},
   "outputs": [],
   "source": [
    "def get_heatmap(df, attr, func, stat='TPR', cutoff=0.1):\n",
    "    size = df[attr].size\n",
    "    data = df[stat]\n",
    "    heatmap = np.zeros((size, size))\n",
    "    for i in range(size):\n",
    "        for j in range(size):\n",
    "            heatmap[i, j] = func([data[i], data[j]])\n",
    "    \n",
    "    return heatmap"
   ]
  },
  {
   "cell_type": "code",
   "execution_count": null,
   "id": "d537c213",
   "metadata": {},
   "outputs": [],
   "source": [
    "fig, ax = plt.subplots(1, 2, figsize=(13, 5), sharey=True)\n",
    "\n",
    "heatmap = get_heatmap(combined_df, 'gender_country', lambda x: np.round(np.abs(x[0] - x[1]), 3))\n",
    "sns.heatmap(heatmap, ax=ax[0], xticklabels=combined_df['gender_country'], yticklabels=combined_df['gender_country'], annot=True, vmin=0, vmax=1)\n",
    "ax[0].set_title(\"|Equal Opportunity| < cutoff = 0.1 ?\")\n",
    "\n",
    "heatmap = get_heatmap(combined_df, 'gender_country', lambda x: np.round(np.minimum(x[0], x[1]) / np.maximum(x[0], x[1]), 3))\n",
    "sns.heatmap(heatmap, ax=ax[1], xticklabels=combined_df['gender_country'], yticklabels=combined_df['gender_country'], annot=True, vmin=0, vmax=1)\n",
    "ax[1].set_title(\"Equal Opportunity Ratio > cutoff = 0.1 ?\")\n",
    "\n",
    "plt.show()"
   ]
  },
  {
   "cell_type": "markdown",
   "id": "dad977bb",
   "metadata": {},
   "source": [
    "#### Equalized Odds"
   ]
  },
  {
   "cell_type": "code",
   "execution_count": null,
   "id": "6dac1d4a",
   "metadata": {},
   "outputs": [],
   "source": [
    "# YOUR TURN: Fill in code here\n",
    "combined_df['TPR'] = ...\n",
    "combined_df['FPR'] = ...\n",
    "\n",
    "\n",
    "plt.figure(figsize=(5, 5))\n",
    "ax = sns.barplot(x='gender_country', y='FPR', data=combined_df, palette = 'Greens', edgecolor = 'w')\n",
    "width_scale = 0.45\n",
    "for bar in ax.containers[0]:\n",
    "    bar.set_width(bar.get_width() * width_scale)\n",
    "ax.set_ylim([0, 0.7])\n",
    "\n",
    "ax2 = ax.twinx()\n",
    "sns.barplot(x='gender_country', y='TPR', data=combined_df, palette = 'Greens', edgecolor = 'w', alpha=0.7, hatch='xx', ax=ax2)\n",
    "for bar in ax2.containers[0]:\n",
    "    x = bar.get_x()\n",
    "    w = bar.get_width()\n",
    "    bar.set_x(x + w * (1- width_scale))\n",
    "    bar.set_width(w * width_scale)\n",
    "ax2.set_ylim([0, 0.7])\n",
    "\n",
    "ax.tick_params(labelrotation=20)\n",
    "plt.show()"
   ]
  },
  {
   "cell_type": "code",
   "execution_count": null,
   "id": "7bd7014d",
   "metadata": {},
   "outputs": [],
   "source": [
    "fig, ax = plt.subplots(1, 2, figsize=(13, 5), sharey=True)\n",
    "\n",
    "heatmap = get_heatmap(combined_df, 'gender_country', lambda x: np.round(np.abs(x[0] - x[1]), 3), stat='TPR')\n",
    "sns.heatmap(heatmap, ax=ax[0], xticklabels=combined_df['gender_country'], yticklabels=combined_df['gender_country'], annot=True, vmin=0, vmax=1)\n",
    "ax[0].set_title(\"|TPR0 - TPR1| ≈ 0 ?\")\n",
    "\n",
    "heatmap = get_heatmap(combined_df, 'gender_country', lambda x: np.round(np.abs(x[0] - x[1]), 3), stat='FPR')\n",
    "sns.heatmap(heatmap, ax=ax[1], xticklabels=combined_df['gender_country'], yticklabels=combined_df['gender_country'], annot=True, vmin=0, vmax=1)\n",
    "ax[1].set_title(\"|FPR0 - FPR1| ≈ 0 ?\")\n",
    "\n",
    "plt.show()"
   ]
  },
  {
   "cell_type": "markdown",
   "id": "1533b3ab",
   "metadata": {},
   "source": [
    "#### Disparate Impact"
   ]
  },
  {
   "cell_type": "code",
   "execution_count": null,
   "id": "7342e2f9",
   "metadata": {},
   "outputs": [],
   "source": [
    "# YOUR TURN: Fill in code here\n",
    "combined_df['PPP'] = ...\n",
    "       \n",
    "sns.barplot(x='gender_country', y='PPP', data=combined_df, palette = 'Greens', edgecolor = 'w')\n",
    "plt.xticks(rotation=10)\n",
    "plt.show()"
   ]
  },
  {
   "cell_type": "code",
   "execution_count": null,
   "id": "78f4ee0d",
   "metadata": {},
   "outputs": [],
   "source": [
    "heatmap = get_heatmap(combined_df, 'gender_country', lambda x: np.round(np.minimum(x[0], x[1]) / np.maximum(x[0], x[1]), 3), stat='PPP')\n",
    "sns.heatmap(heatmap, xticklabels=combined_df['gender_country'], yticklabels=combined_df['gender_country'], annot=True, vmin=0, vmax=1)\n",
    "plt.title(\"PPP_Ratio > cutoff = 0.1 ?\")\n",
    "plt.show()"
   ]
  },
  {
   "cell_type": "markdown",
   "id": "9b259e0f",
   "metadata": {},
   "source": [
    "#### Demographic Parity"
   ]
  },
  {
   "cell_type": "code",
   "execution_count": null,
   "id": "ad02eeb1",
   "metadata": {},
   "outputs": [],
   "source": [
    "heatmap = get_heatmap(combined_df, 'gender_country', lambda x: np.round(np.abs(x[0] - x[1]), 3), stat='PPP')\n",
    "sns.heatmap(heatmap, xticklabels=combined_df['gender_country'], yticklabels=combined_df['gender_country'], annot=True, vmin=0, vmax=1)\n",
    "plt.title(\"|Demographic Parity| > cutoff = 0.1 ?\")\n",
    "plt.show()"
   ]
  },
  {
   "cell_type": "markdown",
   "id": "0a5df6a3",
   "metadata": {},
   "source": [
    "#### Predictive Rate Parity"
   ]
  },
  {
   "cell_type": "code",
   "execution_count": null,
   "id": "3dd50565",
   "metadata": {},
   "outputs": [],
   "source": [
    "combined_df['PPV'] = ...\n",
    "combined_df['NPV'] = ...\n",
    "       \n",
    "plt.figure(figsize=(5, 5))\n",
    "ax = sns.barplot(x='gender_country', y='PPV', data=combined_df, palette = 'Greens', edgecolor = 'w')\n",
    "width_scale = 0.45\n",
    "for bar in ax.containers[0]:\n",
    "    bar.set_width(bar.get_width() * width_scale)\n",
    "ax.set_ylim([0, 0.7])\n",
    "\n",
    "ax2 = ax.twinx()\n",
    "sns.barplot(x='gender_country', y='NPV', data=combined_df, palette = 'Greens', edgecolor = 'w', alpha=0.7, hatch='xx', ax=ax2)\n",
    "for bar in ax2.containers[0]:\n",
    "    x = bar.get_x()\n",
    "    w = bar.get_width()\n",
    "    bar.set_x(x + w * (1- width_scale))\n",
    "    bar.set_width(w * width_scale)\n",
    "ax2.set_ylim([0, 0.7])\n",
    "\n",
    "ax.tick_params(labelrotation=20)\n",
    "plt.show()"
   ]
  },
  {
   "cell_type": "code",
   "execution_count": null,
   "id": "115cb777",
   "metadata": {},
   "outputs": [],
   "source": [
    "# YOUR TURN: Write your interpretation of the fairness analysis here. \n",
    "# What has changed from the single variable analysis?\n",
    "\n",
    "interpretation = \"\"\"\n",
    "Your discussion here\n",
    "\"\"\"\n",
    "\n",
    "send(interpretation, 7)"
   ]
  }
 ],
 "metadata": {
  "kernelspec": {
   "display_name": "Python",
   "language": "python",
   "name": "python3"
  },
  "language_info": {
   "codemirror_mode": {
    "name": "ipython",
    "version": 3
   },
   "file_extension": ".py",
   "mimetype": "text/x-python",
   "name": "python",
   "nbconvert_exporter": "python",
   "pygments_lexer": "ipython3",
   "version": "3.8.10"
  }
 },
 "nbformat": 4,
 "nbformat_minor": 5
}
