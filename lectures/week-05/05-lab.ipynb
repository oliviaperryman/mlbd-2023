{
 "cells": [
  {
   "cell_type": "markdown",
   "id": "bbbe04b0-b989-4b3e-95cd-a9d35bc4a5d9",
   "metadata": {},
   "source": [
    "# Lab 05 - Extended Exercises on Model Evaluation\n",
    "## Predicting student performance"
   ]
  },
  {
   "cell_type": "code",
   "execution_count": 1,
   "id": "9ab80eb4",
   "metadata": {},
   "outputs": [],
   "source": [
    "import pandas as pd\n",
    "import matplotlib.pyplot as plt\n",
    "import numpy as np\n",
    "import seaborn as sns\n",
    "\n",
    "import scipy as sp\n",
    "\n",
    "# Data directory\n",
    "DATA_DIR = \"./../../data/\""
   ]
  },
  {
   "cell_type": "code",
   "execution_count": 124,
   "id": "023563d5-fc07-4d9c-81a3-252a6d04cf9f",
   "metadata": {},
   "outputs": [],
   "source": [
    "from sklearn.model_selection import train_test_split, cross_validate, GridSearchCV, ParameterGrid, cross_val_score, KFold\n",
    "from sklearn.ensemble import RandomForestClassifier\n",
    "from sklearn.metrics import accuracy_score, roc_auc_score, classification_report, confusion_matrix, auc, mean_squared_error\n",
    "from sklearn.utils import resample\n",
    "from sklearn.compose import ColumnTransformer\n",
    "from sklearn.preprocessing import OneHotEncoder, Normalizer\n",
    "from sklearn.linear_model import ElasticNet, ElasticNetCV\n",
    "from sklearn.pipeline import Pipeline"
   ]
  },
  {
   "cell_type": "code",
   "execution_count": 2,
   "id": "f7257661-07c7-4541-b3f2-e370dd89bbba",
   "metadata": {},
   "outputs": [
    {
     "name": "stdin",
     "output_type": "stream",
     "text": [
      "Your name:  Olivia\n"
     ]
    }
   ],
   "source": [
    "import requests\n",
    "\n",
    "exec(requests.get(\"https://courdier.pythonanywhere.com/get-send-code\").content)\n",
    "\n",
    "npt_config = {\n",
    "    'session_name': 'lab-05',\n",
    "    'session_owner': 'mlbd',\n",
    "    'sender_name': input(\"Your name: \"),\n",
    "}"
   ]
  },
  {
   "cell_type": "markdown",
   "id": "6bf244ff-3f20-4cd7-a7dd-345a29b6ce1f",
   "metadata": {},
   "source": [
    "## Introduction\n",
    "The data has already been cleaned and it comes from 29 students in 3 different groups in a course of 26 weeks.\n",
    "\n",
    "You already used this data in week 03. \n",
    "\n",
    "In this lab you will explore different models to predict the quiz grade. "
   ]
  },
  {
   "cell_type": "code",
   "execution_count": 3,
   "id": "05546575-7285-44ad-86fd-e258d36caea2",
   "metadata": {},
   "outputs": [
    {
     "data": {
      "text/html": [
       "<div>\n",
       "<style scoped>\n",
       "    .dataframe tbody tr th:only-of-type {\n",
       "        vertical-align: middle;\n",
       "    }\n",
       "\n",
       "    .dataframe tbody tr th {\n",
       "        vertical-align: top;\n",
       "    }\n",
       "\n",
       "    .dataframe thead th {\n",
       "        text-align: right;\n",
       "    }\n",
       "</style>\n",
       "<table border=\"1\" class=\"dataframe\">\n",
       "  <thead>\n",
       "    <tr style=\"text-align: right;\">\n",
       "      <th></th>\n",
       "      <th>student</th>\n",
       "      <th>week</th>\n",
       "      <th>studying_hours</th>\n",
       "      <th>group</th>\n",
       "      <th>quiz_grade</th>\n",
       "    </tr>\n",
       "  </thead>\n",
       "  <tbody>\n",
       "    <tr>\n",
       "      <th>0</th>\n",
       "      <td>0</td>\n",
       "      <td>0</td>\n",
       "      <td>39.9</td>\n",
       "      <td>3</td>\n",
       "      <td>6.1</td>\n",
       "    </tr>\n",
       "    <tr>\n",
       "      <th>1</th>\n",
       "      <td>0</td>\n",
       "      <td>1</td>\n",
       "      <td>32.4</td>\n",
       "      <td>3</td>\n",
       "      <td>7.0</td>\n",
       "    </tr>\n",
       "    <tr>\n",
       "      <th>2</th>\n",
       "      <td>0</td>\n",
       "      <td>2</td>\n",
       "      <td>17.5</td>\n",
       "      <td>3</td>\n",
       "      <td>6.9</td>\n",
       "    </tr>\n",
       "    <tr>\n",
       "      <th>3</th>\n",
       "      <td>0</td>\n",
       "      <td>3</td>\n",
       "      <td>16.0</td>\n",
       "      <td>3</td>\n",
       "      <td>7.0</td>\n",
       "    </tr>\n",
       "    <tr>\n",
       "      <th>4</th>\n",
       "      <td>0</td>\n",
       "      <td>4</td>\n",
       "      <td>15.9</td>\n",
       "      <td>3</td>\n",
       "      <td>7.2</td>\n",
       "    </tr>\n",
       "  </tbody>\n",
       "</table>\n",
       "</div>"
      ],
      "text/plain": [
       "   student  week  studying_hours  group  quiz_grade\n",
       "0        0     0            39.9      3         6.1\n",
       "1        0     1            32.4      3         7.0\n",
       "2        0     2            17.5      3         6.9\n",
       "3        0     3            16.0      3         7.0\n",
       "4        0     4            15.9      3         7.2"
      ]
     },
     "execution_count": 3,
     "metadata": {},
     "output_type": "execute_result"
    }
   ],
   "source": [
    "# Load data\n",
    "df= pd.read_csv(f'{DATA_DIR}grades_in_time.csv.gz')\n",
    "send(len(df), 0)\n",
    "df.head()"
   ]
  },
  {
   "cell_type": "code",
   "execution_count": 4,
   "id": "1a0380fd-5578-46a7-bf68-e1aeac69b4e4",
   "metadata": {},
   "outputs": [
    {
     "data": {
      "text/html": [
       "<div>\n",
       "<style scoped>\n",
       "    .dataframe tbody tr th:only-of-type {\n",
       "        vertical-align: middle;\n",
       "    }\n",
       "\n",
       "    .dataframe tbody tr th {\n",
       "        vertical-align: top;\n",
       "    }\n",
       "\n",
       "    .dataframe thead th {\n",
       "        text-align: right;\n",
       "    }\n",
       "</style>\n",
       "<table border=\"1\" class=\"dataframe\">\n",
       "  <thead>\n",
       "    <tr style=\"text-align: right;\">\n",
       "      <th></th>\n",
       "      <th>student</th>\n",
       "      <th>week</th>\n",
       "      <th>studying_hours</th>\n",
       "      <th>group</th>\n",
       "      <th>quiz_grade</th>\n",
       "    </tr>\n",
       "  </thead>\n",
       "  <tbody>\n",
       "    <tr>\n",
       "      <th>count</th>\n",
       "      <td>810.000000</td>\n",
       "      <td>810.000000</td>\n",
       "      <td>810.000000</td>\n",
       "      <td>810.000000</td>\n",
       "      <td>810.000000</td>\n",
       "    </tr>\n",
       "    <tr>\n",
       "      <th>mean</th>\n",
       "      <td>14.500000</td>\n",
       "      <td>13.000000</td>\n",
       "      <td>10.050617</td>\n",
       "      <td>1.933333</td>\n",
       "      <td>6.931975</td>\n",
       "    </tr>\n",
       "    <tr>\n",
       "      <th>std</th>\n",
       "      <td>8.660789</td>\n",
       "      <td>7.793693</td>\n",
       "      <td>8.270041</td>\n",
       "      <td>0.772199</td>\n",
       "      <td>1.336888</td>\n",
       "    </tr>\n",
       "    <tr>\n",
       "      <th>min</th>\n",
       "      <td>0.000000</td>\n",
       "      <td>0.000000</td>\n",
       "      <td>1.000000</td>\n",
       "      <td>1.000000</td>\n",
       "      <td>1.200000</td>\n",
       "    </tr>\n",
       "    <tr>\n",
       "      <th>25%</th>\n",
       "      <td>7.000000</td>\n",
       "      <td>6.000000</td>\n",
       "      <td>5.700000</td>\n",
       "      <td>1.000000</td>\n",
       "      <td>6.400000</td>\n",
       "    </tr>\n",
       "    <tr>\n",
       "      <th>50%</th>\n",
       "      <td>14.500000</td>\n",
       "      <td>13.000000</td>\n",
       "      <td>7.800000</td>\n",
       "      <td>2.000000</td>\n",
       "      <td>7.200000</td>\n",
       "    </tr>\n",
       "    <tr>\n",
       "      <th>75%</th>\n",
       "      <td>22.000000</td>\n",
       "      <td>20.000000</td>\n",
       "      <td>11.100000</td>\n",
       "      <td>3.000000</td>\n",
       "      <td>7.800000</td>\n",
       "    </tr>\n",
       "    <tr>\n",
       "      <th>max</th>\n",
       "      <td>29.000000</td>\n",
       "      <td>26.000000</td>\n",
       "      <td>64.000000</td>\n",
       "      <td>3.000000</td>\n",
       "      <td>10.100000</td>\n",
       "    </tr>\n",
       "  </tbody>\n",
       "</table>\n",
       "</div>"
      ],
      "text/plain": [
       "          student        week  studying_hours       group  quiz_grade\n",
       "count  810.000000  810.000000      810.000000  810.000000  810.000000\n",
       "mean    14.500000   13.000000       10.050617    1.933333    6.931975\n",
       "std      8.660789    7.793693        8.270041    0.772199    1.336888\n",
       "min      0.000000    0.000000        1.000000    1.000000    1.200000\n",
       "25%      7.000000    6.000000        5.700000    1.000000    6.400000\n",
       "50%     14.500000   13.000000        7.800000    2.000000    7.200000\n",
       "75%     22.000000   20.000000       11.100000    3.000000    7.800000\n",
       "max     29.000000   26.000000       64.000000    3.000000   10.100000"
      ]
     },
     "execution_count": 4,
     "metadata": {},
     "output_type": "execute_result"
    }
   ],
   "source": [
    "df.describe(include='all')"
   ]
  },
  {
   "cell_type": "markdown",
   "id": "480bc2c2-fbb0-4424-b1fd-ee1d6566f670",
   "metadata": {},
   "source": [
    "# Task 1: Predict the quiz grade using the studying hours and the group.\n",
    "----------\n",
    "### 1.1 Split the data. 80% to train and the rest to test. \n"
   ]
  },
  {
   "cell_type": "code",
   "execution_count": 7,
   "id": "ec359963-b5c2-4270-a820-fdaf71c6af3e",
   "metadata": {},
   "outputs": [
    {
     "data": {
      "text/html": [
       "<div>\n",
       "<style scoped>\n",
       "    .dataframe tbody tr th:only-of-type {\n",
       "        vertical-align: middle;\n",
       "    }\n",
       "\n",
       "    .dataframe tbody tr th {\n",
       "        vertical-align: top;\n",
       "    }\n",
       "\n",
       "    .dataframe thead th {\n",
       "        text-align: right;\n",
       "    }\n",
       "</style>\n",
       "<table border=\"1\" class=\"dataframe\">\n",
       "  <thead>\n",
       "    <tr style=\"text-align: right;\">\n",
       "      <th></th>\n",
       "      <th>quiz_grade</th>\n",
       "    </tr>\n",
       "  </thead>\n",
       "  <tbody>\n",
       "    <tr>\n",
       "      <th>0</th>\n",
       "      <td>6.1</td>\n",
       "    </tr>\n",
       "    <tr>\n",
       "      <th>1</th>\n",
       "      <td>7.0</td>\n",
       "    </tr>\n",
       "    <tr>\n",
       "      <th>2</th>\n",
       "      <td>6.9</td>\n",
       "    </tr>\n",
       "    <tr>\n",
       "      <th>3</th>\n",
       "      <td>7.0</td>\n",
       "    </tr>\n",
       "    <tr>\n",
       "      <th>4</th>\n",
       "      <td>7.2</td>\n",
       "    </tr>\n",
       "    <tr>\n",
       "      <th>...</th>\n",
       "      <td>...</td>\n",
       "    </tr>\n",
       "    <tr>\n",
       "      <th>805</th>\n",
       "      <td>8.3</td>\n",
       "    </tr>\n",
       "    <tr>\n",
       "      <th>806</th>\n",
       "      <td>8.2</td>\n",
       "    </tr>\n",
       "    <tr>\n",
       "      <th>807</th>\n",
       "      <td>8.1</td>\n",
       "    </tr>\n",
       "    <tr>\n",
       "      <th>808</th>\n",
       "      <td>8.1</td>\n",
       "    </tr>\n",
       "    <tr>\n",
       "      <th>809</th>\n",
       "      <td>8.0</td>\n",
       "    </tr>\n",
       "  </tbody>\n",
       "</table>\n",
       "<p>810 rows × 1 columns</p>\n",
       "</div>"
      ],
      "text/plain": [
       "     quiz_grade\n",
       "0           6.1\n",
       "1           7.0\n",
       "2           6.9\n",
       "3           7.0\n",
       "4           7.2\n",
       "..          ...\n",
       "805         8.3\n",
       "806         8.2\n",
       "807         8.1\n",
       "808         8.1\n",
       "809         8.0\n",
       "\n",
       "[810 rows x 1 columns]"
      ]
     },
     "execution_count": 7,
     "metadata": {},
     "output_type": "execute_result"
    }
   ],
   "source": [
    "df[['quiz_grade']]"
   ]
  },
  {
   "cell_type": "code",
   "execution_count": 42,
   "id": "ba36e633-1925-4371-9bb3-873fc7976a9e",
   "metadata": {},
   "outputs": [],
   "source": [
    "X =  df.drop(columns='quiz_grade')\n",
    "y =  df['quiz_grade']\n",
    "\n",
    "X_train, X_test, y_train, y_test = train_test_split(X, y, test_size=0.2, random_state=42)"
   ]
  },
  {
   "cell_type": "markdown",
   "id": "c3d70d69-a9c3-45f7-b0f8-4d926e1e4038",
   "metadata": {},
   "source": [
    "### 1.2 Preprocess the data\n",
    "Recall that group is a categorical feature.\n",
    "\n",
    "Hint: Use ColumnTransformer."
   ]
  },
  {
   "cell_type": "code",
   "execution_count": 43,
   "id": "7c1f115d-7a45-4b52-9257-8a49bda672a5",
   "metadata": {},
   "outputs": [
    {
     "data": {
      "text/plain": [
       "array([[0., 0., 1., 1.],\n",
       "       [0., 0., 1., 1.],\n",
       "       [1., 0., 0., 1.],\n",
       "       ...,\n",
       "       [0., 1., 0., 1.],\n",
       "       [1., 0., 0., 1.],\n",
       "       [0., 1., 0., 1.]])"
      ]
     },
     "execution_count": 43,
     "metadata": {},
     "output_type": "execute_result"
    }
   ],
   "source": [
    "preprocessor = ColumnTransformer(\n",
    "    [\n",
    "        (\"categorical\", OneHotEncoder(handle_unknown=\"ignore\", drop='first'), ['group']),\n",
    "        (\"numerical\", Normalizer(norm='l1'), ['studying_hours'])\n",
    "    ]\n",
    ")\n",
    "\n",
    "preprocessor.fit_transform(X_train)\n"
   ]
  },
  {
   "cell_type": "markdown",
   "id": "0566521a-7065-459f-aba5-f365541e83be",
   "metadata": {},
   "source": [
    "### 1.3 Create a pipeline (including the preprocessing steps) to predict the quiz grade using the studying hours and the group.\n",
    "\n",
    "1. Use the model ElasticNet for the regression task.\n",
    "2. Calculate the mean sqaured error of the prediction. \n",
    "\n",
    "\n",
    "Hint: Integrate the ColumnTransformer as a pipeline step"
   ]
  },
  {
   "cell_type": "code",
   "execution_count": 73,
   "id": "6ae84e57-8086-4b20-8628-1adc3d8ec676",
   "metadata": {},
   "outputs": [
    {
     "name": "stdout",
     "output_type": "stream",
     "text": [
      "Mean Squared Error = 1.8601583333333334\n"
     ]
    }
   ],
   "source": [
    "pipe = Pipeline([\n",
    "    ('preprocessor', preprocessor),\n",
    "    ('model', ElasticNet(random_state=0) )\n",
    "])\n",
    "\n",
    "pipe.fit(X_train, y_train)\n",
    "y_pred = pipe.predict(X_test)\n",
    "error = mean_squared_error(y_true=y_test, y_pred=y_pred)\n",
    "send(f\"Mean Squared Error = {error}\", 13)\n",
    "print(f\"Mean Squared Error = {error}\")"
   ]
  },
  {
   "cell_type": "markdown",
   "id": "761754bb-4672-42ee-b883-7b94d8a46cde",
   "metadata": {},
   "source": [
    "### 1.4 Compute the cross validation score"
   ]
  },
  {
   "cell_type": "code",
   "execution_count": 118,
   "id": "188e045f-79fc-438b-adf6-2d297a31a174",
   "metadata": {},
   "outputs": [
    {
     "data": {
      "text/plain": [
       "<Response [200]>"
      ]
     },
     "execution_count": 118,
     "metadata": {},
     "output_type": "execute_result"
    }
   ],
   "source": [
    "pipe = Pipeline([\n",
    "    ('preprocessor', preprocessor),\n",
    "    ('model', ElasticNet(random_state=0, alpha=1.0, l1_ratio=0.5) )\n",
    "])\n",
    "\n",
    "cvscore = 1# Missing code\n",
    "send(cvscore, 14)"
   ]
  },
  {
   "cell_type": "code",
   "execution_count": 75,
   "id": "dca3ed79-182b-452b-b686-8d0eb15d81cc",
   "metadata": {},
   "outputs": [
    {
     "name": "stdout",
     "output_type": "stream",
     "text": [
      "neg MSE with cross-validation: -1.830\n"
     ]
    }
   ],
   "source": [
    "scores = cross_validate(pipe, X_train, y_train, cv=10, scoring='neg_mean_squared_error')\n",
    "print(f'neg MSE with cross-validation: {scores[\"test_score\"].mean():.3f}')\n"
   ]
  },
  {
   "cell_type": "code",
   "execution_count": 77,
   "id": "808c640c-53cc-4434-bd24-4d0d900c37b2",
   "metadata": {
    "tags": []
   },
   "outputs": [
    {
     "name": "stdout",
     "output_type": "stream",
     "text": [
      "1.8601583333333334\n"
     ]
    }
   ],
   "source": [
    "# dont use this because not all models have a CV variant\n",
    "\n",
    "pipe = Pipeline([\n",
    "    ('preprocessor', preprocessor),\n",
    "    ('model', ElasticNetCV(random_state=0) )\n",
    "])\n",
    "\n",
    "pipe.fit(X_train, y_train)\n",
    "y_pred = pipe.predict(X_test)\n",
    "error = mean_squared_error(y_true=y_test, y_pred=y_pred)\n",
    "print(error)"
   ]
  },
  {
   "cell_type": "markdown",
   "id": "7effbb0f-cc36-480b-851f-265a2ad405a8",
   "metadata": {},
   "source": [
    "### 1.5 Does the score in 1.3 differ from the score in 1.4? Why? "
   ]
  },
  {
   "cell_type": "code",
   "execution_count": 78,
   "id": "ae0d5532-c1e6-4f0a-91be-97d7e9976f0a",
   "metadata": {},
   "outputs": [
    {
     "data": {
      "text/plain": [
       "<Response [200]>"
      ]
     },
     "execution_count": 78,
     "metadata": {},
     "output_type": "execute_result"
    }
   ],
   "source": [
    "answer = \"Simetimes, depends on the seed. CV gets a better estimate as without it you are sensitive to random init \"\n",
    "send(answer, 15) "
   ]
  },
  {
   "cell_type": "markdown",
   "id": "6c94393a-9b53-454f-9eab-277b0abdaf6d",
   "metadata": {},
   "source": [
    "### 1.6 What is wrong with data split?"
   ]
  },
  {
   "cell_type": "code",
   "execution_count": 112,
   "id": "2d62f284-f1e1-498d-8dff-e315e217bb6d",
   "metadata": {},
   "outputs": [
    {
     "data": {
      "text/plain": [
       "<Response [200]>"
      ]
     },
     "execution_count": 112,
     "metadata": {},
     "output_type": "execute_result"
    }
   ],
   "source": [
    "answer = \"Time series data should not be split randomly. Using the future to predict the past\"\n",
    "send(answer, 16) "
   ]
  },
  {
   "cell_type": "markdown",
   "id": "57a8c411-ce00-4acf-8fc2-87939bb65838",
   "metadata": {},
   "source": [
    "## Task 2: Time Validation\n",
    "\n",
    "### 2.1 Train with the first 25 weeks and predict week 26.\n",
    "\n",
    "Hint: You may re-use your pipeline"
   ]
  },
  {
   "cell_type": "code",
   "execution_count": 114,
   "id": "dff6e381-e5a5-40b9-8771-c18ed395cb66",
   "metadata": {},
   "outputs": [],
   "source": [
    "# df.query('week < 26')"
   ]
  },
  {
   "cell_type": "code",
   "execution_count": 62,
   "id": "fdd3f667-7e87-4dfa-a00e-e1a2bab4d208",
   "metadata": {},
   "outputs": [],
   "source": [
    "X_train = df[df['week'] < 26].drop(columns=['quiz_grade'])\n",
    "y_train = df[df['week'] < 26]['quiz_grade']\n",
    "\n",
    "X_test = df[df['week'] == 26].drop(columns=['quiz_grade'])\n",
    "y_test = df[df['week'] == 26]['quiz_grade']"
   ]
  },
  {
   "cell_type": "code",
   "execution_count": 64,
   "id": "a77ada95-d469-4599-b969-3819db88bb38",
   "metadata": {},
   "outputs": [
    {
     "name": "stdout",
     "output_type": "stream",
     "text": [
      "Mean Squared Error = 1.8601583333333334\n"
     ]
    }
   ],
   "source": [
    "pipe.fit(X_train, y_train)\n",
    "y_pred = pipe.predict(X_test)\n",
    "error = mean_squared_error(y_true=y_test, y_pred=y_pred)\n",
    "send(f\"Mean Squared Error = {error}\", 21)\n",
    "print(f\"Mean Squared Error = {error}\")"
   ]
  },
  {
   "cell_type": "markdown",
   "id": "b811bac5-7fc2-4229-9ed8-05cda7b84bda",
   "metadata": {},
   "source": [
    "### 2.2 Time splits\n",
    "Would the model also be able to predict week 16 from all the previous weeks? \n",
    "\n",
    "What about week 5 from the previous weeks?\n",
    "\n",
    "Create all the data splits so that the model predicts the next week given the information from the previous weeks. \n",
    "\n",
    "You may start taking the first 4 weeks to predict the 5th, then taking the first 5 weeks to predict the 6th, etc.\n"
   ]
  },
  {
   "cell_type": "code",
   "execution_count": 65,
   "id": "4e2d9572-ab63-45df-ae1c-c02aad66ec04",
   "metadata": {},
   "outputs": [],
   "source": [
    "# from sklearn.model_selection import TimeSeriesSplit\n",
    "# tscv = TimeSeriesSplit(test_size=1)"
   ]
  },
  {
   "cell_type": "code",
   "execution_count": 98,
   "id": "8a4f4ba6-f3a8-4ca1-a3e5-9d1d22149958",
   "metadata": {},
   "outputs": [],
   "source": [
    "time_splits = [ (X_train[X_train['week'] < a].index, (X_train[X_train['week'] == a].index) ) for a in range(5,26)]"
   ]
  },
  {
   "cell_type": "markdown",
   "id": "6783bcc9-15db-461d-8a5c-13d3dee0b429",
   "metadata": {},
   "source": [
    "### 2.3 Using the previously created splits, calculate the cross validation score\n",
    "\n",
    "Hint: You may pass the splits with the parameter cv to the cross vadation function"
   ]
  },
  {
   "cell_type": "code",
   "execution_count": 108,
   "id": "05882fc3-5042-49f0-a43b-b993cbf6ac72",
   "metadata": {},
   "outputs": [
    {
     "name": "stdout",
     "output_type": "stream",
     "text": [
      "1.9879575704154184\n"
     ]
    },
    {
     "data": {
      "text/plain": [
       "<Response [200]>"
      ]
     },
     "execution_count": 108,
     "metadata": {},
     "output_type": "execute_result"
    }
   ],
   "source": [
    "errors = (-1)*cross_val_score(pipe, X, y, cv = time_splits, scoring ='neg_mean_squared_error')\n",
    "cvscore = np.mean(errors)\n",
    "print(cvscore)\n",
    "send(float(cvscore), 23)"
   ]
  },
  {
   "cell_type": "markdown",
   "id": "03d3a52b-d391-44c9-8695-eb0ae6ae5c26",
   "metadata": {},
   "source": [
    "### 2.4 How does the error differ from the error of 2.1? Why?"
   ]
  },
  {
   "cell_type": "code",
   "execution_count": 109,
   "id": "64ca9e93-6f7a-4034-bd8b-f8309f2e868c",
   "metadata": {},
   "outputs": [
    {
     "data": {
      "text/plain": [
       "<Response [200]>"
      ]
     },
     "execution_count": 109,
     "metadata": {},
     "output_type": "execute_result"
    }
   ],
   "source": [
    "answer = \"More error \"\n",
    "send(answer, 24) "
   ]
  },
  {
   "cell_type": "markdown",
   "id": "c4b8a3ef-9012-48da-a7ec-31d15199ec16",
   "metadata": {},
   "source": [
    "## Task 3: Nested cross-validation\n",
    "\n",
    "Now imagine we want to optimize the hyperparameters for the model.\n",
    "\n",
    "We will \"ignore\" time for now and take the mean studying hours and quiz grade. \n"
   ]
  },
  {
   "cell_type": "code",
   "execution_count": 110,
   "id": "8b287069-bac2-4bdd-b88a-11b87ab05c44",
   "metadata": {},
   "outputs": [],
   "source": [
    "df_agg = df.groupby('student').mean()\n",
    "\n",
    "X = df_agg[['studying_hours', 'group']]\n",
    "y = df_agg['quiz_grade']"
   ]
  },
  {
   "cell_type": "markdown",
   "id": "74871cd9-c8db-4bef-bb37-3ce4ca2918fe",
   "metadata": {},
   "source": [
    "### 3.1 Gridsearch with cross validation\n",
    "\n",
    "ElasticNet has two interesting parameters: alpha and l1_ratio.\n",
    "\n",
    "Run a GridSearch to explore the following values:\n",
    "* alpha = 0.1 and 1\n",
    "* l1_ratio = 0.1, 0.5 and 1\n",
    "\n",
    "What is the best score (smallest error)? "
   ]
  },
  {
   "cell_type": "code",
   "execution_count": 120,
   "id": "8aee2acd-2f54-496b-87ee-d77ef69a447d",
   "metadata": {},
   "outputs": [
    {
     "data": {
      "text/plain": [
       "GridSearchCV(cv=10,\n",
       "             estimator=Pipeline(steps=[('preprocessor',\n",
       "                                        ColumnTransformer(transformers=[('categorical',\n",
       "                                                                         OneHotEncoder(handle_unknown='ignore'),\n",
       "                                                                         ['group']),\n",
       "                                                                        ('numerical',\n",
       "                                                                         Normalizer(norm='l1'),\n",
       "                                                                         ['studying_hours'])])),\n",
       "                                       ('model', ElasticNet(random_state=0))]),\n",
       "             param_grid={'model__alpha': [0.1, 1],\n",
       "                         'model__l1_ratio': [0.1, 0.5, 1]},\n",
       "             scoring='neg_mean_squared_error')"
      ]
     },
     "execution_count": 120,
     "metadata": {},
     "output_type": "execute_result"
    }
   ],
   "source": [
    "param_grid =  {\n",
    "    'model__alpha': [0.1, 1],\n",
    "    'model__l1_ratio': [0.1, 0.5,1]\n",
    "}\n",
    "\n",
    "search = GridSearchCV(pipe, param_grid, cv=10,scoring='neg_mean_squared_error', refit=True)\n",
    "search.fit(X,y)"
   ]
  },
  {
   "cell_type": "code",
   "execution_count": 121,
   "id": "7cad21b4-5094-4473-81db-2774fe1ec162",
   "metadata": {},
   "outputs": [
    {
     "data": {
      "text/plain": [
       "0.2822916485555311"
      ]
     },
     "execution_count": 121,
     "metadata": {},
     "output_type": "execute_result"
    }
   ],
   "source": [
    "(-1)*search.best_score_"
   ]
  },
  {
   "cell_type": "markdown",
   "id": "ed468c21-13a2-4e59-a64a-be379e5bc804",
   "metadata": {},
   "source": [
    "### 3.2 Why is the error from the best model in 3.1 biased?\n"
   ]
  },
  {
   "cell_type": "code",
   "execution_count": 122,
   "id": "f88e85e4-3399-4281-9299-36ace58c9286",
   "metadata": {},
   "outputs": [
    {
     "data": {
      "text/plain": [
       "<Response [200]>"
      ]
     },
     "execution_count": 122,
     "metadata": {},
     "output_type": "execute_result"
    }
   ],
   "source": [
    "answer = \" Ignoring the time means it uses future information to predict the past \"\n",
    "send(answer, 32) "
   ]
  },
  {
   "cell_type": "markdown",
   "id": "645c8a28-eab2-411b-892c-f1b1a53629a3",
   "metadata": {},
   "source": [
    "### 3.3 Improve 3.1 to have an unbiased estimation of the generalization error\n",
    "\n",
    "Hint: Use nested cross-validation"
   ]
  },
  {
   "cell_type": "code",
   "execution_count": null,
   "id": "43417c71-8875-47ae-8c8c-4d96069b33a1",
   "metadata": {},
   "outputs": [],
   "source": []
  },
  {
   "cell_type": "code",
   "execution_count": 126,
   "id": "a460f452-0711-4123-9225-0834c6aaca2f",
   "metadata": {},
   "outputs": [
    {
     "data": {
      "text/plain": [
       "0.275863991769547"
      ]
     },
     "execution_count": 126,
     "metadata": {},
     "output_type": "execute_result"
    }
   ],
   "source": [
    "inner_cv = KFold(n_splits=4, shuffle=True, random_state=123)\n",
    "outer_cv = KFold(n_splits=3, shuffle=True, random_state=123)\n",
    "\n",
    "search = GridSearchCV(pipe, param_grid, n_jobs=-1, cv=inner_cv, scoring='neg_mean_squared_error')\n",
    "errors = (-1)*cross_val_score(search,X=X,y=y,cv=outer_cv)\n",
    "\n",
    "np.mean(errors)"
   ]
  }
 ],
 "metadata": {
  "kernelspec": {
   "display_name": "Python",
   "language": "python",
   "name": "python3"
  },
  "language_info": {
   "codemirror_mode": {
    "name": "ipython",
    "version": 3
   },
   "file_extension": ".py",
   "mimetype": "text/x-python",
   "name": "python",
   "nbconvert_exporter": "python",
   "pygments_lexer": "ipython3",
   "version": "3.8.10"
  },
  "vscode": {
   "interpreter": {
    "hash": "40d3a090f54c6569ab1632332b64b2c03c39dcf918b08424e98f38b5ae0af88f"
   }
  }
 },
 "nbformat": 4,
 "nbformat_minor": 5
}
