{
 "cells": [
  {
   "cell_type": "markdown",
   "id": "bbbe04b0-b989-4b3e-95cd-a9d35bc4a5d9",
   "metadata": {},
   "source": [
    "# Lab 05 - Extended Exercises on Model Evaluation\n",
    "## Predicting student performance"
   ]
  },
  {
   "cell_type": "code",
   "execution_count": 1,
   "id": "9ab80eb4",
   "metadata": {},
   "outputs": [],
   "source": [
    "import pandas as pd\n",
    "import matplotlib.pyplot as plt\n",
    "import numpy as np\n",
    "import seaborn as sns\n",
    "\n",
    "from sklearn.pipeline import Pipeline\n",
    "from sklearn.linear_model import ElasticNet\n",
    "from sklearn.metrics import mean_squared_error\n",
    "from sklearn.model_selection import cross_val_score, train_test_split\n",
    "\n",
    "from sklearn.compose import ColumnTransformer\n",
    "from sklearn.preprocessing import MinMaxScaler,  OneHotEncoder\n",
    "\n",
    "# Data directory\n",
    "DATA_DIR = \"./../../data/\""
   ]
  },
  {
   "cell_type": "code",
   "execution_count": 2,
   "id": "f7257661-07c7-4541-b3f2-e370dd89bbba",
   "metadata": {},
   "outputs": [
    {
     "name": "stdin",
     "output_type": "stream",
     "text": [
      "Your name:  Paola\n"
     ]
    }
   ],
   "source": [
    "import requests\n",
    "\n",
    "exec(requests.get(\"https://courdier.pythonanywhere.com/get-send-code\").content)\n",
    "\n",
    "npt_config = {\n",
    "    'session_name': 'lab-05',\n",
    "    'session_owner': 'mlbd',\n",
    "    'sender_name': input(\"Your name: \"),\n",
    "}"
   ]
  },
  {
   "cell_type": "markdown",
   "id": "6bf244ff-3f20-4cd7-a7dd-345a29b6ce1f",
   "metadata": {},
   "source": [
    "## Introduction\n",
    "The data has already been cleaned and it comes from 29 students in 3 different groups in a course of 26 weeks.\n",
    "\n",
    "You already used this data in week 03. \n",
    "\n",
    "In this lab you will explore different models to predict the quiz grade. "
   ]
  },
  {
   "cell_type": "code",
   "execution_count": 4,
   "id": "05546575-7285-44ad-86fd-e258d36caea2",
   "metadata": {},
   "outputs": [
    {
     "data": {
      "text/html": [
       "<div>\n",
       "<style scoped>\n",
       "    .dataframe tbody tr th:only-of-type {\n",
       "        vertical-align: middle;\n",
       "    }\n",
       "\n",
       "    .dataframe tbody tr th {\n",
       "        vertical-align: top;\n",
       "    }\n",
       "\n",
       "    .dataframe thead th {\n",
       "        text-align: right;\n",
       "    }\n",
       "</style>\n",
       "<table border=\"1\" class=\"dataframe\">\n",
       "  <thead>\n",
       "    <tr style=\"text-align: right;\">\n",
       "      <th></th>\n",
       "      <th>student</th>\n",
       "      <th>week</th>\n",
       "      <th>studying_hours</th>\n",
       "      <th>group</th>\n",
       "      <th>quiz_grade</th>\n",
       "    </tr>\n",
       "  </thead>\n",
       "  <tbody>\n",
       "    <tr>\n",
       "      <th>0</th>\n",
       "      <td>0</td>\n",
       "      <td>0</td>\n",
       "      <td>39.9</td>\n",
       "      <td>3</td>\n",
       "      <td>6.1</td>\n",
       "    </tr>\n",
       "    <tr>\n",
       "      <th>1</th>\n",
       "      <td>0</td>\n",
       "      <td>1</td>\n",
       "      <td>32.4</td>\n",
       "      <td>3</td>\n",
       "      <td>7.0</td>\n",
       "    </tr>\n",
       "    <tr>\n",
       "      <th>2</th>\n",
       "      <td>0</td>\n",
       "      <td>2</td>\n",
       "      <td>17.5</td>\n",
       "      <td>3</td>\n",
       "      <td>6.9</td>\n",
       "    </tr>\n",
       "    <tr>\n",
       "      <th>3</th>\n",
       "      <td>0</td>\n",
       "      <td>3</td>\n",
       "      <td>16.0</td>\n",
       "      <td>3</td>\n",
       "      <td>7.0</td>\n",
       "    </tr>\n",
       "    <tr>\n",
       "      <th>4</th>\n",
       "      <td>0</td>\n",
       "      <td>4</td>\n",
       "      <td>15.9</td>\n",
       "      <td>3</td>\n",
       "      <td>7.2</td>\n",
       "    </tr>\n",
       "  </tbody>\n",
       "</table>\n",
       "</div>"
      ],
      "text/plain": [
       "   student  week  studying_hours  group  quiz_grade\n",
       "0        0     0            39.9      3         6.1\n",
       "1        0     1            32.4      3         7.0\n",
       "2        0     2            17.5      3         6.9\n",
       "3        0     3            16.0      3         7.0\n",
       "4        0     4            15.9      3         7.2"
      ]
     },
     "execution_count": 4,
     "metadata": {},
     "output_type": "execute_result"
    }
   ],
   "source": [
    "# Load data\n",
    "df= pd.read_csv(f'{DATA_DIR}grades_in_time.csv.gz')\n",
    "df.head()"
   ]
  },
  {
   "cell_type": "code",
   "execution_count": 5,
   "id": "1a0380fd-5578-46a7-bf68-e1aeac69b4e4",
   "metadata": {},
   "outputs": [
    {
     "data": {
      "text/html": [
       "<div>\n",
       "<style scoped>\n",
       "    .dataframe tbody tr th:only-of-type {\n",
       "        vertical-align: middle;\n",
       "    }\n",
       "\n",
       "    .dataframe tbody tr th {\n",
       "        vertical-align: top;\n",
       "    }\n",
       "\n",
       "    .dataframe thead th {\n",
       "        text-align: right;\n",
       "    }\n",
       "</style>\n",
       "<table border=\"1\" class=\"dataframe\">\n",
       "  <thead>\n",
       "    <tr style=\"text-align: right;\">\n",
       "      <th></th>\n",
       "      <th>student</th>\n",
       "      <th>week</th>\n",
       "      <th>studying_hours</th>\n",
       "      <th>group</th>\n",
       "      <th>quiz_grade</th>\n",
       "    </tr>\n",
       "  </thead>\n",
       "  <tbody>\n",
       "    <tr>\n",
       "      <th>count</th>\n",
       "      <td>810.000000</td>\n",
       "      <td>810.000000</td>\n",
       "      <td>810.000000</td>\n",
       "      <td>810.000000</td>\n",
       "      <td>810.000000</td>\n",
       "    </tr>\n",
       "    <tr>\n",
       "      <th>mean</th>\n",
       "      <td>14.500000</td>\n",
       "      <td>13.000000</td>\n",
       "      <td>10.050617</td>\n",
       "      <td>1.933333</td>\n",
       "      <td>6.931975</td>\n",
       "    </tr>\n",
       "    <tr>\n",
       "      <th>std</th>\n",
       "      <td>8.660789</td>\n",
       "      <td>7.793693</td>\n",
       "      <td>8.270041</td>\n",
       "      <td>0.772199</td>\n",
       "      <td>1.336888</td>\n",
       "    </tr>\n",
       "    <tr>\n",
       "      <th>min</th>\n",
       "      <td>0.000000</td>\n",
       "      <td>0.000000</td>\n",
       "      <td>1.000000</td>\n",
       "      <td>1.000000</td>\n",
       "      <td>1.200000</td>\n",
       "    </tr>\n",
       "    <tr>\n",
       "      <th>25%</th>\n",
       "      <td>7.000000</td>\n",
       "      <td>6.000000</td>\n",
       "      <td>5.700000</td>\n",
       "      <td>1.000000</td>\n",
       "      <td>6.400000</td>\n",
       "    </tr>\n",
       "    <tr>\n",
       "      <th>50%</th>\n",
       "      <td>14.500000</td>\n",
       "      <td>13.000000</td>\n",
       "      <td>7.800000</td>\n",
       "      <td>2.000000</td>\n",
       "      <td>7.200000</td>\n",
       "    </tr>\n",
       "    <tr>\n",
       "      <th>75%</th>\n",
       "      <td>22.000000</td>\n",
       "      <td>20.000000</td>\n",
       "      <td>11.100000</td>\n",
       "      <td>3.000000</td>\n",
       "      <td>7.800000</td>\n",
       "    </tr>\n",
       "    <tr>\n",
       "      <th>max</th>\n",
       "      <td>29.000000</td>\n",
       "      <td>26.000000</td>\n",
       "      <td>64.000000</td>\n",
       "      <td>3.000000</td>\n",
       "      <td>10.100000</td>\n",
       "    </tr>\n",
       "  </tbody>\n",
       "</table>\n",
       "</div>"
      ],
      "text/plain": [
       "          student        week  studying_hours       group  quiz_grade\n",
       "count  810.000000  810.000000      810.000000  810.000000  810.000000\n",
       "mean    14.500000   13.000000       10.050617    1.933333    6.931975\n",
       "std      8.660789    7.793693        8.270041    0.772199    1.336888\n",
       "min      0.000000    0.000000        1.000000    1.000000    1.200000\n",
       "25%      7.000000    6.000000        5.700000    1.000000    6.400000\n",
       "50%     14.500000   13.000000        7.800000    2.000000    7.200000\n",
       "75%     22.000000   20.000000       11.100000    3.000000    7.800000\n",
       "max     29.000000   26.000000       64.000000    3.000000   10.100000"
      ]
     },
     "execution_count": 5,
     "metadata": {},
     "output_type": "execute_result"
    }
   ],
   "source": [
    "df.describe(include='all')"
   ]
  },
  {
   "cell_type": "markdown",
   "id": "480bc2c2-fbb0-4424-b1fd-ee1d6566f670",
   "metadata": {},
   "source": [
    "# Task 1: Predict the quiz grade using the studying hours and the group.\n",
    "----------\n",
    "### 1.1 Split the data. 80% to train and the rest to test. \n"
   ]
  },
  {
   "cell_type": "code",
   "execution_count": null,
   "id": "ba36e633-1925-4371-9bb3-873fc7976a9e",
   "metadata": {},
   "outputs": [],
   "source": [
    "X = df[['studying_hours', 'group']]\n",
    "y = df['quiz_grade']\n",
    "\n",
    "X_train, X_test, y_train, y_test = train_test_split(X, y, test_size = 0.2, random_state=0)"
   ]
  },
  {
   "cell_type": "markdown",
   "id": "c3d70d69-a9c3-45f7-b0f8-4d926e1e4038",
   "metadata": {},
   "source": [
    "### 1.2 Preprocess the data\n",
    "Recall that group is a categorical feature.\n",
    "\n",
    "Hint: Use ColumnTransformer."
   ]
  },
  {
   "cell_type": "code",
   "execution_count": 62,
   "id": "4a57466c-6d37-43fb-b788-49273f4a1528",
   "metadata": {},
   "outputs": [
    {
     "data": {
      "text/plain": [
       "array([[0.        , 0.        , 0.07482993],\n",
       "       [0.        , 1.        , 0.13945578],\n",
       "       [0.        , 0.        , 0.11904762],\n",
       "       ...,\n",
       "       [1.        , 0.        , 0.08333333],\n",
       "       [0.        , 0.        , 0.30782313],\n",
       "       [0.        , 1.        , 0.16156463]])"
      ]
     },
     "execution_count": 62,
     "metadata": {},
     "output_type": "execute_result"
    }
   ],
   "source": [
    "preprocessor = ColumnTransformer([\n",
    "    ('categorical', OneHotEncoder(handle_unknown='ignore', drop = 'first'), ['group']),\n",
    "    ('numerical', MinMaxScaler(),['studying_hours'])\n",
    "])\n",
    "\n",
    "preprocessor.fit_transform(X_train)"
   ]
  },
  {
   "cell_type": "markdown",
   "id": "0566521a-7065-459f-aba5-f365541e83be",
   "metadata": {},
   "source": [
    "### 1.3 Create a pipeline (including the preprocessing steps) to predict the quiz grade using the studying hours and the group.\n",
    "\n",
    "1. Use the model ElasticNet for the regression task.\n",
    "2. Calculate the mean sqaured error of the prediction. \n",
    "\n",
    "\n",
    "Hint: Integrate the ColumnTransformer as a pipeline step"
   ]
  },
  {
   "cell_type": "code",
   "execution_count": 63,
   "id": "3a033fd1-f5d5-4da8-bb4c-15eab11e6496",
   "metadata": {},
   "outputs": [
    {
     "name": "stdout",
     "output_type": "stream",
     "text": [
      "Mean Squared Error = 1.582\n"
     ]
    }
   ],
   "source": [
    "pipe = Pipeline([\n",
    "    ('preprocessor', preprocessor),\n",
    "    ('model', ElasticNet())\n",
    "])\n",
    "\n",
    "pipe.fit(X_train, y_train)\n",
    "y_pred = pipe.predict(X_test)\n",
    "error = round(mean_squared_error(y_test, y_pred),3)\n",
    "print(f\"Mean Squared Error = {error}\")"
   ]
  },
  {
   "cell_type": "markdown",
   "id": "761754bb-4672-42ee-b883-7b94d8a46cde",
   "metadata": {},
   "source": [
    "### 1.4 Compute the cross validation score"
   ]
  },
  {
   "cell_type": "code",
   "execution_count": 64,
   "id": "a73b7996-4854-428e-8a6f-ee0bb1bb5dee",
   "metadata": {},
   "outputs": [
    {
     "data": {
      "text/plain": [
       "1.8575008478128328"
      ]
     },
     "execution_count": 64,
     "metadata": {},
     "output_type": "execute_result"
    }
   ],
   "source": [
    "# Fit a pipeline with transformers and an estimator to the training data\n",
    "pipe = Pipeline([\n",
    "    ('preprocessor', preprocessor),\n",
    "    ('model', ElasticNet())\n",
    "])\n",
    "\n",
    "(-1)*np.mean(cross_val_score(pipe, X, y, cv = 5, scoring = 'neg_mean_squared_error'))"
   ]
  },
  {
   "cell_type": "markdown",
   "id": "7effbb0f-cc36-480b-851f-265a2ad405a8",
   "metadata": {},
   "source": [
    "### 1.5 Does the score in 1.3 differ from the score in 1.4? Why? \n",
    "\n",
    "Answer = 1.3 is one fold and 1.4 is the average of multiple folds."
   ]
  },
  {
   "cell_type": "markdown",
   "id": "6c94393a-9b53-454f-9eab-277b0abdaf6d",
   "metadata": {},
   "source": [
    "### 1.6 What is wrong with data split?\n",
    "Answer: We are using the future sometimes to predict the past"
   ]
  },
  {
   "cell_type": "code",
   "execution_count": 65,
   "id": "ec13bcee-f8dd-4cde-b692-50c16572be4f",
   "metadata": {},
   "outputs": [
    {
     "data": {
      "text/html": [
       "<div>\n",
       "<style scoped>\n",
       "    .dataframe tbody tr th:only-of-type {\n",
       "        vertical-align: middle;\n",
       "    }\n",
       "\n",
       "    .dataframe tbody tr th {\n",
       "        vertical-align: top;\n",
       "    }\n",
       "\n",
       "    .dataframe thead th {\n",
       "        text-align: right;\n",
       "    }\n",
       "</style>\n",
       "<table border=\"1\" class=\"dataframe\">\n",
       "  <thead>\n",
       "    <tr style=\"text-align: right;\">\n",
       "      <th></th>\n",
       "      <th>week</th>\n",
       "      <th>student</th>\n",
       "    </tr>\n",
       "  </thead>\n",
       "  <tbody>\n",
       "    <tr>\n",
       "      <th>613</th>\n",
       "      <td>19</td>\n",
       "      <td>22</td>\n",
       "    </tr>\n",
       "    <tr>\n",
       "      <th>202</th>\n",
       "      <td>13</td>\n",
       "      <td>7</td>\n",
       "    </tr>\n",
       "    <tr>\n",
       "      <th>55</th>\n",
       "      <td>1</td>\n",
       "      <td>2</td>\n",
       "    </tr>\n",
       "    <tr>\n",
       "      <th>478</th>\n",
       "      <td>19</td>\n",
       "      <td>17</td>\n",
       "    </tr>\n",
       "    <tr>\n",
       "      <th>27</th>\n",
       "      <td>0</td>\n",
       "      <td>1</td>\n",
       "    </tr>\n",
       "    <tr>\n",
       "      <th>...</th>\n",
       "      <td>...</td>\n",
       "      <td>...</td>\n",
       "    </tr>\n",
       "    <tr>\n",
       "      <th>749</th>\n",
       "      <td>20</td>\n",
       "      <td>27</td>\n",
       "    </tr>\n",
       "    <tr>\n",
       "      <th>71</th>\n",
       "      <td>17</td>\n",
       "      <td>2</td>\n",
       "    </tr>\n",
       "    <tr>\n",
       "      <th>49</th>\n",
       "      <td>22</td>\n",
       "      <td>1</td>\n",
       "    </tr>\n",
       "    <tr>\n",
       "      <th>416</th>\n",
       "      <td>11</td>\n",
       "      <td>15</td>\n",
       "    </tr>\n",
       "    <tr>\n",
       "      <th>240</th>\n",
       "      <td>24</td>\n",
       "      <td>8</td>\n",
       "    </tr>\n",
       "  </tbody>\n",
       "</table>\n",
       "<p>162 rows × 2 columns</p>\n",
       "</div>"
      ],
      "text/plain": [
       "     week  student\n",
       "613    19       22\n",
       "202    13        7\n",
       "55      1        2\n",
       "478    19       17\n",
       "27      0        1\n",
       "..    ...      ...\n",
       "749    20       27\n",
       "71     17        2\n",
       "49     22        1\n",
       "416    11       15\n",
       "240    24        8\n",
       "\n",
       "[162 rows x 2 columns]"
      ]
     },
     "execution_count": 65,
     "metadata": {},
     "output_type": "execute_result"
    }
   ],
   "source": [
    "df.iloc[X_test.index][['week','student']]"
   ]
  },
  {
   "cell_type": "markdown",
   "id": "57a8c411-ce00-4acf-8fc2-87939bb65838",
   "metadata": {},
   "source": [
    "## Task 2: Time Validation\n",
    "\n",
    "### 2.1 Train with the first 25 weeks and predict week 26.\n",
    "\n",
    "Hint: You may re-use your pipeline"
   ]
  },
  {
   "cell_type": "code",
   "execution_count": 66,
   "id": "1d719897-fccc-46db-8fa3-525ef9406828",
   "metadata": {},
   "outputs": [],
   "source": [
    "df_train = df.query('week < 26')\n",
    "df_test = df.query('week == 26')"
   ]
  },
  {
   "cell_type": "code",
   "execution_count": 67,
   "id": "fdd3f667-7e87-4dfa-a00e-e1a2bab4d208",
   "metadata": {},
   "outputs": [],
   "source": [
    "X_train = df_train[['studying_hours', 'group','week']]\n",
    "y_train = df_train['quiz_grade']\n",
    "\n",
    "X_test = df_test[['studying_hours', 'group','week']]\n",
    "y_test = df_test['quiz_grade']"
   ]
  },
  {
   "cell_type": "code",
   "execution_count": 68,
   "id": "a77ada95-d469-4599-b969-3819db88bb38",
   "metadata": {},
   "outputs": [
    {
     "name": "stdout",
     "output_type": "stream",
     "text": [
      "Mean Squared Error = 1.86\n"
     ]
    }
   ],
   "source": [
    "pipe.fit(X_train, y_train)\n",
    "y_pred = pipe.predict(X_test)\n",
    "error = round(mean_squared_error(y_test, y_pred),3)\n",
    "print(f\"Mean Squared Error = {error}\")"
   ]
  },
  {
   "cell_type": "markdown",
   "id": "b811bac5-7fc2-4229-9ed8-05cda7b84bda",
   "metadata": {},
   "source": [
    "### 2.2 Time splits\n",
    "Would the model also be able to predict week 16 from all the previous weeks? \n",
    "\n",
    "What about week 5 from the previous weeks?\n",
    "\n",
    "Create all the data splits so that the model predicts the next week given the information from the previous weeks. \n"
   ]
  },
  {
   "cell_type": "code",
   "execution_count": 69,
   "id": "8a4f4ba6-f3a8-4ca1-a3e5-9d1d22149958",
   "metadata": {},
   "outputs": [],
   "source": [
    "time_splits = [tuple([list(df.query('week < @i').index), list(df.query('week == @i').index)]) for i in range(4,27)]"
   ]
  },
  {
   "cell_type": "markdown",
   "id": "6783bcc9-15db-461d-8a5c-13d3dee0b429",
   "metadata": {},
   "source": [
    "### 2.3 Using the previously created splits, calculate the cross validation score"
   ]
  },
  {
   "cell_type": "code",
   "execution_count": 70,
   "id": "0f69bbda-b891-4b53-94a7-a4a4c4da8c3f",
   "metadata": {},
   "outputs": [
    {
     "data": {
      "text/plain": [
       "1.7933446924429217"
      ]
     },
     "execution_count": 70,
     "metadata": {},
     "output_type": "execute_result"
    }
   ],
   "source": [
    "X = df[['studying_hours', 'group']]\n",
    "y = df['quiz_grade']\n",
    "\n",
    "errors = (-1)*cross_val_score(pipe, X, y, cv = time_splits, scoring = 'neg_mean_squared_error')\n",
    "np.mean(errors)"
   ]
  },
  {
   "cell_type": "markdown",
   "id": "03d3a52b-d391-44c9-8695-eb0ae6ae5c26",
   "metadata": {},
   "source": [
    "### 2.4 How does the error differ from the error of 2.1? Why?\n",
    "Answer = It is much higher. On the following plot we see that the more weeks (more information), the smaller the error"
   ]
  },
  {
   "cell_type": "code",
   "execution_count": 71,
   "id": "d7f2cceb-e7a4-433f-a20c-d3b62338417f",
   "metadata": {},
   "outputs": [
    {
     "data": {
      "text/plain": [
       "<AxesSubplot:>"
      ]
     },
     "execution_count": 71,
     "metadata": {},
     "output_type": "execute_result"
    },
    {
     "data": {
      "image/png": "[encoded data removed]",
      "text/plain": [
       "<Figure size 640x480 with 1 Axes>"
      ]
     },
     "metadata": {},
     "output_type": "display_data"
    }
   ],
   "source": [
    "sns.lineplot(y = errors, x = list(range(4,27)))"
   ]
  },
  {
   "cell_type": "markdown",
   "id": "c4b8a3ef-9012-48da-a7ec-31d15199ec16",
   "metadata": {},
   "source": [
    "## Task 3: Nested cross-validation\n",
    "\n",
    "Now imagine we want to optimize the hyperparameters for the model.\n",
    "\n",
    "We will \"ignore\" time for now and take the mean studying hours and quiz grade. \n"
   ]
  },
  {
   "cell_type": "code",
   "execution_count": 72,
   "id": "8b287069-bac2-4bdd-b88a-11b87ab05c44",
   "metadata": {},
   "outputs": [],
   "source": [
    "df_agg = df.groupby('student').mean()\n",
    "\n",
    "X = df_agg[['studying_hours', 'group']]\n",
    "y = df_agg['quiz_grade']"
   ]
  },
  {
   "cell_type": "markdown",
   "id": "74871cd9-c8db-4bef-bb37-3ce4ca2918fe",
   "metadata": {},
   "source": [
    "### 3.1 Gridsearch with cross validation\n",
    "\n",
    "ElasticNet has two interesting parameters: alpha and l1_ratio.\n",
    "\n",
    "Run a GridSearch to explore the following values:\n",
    "* alpha = 0.1 and 1\n",
    "* l1_ratio = 0.1, 0.5 and 1\n",
    "\n",
    "What is the best score (smallest error)? "
   ]
  },
  {
   "cell_type": "code",
   "execution_count": 92,
   "id": "3ab80e20-887d-4603-a162-64aaa305e247",
   "metadata": {},
   "outputs": [
    {
     "data": {
      "text/plain": [
       "GridSearchCV(cv=KFold(n_splits=4, random_state=123, shuffle=True),\n",
       "             estimator=Pipeline(steps=[('preprocessor',\n",
       "                                        ColumnTransformer(transformers=[('categorical',\n",
       "                                                                         OneHotEncoder(drop='first',\n",
       "                                                                                       handle_unknown='ignore'),\n",
       "                                                                         ['group']),\n",
       "                                                                        ('numerical',\n",
       "                                                                         MinMaxScaler(),\n",
       "                                                                         ['studying_hours'])])),\n",
       "                                       ('model', ElasticNet())]),\n",
       "             n_jobs=-1,\n",
       "             param_grid={'model__alpha': [0.1, 1],\n",
       "                         'model__l1_ratio': [0.1, 0.5, 1]},\n",
       "             scoring='neg_mean_squared_error')"
      ]
     },
     "execution_count": 92,
     "metadata": {},
     "output_type": "execute_result"
    }
   ],
   "source": [
    "param_grid = {'model__alpha': [0.1, 1],\n",
    "             'model__l1_ratio': [0.1, 0.5, 1]}\n",
    "\n",
    "search = GridSearchCV(pipe, param_grid, n_jobs=-1, cv =  KFold(n_splits=4, shuffle=True, random_state=123) ,\n",
    "                      scoring = 'neg_mean_squared_error')\n",
    "search.fit(X,y)"
   ]
  },
  {
   "cell_type": "code",
   "execution_count": 93,
   "id": "e61d26eb-3ab5-44e0-a6ee-845f7de45f40",
   "metadata": {},
   "outputs": [
    {
     "data": {
      "text/html": [
       "<div>\n",
       "<style scoped>\n",
       "    .dataframe tbody tr th:only-of-type {\n",
       "        vertical-align: middle;\n",
       "    }\n",
       "\n",
       "    .dataframe tbody tr th {\n",
       "        vertical-align: top;\n",
       "    }\n",
       "\n",
       "    .dataframe thead th {\n",
       "        text-align: right;\n",
       "    }\n",
       "</style>\n",
       "<table border=\"1\" class=\"dataframe\">\n",
       "  <thead>\n",
       "    <tr style=\"text-align: right;\">\n",
       "      <th></th>\n",
       "      <th>mean_fit_time</th>\n",
       "      <th>std_fit_time</th>\n",
       "      <th>mean_score_time</th>\n",
       "      <th>std_score_time</th>\n",
       "      <th>param_model__alpha</th>\n",
       "      <th>param_model__l1_ratio</th>\n",
       "      <th>params</th>\n",
       "      <th>split0_test_score</th>\n",
       "      <th>split1_test_score</th>\n",
       "      <th>split2_test_score</th>\n",
       "      <th>split3_test_score</th>\n",
       "      <th>mean_test_score</th>\n",
       "      <th>std_test_score</th>\n",
       "      <th>rank_test_score</th>\n",
       "    </tr>\n",
       "  </thead>\n",
       "  <tbody>\n",
       "    <tr>\n",
       "      <th>0</th>\n",
       "      <td>0.084765</td>\n",
       "      <td>0.040885</td>\n",
       "      <td>0.124522</td>\n",
       "      <td>0.042845</td>\n",
       "      <td>0.1</td>\n",
       "      <td>0.1</td>\n",
       "      <td>{'model__alpha': 0.1, 'model__l1_ratio': 0.1}</td>\n",
       "      <td>-0.357376</td>\n",
       "      <td>-0.261542</td>\n",
       "      <td>-0.108918</td>\n",
       "      <td>-0.346856</td>\n",
       "      <td>-0.268673</td>\n",
       "      <td>0.099440</td>\n",
       "      <td>1</td>\n",
       "    </tr>\n",
       "    <tr>\n",
       "      <th>1</th>\n",
       "      <td>0.190319</td>\n",
       "      <td>0.072629</td>\n",
       "      <td>0.176377</td>\n",
       "      <td>0.086030</td>\n",
       "      <td>0.1</td>\n",
       "      <td>0.5</td>\n",
       "      <td>{'model__alpha': 0.1, 'model__l1_ratio': 0.5}</td>\n",
       "      <td>-0.382699</td>\n",
       "      <td>-0.283716</td>\n",
       "      <td>-0.121981</td>\n",
       "      <td>-0.342687</td>\n",
       "      <td>-0.282771</td>\n",
       "      <td>0.099285</td>\n",
       "      <td>2</td>\n",
       "    </tr>\n",
       "    <tr>\n",
       "      <th>2</th>\n",
       "      <td>0.250369</td>\n",
       "      <td>0.046773</td>\n",
       "      <td>0.152884</td>\n",
       "      <td>0.110980</td>\n",
       "      <td>0.1</td>\n",
       "      <td>1</td>\n",
       "      <td>{'model__alpha': 0.1, 'model__l1_ratio': 1}</td>\n",
       "      <td>-0.382699</td>\n",
       "      <td>-0.289399</td>\n",
       "      <td>-0.126909</td>\n",
       "      <td>-0.340410</td>\n",
       "      <td>-0.284854</td>\n",
       "      <td>0.096989</td>\n",
       "      <td>3</td>\n",
       "    </tr>\n",
       "    <tr>\n",
       "      <th>3</th>\n",
       "      <td>0.224204</td>\n",
       "      <td>0.042654</td>\n",
       "      <td>0.126463</td>\n",
       "      <td>0.106406</td>\n",
       "      <td>1</td>\n",
       "      <td>0.1</td>\n",
       "      <td>{'model__alpha': 1, 'model__l1_ratio': 0.1}</td>\n",
       "      <td>-0.382699</td>\n",
       "      <td>-0.289399</td>\n",
       "      <td>-0.126909</td>\n",
       "      <td>-0.340410</td>\n",
       "      <td>-0.284854</td>\n",
       "      <td>0.096989</td>\n",
       "      <td>3</td>\n",
       "    </tr>\n",
       "    <tr>\n",
       "      <th>4</th>\n",
       "      <td>0.248766</td>\n",
       "      <td>0.049980</td>\n",
       "      <td>0.101051</td>\n",
       "      <td>0.065776</td>\n",
       "      <td>1</td>\n",
       "      <td>0.5</td>\n",
       "      <td>{'model__alpha': 1, 'model__l1_ratio': 0.5}</td>\n",
       "      <td>-0.382699</td>\n",
       "      <td>-0.289399</td>\n",
       "      <td>-0.126909</td>\n",
       "      <td>-0.340410</td>\n",
       "      <td>-0.284854</td>\n",
       "      <td>0.096989</td>\n",
       "      <td>3</td>\n",
       "    </tr>\n",
       "    <tr>\n",
       "      <th>5</th>\n",
       "      <td>0.197975</td>\n",
       "      <td>0.066664</td>\n",
       "      <td>0.053716</td>\n",
       "      <td>0.045144</td>\n",
       "      <td>1</td>\n",
       "      <td>1</td>\n",
       "      <td>{'model__alpha': 1, 'model__l1_ratio': 1}</td>\n",
       "      <td>-0.382699</td>\n",
       "      <td>-0.289399</td>\n",
       "      <td>-0.126909</td>\n",
       "      <td>-0.340410</td>\n",
       "      <td>-0.284854</td>\n",
       "      <td>0.096989</td>\n",
       "      <td>3</td>\n",
       "    </tr>\n",
       "  </tbody>\n",
       "</table>\n",
       "</div>"
      ],
      "text/plain": [
       "   mean_fit_time  std_fit_time  mean_score_time  std_score_time  \\\n",
       "0       0.084765      0.040885         0.124522        0.042845   \n",
       "1       0.190319      0.072629         0.176377        0.086030   \n",
       "2       0.250369      0.046773         0.152884        0.110980   \n",
       "3       0.224204      0.042654         0.126463        0.106406   \n",
       "4       0.248766      0.049980         0.101051        0.065776   \n",
       "5       0.197975      0.066664         0.053716        0.045144   \n",
       "\n",
       "  param_model__alpha param_model__l1_ratio  \\\n",
       "0                0.1                   0.1   \n",
       "1                0.1                   0.5   \n",
       "2                0.1                     1   \n",
       "3                  1                   0.1   \n",
       "4                  1                   0.5   \n",
       "5                  1                     1   \n",
       "\n",
       "                                          params  split0_test_score  \\\n",
       "0  {'model__alpha': 0.1, 'model__l1_ratio': 0.1}          -0.357376   \n",
       "1  {'model__alpha': 0.1, 'model__l1_ratio': 0.5}          -0.382699   \n",
       "2    {'model__alpha': 0.1, 'model__l1_ratio': 1}          -0.382699   \n",
       "3    {'model__alpha': 1, 'model__l1_ratio': 0.1}          -0.382699   \n",
       "4    {'model__alpha': 1, 'model__l1_ratio': 0.5}          -0.382699   \n",
       "5      {'model__alpha': 1, 'model__l1_ratio': 1}          -0.382699   \n",
       "\n",
       "   split1_test_score  split2_test_score  split3_test_score  mean_test_score  \\\n",
       "0          -0.261542          -0.108918          -0.346856        -0.268673   \n",
       "1          -0.283716          -0.121981          -0.342687        -0.282771   \n",
       "2          -0.289399          -0.126909          -0.340410        -0.284854   \n",
       "3          -0.289399          -0.126909          -0.340410        -0.284854   \n",
       "4          -0.289399          -0.126909          -0.340410        -0.284854   \n",
       "5          -0.289399          -0.126909          -0.340410        -0.284854   \n",
       "\n",
       "   std_test_score  rank_test_score  \n",
       "0        0.099440                1  \n",
       "1        0.099285                2  \n",
       "2        0.096989                3  \n",
       "3        0.096989                3  \n",
       "4        0.096989                3  \n",
       "5        0.096989                3  "
      ]
     },
     "execution_count": 93,
     "metadata": {},
     "output_type": "execute_result"
    }
   ],
   "source": [
    "pd.DataFrame(search.cv_results_)"
   ]
  },
  {
   "cell_type": "code",
   "execution_count": 94,
   "id": "ed2a8615-d25c-4db6-a9a7-f3add8f2a5cc",
   "metadata": {},
   "outputs": [
    {
     "data": {
      "text/plain": [
       "0.2686728849527697"
      ]
     },
     "execution_count": 94,
     "metadata": {},
     "output_type": "execute_result"
    }
   ],
   "source": [
    "(-1)*search.best_score_"
   ]
  },
  {
   "cell_type": "markdown",
   "id": "ed468c21-13a2-4e59-a64a-be379e5bc804",
   "metadata": {},
   "source": [
    "### 3.2 Why is the error from the best model in 3.1 biased?\n",
    "\n",
    "Answer = We are using the same data to tune model parameters and evaluate model performance."
   ]
  },
  {
   "cell_type": "markdown",
   "id": "645c8a28-eab2-411b-892c-f1b1a53629a3",
   "metadata": {},
   "source": [
    "### 3.3 Improve 3.1 to have an unbiased estimation of the generalization error\n",
    "\n",
    "Hint: Use nested cross-validation"
   ]
  },
  {
   "cell_type": "code",
   "execution_count": 95,
   "id": "a460f452-0711-4123-9225-0834c6aaca2f",
   "metadata": {},
   "outputs": [
    {
     "data": {
      "text/plain": [
       "0.27392204035478573"
      ]
     },
     "execution_count": 95,
     "metadata": {},
     "output_type": "execute_result"
    }
   ],
   "source": [
    "inner_cv = KFold(n_splits=4, shuffle=True, random_state=123)\n",
    "outer_cv = KFold(n_splits=3, shuffle=True, random_state=123)\n",
    "    \n",
    "param_grid = {'model__alpha': [0.1, 1],\n",
    "             'model__l1_ratio': [0.1, 0.5, 1]}\n",
    "\n",
    "search = GridSearchCV(pipe, param_grid, n_jobs=-1, \n",
    "                      cv = inner_cv, scoring = 'neg_mean_squared_error')\n",
    "errors = (-1)* cross_val_score(search, X=X, y=y,\n",
    "                               cv=outer_cv)\n",
    "\n",
    "np.mean(errors)"
   ]
  },
  {
   "cell_type": "code",
   "execution_count": 96,
   "id": "73e36251-9b7f-47fe-ae8e-89d306860313",
   "metadata": {},
   "outputs": [
    {
     "data": {
      "text/plain": [
       "array([0.301807  , 0.266251  , 0.25370813])"
      ]
     },
     "execution_count": 96,
     "metadata": {},
     "output_type": "execute_result"
    }
   ],
   "source": [
    "errors"
   ]
  }
 ],
 "metadata": {
  "kernelspec": {
   "display_name": "Python",
   "language": "python",
   "name": "python3"
  },
  "language_info": {
   "codemirror_mode": {
    "name": "ipython",
    "version": 3
   },
   "file_extension": ".py",
   "mimetype": "text/x-python",
   "name": "python",
   "nbconvert_exporter": "python",
   "pygments_lexer": "ipython3",
   "version": "3.8.10"
  },
  "vscode": {
   "interpreter": {
    "hash": "40d3a090f54c6569ab1632332b64b2c03c39dcf918b08424e98f38b5ae0af88f"
   }
  }
 },
 "nbformat": 4,
 "nbformat_minor": 5
}
