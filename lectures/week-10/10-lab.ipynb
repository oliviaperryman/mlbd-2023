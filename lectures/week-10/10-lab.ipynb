{
 "cells": [
  {
   "cell_type": "markdown",
   "id": "d3494849-e9c9-46cc-8349-ef77257a25b8",
   "metadata": {},
   "source": [
    "# Lab 10 - Extended Exercises on Clustering"
   ]
  },
  {
   "cell_type": "markdown",
   "id": "75c587aa-df2f-4fd2-9ec5-3abed678fea6",
   "metadata": {},
   "source": [
    "One of the key parameters in spectral clustering is the gamma parameter of the RBF kernel used to compute the similarity matrix. The gamma parameter controls the width of the Gaussian kernel and can have a significant impact on the clustering results, particularly in the presence of outliers.\n",
    "\n",
    "In this lab, we will explore the impact of the gamma parameter on the clustering results. "
   ]
  },
  {
   "cell_type": "code",
   "execution_count": 1,
   "id": "dd921a79-aa6a-4b01-95cc-e39dd78f7082",
   "metadata": {},
   "outputs": [
    {
     "name": "stdin",
     "output_type": "stream",
     "text": [
      "Your name:  Paola\n"
     ]
    }
   ],
   "source": [
    "import requests\n",
    "\n",
    "exec(requests.get(\"https://courdier.pythonanywhere.com/get-send-code\").content)\n",
    "\n",
    "npt_config = {\n",
    "    'session_name': 'lab-10',\n",
    "    'session_owner': 'mlbd',\n",
    "    'sender_name': input(\"Your name: \"),\n",
    "}"
   ]
  },
  {
   "cell_type": "markdown",
   "id": "3039fcc5-c9fb-4099-a426-35da50e58f59",
   "metadata": {},
   "source": [
    "### Task 1: Generate a dataset with outliers.\n",
    "Complete the function generate_data_with_outliers and plot the clusters and outliers.\n",
    "\n",
    "Hint: You may use the function make_blobs from scikit-learn."
   ]
  },
  {
   "cell_type": "code",
   "execution_count": null,
   "id": "3485385f-efe2-440a-acf1-4e85eebd93e7",
   "metadata": {},
   "outputs": [],
   "source": [
    "import matplotlib.pyplot as plt\n",
    "\n",
    "\n",
    "def generate_data_with_outliers(groups, samples, percentage_outliers,\n",
    "                                cluster_std = cluster_std):\n",
    "    \"\"\"Generate synthetic data with outliers for clustering.\n",
    "\n",
    "    Parameters\n",
    "    ----------\n",
    "    groups : int\n",
    "        The number of groups or clusters in the generated data.\n",
    "    samples : int\n",
    "        The total number of samples to be generated, including the outliers.\n",
    "    percentage_outliers : float\n",
    "        The percentage of outliers to be included in the generated data, as a float between 0 and 1.\n",
    "    cluster_std (optional): float\n",
    "        Standard deviation parameter for make_blobs\n",
    "    Returns\n",
    "    -------\n",
    "    X : numpy.ndarray, shape (samples, 2)\n",
    "        The generated data points, including the outliers.\n",
    "    y : numpy.ndarray, shape (samples,)\n",
    "        The labels assigned to each data point, including the outliers. The label values are integers from 0 to\n",
    "        `groups`, and the outliers are assigned the value `groups+1`.\n",
    "    \"\"\"\n",
    "\n",
    "    return X, y\n"
   ]
  },
  {
   "cell_type": "code",
   "execution_count": null,
   "id": "85bf3f40-01d6-4330-a098-dddac6da9d23",
   "metadata": {},
   "outputs": [],
   "source": [
    "# Plot the dataset\n",
    "groups = 3\n",
    "samples = 100\n",
    "percentage_outliers = 0.3\n",
    "cluster_std = 1.5\n",
    "\n",
    "X, y = generate_data_with_outliers(groups, samples, percentage_outliers,\n",
    "                                cluster_std = cluster_std)\n",
    "plt.scatter(X[:, 0], X[:, 1], c = y)\n",
    "plt.title(\"Original dataset with outliers\")\n",
    "send(plt, 1)\n",
    "plt.show()"
   ]
  },
  {
   "cell_type": "markdown",
   "id": "f42ed02c-d205-4ca8-9804-10bd344f7a55",
   "metadata": {},
   "source": [
    "## Task 2: Perform spectral clustering with different gamma values \n",
    "\n",
    "Perform spectral clustering with different gamma values (e.g., 0.01, 0.1, 1, 10, and 100). Plot the clustering results for each gamma value and display the silhouette score for each clustering."
   ]
  },
  {
   "cell_type": "code",
   "execution_count": null,
   "id": "e6c352ac-ee3a-4840-8567-b2a210d22853",
   "metadata": {},
   "outputs": [],
   "source": [
    "def plot_spectral_clustering(X, groups, gamma_values):\n",
    "    \"\"\"\n",
    "    Perform spectral clustering with different gamma values on the input dataset X, \n",
    "    and plot the clustering results for each gamma value along with the corresponding silhouette score.\n",
    "    \n",
    "    Parameters:\n",
    "    -----------\n",
    "    X : array-like of shape (n_samples, n_features)\n",
    "        The input dataset to perform clustering on.\n",
    "        \n",
    "    groups : int\n",
    "        The number of groups to cluster the input data into.\n",
    "    \n",
    "    gamma_values : list of floats\n",
    "        The gamma values to use for spectral clustering. Each gamma value will result in one plot in the\n",
    "        output figure.\n",
    "    \n",
    "    Returns:\n",
    "    --------\n",
    "    None\n",
    "        The function generates a plot with subplots for each gamma value, showing the clustering results and\n",
    "        the silhouette score for each clustering.\n",
    "    \"\"\"\n",
    "    \n"
   ]
  },
  {
   "cell_type": "code",
   "execution_count": null,
   "id": "b9bbfcad-3686-4abe-aaff-9b71f55195e6",
   "metadata": {},
   "outputs": [],
   "source": [
    "  gamma_values = [0.01, 0.1, 1, 10, 100]\n",
    "plot_spectral_clustering(X, groups, gamma_values)"
   ]
  },
  {
   "cell_type": "markdown",
   "id": "17c4d238-5c69-4e5d-aa30-c5097cf13f8e",
   "metadata": {},
   "source": [
    "### Task 3: Explore the different parameters\n",
    "How do the results vary with greater/smaller percentage of outliers? \n",
    "What is the effect of the clustering standard deviation? \n",
    "How is the effect of the group size (sample)?"
   ]
  },
  {
   "cell_type": "code",
   "execution_count": null,
   "id": "5a65a5bb-209c-43fd-9377-8fa1676e5aa8",
   "metadata": {},
   "outputs": [],
   "source": [
    "answer = \"\"\"\n",
    "How do the results vary with greater/smaller percentage of outliers? \n",
    "\"\"\"\n",
    "send(answer, 31)\n",
    "\n",
    "answer = \"\"\"\n",
    "What is the effect of the clustering standard deviation? \n",
    "\"\"\"\n",
    "send(answer, 32)\n",
    "\n",
    "answer = \"\"\"\n",
    "How is the effect of the group size (sample)?\n",
    "\"\"\"\n",
    "send(answer, 33)\n"
   ]
  },
  {
   "cell_type": "code",
   "execution_count": null,
   "id": "fc96de76-25eb-42e4-8cb2-06f98029bf95",
   "metadata": {},
   "outputs": [],
   "source": []
  }
 ],
 "metadata": {
  "kernelspec": {
   "display_name": "Python",
   "language": "python",
   "name": "python3"
  },
  "language_info": {
   "codemirror_mode": {
    "name": "ipython",
    "version": 3
   },
   "file_extension": ".py",
   "mimetype": "text/x-python",
   "name": "python",
   "nbconvert_exporter": "python",
   "pygments_lexer": "ipython3",
   "version": "3.8.10"
  }
 },
 "nbformat": 4,
 "nbformat_minor": 5
}
