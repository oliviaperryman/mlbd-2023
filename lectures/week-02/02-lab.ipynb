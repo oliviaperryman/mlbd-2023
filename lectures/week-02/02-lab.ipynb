{
 "cells": [
  {
   "cell_type": "markdown",
   "metadata": {
    "id": "06qRY9zr-k1g"
   },
   "source": [
    "# **Data Handling and Exploration**\n",
    "---\n",
    "\n",
    "## Introduction\n",
    "\n",
    "You will apply different data exploration, cleaning, and visualization techniques. It is very important to take some time to understand the data. \n"
   ]
  },
  {
   "cell_type": "markdown",
   "metadata": {
    "id": "c66oKMZeUKJH"
   },
   "source": [
    "## **About the data** \n",
    "---\n",
    "The data set consists of 116,658 observations and 10 columns. It contains data of fifth-grade students, including their Math final exam grade.\n",
    "\n",
    "* Student ID: identifies uniquely every student. **Note that no two students have the same ID.** \n",
    "* Gender\n",
    "* School group: **There are only three groups school groups (A, B and C)**\n",
    "* Effort regulation (effort)\n",
    "* Family stress-level (stress)\n",
    "* Help-seeking behavior (feedback)\n",
    "* Regularity patterns of a student throughout the course (regularity)\n",
    "* Critical-thinking skills (critical)\n",
    "* Duration in minutes to solve final Math exam (minutes). **Should be numerical.**\n",
    "* Final Math exam grade (grade) \n",
    "\n",
    "\n",
    "**The data set is available in the folder data**"
   ]
  },
  {
   "cell_type": "code",
   "execution_count": 1,
   "metadata": {},
   "outputs": [
    {
     "name": "stdin",
     "output_type": "stream",
     "text": [
      "Your name:  Olivia Perryman\n"
     ]
    }
   ],
   "source": [
    "import requests\n",
    "\n",
    "exec(requests.get(\"https://courdier.pythonanywhere.com/get-send-code\").content)\n",
    "\n",
    "npt_config = {\n",
    "    'session_name': 'lab-02',\n",
    "    'session_owner': 'mlbd',\n",
    "    'sender_name': input(\"Your name: \"),\n",
    "}"
   ]
  },
  {
   "cell_type": "code",
   "execution_count": 2,
   "metadata": {
    "colab": {
     "base_uri": "https://localhost:8080/"
    },
    "deletable": false,
    "executionInfo": {
     "elapsed": 542,
     "status": "ok",
     "timestamp": 1614372519067,
     "user": {
      "displayName": "Paola Mejia",
      "photoUrl": "",
      "userId": "15451997563084296260"
     },
     "user_tz": -60
    },
    "id": "8fiPzOYRCh1X",
    "nbgrader": {
     "cell_type": "code",
     "checksum": "b7c99812a178502d381e39a9a7031a0a",
     "grade": true,
     "grade_id": "0-0",
     "locked": false,
     "points": 0,
     "schema_version": 3,
     "solution": true,
     "task": false
    },
    "outputId": "722b368a-d3c9-4e41-998c-cf62d6200c81"
   },
   "outputs": [],
   "source": [
    "# Your libraries here\n",
    "# YOUR CODE HERE\n",
    "import pandas as pd\n",
    "from pandas.api.types import is_numeric_dtype\n",
    "\n",
    "import numpy as np\n",
    "import matplotlib.pyplot as plt\n",
    "import seaborn as sns\n",
    "DATA_DIR = \"./../../data\""
   ]
  },
  {
   "cell_type": "markdown",
   "metadata": {
    "id": "0J0u6puC8QsZ"
   },
   "source": [
    "## **0 Load the data**\n",
    "---"
   ]
  },
  {
   "cell_type": "code",
   "execution_count": 3,
   "metadata": {
    "colab": {
     "base_uri": "https://localhost:8080/"
    },
    "deletable": false,
    "executionInfo": {
     "elapsed": 566,
     "status": "ok",
     "timestamp": 1614372510379,
     "user": {
      "displayName": "Paola Mejia",
      "photoUrl": "",
      "userId": "15451997563084296260"
     },
     "user_tz": -60
    },
    "id": "CZP6kdJxPJ5p",
    "nbgrader": {
     "cell_type": "code",
     "checksum": "75ade7cd513d1cfbb2bcfe79c308ca7a",
     "grade": true,
     "grade_id": "0-1",
     "locked": false,
     "points": 0,
     "schema_version": 3,
     "solution": true,
     "task": false
    },
    "outputId": "993b9d74-d624-44a3-abc6-508c046373bf"
   },
   "outputs": [],
   "source": [
    "### 0.1\n",
    "# YOUR CODE HERE\n",
    "df = pd.read_csv('{}/school_performance.csv'.format(DATA_DIR))\n"
   ]
  },
  {
   "cell_type": "code",
   "execution_count": 4,
   "metadata": {},
   "outputs": [
    {
     "name": "stdout",
     "output_type": "stream",
     "text": [
      "length of the dataframe: 116658\n",
      "first rows of the dataframe:\n",
      "\n"
     ]
    },
    {
     "data": {
      "text/html": [
       "<div>\n",
       "<style scoped>\n",
       "    .dataframe tbody tr th:only-of-type {\n",
       "        vertical-align: middle;\n",
       "    }\n",
       "\n",
       "    .dataframe tbody tr th {\n",
       "        vertical-align: top;\n",
       "    }\n",
       "\n",
       "    .dataframe thead th {\n",
       "        text-align: right;\n",
       "    }\n",
       "</style>\n",
       "<table border=\"1\" class=\"dataframe\">\n",
       "  <thead>\n",
       "    <tr style=\"text-align: right;\">\n",
       "      <th></th>\n",
       "      <th>student_id</th>\n",
       "      <th>gender</th>\n",
       "      <th>school_group</th>\n",
       "      <th>effort</th>\n",
       "      <th>stress</th>\n",
       "      <th>feedback</th>\n",
       "      <th>regularity</th>\n",
       "      <th>critical</th>\n",
       "      <th>minutes</th>\n",
       "      <th>grade</th>\n",
       "    </tr>\n",
       "  </thead>\n",
       "  <tbody>\n",
       "    <tr>\n",
       "      <th>0</th>\n",
       "      <td>20404.0</td>\n",
       "      <td>male</td>\n",
       "      <td>99</td>\n",
       "      <td>5.997184</td>\n",
       "      <td>7.692678</td>\n",
       "      <td>24.722538</td>\n",
       "      <td>99.000000</td>\n",
       "      <td>2.01733</td>\n",
       "      <td>20.0</td>\n",
       "      <td>99.00</td>\n",
       "    </tr>\n",
       "    <tr>\n",
       "      <th>1</th>\n",
       "      <td>26683.0</td>\n",
       "      <td>female</td>\n",
       "      <td>99</td>\n",
       "      <td>6.017588</td>\n",
       "      <td>8.848776</td>\n",
       "      <td>99.000000</td>\n",
       "      <td>99.000000</td>\n",
       "      <td>99.00000</td>\n",
       "      <td>30.0</td>\n",
       "      <td>3.93</td>\n",
       "    </tr>\n",
       "    <tr>\n",
       "      <th>2</th>\n",
       "      <td>32954.0</td>\n",
       "      <td>99</td>\n",
       "      <td>99</td>\n",
       "      <td>6.070632</td>\n",
       "      <td>6.704850</td>\n",
       "      <td>24.448975</td>\n",
       "      <td>7.218109</td>\n",
       "      <td>99.00000</td>\n",
       "      <td>99</td>\n",
       "      <td>3.67</td>\n",
       "    </tr>\n",
       "    <tr>\n",
       "      <th>3</th>\n",
       "      <td>42595.0</td>\n",
       "      <td>99</td>\n",
       "      <td>99</td>\n",
       "      <td>5.996371</td>\n",
       "      <td>99.000000</td>\n",
       "      <td>99.000000</td>\n",
       "      <td>5.578566</td>\n",
       "      <td>1.02639</td>\n",
       "      <td>21.0</td>\n",
       "      <td>99.00</td>\n",
       "    </tr>\n",
       "    <tr>\n",
       "      <th>4</th>\n",
       "      <td>28603.0</td>\n",
       "      <td>male</td>\n",
       "      <td>99</td>\n",
       "      <td>99.000000</td>\n",
       "      <td>6.780604</td>\n",
       "      <td>99.000000</td>\n",
       "      <td>99.000000</td>\n",
       "      <td>99.00000</td>\n",
       "      <td>99</td>\n",
       "      <td>2.86</td>\n",
       "    </tr>\n",
       "  </tbody>\n",
       "</table>\n",
       "</div>"
      ],
      "text/plain": [
       "   student_id  gender school_group     effort     stress   feedback  \\\n",
       "0     20404.0    male           99   5.997184   7.692678  24.722538   \n",
       "1     26683.0  female           99   6.017588   8.848776  99.000000   \n",
       "2     32954.0      99           99   6.070632   6.704850  24.448975   \n",
       "3     42595.0      99           99   5.996371  99.000000  99.000000   \n",
       "4     28603.0    male           99  99.000000   6.780604  99.000000   \n",
       "\n",
       "   regularity  critical minutes  grade  \n",
       "0   99.000000   2.01733    20.0  99.00  \n",
       "1   99.000000  99.00000    30.0   3.93  \n",
       "2    7.218109  99.00000      99   3.67  \n",
       "3    5.578566   1.02639    21.0  99.00  \n",
       "4   99.000000  99.00000      99   2.86  "
      ]
     },
     "execution_count": 4,
     "metadata": {},
     "output_type": "execute_result"
    }
   ],
   "source": [
    "# Let's see how the dataframe looks like\n",
    "print(\"length of the dataframe:\", len(df))\n",
    "print(\"first rows of the dataframe:\\n\")\n",
    "send(len(df), 1) \n",
    "df.head()"
   ]
  },
  {
   "cell_type": "markdown",
   "metadata": {
    "id": "vblWzJFWWIux"
   },
   "source": [
    "<a id=\"section1\"></a>\n",
    "## **1 Data Exploration** \n",
    "---\n",
    "\n",
    "As mentioned in class, it is good practice to report the percentage of missing values per feature together with the features' descriptive statistics. \n",
    "\n",
    "In order to understand the data better, in this exercise, you should:\n",
    "\n",
    "1. Create a function that takes as input a DataFrame and returns a DataFrame with meaningful descriptive statistics and the percentage of missing values for numerical and categorical (object type) features. The process of data cleaning requires multiple iterations of data exploration. This function should be helpful for the later data cleaning exercises. \n",
    "\n",
    "2. Justify the choice of each descriptive statistic. What does each say about the data? Can you identify some irregularities? \n",
    "\n",
    "3. In a single figure, choose an appropriate type of graph for each feature and plot each feature individually.  \n",
    "\n",
    "4. Explain your observations. How are the features distributed (poisson, exponential, gaussian, etc)? Can you visually identify any outliers?\n",
    "\n"
   ]
  },
  {
   "cell_type": "markdown",
   "metadata": {},
   "source": [
    "### 1.1 \n",
    "Create a function that takes as input a DataFrame and returns meaningful descriptive statistics and the percentage of missing values for numerical and categorical (object type) features.\n",
    "\n"
   ]
  },
  {
   "cell_type": "code",
   "execution_count": 5,
   "metadata": {
    "deletable": false,
    "executionInfo": {
     "elapsed": 491,
     "status": "ok",
     "timestamp": 1614372524619,
     "user": {
      "displayName": "Paola Mejia",
      "photoUrl": "",
      "userId": "15451997563084296260"
     },
     "user_tz": -60
    },
    "id": "kqJhQLO2WS7o",
    "nbgrader": {
     "cell_type": "code",
     "checksum": "c8ae9d809b6a51bce785d1a42bfc23ca",
     "grade": false,
     "grade_id": "1-1",
     "locked": false,
     "schema_version": 3,
     "solution": true,
     "task": false
    }
   },
   "outputs": [],
   "source": [
    "### 1.1\n",
    "def get_feature_stats(df):\n",
    "    \"\"\"\n",
    "    Obtains descriptive statistics for all features and percentage of missing \n",
    "    values\n",
    "    \n",
    "    Parameters\n",
    "    ----------\n",
    "    df : DataFrame\n",
    "         Containing all data\n",
    "\n",
    "    Returns\n",
    "    -------\n",
    "    stats : DataFrame\n",
    "            Containing the statistics for all features.\n",
    "    \"\"\"\n",
    "    basic_stats = df.describe(include='all')\n",
    "    percent_missing = df.isnull().sum() * 100 / len(df)\n",
    "    missing_value_df = pd.DataFrame({'percent_missing': percent_missing})\n",
    "    stats = pd.concat([basic_stats, missing_value_df.transpose()])\n",
    "    \n",
    "    return stats"
   ]
  },
  {
   "cell_type": "code",
   "execution_count": 6,
   "metadata": {
    "colab": {
     "base_uri": "https://localhost:8080/",
     "height": 283
    },
    "executionInfo": {
     "elapsed": 752,
     "status": "ok",
     "timestamp": 1614372525085,
     "user": {
      "displayName": "Paola Mejia",
      "photoUrl": "",
      "userId": "15451997563084296260"
     },
     "user_tz": -60
    },
    "id": "hTPtmvbQe74z",
    "outputId": "079274b7-4cf2-4598-9fe8-779d961b8480"
   },
   "outputs": [
    {
     "data": {
      "text/html": [
       "<div>\n",
       "<style scoped>\n",
       "    .dataframe tbody tr th:only-of-type {\n",
       "        vertical-align: middle;\n",
       "    }\n",
       "\n",
       "    .dataframe tbody tr th {\n",
       "        vertical-align: top;\n",
       "    }\n",
       "\n",
       "    .dataframe thead th {\n",
       "        text-align: right;\n",
       "    }\n",
       "</style>\n",
       "<table border=\"1\" class=\"dataframe\">\n",
       "  <thead>\n",
       "    <tr style=\"text-align: right;\">\n",
       "      <th></th>\n",
       "      <th>student_id</th>\n",
       "      <th>gender</th>\n",
       "      <th>school_group</th>\n",
       "      <th>effort</th>\n",
       "      <th>stress</th>\n",
       "      <th>feedback</th>\n",
       "      <th>regularity</th>\n",
       "      <th>critical</th>\n",
       "      <th>minutes</th>\n",
       "      <th>grade</th>\n",
       "    </tr>\n",
       "  </thead>\n",
       "  <tbody>\n",
       "    <tr>\n",
       "      <th>count</th>\n",
       "      <td>116656</td>\n",
       "      <td>58329</td>\n",
       "      <td>58329</td>\n",
       "      <td>58329.000000</td>\n",
       "      <td>58329.000000</td>\n",
       "      <td>58329.000000</td>\n",
       "      <td>58329.000000</td>\n",
       "      <td>58329.000000</td>\n",
       "      <td>58315.000000</td>\n",
       "      <td>58329.000000</td>\n",
       "    </tr>\n",
       "    <tr>\n",
       "      <th>unique</th>\n",
       "      <td>58328</td>\n",
       "      <td>2</td>\n",
       "      <td>3</td>\n",
       "      <td>NaN</td>\n",
       "      <td>NaN</td>\n",
       "      <td>NaN</td>\n",
       "      <td>NaN</td>\n",
       "      <td>NaN</td>\n",
       "      <td>NaN</td>\n",
       "      <td>NaN</td>\n",
       "    </tr>\n",
       "    <tr>\n",
       "      <th>top</th>\n",
       "      <td>20404.0</td>\n",
       "      <td>female</td>\n",
       "      <td>B</td>\n",
       "      <td>NaN</td>\n",
       "      <td>NaN</td>\n",
       "      <td>NaN</td>\n",
       "      <td>NaN</td>\n",
       "      <td>NaN</td>\n",
       "      <td>NaN</td>\n",
       "      <td>NaN</td>\n",
       "    </tr>\n",
       "    <tr>\n",
       "      <th>freq</th>\n",
       "      <td>2</td>\n",
       "      <td>29295</td>\n",
       "      <td>25007</td>\n",
       "      <td>NaN</td>\n",
       "      <td>NaN</td>\n",
       "      <td>NaN</td>\n",
       "      <td>NaN</td>\n",
       "      <td>NaN</td>\n",
       "      <td>NaN</td>\n",
       "      <td>NaN</td>\n",
       "    </tr>\n",
       "    <tr>\n",
       "      <th>mean</th>\n",
       "      <td>NaN</td>\n",
       "      <td>NaN</td>\n",
       "      <td>NaN</td>\n",
       "      <td>5.978440</td>\n",
       "      <td>7.572990</td>\n",
       "      <td>15.494115</td>\n",
       "      <td>6.859709</td>\n",
       "      <td>1.330283</td>\n",
       "      <td>36.031947</td>\n",
       "      <td>3.537279</td>\n",
       "    </tr>\n",
       "    <tr>\n",
       "      <th>std</th>\n",
       "      <td>NaN</td>\n",
       "      <td>NaN</td>\n",
       "      <td>NaN</td>\n",
       "      <td>0.048722</td>\n",
       "      <td>1.552971</td>\n",
       "      <td>7.330119</td>\n",
       "      <td>2.169821</td>\n",
       "      <td>2.005023</td>\n",
       "      <td>10.153665</td>\n",
       "      <td>0.456478</td>\n",
       "    </tr>\n",
       "    <tr>\n",
       "      <th>min</th>\n",
       "      <td>NaN</td>\n",
       "      <td>NaN</td>\n",
       "      <td>NaN</td>\n",
       "      <td>5.641724</td>\n",
       "      <td>4.801122</td>\n",
       "      <td>5.087615</td>\n",
       "      <td>4.824636</td>\n",
       "      <td>-8.115445</td>\n",
       "      <td>15.000000</td>\n",
       "      <td>1.760000</td>\n",
       "    </tr>\n",
       "    <tr>\n",
       "      <th>25%</th>\n",
       "      <td>NaN</td>\n",
       "      <td>NaN</td>\n",
       "      <td>NaN</td>\n",
       "      <td>5.951273</td>\n",
       "      <td>6.402041</td>\n",
       "      <td>10.149966</td>\n",
       "      <td>5.732254</td>\n",
       "      <td>0.001135</td>\n",
       "      <td>27.000000</td>\n",
       "      <td>3.310000</td>\n",
       "    </tr>\n",
       "    <tr>\n",
       "      <th>50%</th>\n",
       "      <td>NaN</td>\n",
       "      <td>NaN</td>\n",
       "      <td>NaN</td>\n",
       "      <td>5.985351</td>\n",
       "      <td>7.401787</td>\n",
       "      <td>12.843072</td>\n",
       "      <td>6.227957</td>\n",
       "      <td>1.372255</td>\n",
       "      <td>36.000000</td>\n",
       "      <td>3.600000</td>\n",
       "    </tr>\n",
       "    <tr>\n",
       "      <th>75%</th>\n",
       "      <td>NaN</td>\n",
       "      <td>NaN</td>\n",
       "      <td>NaN</td>\n",
       "      <td>6.013373</td>\n",
       "      <td>8.688815</td>\n",
       "      <td>18.850751</td>\n",
       "      <td>7.180228</td>\n",
       "      <td>2.719200</td>\n",
       "      <td>45.000000</td>\n",
       "      <td>3.790000</td>\n",
       "    </tr>\n",
       "    <tr>\n",
       "      <th>max</th>\n",
       "      <td>NaN</td>\n",
       "      <td>NaN</td>\n",
       "      <td>NaN</td>\n",
       "      <td>6.096600</td>\n",
       "      <td>16.399911</td>\n",
       "      <td>70.393180</td>\n",
       "      <td>58.383807</td>\n",
       "      <td>8.960595</td>\n",
       "      <td>56.000000</td>\n",
       "      <td>6.550000</td>\n",
       "    </tr>\n",
       "    <tr>\n",
       "      <th>percent_missing</th>\n",
       "      <td>0.001714</td>\n",
       "      <td>50.0</td>\n",
       "      <td>50.0</td>\n",
       "      <td>50.000000</td>\n",
       "      <td>50.000000</td>\n",
       "      <td>50.000000</td>\n",
       "      <td>50.000000</td>\n",
       "      <td>50.000000</td>\n",
       "      <td>50.012001</td>\n",
       "      <td>50.000000</td>\n",
       "    </tr>\n",
       "  </tbody>\n",
       "</table>\n",
       "</div>"
      ],
      "text/plain": [
       "                student_id  gender school_group        effort        stress  \\\n",
       "count               116656   58329        58329  58329.000000  58329.000000   \n",
       "unique               58328       2            3           NaN           NaN   \n",
       "top                20404.0  female            B           NaN           NaN   \n",
       "freq                     2   29295        25007           NaN           NaN   \n",
       "mean                   NaN     NaN          NaN      5.978440      7.572990   \n",
       "std                    NaN     NaN          NaN      0.048722      1.552971   \n",
       "min                    NaN     NaN          NaN      5.641724      4.801122   \n",
       "25%                    NaN     NaN          NaN      5.951273      6.402041   \n",
       "50%                    NaN     NaN          NaN      5.985351      7.401787   \n",
       "75%                    NaN     NaN          NaN      6.013373      8.688815   \n",
       "max                    NaN     NaN          NaN      6.096600     16.399911   \n",
       "percent_missing   0.001714    50.0         50.0     50.000000     50.000000   \n",
       "\n",
       "                     feedback    regularity      critical       minutes  \\\n",
       "count            58329.000000  58329.000000  58329.000000  58315.000000   \n",
       "unique                    NaN           NaN           NaN           NaN   \n",
       "top                       NaN           NaN           NaN           NaN   \n",
       "freq                      NaN           NaN           NaN           NaN   \n",
       "mean                15.494115      6.859709      1.330283     36.031947   \n",
       "std                  7.330119      2.169821      2.005023     10.153665   \n",
       "min                  5.087615      4.824636     -8.115445     15.000000   \n",
       "25%                 10.149966      5.732254      0.001135     27.000000   \n",
       "50%                 12.843072      6.227957      1.372255     36.000000   \n",
       "75%                 18.850751      7.180228      2.719200     45.000000   \n",
       "max                 70.393180     58.383807      8.960595     56.000000   \n",
       "percent_missing     50.000000     50.000000     50.000000     50.012001   \n",
       "\n",
       "                        grade  \n",
       "count            58329.000000  \n",
       "unique                    NaN  \n",
       "top                       NaN  \n",
       "freq                      NaN  \n",
       "mean                 3.537279  \n",
       "std                  0.456478  \n",
       "min                  1.760000  \n",
       "25%                  3.310000  \n",
       "50%                  3.600000  \n",
       "75%                  3.790000  \n",
       "max                  6.550000  \n",
       "percent_missing     50.000000  "
      ]
     },
     "execution_count": 6,
     "metadata": {},
     "output_type": "execute_result"
    }
   ],
   "source": [
    "# Preprocessing\n",
    "# replace 99 with None or nan\n",
    "df = df.replace('99', None)\n",
    "df = df.replace(99, np.nan)\n",
    "# Only 3 categories\n",
    "df['school_group'] = df['school_group'].apply(lambda x: x[0].upper() if x is not None else None)\n",
    "# minutes should be numeric\n",
    "df['minutes'] = pd.to_numeric(df['minutes'],errors='coerce')\n",
    "# student_id should be categorical\n",
    "df['student_id'] = df['student_id'].astype('string')\n",
    "\n",
    "\n",
    "stats = get_feature_stats(df)\n",
    "stats  "
   ]
  },
  {
   "cell_type": "markdown",
   "metadata": {},
   "source": [
    "### 1.2\n",
    "Justify the choice of each descriptive statistic. What do they say about the data? Can you identify some irregularities? "
   ]
  },
  {
   "cell_type": "code",
   "execution_count": 7,
   "metadata": {
    "deletable": false,
    "id": "iTaqHz2H-N1L",
    "nbgrader": {
     "cell_type": "markdown",
     "checksum": "dc4092486e467435f7ca2ac42f0ef563",
     "grade": true,
     "grade_id": "1-2",
     "locked": false,
     "points": 5,
     "schema_version": 3,
     "solution": true,
     "task": false
    }
   },
   "outputs": [
    {
     "data": {
      "text/plain": [
       "<Response [200]>"
      ]
     },
     "execution_count": 7,
     "metadata": {},
     "output_type": "execute_result"
    }
   ],
   "source": [
    "answer = \"\"\"\n",
    "count - number of rows\n",
    "unique - categorical data: number of unique values, helpful to know how many categories you have (should you encode them? is there the wrong number?)\n",
    "top - categorical data: most frequent value, helpful to know the mode for categorical data\n",
    "freq - categorical data: the count for the number of times the value in \"top\" appears (it is helful to know the frequency of the mode)\n",
    "mean - numerical data: the average value, it helps to know where the data is centered around, but it is sensitive to outliers\n",
    "std - numerical data: how spread out the data is around the mean\n",
    "min/max - numerical data: the minimum and maximum value can show if there are outliers (you can decide if you want to clip the data)\n",
    "percentiles - numerical data: help with outlier identification and how spread the data is\n",
    "percent missing - the percentage of nans and None values, tells you how sparse your data is\n",
    "\n",
    "\n",
    "Irregularities: the unique school groups were not 3, so preprocessing was added, the student ids are not all unique, the minutes contains some strings so preprocessing was added to convert to numeric and remove values with strings\n",
    "\"\"\"\n",
    "\n",
    "send(answer, 12) "
   ]
  },
  {
   "cell_type": "markdown",
   "metadata": {},
   "source": [
    "### 1.3\n",
    "In a single figure, choose an appropriate type of graph for each feature and plot each feature individually."
   ]
  },
  {
   "cell_type": "code",
   "execution_count": 50,
   "metadata": {
    "deletable": false,
    "nbgrader": {
     "cell_type": "code",
     "checksum": "900cb27716805cceed36dc05c5a43c90",
     "grade": true,
     "grade_id": "1-3",
     "locked": false,
     "points": 10,
     "schema_version": 3,
     "solution": true,
     "task": false
    }
   },
   "outputs": [],
   "source": [
    "### 1.3\n",
    "def plot_features(df):\n",
    "    \"\"\"\n",
    "    Plots all features individually in the same figure\n",
    "    \n",
    "    Parameters\n",
    "    ----------\n",
    "    df : DataFrame\n",
    "         Containing all data\n",
    "         \n",
    "    Hint\n",
    "    ------\n",
    "    To have multiple plots in a single figure see pyplot.figure\n",
    "\n",
    "    \"\"\"\n",
    "    plt.figure(figsize=(8, 40), dpi=80)\n",
    "    plt.subplots_adjust(left=0.1,\n",
    "                    bottom=0.1,\n",
    "                    right=0.9,\n",
    "                    top=0.9,\n",
    "                    wspace=0.4,\n",
    "                    hspace=0.4)\n",
    "\n",
    "    n_plots = len(df.columns)\n",
    "    for i, col in enumerate(df.columns):\n",
    "        if col == \"student_id\":\n",
    "            plt.subplot(n_plots, 1, 1+i)\n",
    "            plt.title(col)\n",
    "            continue\n",
    "        if not is_numeric_dtype(df[col]):\n",
    "            plt.subplot(n_plots, 1, 1+i)\n",
    "            ax = sns.countplot(x=df[col])\n",
    "            plt.title(col)\n",
    "        else:\n",
    "            plt.subplot(n_plots, 1, 1+i)\n",
    "            ax = sns.histplot(x=df[col])\n",
    "            plt.title(col)\n",
    "            "
   ]
  },
  {
   "cell_type": "code",
   "execution_count": 52,
   "metadata": {},
   "outputs": [
    {
     "name": "stdout",
     "output_type": "stream",
     "text": [
      "Datatype not supported\n"
     ]
    },
    {
     "data": {
      "image/png": "[encoded data removed]",
      "text/plain": [
       "<Figure size 640x3200 with 10 Axes>"
      ]
     },
     "metadata": {},
     "output_type": "display_data"
    }
   ],
   "source": [
    "send(plot_features(df),13)"
   ]
  },
  {
   "cell_type": "markdown",
   "metadata": {},
   "source": [
    "### 1.4\n",
    "Explain your observations. How are the features distributed (poisson, exponential, gaussian, etc)? Can you visually identify outliers? "
   ]
  },
  {
   "cell_type": "code",
   "execution_count": 53,
   "metadata": {
    "deletable": false,
    "nbgrader": {
     "cell_type": "markdown",
     "checksum": "3fe11812ba75e3e6ae00f0839531efd7",
     "grade": true,
     "grade_id": "1-4",
     "locked": false,
     "points": 5,
     "schema_version": 3,
     "solution": true,
     "task": false
    }
   },
   "outputs": [
    {
     "data": {
      "text/plain": [
       "<Response [200]>"
      ]
     },
     "execution_count": 53,
     "metadata": {},
     "output_type": "execute_result"
    }
   ],
   "source": [
    "answer = \"\"\"\n",
    "student_id - Chose not to plot student_id because it took too long as a bar plot\n",
    "school_group - not evenly distributed\n",
    "effort - left skewed, beta\n",
    "stress - right skewed, poisson\n",
    "feedback - multimodal\n",
    "regularity - exponential\n",
    "critical - normal\n",
    "minutes - uniform with edges that are normal\n",
    "grade - kind of multimodal, right skewed, normalish\n",
    "\n",
    "\n",
    "outliers - yes, some highgrades, high feedback and low effort look like outli\n",
    "\"\"\"\n",
    "\n",
    "send(answer, 14) "
   ]
  },
  {
   "cell_type": "markdown",
   "metadata": {
    "id": "Q7_JzCy1-k14"
   },
   "source": [
    "<a id=\"section2\"></a>\n",
    "## **2 Data Cleaning** \n",
    "---\n",
    "\n",
    "Using your findings from the previous section, carefully continue to explore the data set and do the following:\n",
    "\n",
    "1. Create a function to handle the missing values\n",
    "2. Justify your decisions to treat the missing values\n",
    "3. Create a function to handle the inconsistent data\n",
    "4. Justify your decisions to treat the inconsistent data\n"
   ]
  },
  {
   "cell_type": "markdown",
   "metadata": {},
   "source": [
    "### 2.1\n",
    "Create a function to handle the missing values"
   ]
  },
  {
   "cell_type": "code",
   "execution_count": null,
   "metadata": {
    "deletable": false,
    "id": "5u1VBI7-fFwT",
    "nbgrader": {
     "cell_type": "code",
     "checksum": "3b283b3b096db8a11a1f5a54c514e2a8",
     "grade": true,
     "grade_id": "2-1",
     "locked": false,
     "points": 10,
     "schema_version": 3,
     "solution": true,
     "task": false
    }
   },
   "outputs": [],
   "source": [
    "### 2.1\n",
    "def handle_missing_values(df):\n",
    "    \"\"\"\n",
    "    Identifies and removes all missing values\n",
    "\n",
    "    Parameters\n",
    "    ----------\n",
    "    df : DataFrame\n",
    "      Containing missing values\n",
    "\n",
    "    Returns\n",
    "    -------\n",
    "    df : DataFrame\n",
    "      Without missing values\n",
    "\n",
    "    Hint:\n",
    "    -----\n",
    "    Try to understand the pattern in the missing values    \n",
    "    \"\"\"\n",
    "    # YOUR CODE HERE\n",
    "    raise NotImplementedError()\n",
    "    return df\n"
   ]
  },
  {
   "cell_type": "code",
   "execution_count": null,
   "metadata": {},
   "outputs": [],
   "source": [
    "df = handle_missing_values(df)\n",
    "send(len(df.columns), 21.1)\n",
    "print(\"number of columns: \", len(df.columns))"
   ]
  },
  {
   "cell_type": "code",
   "execution_count": null,
   "metadata": {
    "colab": {
     "base_uri": "https://localhost:8080/"
    },
    "executionInfo": {
     "elapsed": 2724,
     "status": "ok",
     "timestamp": 1614268885493,
     "user": {
      "displayName": "Paola Mejia",
      "photoUrl": "",
      "userId": "15451997563084296260"
     },
     "user_tz": -60
    },
    "id": "V7tT2gePD9kp",
    "outputId": "855a51b7-a29c-4eb0-bdc8-733c69426aee"
   },
   "outputs": [],
   "source": [
    "print(\"length of the dataframe: \", len(df))\n",
    "send(len(df), 21.2) \n",
    "df.head()"
   ]
  },
  {
   "cell_type": "code",
   "execution_count": null,
   "metadata": {
    "id": "hl-Q-yTmHeh6"
   },
   "outputs": [],
   "source": [
    "# take a look at the new dataframe stats and compare it with the original\n",
    "get_feature_stats(df)"
   ]
  },
  {
   "cell_type": "markdown",
   "metadata": {},
   "source": [
    "### 2.2 \n",
    "Justify your decisions to treat the missing values. Are there missing values? If so, how are the missing values encoded? Why are there missing values? Is there a pattern in the values missing?\n"
   ]
  },
  {
   "cell_type": "code",
   "execution_count": null,
   "metadata": {
    "deletable": false,
    "id": "83zh7LRY_yQQ",
    "nbgrader": {
     "cell_type": "markdown",
     "checksum": "99b1c9f5d59789f8d878017f0ed881af",
     "grade": true,
     "grade_id": "2-2",
     "locked": false,
     "points": 5,
     "schema_version": 3,
     "solution": true,
     "task": false
    }
   },
   "outputs": [],
   "source": [
    "answer = \"\"\"\n",
    "YOUR ANSWER HERE\n",
    "\"\"\"\n",
    "\n",
    "send(answer, 22) "
   ]
  },
  {
   "cell_type": "markdown",
   "metadata": {},
   "source": [
    "### 2.3 \n",
    "Create a function to handle the inconsistent data"
   ]
  },
  {
   "cell_type": "code",
   "execution_count": null,
   "metadata": {
    "deletable": false,
    "id": "axniAWlNfMmr",
    "nbgrader": {
     "cell_type": "code",
     "checksum": "7a35af86aaf70ca8b76a2efea4e88112",
     "grade": true,
     "grade_id": "2-3",
     "locked": false,
     "points": 0,
     "schema_version": 3,
     "solution": true,
     "task": false
    }
   },
   "outputs": [],
   "source": [
    "### 2.3\n",
    "def handle_inconsistent_data(df):\n",
    "    \"\"\"\n",
    "    Identifies features with inconsistent data types and transforms features\n",
    "    to the correct data type (numerical, object). \n",
    "\n",
    "    Parameters\n",
    "    ----------\n",
    "    df : DataFrame\n",
    "      Containing inconsistent data\n",
    "\n",
    "    Returns\n",
    "    -------\n",
    "    df : DataFrame\n",
    "       With consistent data. All columns must be either numerical or categorical\n",
    "\n",
    "    Hint:\n",
    "    -----\n",
    "    Don't forget to convert the features into the correct data type \n",
    "    \"\"\"\n",
    "    # YOUR CODE HERE\n",
    "    raise NotImplementedError()\n",
    "    return df"
   ]
  },
  {
   "cell_type": "code",
   "execution_count": null,
   "metadata": {
    "colab": {
     "base_uri": "https://localhost:8080/"
    },
    "executionInfo": {
     "elapsed": 2715,
     "status": "ok",
     "timestamp": 1614268885495,
     "user": {
      "displayName": "Paola Mejia",
      "photoUrl": "",
      "userId": "15451997563084296260"
     },
     "user_tz": -60
    },
    "id": "BH11lf3lEgJH",
    "outputId": "0bfe02bc-8e5e-4da6-9986-68b50c4090bb"
   },
   "outputs": [],
   "source": [
    "df = handle_inconsistent_data(df)\n",
    "print(len(df))\n",
    "print(df.head())\n",
    "print(get_feature_stats(df))"
   ]
  },
  {
   "cell_type": "markdown",
   "metadata": {},
   "source": [
    "### 2.4 \n",
    "Justify your decisions to treat the inconsistent data. Were there columns with inconsistent data types? How did you identify them? \n",
    " "
   ]
  },
  {
   "cell_type": "code",
   "execution_count": null,
   "metadata": {
    "deletable": false,
    "id": "soOMnvl5_6Ld",
    "nbgrader": {
     "cell_type": "markdown",
     "checksum": "d3223e4eb50c298353999b9debfdc25a",
     "grade": true,
     "grade_id": "2-4",
     "locked": false,
     "points": 5,
     "schema_version": 3,
     "solution": true,
     "task": false
    }
   },
   "outputs": [],
   "source": [
    "answer = \"\"\"\n",
    "YOUR ANSWER HERE\n",
    "\"\"\"\n",
    "\n",
    "send(answer, 24) "
   ]
  },
  {
   "cell_type": "markdown",
   "metadata": {
    "id": "TvwYZorE-k1_"
   },
   "source": [
    "<a id=\"section3\"></a>\n",
    "## **3 Visualization** \n",
    "---\n",
    "\n",
    "After cleaning the data, we can try to understand or extract insights from it. To do so, in this last section, you will do the following:\n",
    "1. Create a function to show the relationship between numerical features.\n",
    "2. Interpret your findings. What is correlation useful for? What insights can you get from it? \n",
    "3. Select an appropriate type of graph to explore the relationship between grade, school group, and any other meaningful feature\n",
    "4. Interpret your findings. What are some factors that seem to influence the grade of the students? Which features do not seem to affect the outcome?\n"
   ]
  },
  {
   "cell_type": "markdown",
   "metadata": {},
   "source": [
    "### 3.1 \n",
    "Create a function to show the linear correlation between features."
   ]
  },
  {
   "cell_type": "code",
   "execution_count": null,
   "metadata": {
    "deletable": false,
    "id": "5jCz5LCWGrsD",
    "nbgrader": {
     "cell_type": "code",
     "checksum": "09869e5fb7803a98534ecc267ce604f1",
     "grade": true,
     "grade_id": "3-1",
     "locked": false,
     "points": 5,
     "schema_version": 3,
     "solution": true,
     "task": false
    }
   },
   "outputs": [],
   "source": [
    "### 3.1\n",
    "import seaborn as sns\n",
    "def plot_correlation(df):\n",
    "    \"\"\"\n",
    "    Builds upper triangular heatmap with pearson correlation between numerical variables\n",
    "\n",
    "    Instructions\n",
    "    ------------\n",
    "    The plot must have:\n",
    "    - An appropiate title\n",
    "    - Only upper triangular elements\n",
    "    - Annotated values of correlation coefficients rounded to three significant \n",
    "    figures\n",
    "    - Negative correlation must be blue and possitive correlation red. \n",
    "\n",
    "    Parameters\n",
    "    ----------\n",
    "    df : DataFrame with data\n",
    "\n",
    "\n",
    "    \"\"\"\n",
    "    # YOUR CODE HERE\n",
    "    raise NotImplementedError()\n"
   ]
  },
  {
   "cell_type": "code",
   "execution_count": null,
   "metadata": {
    "colab": {
     "base_uri": "https://localhost:8080/",
     "height": 320
    },
    "executionInfo": {
     "elapsed": 7321,
     "status": "ok",
     "timestamp": 1614268890140,
     "user": {
      "displayName": "Paola Mejia",
      "photoUrl": "",
      "userId": "15451997563084296260"
     },
     "user_tz": -60
    },
    "id": "pERN5ZoUHsqL",
    "outputId": "e0de54b8-fb62-4c95-9e73-f7ca4199430d"
   },
   "outputs": [],
   "source": [
    "send(plot_correlation(df), 31) "
   ]
  },
  {
   "cell_type": "markdown",
   "metadata": {},
   "source": [
    "### 3.2\n",
    "Interpret your findings. What is correlation useful for? What insights can you get from it? \n"
   ]
  },
  {
   "cell_type": "code",
   "execution_count": null,
   "metadata": {
    "deletable": false,
    "id": "G8gNIcUrBJnD",
    "nbgrader": {
     "cell_type": "markdown",
     "checksum": "7d32df24c4893390d2c8aae408e165fd",
     "grade": true,
     "grade_id": "3-3",
     "locked": false,
     "points": 5,
     "schema_version": 3,
     "solution": true,
     "task": false
    }
   },
   "outputs": [],
   "source": [
    "answer = \"\"\"\n",
    "YOUR ANSWER HERE\n",
    "\"\"\"\n",
    "\n",
    "send(answer, 32) "
   ]
  },
  {
   "cell_type": "markdown",
   "metadata": {},
   "source": [
    "### 3.3\n",
    "Select an appropriate type of graph to explore the relationship between grade, school group, and any other meaningful feature.\n"
   ]
  },
  {
   "cell_type": "code",
   "execution_count": null,
   "metadata": {
    "deletable": false,
    "id": "w5PdLlLRGvKY",
    "nbgrader": {
     "cell_type": "code",
     "checksum": "939f8efa596d125cf75e30842074dc4b",
     "grade": true,
     "grade_id": "3-4",
     "locked": false,
     "points": 5,
     "schema_version": 3,
     "solution": true,
     "task": false
    }
   },
   "outputs": [],
   "source": [
    "### 3.3\n",
    "def plot_grades(df):\n",
    "    \"\"\"\n",
    "    Visualizes the relationship between grade,  school group and other meaningful\n",
    "    feature\n",
    "\n",
    "    Parameters\n",
    "    ----------\n",
    "    df : DataFrame with data\n",
    "\n",
    "    \"\"\"\n",
    "    # YOUR CODE HERE\n",
    "    raise NotImplementedError()"
   ]
  },
  {
   "cell_type": "code",
   "execution_count": null,
   "metadata": {
    "colab": {
     "base_uri": "https://localhost:8080/",
     "height": 459
    },
    "executionInfo": {
     "elapsed": 5820,
     "status": "ok",
     "timestamp": 1614268938276,
     "user": {
      "displayName": "Paola Mejia",
      "photoUrl": "",
      "userId": "15451997563084296260"
     },
     "user_tz": -60
    },
    "id": "359sJQ_8tqER",
    "outputId": "3be3ee76-a8db-4721-a78d-6b0a58161884"
   },
   "outputs": [],
   "source": [
    "send(plot_grades(df), 33)"
   ]
  },
  {
   "cell_type": "markdown",
   "metadata": {},
   "source": [
    "### 3.4\n",
    "Interpret your findings. What are some factors that seem to influence the grade of the students? Which features do not seem to affect the outcome?"
   ]
  },
  {
   "cell_type": "code",
   "execution_count": null,
   "metadata": {
    "deletable": false,
    "id": "YhJ3qb7M2fiU",
    "nbgrader": {
     "cell_type": "markdown",
     "checksum": "bf41f17e4d1692e86ada5ce2d86efc5b",
     "grade": true,
     "grade_id": "3-5",
     "locked": false,
     "points": 5,
     "schema_version": 3,
     "solution": true,
     "task": false
    }
   },
   "outputs": [],
   "source": [
    "answer = \"\"\"\n",
    "YOUR ANSWER HERE\n",
    "\"\"\"\n",
    "\n",
    "send(answer, 34) "
   ]
  }
 ],
 "metadata": {
  "colab": {
   "collapsed_sections": [],
   "name": "SecondDraft-Solution01-DataHandling.ipynb",
   "provenance": [
    {
     "file_id": "1mRFFrJF4dE9fELL-s3BxXH-9k8oZoJZi",
     "timestamp": 1614369628317
    },
    {
     "file_id": "1m7X1IqccOW_2p-daNXCIckJaldNH8MeD",
     "timestamp": 1614270374389
    },
    {
     "file_id": "1Y0ZrVKYMUXFoQliKv7-8XrYIpTWw7R63",
     "timestamp": 1613748083326
    },
    {
     "file_id": "11iSt5dKbG-iVOF9RIaQJfFVxeiH10EhN",
     "timestamp": 1613682613431
    }
   ],
   "toc_visible": true
  },
  "kernelspec": {
   "display_name": "Python",
   "language": "python",
   "name": "python3"
  },
  "language_info": {
   "codemirror_mode": {
    "name": "ipython",
    "version": 3
   },
   "file_extension": ".py",
   "mimetype": "text/x-python",
   "name": "python",
   "nbconvert_exporter": "python",
   "pygments_lexer": "ipython3",
   "version": "3.8.10"
  },
  "vscode": {
   "interpreter": {
    "hash": "31f2aee4e71d21fbe5cf8b01ff0e069b9275f58929596ceb00d14d90e3e16cd6"
   }
  }
 },
 "nbformat": 4,
 "nbformat_minor": 4
}
