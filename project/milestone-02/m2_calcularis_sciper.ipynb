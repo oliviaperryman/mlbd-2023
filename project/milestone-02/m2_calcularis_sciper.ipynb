{
 "cells": [
  {
   "cell_type": "markdown",
   "id": "457a6a91-117e-41b3-be96-ffa6ac9d92e7",
   "metadata": {
    "id": "457a6a91-117e-41b3-be96-ffa6ac9d92e7"
   },
   "source": [
    "# M2 | Exploration Notebook\n",
    "\n",
    "In this notebook, you will do a first exploration of the data set that you will use for your project. One part of this exploration is guided, i.e. we will ask you to solve specific questions (task 1-3). The other part is open, i.e. we will ask you to come up with your own exploration ideas (task 4). \n",
    "\n",
    "Please upload your solved notebook to Moodle (under Milestone 2 Submission) adding your SCIPER number in title, example: m2-calcularis-456392.ipynb\n",
    "\n",
    "\n",
    "## Brief overview of Calcularis\n",
    "[Calcularis](https://school.alemira.com/de/calcularis/) by Alemira School is a mathematics learning program developed with neuroscientists and computer scientists from ETH Zurich. It promotes the development and interaction of the different areas of the brain that are responsible for processing numbers and quantities and solving mathematical tasks. Calcularis can be used from 1st grade to high school. Children with dyscalculia also benefit in the long term and overcome their arithmetic weakness.\n",
    "\n",
    "\n",
    "For the guided part of the exploration we will focus on the three main tables:\n",
    "* ***users***: meta information about users (i.e. total time spent learning with Calcularis, geographic location).\n",
    "* ***events***: events done by the users in the platform (i.e. playing a game, selecting a new animal in the zoo simulation).\n",
    "* ***subtasks***: sub-tasks with answer attempts solved by users, primarily in the context of game events.\n",
    "\n",
    "### Users\n",
    "* **user_id**: unique identifier of user in database.\n",
    "* **learning_time_ms**: total learning time in milliseconds per user, totaled over all events. This is calculated by subtracting non-learning time (i.e. if the user is idle for more than one minute).\n",
    "* **start**: timestamp of initial login.\n",
    "* **end**: timestamp of last log-off.\n",
    "* **logged_in_time_ms**: total time between login and log-off, in milliseconds. This will always be larger than learning_time_ms.\n",
    "* **language**: code for language the user is using Calcularis in (i.e. *fr* for French, *de* for german).\n",
    "* **country**: code for the country the user is using Calcularis from (i.e. *CH* for Switzerland).\n",
    "\n",
    "### Events\n",
    "* **event_id**: unique identifier of event in database.\n",
    "* **user_id**: user who peformed the event.\n",
    "* **type**: type of event (task, help, game_start_pause, training_selector, shop, attention_booster, attention_booster_over).\n",
    "* **mode**: only valid for events of type 'task', representing type of game play (normal, end_of_nr: end of number range, free_training, repetition, favorite, practice).\n",
    "* **game_name**: name of the game the user is playing. Calcularis has 29 games.\n",
    "* **learning_time_ms**: total learning time over a single game (event). To see aggregated learning time, examine learning_time_ms in the users table.\n",
    "* **number_range**: the number range of the exercise (0-10, 0-20, ... 0-1000). The larger the number range, the more difficult the exercise variation.\n",
    "* **start**: start timestamp of the event.\n",
    "* **end**: end timestamp of the event.\n",
    "* **skill_id**: skill number that this game (event) corresponds to.\n",
    "\n",
    "### Subtasks\n",
    "*There are many columns in subtasks corresponding to fields present for specific games in Calcularis. More details about corresponding fields for subtasks can be found [here](https://drive.google.com/file/d/1C7bKfHDdKnDzr9-EqWniYoR35ro2QuBd/view?usp=sharing). The fields discussed below are present for the majority of subtasks.*\n",
    "\n",
    "* **subtask_id**: unique identifier of the subtask in the database.\n",
    "* **event_id**: unique identifier of event in database.\n",
    "* **user_id**: user who peformed the event.\n",
    "* **answer**: the user's answer to the subtask.\n",
    "* **correct**: `True` if user obtained the correct value in their answer attempt.\n",
    "* **correctAnswerObject**: the correct answer to the question.\n",
    "* **hasProperResult**: `True` if this is a question that can be answered by a student. `False` if it corresponds to the SecretNumber game tasks, which consists of counting attempts.\n",
    "* **range**: number_range for the task (i.e. 0-20 described as R20).\n",
    "* **subtask_finished_timestamp**: ending timestamp for this subtask (within a specific event).\n",
    "* **type**: type of subtask event like ConciseEquationTaskDescription, ConciseOrderingTaskDescription (mostly corresponding to individual games, as detailed in the *Subtask Representations* document below).\n",
    "\n",
    "### Useful Metadata Files\n",
    "- [Subtask Representations](https://drive.google.com/file/d/1C7bKfHDdKnDzr9-EqWniYoR35ro2QuBd/view?usp=sharing)\n",
    "- [Number Representations](https://docs.google.com/document/d/1iD60mydGXjB-6HBQakAKI_GGfQaBBQkWcg5eQiAch_A/edit?usp=sharing)\n",
    "- [Ideas for Calcularis analysis from the Alemira School](https://docs.google.com/document/d/1vM0Gz4f0jStp_wuhBYvnP-VjaBAxzQpVzXomaDfq0D8/edit?usp=sharing)\n",
    "- [Skill map](https://drive.google.com/file/d/1yJTosk1RV1qzHb-AG_-FLdjlphBsYzoq/view?usp=sharing) representing the relationships between exercises in Calcularis. If you would like to dive deeper into the skill network (programatically), you can use this [.dot file](https://docs.google.com/document/d/1XDPkq7LaAQ3-lAhAvDTLXuiq5u8EKJME/edit?usp=share_link&ouid=104052806655845468726&rtpof=true&sd=true) representing the graph and the corresponding [labels](https://drive.google.com/file/d/1Pkbiz-_bzK80q2l3mkBS_K4wU9sSCY-R/view?usp=sharing)."
   ]
  },
  {
   "cell_type": "code",
   "execution_count": 1,
   "id": "2b10fd14-a60b-4de9-b217-bbaf68dac01c",
   "metadata": {
    "id": "2b10fd14-a60b-4de9-b217-bbaf68dac01c"
   },
   "outputs": [],
   "source": [
    "# Import the tables of the data set as dataframes.\n",
    "import numpy as np\n",
    "import pandas as pd\n",
    "import matplotlib.pyplot as plt\n",
    "\n",
    "DATA_DIR = 'new_data_1000' #You many change the directory\n",
    "\n",
    "users = pd.read_csv('{}/calcularis_small_users.csv'.format(DATA_DIR), index_col=0)\n",
    "events = pd.read_csv('{}/calcularis_small_events.csv'.format(DATA_DIR), index_col=0)\n",
    "subtasks = pd.read_csv('{}/calcularis_small_subtasks.csv'.format(DATA_DIR), index_col=0)"
   ]
  },
  {
   "cell_type": "code",
   "execution_count": 2,
   "id": "9b83d534",
   "metadata": {},
   "outputs": [
    {
     "data": {
      "text/html": [
       "<div>\n",
       "<style scoped>\n",
       "    .dataframe tbody tr th:only-of-type {\n",
       "        vertical-align: middle;\n",
       "    }\n",
       "\n",
       "    .dataframe tbody tr th {\n",
       "        vertical-align: top;\n",
       "    }\n",
       "\n",
       "    .dataframe thead th {\n",
       "        text-align: right;\n",
       "    }\n",
       "</style>\n",
       "<table border=\"1\" class=\"dataframe\">\n",
       "  <thead>\n",
       "    <tr style=\"text-align: right;\">\n",
       "      <th></th>\n",
       "      <th>learning_time_ms</th>\n",
       "      <th>start</th>\n",
       "      <th>end</th>\n",
       "      <th>logged_in_time_ms</th>\n",
       "      <th>language</th>\n",
       "      <th>country</th>\n",
       "    </tr>\n",
       "    <tr>\n",
       "      <th>user_id</th>\n",
       "      <th></th>\n",
       "      <th></th>\n",
       "      <th></th>\n",
       "      <th></th>\n",
       "      <th></th>\n",
       "      <th></th>\n",
       "    </tr>\n",
       "  </thead>\n",
       "  <tbody>\n",
       "    <tr>\n",
       "      <th>1</th>\n",
       "      <td>14032710</td>\n",
       "      <td>2022-11-02T08:37:56.549Z</td>\n",
       "      <td>2023-02-09T11:08:02.599Z</td>\n",
       "      <td>22151340</td>\n",
       "      <td>de</td>\n",
       "      <td>CH</td>\n",
       "    </tr>\n",
       "    <tr>\n",
       "      <th>2</th>\n",
       "      <td>16268350</td>\n",
       "      <td>2022-09-07T07:53:38.865Z</td>\n",
       "      <td>2023-02-09T08:39:14.692Z</td>\n",
       "      <td>85421273</td>\n",
       "      <td>nl</td>\n",
       "      <td>NL</td>\n",
       "    </tr>\n",
       "    <tr>\n",
       "      <th>3</th>\n",
       "      <td>8012030</td>\n",
       "      <td>2021-09-27T07:45:51.806Z</td>\n",
       "      <td>2022-01-13T12:14:09.565Z</td>\n",
       "      <td>16651482</td>\n",
       "      <td>de</td>\n",
       "      <td>DE</td>\n",
       "    </tr>\n",
       "    <tr>\n",
       "      <th>4</th>\n",
       "      <td>1414421</td>\n",
       "      <td>2019-11-12T12:18:15.724Z</td>\n",
       "      <td>2020-10-02T09:20:28.798Z</td>\n",
       "      <td>4561768</td>\n",
       "      <td>de</td>\n",
       "      <td>CH</td>\n",
       "    </tr>\n",
       "    <tr>\n",
       "      <th>5</th>\n",
       "      <td>17502108</td>\n",
       "      <td>2022-04-26T11:38:44.114Z</td>\n",
       "      <td>2022-08-29T15:52:11.087Z</td>\n",
       "      <td>25601470</td>\n",
       "      <td>de</td>\n",
       "      <td>CH</td>\n",
       "    </tr>\n",
       "  </tbody>\n",
       "</table>\n",
       "</div>"
      ],
      "text/plain": [
       "         learning_time_ms                     start                       end  \\\n",
       "user_id                                                                         \n",
       "1                14032710  2022-11-02T08:37:56.549Z  2023-02-09T11:08:02.599Z   \n",
       "2                16268350  2022-09-07T07:53:38.865Z  2023-02-09T08:39:14.692Z   \n",
       "3                 8012030  2021-09-27T07:45:51.806Z  2022-01-13T12:14:09.565Z   \n",
       "4                 1414421  2019-11-12T12:18:15.724Z  2020-10-02T09:20:28.798Z   \n",
       "5                17502108  2022-04-26T11:38:44.114Z  2022-08-29T15:52:11.087Z   \n",
       "\n",
       "         logged_in_time_ms language country  \n",
       "user_id                                      \n",
       "1                 22151340       de      CH  \n",
       "2                 85421273       nl      NL  \n",
       "3                 16651482       de      DE  \n",
       "4                  4561768       de      CH  \n",
       "5                 25601470       de      CH  "
      ]
     },
     "execution_count": 2,
     "metadata": {},
     "output_type": "execute_result"
    }
   ],
   "source": [
    "users.head(5)"
   ]
  },
  {
   "cell_type": "code",
   "execution_count": 3,
   "id": "0ea80afb",
   "metadata": {},
   "outputs": [
    {
     "data": {
      "text/html": [
       "<div>\n",
       "<style scoped>\n",
       "    .dataframe tbody tr th:only-of-type {\n",
       "        vertical-align: middle;\n",
       "    }\n",
       "\n",
       "    .dataframe tbody tr th {\n",
       "        vertical-align: top;\n",
       "    }\n",
       "\n",
       "    .dataframe thead th {\n",
       "        text-align: right;\n",
       "    }\n",
       "</style>\n",
       "<table border=\"1\" class=\"dataframe\">\n",
       "  <thead>\n",
       "    <tr style=\"text-align: right;\">\n",
       "      <th></th>\n",
       "      <th>user_id</th>\n",
       "      <th>mode</th>\n",
       "      <th>game_name</th>\n",
       "      <th>learning_time_ms</th>\n",
       "      <th>number_range</th>\n",
       "      <th>start</th>\n",
       "      <th>end</th>\n",
       "      <th>skill_id</th>\n",
       "      <th>type</th>\n",
       "    </tr>\n",
       "    <tr>\n",
       "      <th>event_id</th>\n",
       "      <th></th>\n",
       "      <th></th>\n",
       "      <th></th>\n",
       "      <th></th>\n",
       "      <th></th>\n",
       "      <th></th>\n",
       "      <th></th>\n",
       "      <th></th>\n",
       "      <th></th>\n",
       "    </tr>\n",
       "  </thead>\n",
       "  <tbody>\n",
       "    <tr>\n",
       "      <th>0</th>\n",
       "      <td>1</td>\n",
       "      <td>NORMAL</td>\n",
       "      <td>Subitizing</td>\n",
       "      <td>8835.0</td>\n",
       "      <td>R10</td>\n",
       "      <td>2022-11-02T08:39:12.355Z</td>\n",
       "      <td>2022-11-02T08:39:25.130Z</td>\n",
       "      <td>1.0</td>\n",
       "      <td>task</td>\n",
       "    </tr>\n",
       "    <tr>\n",
       "      <th>1</th>\n",
       "      <td>1</td>\n",
       "      <td>NORMAL</td>\n",
       "      <td>Conversion</td>\n",
       "      <td>21167.0</td>\n",
       "      <td>R10</td>\n",
       "      <td>2022-11-11T10:26:27.893Z</td>\n",
       "      <td>2022-11-11T10:26:49.260Z</td>\n",
       "      <td>4.0</td>\n",
       "      <td>task</td>\n",
       "    </tr>\n",
       "    <tr>\n",
       "      <th>2</th>\n",
       "      <td>1</td>\n",
       "      <td>NORMAL</td>\n",
       "      <td>Conversion</td>\n",
       "      <td>11182.0</td>\n",
       "      <td>R10</td>\n",
       "      <td>2022-11-18T10:34:01.044Z</td>\n",
       "      <td>2022-11-18T10:34:12.423Z</td>\n",
       "      <td>7.0</td>\n",
       "      <td>task</td>\n",
       "    </tr>\n",
       "    <tr>\n",
       "      <th>3</th>\n",
       "      <td>1</td>\n",
       "      <td>NORMAL</td>\n",
       "      <td>Landing</td>\n",
       "      <td>6823.0</td>\n",
       "      <td>R10</td>\n",
       "      <td>2022-11-25T10:32:43.428Z</td>\n",
       "      <td>2022-11-25T10:32:56.986Z</td>\n",
       "      <td>19.0</td>\n",
       "      <td>task</td>\n",
       "    </tr>\n",
       "    <tr>\n",
       "      <th>4</th>\n",
       "      <td>1</td>\n",
       "      <td>END_OF_NR</td>\n",
       "      <td>Conversion</td>\n",
       "      <td>9107.0</td>\n",
       "      <td>R10</td>\n",
       "      <td>2022-12-02T10:44:40.555Z</td>\n",
       "      <td>2022-12-02T10:44:49.874Z</td>\n",
       "      <td>7.0</td>\n",
       "      <td>task</td>\n",
       "    </tr>\n",
       "  </tbody>\n",
       "</table>\n",
       "</div>"
      ],
      "text/plain": [
       "          user_id       mode   game_name  learning_time_ms number_range  \\\n",
       "event_id                                                                  \n",
       "0               1     NORMAL  Subitizing            8835.0          R10   \n",
       "1               1     NORMAL  Conversion           21167.0          R10   \n",
       "2               1     NORMAL  Conversion           11182.0          R10   \n",
       "3               1     NORMAL     Landing            6823.0          R10   \n",
       "4               1  END_OF_NR  Conversion            9107.0          R10   \n",
       "\n",
       "                             start                       end  skill_id  type  \n",
       "event_id                                                                      \n",
       "0         2022-11-02T08:39:12.355Z  2022-11-02T08:39:25.130Z       1.0  task  \n",
       "1         2022-11-11T10:26:27.893Z  2022-11-11T10:26:49.260Z       4.0  task  \n",
       "2         2022-11-18T10:34:01.044Z  2022-11-18T10:34:12.423Z       7.0  task  \n",
       "3         2022-11-25T10:32:43.428Z  2022-11-25T10:32:56.986Z      19.0  task  \n",
       "4         2022-12-02T10:44:40.555Z  2022-12-02T10:44:49.874Z       7.0  task  "
      ]
     },
     "execution_count": 3,
     "metadata": {},
     "output_type": "execute_result"
    }
   ],
   "source": [
    "events.head(5)"
   ]
  },
  {
   "cell_type": "code",
   "execution_count": 4,
   "id": "66568cdc",
   "metadata": {},
   "outputs": [
    {
     "data": {
      "text/html": [
       "<div>\n",
       "<style scoped>\n",
       "    .dataframe tbody tr th:only-of-type {\n",
       "        vertical-align: middle;\n",
       "    }\n",
       "\n",
       "    .dataframe tbody tr th {\n",
       "        vertical-align: top;\n",
       "    }\n",
       "\n",
       "    .dataframe thead th {\n",
       "        text-align: right;\n",
       "    }\n",
       "</style>\n",
       "<table border=\"1\" class=\"dataframe\">\n",
       "  <thead>\n",
       "    <tr style=\"text-align: right;\">\n",
       "      <th></th>\n",
       "      <th>event_id</th>\n",
       "      <th>user_id</th>\n",
       "      <th>aim</th>\n",
       "      <th>answer</th>\n",
       "      <th>answerMode</th>\n",
       "      <th>availableNumbers</th>\n",
       "      <th>correct</th>\n",
       "      <th>correctAnswerObject</th>\n",
       "      <th>correctNumber</th>\n",
       "      <th>destination</th>\n",
       "      <th>...</th>\n",
       "      <th>startPosition</th>\n",
       "      <th>subtask_finished_timestamp</th>\n",
       "      <th>target</th>\n",
       "      <th>timeoutInSeconds</th>\n",
       "      <th>timeoutInSteps</th>\n",
       "      <th>type</th>\n",
       "      <th>upperBound</th>\n",
       "      <th>divisor</th>\n",
       "      <th>orderIndependent</th>\n",
       "      <th>step</th>\n",
       "    </tr>\n",
       "    <tr>\n",
       "      <th>subtask_id</th>\n",
       "      <th></th>\n",
       "      <th></th>\n",
       "      <th></th>\n",
       "      <th></th>\n",
       "      <th></th>\n",
       "      <th></th>\n",
       "      <th></th>\n",
       "      <th></th>\n",
       "      <th></th>\n",
       "      <th></th>\n",
       "      <th></th>\n",
       "      <th></th>\n",
       "      <th></th>\n",
       "      <th></th>\n",
       "      <th></th>\n",
       "      <th></th>\n",
       "      <th></th>\n",
       "      <th></th>\n",
       "      <th></th>\n",
       "      <th></th>\n",
       "      <th></th>\n",
       "    </tr>\n",
       "  </thead>\n",
       "  <tbody>\n",
       "    <tr>\n",
       "      <th>0</th>\n",
       "      <td>0</td>\n",
       "      <td>1</td>\n",
       "      <td>NaN</td>\n",
       "      <td>4</td>\n",
       "      <td>NaN</td>\n",
       "      <td>NaN</td>\n",
       "      <td>True</td>\n",
       "      <td>4</td>\n",
       "      <td>4.0</td>\n",
       "      <td>NaN</td>\n",
       "      <td>...</td>\n",
       "      <td>NaN</td>\n",
       "      <td>2022-11-02T08:39:24.930Z</td>\n",
       "      <td>NaN</td>\n",
       "      <td>NaN</td>\n",
       "      <td>NaN</td>\n",
       "      <td>ConciseSubitizingTaskDescription</td>\n",
       "      <td>NaN</td>\n",
       "      <td>NaN</td>\n",
       "      <td>NaN</td>\n",
       "      <td>NaN</td>\n",
       "    </tr>\n",
       "    <tr>\n",
       "      <th>1</th>\n",
       "      <td>0</td>\n",
       "      <td>1</td>\n",
       "      <td>NaN</td>\n",
       "      <td>1</td>\n",
       "      <td>NaN</td>\n",
       "      <td>NaN</td>\n",
       "      <td>True</td>\n",
       "      <td>NaN</td>\n",
       "      <td>NaN</td>\n",
       "      <td>NaN</td>\n",
       "      <td>...</td>\n",
       "      <td>NaN</td>\n",
       "      <td>2022-11-02T08:39:24.930Z</td>\n",
       "      <td>NaN</td>\n",
       "      <td>0.0</td>\n",
       "      <td>2.0</td>\n",
       "      <td>ConciseTimeoutDescription</td>\n",
       "      <td>NaN</td>\n",
       "      <td>NaN</td>\n",
       "      <td>NaN</td>\n",
       "      <td>NaN</td>\n",
       "    </tr>\n",
       "    <tr>\n",
       "      <th>2</th>\n",
       "      <td>1</td>\n",
       "      <td>1</td>\n",
       "      <td>NaN</td>\n",
       "      <td>3</td>\n",
       "      <td>NaN</td>\n",
       "      <td>NaN</td>\n",
       "      <td>True</td>\n",
       "      <td>3</td>\n",
       "      <td>NaN</td>\n",
       "      <td>ARABIC</td>\n",
       "      <td>...</td>\n",
       "      <td>NaN</td>\n",
       "      <td>2022-11-11T10:26:49.007Z</td>\n",
       "      <td>NaN</td>\n",
       "      <td>NaN</td>\n",
       "      <td>NaN</td>\n",
       "      <td>ConciseConversionTaskDescription</td>\n",
       "      <td>NaN</td>\n",
       "      <td>NaN</td>\n",
       "      <td>NaN</td>\n",
       "      <td>NaN</td>\n",
       "    </tr>\n",
       "    <tr>\n",
       "      <th>3</th>\n",
       "      <td>2</td>\n",
       "      <td>1</td>\n",
       "      <td>NaN</td>\n",
       "      <td>5</td>\n",
       "      <td>NaN</td>\n",
       "      <td>NaN</td>\n",
       "      <td>True</td>\n",
       "      <td>5</td>\n",
       "      <td>NaN</td>\n",
       "      <td>EXPLODED_BEAM</td>\n",
       "      <td>...</td>\n",
       "      <td>NaN</td>\n",
       "      <td>2022-11-18T10:34:12.191Z</td>\n",
       "      <td>NaN</td>\n",
       "      <td>NaN</td>\n",
       "      <td>NaN</td>\n",
       "      <td>ConciseConversionTaskDescription</td>\n",
       "      <td>NaN</td>\n",
       "      <td>NaN</td>\n",
       "      <td>NaN</td>\n",
       "      <td>NaN</td>\n",
       "    </tr>\n",
       "    <tr>\n",
       "      <th>4</th>\n",
       "      <td>3</td>\n",
       "      <td>1</td>\n",
       "      <td>3.0</td>\n",
       "      <td>{'a': 2, 'b': 2.0402703}</td>\n",
       "      <td>NaN</td>\n",
       "      <td>NaN</td>\n",
       "      <td>False</td>\n",
       "      <td>{'a': 3, 'b': 3.0}</td>\n",
       "      <td>NaN</td>\n",
       "      <td>NaN</td>\n",
       "      <td>...</td>\n",
       "      <td>0.5</td>\n",
       "      <td>2022-11-25T10:32:56.805Z</td>\n",
       "      <td>NaN</td>\n",
       "      <td>NaN</td>\n",
       "      <td>NaN</td>\n",
       "      <td>ConciseLandingTaskDescription</td>\n",
       "      <td>3.5</td>\n",
       "      <td>NaN</td>\n",
       "      <td>NaN</td>\n",
       "      <td>NaN</td>\n",
       "    </tr>\n",
       "  </tbody>\n",
       "</table>\n",
       "<p>5 rows × 44 columns</p>\n",
       "</div>"
      ],
      "text/plain": [
       "            event_id  user_id  aim                    answer answerMode  \\\n",
       "subtask_id                                                                \n",
       "0                  0        1  NaN                         4        NaN   \n",
       "1                  0        1  NaN                         1        NaN   \n",
       "2                  1        1  NaN                         3        NaN   \n",
       "3                  2        1  NaN                         5        NaN   \n",
       "4                  3        1  3.0  {'a': 2, 'b': 2.0402703}        NaN   \n",
       "\n",
       "           availableNumbers  correct correctAnswerObject  correctNumber  \\\n",
       "subtask_id                                                                \n",
       "0                       NaN     True                   4            4.0   \n",
       "1                       NaN     True                 NaN            NaN   \n",
       "2                       NaN     True                   3            NaN   \n",
       "3                       NaN     True                   5            NaN   \n",
       "4                       NaN    False  {'a': 3, 'b': 3.0}            NaN   \n",
       "\n",
       "              destination  ...  startPosition  subtask_finished_timestamp  \\\n",
       "subtask_id                 ...                                              \n",
       "0                     NaN  ...            NaN    2022-11-02T08:39:24.930Z   \n",
       "1                     NaN  ...            NaN    2022-11-02T08:39:24.930Z   \n",
       "2                  ARABIC  ...            NaN    2022-11-11T10:26:49.007Z   \n",
       "3           EXPLODED_BEAM  ...            NaN    2022-11-18T10:34:12.191Z   \n",
       "4                     NaN  ...            0.5    2022-11-25T10:32:56.805Z   \n",
       "\n",
       "           target  timeoutInSeconds  timeoutInSteps  \\\n",
       "subtask_id                                            \n",
       "0             NaN               NaN             NaN   \n",
       "1             NaN               0.0             2.0   \n",
       "2             NaN               NaN             NaN   \n",
       "3             NaN               NaN             NaN   \n",
       "4             NaN               NaN             NaN   \n",
       "\n",
       "                                        type upperBound  divisor  \\\n",
       "subtask_id                                                         \n",
       "0           ConciseSubitizingTaskDescription        NaN      NaN   \n",
       "1                  ConciseTimeoutDescription        NaN      NaN   \n",
       "2           ConciseConversionTaskDescription        NaN      NaN   \n",
       "3           ConciseConversionTaskDescription        NaN      NaN   \n",
       "4              ConciseLandingTaskDescription        3.5      NaN   \n",
       "\n",
       "            orderIndependent step  \n",
       "subtask_id                         \n",
       "0                        NaN  NaN  \n",
       "1                        NaN  NaN  \n",
       "2                        NaN  NaN  \n",
       "3                        NaN  NaN  \n",
       "4                        NaN  NaN  \n",
       "\n",
       "[5 rows x 44 columns]"
      ]
     },
     "execution_count": 4,
     "metadata": {},
     "output_type": "execute_result"
    }
   ],
   "source": [
    "subtasks.head(5)"
   ]
  },
  {
   "cell_type": "markdown",
   "id": "75b4f5fc-4526-4c00-8045-393cd36a2de6",
   "metadata": {
    "id": "75b4f5fc-4526-4c00-8045-393cd36a2de6"
   },
   "source": [
    "## Task 1: Simple Statistics\n",
    "\n",
    "In this task you are asked to do a first coarse exploration of the data set, using simple statistics and visualizations."
   ]
  },
  {
   "cell_type": "markdown",
   "id": "811d42c0-6f94-436e-b2da-232363fedace",
   "metadata": {
    "id": "811d42c0-6f94-436e-b2da-232363fedace"
   },
   "source": [
    "#### a) How many distinct participants do we have in the data set?\n"
   ]
  },
  {
   "cell_type": "code",
   "execution_count": null,
   "id": "3935e6ea-982b-4d88-81c1-406f6d8040e8",
   "metadata": {
    "id": "3935e6ea-982b-4d88-81c1-406f6d8040e8"
   },
   "outputs": [],
   "source": [
    "## Your code goes here"
   ]
  },
  {
   "cell_type": "markdown",
   "id": "afa67951-aed8-4709-a935-9918d80ede84",
   "metadata": {
    "id": "afa67951-aed8-4709-a935-9918d80ede84"
   },
   "source": [
    "#### b) How many games were played per user? Please provide a visualization and discuss the distribution."
   ]
  },
  {
   "cell_type": "code",
   "execution_count": null,
   "id": "adefdeef-23d3-4feb-9c6f-6a3dd441acf2",
   "metadata": {
    "id": "adefdeef-23d3-4feb-9c6f-6a3dd441acf2"
   },
   "outputs": [],
   "source": [
    "# Your code goes here"
   ]
  },
  {
   "cell_type": "markdown",
   "id": "zkDaH4M_a3vR",
   "metadata": {
    "id": "zkDaH4M_a3vR"
   },
   "source": [
    "*Your discussion/interpretation goes here*\n"
   ]
  },
  {
   "cell_type": "markdown",
   "id": "b14fea28-8507-497d-9990-9eb2fefd18c0",
   "metadata": {
    "id": "b14fea28-8507-497d-9990-9eb2fefd18c0"
   },
   "source": [
    "#### c) What are the 10 most popular games played (events)? Please provide visualizations of the frequency of the top 10 games.\n",
    "\n",
    "Hint: See `game_name` in table `events`."
   ]
  },
  {
   "cell_type": "code",
   "execution_count": null,
   "id": "e991ecba",
   "metadata": {
    "id": "e991ecba"
   },
   "outputs": [],
   "source": [
    "# Your code goes here"
   ]
  },
  {
   "cell_type": "markdown",
   "id": "0e7818a8-e4bc-499c-8683-28b7045e59a2",
   "metadata": {
    "id": "0e7818a8-e4bc-499c-8683-28b7045e59a2"
   },
   "source": [
    "*Your discussion/interpretation goes here*"
   ]
  },
  {
   "cell_type": "markdown",
   "id": "55dd2ced-e567-4b23-8795-cce5132cfdad",
   "metadata": {
    "id": "55dd2ced-e567-4b23-8795-cce5132cfdad"
   },
   "source": [
    "## Task 2: Static Analysis\n",
    "\n",
    "In this second task, you will do a univariate an multivariate exploration of some aggregated features."
   ]
  },
  {
   "cell_type": "markdown",
   "id": "c6278746-ebab-45e7-8312-36f6cc1d4e36",
   "metadata": {
    "id": "c6278746-ebab-45e7-8312-36f6cc1d4e36"
   },
   "source": [
    "#### a) Build a data frame containing one row per user:\n",
    "\n",
    "``[user_id, ui_locale, num_events, num_games, percentage_correct, total_not_learning_time_ms]``\n",
    "\n",
    "\n",
    "The features are defined as follows:\n",
    "\n",
    "- **ui_locale**: geographic region the student is from\n",
    "\n",
    "- **num_events**: total number of events of the student  \n",
    "\n",
    "- **num_games**: total number of unique games played by the student\n",
    "\n",
    "- **percentage_correct**: number of correct answers/total number of answers (hint: see `correct` in subtask table).\n",
    "\n",
    "- **total_not_learning_time_ms**: total amount of ms not spent actively learning"
   ]
  },
  {
   "cell_type": "code",
   "execution_count": null,
   "id": "29f99c75",
   "metadata": {
    "id": "29f99c75"
   },
   "outputs": [],
   "source": [
    "# Your code for building the data frame here"
   ]
  },
  {
   "cell_type": "markdown",
   "id": "c7648e7d-45ff-40ef-8fc9-ccfba1ba7229",
   "metadata": {
    "id": "c7648e7d-45ff-40ef-8fc9-ccfba1ba7229"
   },
   "source": [
    "b) Perform a univariate analysis (including descriptive statistics and visualizations) for the five features (`ui_locale, num_events, num_games, percentage_correct, total_not_learning_time_ms`) of your dataframe. Please check the lecture slides regarding information on how to perform a univariate analysis for categorical and numerical features. Discuss your results: how are the features distributed? Are there any anomalities?"
   ]
  },
  {
   "cell_type": "code",
   "execution_count": null,
   "id": "e1d63e93-976a-4585-9675-8b0c3c7661d9",
   "metadata": {
    "id": "e1d63e93-976a-4585-9675-8b0c3c7661d9"
   },
   "outputs": [],
   "source": [
    "# Your code for univariate analysis here"
   ]
  },
  {
   "cell_type": "markdown",
   "id": "da9e7a90-47b5-4c5c-8d3f-10e8c8078009",
   "metadata": {
    "id": "da9e7a90-47b5-4c5c-8d3f-10e8c8078009"
   },
   "source": [
    "*Your discussion/interpretation goes here*"
   ]
  },
  {
   "cell_type": "markdown",
   "id": "e5d52cd8-9927-401b-a3c3-a4ab2e46b445",
   "metadata": {
    "id": "e5d52cd8-9927-401b-a3c3-a4ab2e46b445"
   },
   "source": [
    "c) Come up with two additional features on your own and add them to the dataframe. Please provide an explanation/description of your features as well as an argument/hypothesis of why you think these features are interesting to explore."
   ]
  },
  {
   "cell_type": "code",
   "execution_count": null,
   "id": "0b374606-91f5-45b0-bb31-03d494fa5c69",
   "metadata": {
    "id": "0b374606-91f5-45b0-bb31-03d494fa5c69"
   },
   "outputs": [],
   "source": [
    "# Your code for computing the features and adding them to the df goes here"
   ]
  },
  {
   "cell_type": "markdown",
   "id": "6ae3bd87-8ca4-47a2-afc5-604e6ca53621",
   "metadata": {
    "id": "6ae3bd87-8ca4-47a2-afc5-604e6ca53621"
   },
   "source": [
    "*Your feature descriptions and arguments/hypotheses go here*"
   ]
  },
  {
   "cell_type": "markdown",
   "id": "be9b49ce-5fb6-4b95-9b64-8a6648e42474",
   "metadata": {
    "id": "be9b49ce-5fb6-4b95-9b64-8a6648e42474"
   },
   "source": [
    "d) Perform a univariate analysis of your features (including descriptive statistics and visualization). What can you observe? Do the results confirm your hypotheses?"
   ]
  },
  {
   "cell_type": "code",
   "execution_count": null,
   "id": "bf5136a1-4715-4bd6-a94a-1998ffb2dcc7",
   "metadata": {
    "id": "bf5136a1-4715-4bd6-a94a-1998ffb2dcc7"
   },
   "outputs": [],
   "source": [
    "# Your code for univariate analysis goes here"
   ]
  },
  {
   "cell_type": "markdown",
   "id": "791e6635-e2ef-4790-b585-a8907123bed8",
   "metadata": {
    "id": "791e6635-e2ef-4790-b585-a8907123bed8"
   },
   "source": [
    "*Your discussion/interpretation goes here*"
   ]
  },
  {
   "cell_type": "markdown",
   "id": "1596debf-793b-4d94-a0eb-4fc42a1f962d",
   "metadata": {
    "id": "1596debf-793b-4d94-a0eb-4fc42a1f962d"
   },
   "source": [
    "e) Perform a multivariate analysis for two pairs of features of your choice. Please provide a metric and a visualization for both pairs. Please discuss: why did you choose these two pairs? What was your hypothesis? Do the results confirm your hypothesis?"
   ]
  },
  {
   "cell_type": "code",
   "execution_count": null,
   "id": "9b5947ca-1c39-4aec-8fa9-22dba757ef27",
   "metadata": {
    "id": "9b5947ca-1c39-4aec-8fa9-22dba757ef27"
   },
   "outputs": [],
   "source": [
    "# Your code for multivariate analysis goes here"
   ]
  },
  {
   "cell_type": "markdown",
   "id": "9c9e9e56-f589-49d4-8cd4-07855bc6c5c0",
   "metadata": {
    "id": "9c9e9e56-f589-49d4-8cd4-07855bc6c5c0"
   },
   "source": [
    "*Your discussion/interpretation goes here*"
   ]
  },
  {
   "cell_type": "markdown",
   "id": "62ef2063-f2b2-4a0b-92a6-1e03e9e6e548",
   "metadata": {
    "id": "62ef2063-f2b2-4a0b-92a6-1e03e9e6e548"
   },
   "source": [
    "# Task 3: Time-Series Analysis\n",
    "\n",
    "In the last task, you will perform a time-series analysis."
   ]
  },
  {
   "cell_type": "markdown",
   "id": "1a986033-693c-4db0-8b27-c638b4bf6248",
   "metadata": {
    "id": "1a986033-693c-4db0-8b27-c638b4bf6248"
   },
   "source": [
    "\n",
    "#### a) Build a data frame containing one row per user per week:\n",
    "\n",
    "``[user_id, week, num_events, num_questions, percentage_correct, num_shop]``\n",
    "\n",
    "\n",
    "The features are defined as follows:\n",
    "\n",
    "- **num_questions**: total number of questions the student answered **per week**.\n",
    "\n",
    "- **num_events**: total number of events of the student per week.\n",
    "\n",
    "- **percentage_correct**: number of correct answers/total number of answers  **per week** (hint: answer = correct). If desired, you may assign a weight of 0.5 to partially correct answers.\n",
    "\n",
    "- **num_shop**: total number of shop events **per week** (where the student wins animals for their zoo with rewards from the games).\n",
    "\n",
    "Where week 0 is the first week the specific user solved a task in the platform, i.e., the user's earliest entry in the subtasks table.\n",
    "\n",
    "Hint: You may extract the week of the year (dt.week) from the timestamps. "
   ]
  },
  {
   "cell_type": "markdown",
   "id": "549820bd-d886-433f-8055-52f40e3381ad",
   "metadata": {
    "id": "549820bd-d886-433f-8055-52f40e3381ad"
   },
   "source": [
    "You can limit the number of weeks to 13, i.e. for each user we just look at the first 13 weeks of data.\n",
    "Yoy may change and justify your choice for the number of weeks."
   ]
  },
  {
   "cell_type": "code",
   "execution_count": null,
   "id": "a92e54ac-3990-4d97-bd57-75c81534b36d",
   "metadata": {
    "id": "a92e54ac-3990-4d97-bd57-75c81534b36d"
   },
   "outputs": [],
   "source": [
    "# Your code for building the dataframe goes here"
   ]
  },
  {
   "cell_type": "markdown",
   "id": "1d045819-a60e-4bdf-bdab-f09fa53c823a",
   "metadata": {
    "id": "1d045819-a60e-4bdf-bdab-f09fa53c823a"
   },
   "source": [
    "#### b) Select two features and analyze their behavior over time. Please provide a hypothesis and visualization for both features. For ideas on how to perform a time series exploration, please check the lecture slides and notebook. Discuss your results: what do you observe? Do the results confirm your hypotheses?"
   ]
  },
  {
   "cell_type": "markdown",
   "id": "3ccb6bf8-2d6b-4a53-a4bb-6784c671fec4",
   "metadata": {
    "id": "3ccb6bf8-2d6b-4a53-a4bb-6784c671fec4"
   },
   "source": [
    "*Your discussion goes here*"
   ]
  },
  {
   "cell_type": "markdown",
   "id": "_s7rWpaLfZGt",
   "metadata": {
    "id": "_s7rWpaLfZGt"
   },
   "source": [
    "# Task 4: Creative extension \n",
    "\n",
    "Please provide **one** new hypothesis you would like to explore with the data and provide a visualization for it. Discuss your results: what do you observe? Do the results confirm your hypotheses?\n",
    "\n"
   ]
  },
  {
   "cell_type": "code",
   "execution_count": null,
   "id": "3-Wtdj4KfdY_",
   "metadata": {
    "id": "3-Wtdj4KfdY_"
   },
   "outputs": [],
   "source": [
    "# Your creative visualization here"
   ]
  },
  {
   "cell_type": "markdown",
   "id": "yTT8SklBgGxN",
   "metadata": {
    "id": "yTT8SklBgGxN"
   },
   "source": [
    "*Your discussion goes here*"
   ]
  }
 ],
 "metadata": {
  "colab": {
   "collapsed_sections": [],
   "name": "m2-lernnavi-sciper.ipynb",
   "provenance": []
  },
  "kernelspec": {
   "display_name": "Python 3 (ipykernel)",
   "language": "python",
   "name": "python3"
  },
  "language_info": {
   "codemirror_mode": {
    "name": "ipython",
    "version": 3
   },
   "file_extension": ".py",
   "mimetype": "text/x-python",
   "name": "python",
   "nbconvert_exporter": "python",
   "pygments_lexer": "ipython3",
   "version": "3.9.11"
  }
 },
 "nbformat": 4,
 "nbformat_minor": 5
}
